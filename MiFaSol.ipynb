{
 "cells": [
  {
   "cell_type": "markdown",
   "id": "197f6dcd-57fb-43eb-83bc-06b09802a8d2",
   "metadata": {},
   "source": [
    "Сервис \"МиФаСоль\" расширяет работу с новыми артистами и музыкантами, в связи с чем возникла задача -- правильно классифицировать новые музыкальные треки, чтобы улучшить работу рекомендательной системы. имеется датасет, в котором собраны некоторые характеристики музыкальных произведений и их жанры. задача -- разработать модель, позволяющую классифицировать музыкальные произведения по жанрам.\n",
    "\n",
    "шаги выпольнения работы:\n",
    "\n",
    "- [ ] загрузка и ознакомление с данными,\n",
    "- [ ] предварительная обработка,\n",
    "    - [ ] устранения пропусков,\n",
    "    - [ ] проверить наличия явных и неявных дубликатов,\n",
    "    - [ ] переоброзовать типы данных\n",
    "- [ ] полноценный разведочный анализ,\n",
    "- [ ] разработка новых синтетических признаков,\n",
    "- [ ] проверка на мультиколлинеарность,\n",
    "- [ ] отбор финального набора обучающих признаков,\n",
    "- [ ] выбор и обучение моделей,\n",
    "- [ ] итоговая оценка качества предсказания лучшей модели,\n",
    "- [ ] анализ важности ее признаков."
   ]
  },
  {
   "cell_type": "markdown",
   "id": "21c56b88-95d2-461f-8409-8970accb32b6",
   "metadata": {},
   "source": [
    "# загрузка и ознакомление с данными"
   ]
  },
  {
   "cell_type": "code",
   "execution_count": 1,
   "id": "cc701f93-6bf1-4700-9cca-2395d82b4f5d",
   "metadata": {},
   "outputs": [],
   "source": [
    "import pandas as pd\n",
    "import numpy as np\n",
    "from matplotlib import pyplot as plt\n",
    "from sklearn.preprocessing import OneHotEncoder, OrdinalEncoder, StandardScaler\n",
    "from sklearn.preprocessing import (\n",
    "    MaxAbsScaler,\n",
    "    MinMaxScaler,\n",
    "    Normalizer,\n",
    "    PowerTransformer,\n",
    "    QuantileTransformer,\n",
    "    RobustScaler,\n",
    "    StandardScaler,\n",
    "    minmax_scale,\n",
    "    \n",
    ")\n",
    "from sklearn.utils.class_weight import compute_sample_weight\n",
    "\n",
    "from sklearn.metrics import accuracy_score , confusion_matrix, f1_score, ConfusionMatrixDisplay, make_scorer\n",
    "from sklearn.tree import DecisionTreeClassifier\n",
    "from sklearn.ensemble import RandomForestClassifier \n",
    "from sklearn.linear_model import LogisticRegression \n",
    "from sklearn.model_selection import cross_val_score, train_test_split"
   ]
  },
  {
   "cell_type": "code",
   "execution_count": 2,
   "id": "4d1f131d-8f6d-4229-8b23-f8af2ce50c85",
   "metadata": {},
   "outputs": [
    {
     "data": {
      "text/html": [
       "<div>\n",
       "<style scoped>\n",
       "    .dataframe tbody tr th:only-of-type {\n",
       "        vertical-align: middle;\n",
       "    }\n",
       "\n",
       "    .dataframe tbody tr th {\n",
       "        vertical-align: top;\n",
       "    }\n",
       "\n",
       "    .dataframe thead th {\n",
       "        text-align: right;\n",
       "    }\n",
       "</style>\n",
       "<table border=\"1\" class=\"dataframe\">\n",
       "  <thead>\n",
       "    <tr style=\"text-align: right;\">\n",
       "      <th></th>\n",
       "      <th>instance_id</th>\n",
       "      <th>track_name</th>\n",
       "      <th>acousticness</th>\n",
       "      <th>danceability</th>\n",
       "      <th>duration_ms</th>\n",
       "      <th>energy</th>\n",
       "      <th>instrumentalness</th>\n",
       "      <th>key</th>\n",
       "      <th>liveness</th>\n",
       "      <th>loudness</th>\n",
       "      <th>mode</th>\n",
       "      <th>speechiness</th>\n",
       "      <th>tempo</th>\n",
       "      <th>obtained_date</th>\n",
       "      <th>valence</th>\n",
       "      <th>music_genre</th>\n",
       "    </tr>\n",
       "  </thead>\n",
       "  <tbody>\n",
       "    <tr>\n",
       "      <th>0</th>\n",
       "      <td>25143.0</td>\n",
       "      <td>Highwayman</td>\n",
       "      <td>0.4800</td>\n",
       "      <td>0.670</td>\n",
       "      <td>182653.0</td>\n",
       "      <td>0.351</td>\n",
       "      <td>0.017600</td>\n",
       "      <td>D</td>\n",
       "      <td>0.115</td>\n",
       "      <td>-16.842</td>\n",
       "      <td>Major</td>\n",
       "      <td>0.0463</td>\n",
       "      <td>101.384</td>\n",
       "      <td>4-Apr</td>\n",
       "      <td>0.450</td>\n",
       "      <td>Country</td>\n",
       "    </tr>\n",
       "    <tr>\n",
       "      <th>1</th>\n",
       "      <td>26091.0</td>\n",
       "      <td>Toes Across The Floor</td>\n",
       "      <td>0.2430</td>\n",
       "      <td>0.452</td>\n",
       "      <td>187133.0</td>\n",
       "      <td>0.670</td>\n",
       "      <td>0.000051</td>\n",
       "      <td>A</td>\n",
       "      <td>0.108</td>\n",
       "      <td>-8.392</td>\n",
       "      <td>Minor</td>\n",
       "      <td>0.0352</td>\n",
       "      <td>113.071</td>\n",
       "      <td>4-Apr</td>\n",
       "      <td>0.539</td>\n",
       "      <td>Rock</td>\n",
       "    </tr>\n",
       "    <tr>\n",
       "      <th>2</th>\n",
       "      <td>87888.0</td>\n",
       "      <td>First Person on Earth</td>\n",
       "      <td>0.2280</td>\n",
       "      <td>0.454</td>\n",
       "      <td>173448.0</td>\n",
       "      <td>0.804</td>\n",
       "      <td>0.000000</td>\n",
       "      <td>E</td>\n",
       "      <td>0.181</td>\n",
       "      <td>-5.225</td>\n",
       "      <td>Minor</td>\n",
       "      <td>0.3710</td>\n",
       "      <td>80.980</td>\n",
       "      <td>4-Apr</td>\n",
       "      <td>0.344</td>\n",
       "      <td>Alternative</td>\n",
       "    </tr>\n",
       "    <tr>\n",
       "      <th>3</th>\n",
       "      <td>77021.0</td>\n",
       "      <td>No Te Veo - Digital Single</td>\n",
       "      <td>0.0558</td>\n",
       "      <td>0.847</td>\n",
       "      <td>255987.0</td>\n",
       "      <td>0.873</td>\n",
       "      <td>0.000003</td>\n",
       "      <td>G#</td>\n",
       "      <td>0.325</td>\n",
       "      <td>-4.805</td>\n",
       "      <td>Minor</td>\n",
       "      <td>0.0804</td>\n",
       "      <td>116.007</td>\n",
       "      <td>4-Apr</td>\n",
       "      <td>0.966</td>\n",
       "      <td>Hip-Hop</td>\n",
       "    </tr>\n",
       "    <tr>\n",
       "      <th>4</th>\n",
       "      <td>20852.0</td>\n",
       "      <td>Chasing Shadows</td>\n",
       "      <td>0.2270</td>\n",
       "      <td>0.742</td>\n",
       "      <td>195333.0</td>\n",
       "      <td>0.575</td>\n",
       "      <td>0.000002</td>\n",
       "      <td>C</td>\n",
       "      <td>0.176</td>\n",
       "      <td>-5.550</td>\n",
       "      <td>Major</td>\n",
       "      <td>0.0487</td>\n",
       "      <td>76.494</td>\n",
       "      <td>4-Apr</td>\n",
       "      <td>0.583</td>\n",
       "      <td>Alternative</td>\n",
       "    </tr>\n",
       "  </tbody>\n",
       "</table>\n",
       "</div>"
      ],
      "text/plain": [
       "   instance_id                  track_name  acousticness  danceability  \\\n",
       "0      25143.0                  Highwayman        0.4800         0.670   \n",
       "1      26091.0       Toes Across The Floor        0.2430         0.452   \n",
       "2      87888.0       First Person on Earth        0.2280         0.454   \n",
       "3      77021.0  No Te Veo - Digital Single        0.0558         0.847   \n",
       "4      20852.0             Chasing Shadows        0.2270         0.742   \n",
       "\n",
       "   duration_ms  energy  instrumentalness key  liveness  loudness   mode  \\\n",
       "0     182653.0   0.351          0.017600   D     0.115   -16.842  Major   \n",
       "1     187133.0   0.670          0.000051   A     0.108    -8.392  Minor   \n",
       "2     173448.0   0.804          0.000000   E     0.181    -5.225  Minor   \n",
       "3     255987.0   0.873          0.000003  G#     0.325    -4.805  Minor   \n",
       "4     195333.0   0.575          0.000002   C     0.176    -5.550  Major   \n",
       "\n",
       "   speechiness    tempo obtained_date  valence  music_genre  \n",
       "0       0.0463  101.384         4-Apr    0.450      Country  \n",
       "1       0.0352  113.071         4-Apr    0.539         Rock  \n",
       "2       0.3710   80.980         4-Apr    0.344  Alternative  \n",
       "3       0.0804  116.007         4-Apr    0.966      Hip-Hop  \n",
       "4       0.0487   76.494         4-Apr    0.583  Alternative  "
      ]
     },
     "execution_count": 2,
     "metadata": {},
     "output_type": "execute_result"
    }
   ],
   "source": [
    "data = pd.read_csv('kaggle_music_genre_train.csv')\n",
    "data.head()"
   ]
  },
  {
   "cell_type": "code",
   "execution_count": 3,
   "id": "521f48b4-3079-4a0c-b1c3-7efa340e92af",
   "metadata": {},
   "outputs": [
    {
     "name": "stdout",
     "output_type": "stream",
     "text": [
      "<class 'pandas.core.frame.DataFrame'>\n",
      "RangeIndex: 20394 entries, 0 to 20393\n",
      "Data columns (total 16 columns):\n",
      " #   Column            Non-Null Count  Dtype  \n",
      "---  ------            --------------  -----  \n",
      " 0   instance_id       20394 non-null  float64\n",
      " 1   track_name        20394 non-null  object \n",
      " 2   acousticness      20394 non-null  float64\n",
      " 3   danceability      20394 non-null  float64\n",
      " 4   duration_ms       20394 non-null  float64\n",
      " 5   energy            20394 non-null  float64\n",
      " 6   instrumentalness  20394 non-null  float64\n",
      " 7   key               19659 non-null  object \n",
      " 8   liveness          20394 non-null  float64\n",
      " 9   loudness          20394 non-null  float64\n",
      " 10  mode              19888 non-null  object \n",
      " 11  speechiness       20394 non-null  float64\n",
      " 12  tempo             19952 non-null  float64\n",
      " 13  obtained_date     20394 non-null  object \n",
      " 14  valence           20394 non-null  float64\n",
      " 15  music_genre       20394 non-null  object \n",
      "dtypes: float64(11), object(5)\n",
      "memory usage: 2.5+ MB\n"
     ]
    }
   ],
   "source": [
    "data.info()"
   ]
  },
  {
   "cell_type": "markdown",
   "id": "bbdb0d81-e069-4d58-8c30-ba3436e22f00",
   "metadata": {},
   "source": [
    "Описание полей данных\n",
    "+ 'instance_id' -Уникальный идентификатор трека\n",
    "+ 'track_name' - Название трека\n",
    "+ 'acousticness' - Мера уверенности от 0,0 до 1,0 в том, что трек является акустическим. 1,0 означает высокую степень уверенности в том, что трек является акустическим.\n",
    "+ 'danceability' - Танцевальность описывает, насколько трек подходит для танцев, основываясь на сочетании музыкальных элементов, включая темп, стабильность ритма, силу ударов и общую регулярность. Значение 0,0 означает наименьшую танцевальность, а 1,0 - наибольшую танцевальность.\n",
    "+ 'duration_ms' - Продолжительность трека в миллисекундах.\n",
    "+ 'energy' - Энергия это показатель от 0,0 до 1,0, представляющий собой меру интенсивности и активности. Как правило, энергичные композиции ощущаются как быстрые, громкие и шумные. Например, дэт-метал обладает высокой энергией, в то время как прелюдия Баха имеет низкую оценку этого параметра\n",
    "+ 'instrumentalness' - Определяет, содержит ли трек вокал. Звуки \"Ooh\" и \"aah\" в данном контексте рассматриваются как инструментальные. Рэп или разговорные треки явно являются \"вокальными\". Чем ближе значение инструментальности к 1,0, тем больше вероятность того, что трек не содержит вокала\n",
    "+ 'key' - базовый ключ (нота) произведения\n",
    "+ 'liveness' - Определяет присутствие аудитории в записи. Более высокие значения liveness означают увеличение вероятности того, что трек был исполнен вживую. Значение выше 0,8 обеспечивает высокую вероятность того, что трек исполняется вживую\n",
    "+ 'loudness' - Общая громкость трека в децибелах (дБ)\n",
    "+ 'mode' - Указывает на модальность (мажорную или минорную) трека\n",
    "+ 'speechiness' - Речевой характер определяет наличие в треке разговорной речи. Чем более исключительно речевой характер носит запись (например, ток-шоу, аудиокнига, поэзия), тем ближе значение атрибута к 1,0. Значения выше 0,66 характеризуют треки, которые, вероятно, полностью состоят из разговорной речи. Значения от 0,33 до 0,66 характеризуют треки, которые могут содержать как музыку, так и речь, как в виде фрагментов, так и в виде слоев, включая такие случаи, как рэп-музыка. Значения ниже 0,33, скорее всего, представляют музыку и другие неречевые треки.\n",
    "+ 'tempo' - Темп трека в ударах в минуту (BPM). В музыкальной терминологии темп представляет собой скорость или темп данного произведения и напрямую зависит от средней продолжительности тактов\n",
    "+ 'obtained_date' - дата загрузки в сервис\n",
    "+ 'valence' - Показатель от 0,0 до 1,0, характеризующий музыкальный позитив, передаваемый треком. Композиции с высокой валентностью звучат более позитивно (например, радостно, весело, эйфорично), а композиции с низкой валентностью - более негативно (например, грустно, депрессивно, сердито)\n",
    "+ 'music_genre' - Музыкальный жанр трека"
   ]
  },
  {
   "cell_type": "markdown",
   "id": "6ebfc6d9-2c02-4dd0-a53f-e013063df11e",
   "metadata": {},
   "source": [
    "# предварительная обработка"
   ]
  },
  {
   "cell_type": "markdown",
   "id": "28889a64-3f3a-4d23-8dd9-7cc2c01bbb38",
   "metadata": {},
   "source": [
    "## обработка пропусков"
   ]
  },
  {
   "cell_type": "code",
   "execution_count": 4,
   "id": "0a320270-88be-4285-bb8a-efde744e68ef",
   "metadata": {},
   "outputs": [
    {
     "data": {
      "text/plain": [
       "instance_id           0\n",
       "track_name            0\n",
       "acousticness          0\n",
       "danceability          0\n",
       "duration_ms           0\n",
       "energy                0\n",
       "instrumentalness      0\n",
       "key                 735\n",
       "liveness              0\n",
       "loudness              0\n",
       "mode                506\n",
       "speechiness           0\n",
       "tempo               442\n",
       "obtained_date         0\n",
       "valence               0\n",
       "music_genre           0\n",
       "dtype: int64"
      ]
     },
     "execution_count": 4,
     "metadata": {},
     "output_type": "execute_result"
    }
   ],
   "source": [
    "data.isna().sum()"
   ]
  },
  {
   "cell_type": "markdown",
   "id": "fb35d44b-ee2a-4a3f-adb2-8ee52e9f9660",
   "metadata": {},
   "source": [
    "в данных существуют пропуски а именно в столбцах key, mode, tempo."
   ]
  },
  {
   "cell_type": "code",
   "execution_count": 5,
   "id": "31fd28ad-ad2f-45a1-bb75-f3567d2eda47",
   "metadata": {},
   "outputs": [
    {
     "data": {
      "text/html": [
       "<div>\n",
       "<style scoped>\n",
       "    .dataframe tbody tr th:only-of-type {\n",
       "        vertical-align: middle;\n",
       "    }\n",
       "\n",
       "    .dataframe tbody tr th {\n",
       "        vertical-align: top;\n",
       "    }\n",
       "\n",
       "    .dataframe thead th {\n",
       "        text-align: right;\n",
       "    }\n",
       "</style>\n",
       "<table border=\"1\" class=\"dataframe\">\n",
       "  <thead>\n",
       "    <tr style=\"text-align: right;\">\n",
       "      <th></th>\n",
       "      <th>instance_id</th>\n",
       "      <th>track_name</th>\n",
       "      <th>acousticness</th>\n",
       "      <th>danceability</th>\n",
       "      <th>duration_ms</th>\n",
       "      <th>energy</th>\n",
       "      <th>instrumentalness</th>\n",
       "      <th>key</th>\n",
       "      <th>liveness</th>\n",
       "      <th>loudness</th>\n",
       "      <th>mode</th>\n",
       "      <th>speechiness</th>\n",
       "      <th>tempo</th>\n",
       "      <th>obtained_date</th>\n",
       "      <th>valence</th>\n",
       "      <th>music_genre</th>\n",
       "    </tr>\n",
       "  </thead>\n",
       "  <tbody>\n",
       "    <tr>\n",
       "      <th>26</th>\n",
       "      <td>87453.0</td>\n",
       "      <td>Serenade in B flat, K.361 \"Gran partita\": 3. A...</td>\n",
       "      <td>0.9910</td>\n",
       "      <td>0.154</td>\n",
       "      <td>-1.0</td>\n",
       "      <td>0.0384</td>\n",
       "      <td>0.902000</td>\n",
       "      <td>NaN</td>\n",
       "      <td>0.109</td>\n",
       "      <td>-26.909</td>\n",
       "      <td>Major</td>\n",
       "      <td>0.0405</td>\n",
       "      <td>68.199</td>\n",
       "      <td>4-Apr</td>\n",
       "      <td>0.0393</td>\n",
       "      <td>Classical</td>\n",
       "    </tr>\n",
       "    <tr>\n",
       "      <th>49</th>\n",
       "      <td>87796.0</td>\n",
       "      <td>Star67</td>\n",
       "      <td>0.7470</td>\n",
       "      <td>0.478</td>\n",
       "      <td>294973.0</td>\n",
       "      <td>0.3950</td>\n",
       "      <td>0.000005</td>\n",
       "      <td>NaN</td>\n",
       "      <td>0.264</td>\n",
       "      <td>-7.917</td>\n",
       "      <td>Major</td>\n",
       "      <td>0.2130</td>\n",
       "      <td>74.515</td>\n",
       "      <td>3-Apr</td>\n",
       "      <td>0.1700</td>\n",
       "      <td>Hip-Hop</td>\n",
       "    </tr>\n",
       "    <tr>\n",
       "      <th>60</th>\n",
       "      <td>69398.0</td>\n",
       "      <td>Sleep On The Floor</td>\n",
       "      <td>0.2490</td>\n",
       "      <td>0.389</td>\n",
       "      <td>211851.0</td>\n",
       "      <td>0.4310</td>\n",
       "      <td>0.000000</td>\n",
       "      <td>NaN</td>\n",
       "      <td>0.130</td>\n",
       "      <td>-8.061</td>\n",
       "      <td>Major</td>\n",
       "      <td>0.0344</td>\n",
       "      <td>142.140</td>\n",
       "      <td>4-Apr</td>\n",
       "      <td>0.2750</td>\n",
       "      <td>Rock</td>\n",
       "    </tr>\n",
       "    <tr>\n",
       "      <th>75</th>\n",
       "      <td>20134.0</td>\n",
       "      <td>Rogue</td>\n",
       "      <td>0.0145</td>\n",
       "      <td>0.580</td>\n",
       "      <td>201694.0</td>\n",
       "      <td>0.7200</td>\n",
       "      <td>0.598000</td>\n",
       "      <td>NaN</td>\n",
       "      <td>0.281</td>\n",
       "      <td>-5.541</td>\n",
       "      <td>Major</td>\n",
       "      <td>0.0638</td>\n",
       "      <td>143.816</td>\n",
       "      <td>4-Apr</td>\n",
       "      <td>0.1600</td>\n",
       "      <td>Electronic</td>\n",
       "    </tr>\n",
       "    <tr>\n",
       "      <th>107</th>\n",
       "      <td>69505.0</td>\n",
       "      <td>Party Song</td>\n",
       "      <td>0.1560</td>\n",
       "      <td>0.563</td>\n",
       "      <td>191760.0</td>\n",
       "      <td>0.8970</td>\n",
       "      <td>0.000000</td>\n",
       "      <td>NaN</td>\n",
       "      <td>0.352</td>\n",
       "      <td>-4.996</td>\n",
       "      <td>Major</td>\n",
       "      <td>0.2130</td>\n",
       "      <td>157.803</td>\n",
       "      <td>4-Apr</td>\n",
       "      <td>0.7790</td>\n",
       "      <td>Country</td>\n",
       "    </tr>\n",
       "  </tbody>\n",
       "</table>\n",
       "</div>"
      ],
      "text/plain": [
       "     instance_id                                         track_name  \\\n",
       "26       87453.0  Serenade in B flat, K.361 \"Gran partita\": 3. A...   \n",
       "49       87796.0                                             Star67   \n",
       "60       69398.0                                 Sleep On The Floor   \n",
       "75       20134.0                                              Rogue   \n",
       "107      69505.0                                         Party Song   \n",
       "\n",
       "     acousticness  danceability  duration_ms  energy  instrumentalness  key  \\\n",
       "26         0.9910         0.154         -1.0  0.0384          0.902000  NaN   \n",
       "49         0.7470         0.478     294973.0  0.3950          0.000005  NaN   \n",
       "60         0.2490         0.389     211851.0  0.4310          0.000000  NaN   \n",
       "75         0.0145         0.580     201694.0  0.7200          0.598000  NaN   \n",
       "107        0.1560         0.563     191760.0  0.8970          0.000000  NaN   \n",
       "\n",
       "     liveness  loudness   mode  speechiness    tempo obtained_date  valence  \\\n",
       "26      0.109   -26.909  Major       0.0405   68.199         4-Apr   0.0393   \n",
       "49      0.264    -7.917  Major       0.2130   74.515         3-Apr   0.1700   \n",
       "60      0.130    -8.061  Major       0.0344  142.140         4-Apr   0.2750   \n",
       "75      0.281    -5.541  Major       0.0638  143.816         4-Apr   0.1600   \n",
       "107     0.352    -4.996  Major       0.2130  157.803         4-Apr   0.7790   \n",
       "\n",
       "    music_genre  \n",
       "26    Classical  \n",
       "49      Hip-Hop  \n",
       "60         Rock  \n",
       "75   Electronic  \n",
       "107     Country  "
      ]
     },
     "execution_count": 5,
     "metadata": {},
     "output_type": "execute_result"
    }
   ],
   "source": [
    "data[data['key'].isna()].head()"
   ]
  },
  {
   "cell_type": "code",
   "execution_count": 6,
   "id": "9ac20d11-b19a-4c2a-9f5b-711eba3682f3",
   "metadata": {},
   "outputs": [
    {
     "data": {
      "text/html": [
       "<div>\n",
       "<style scoped>\n",
       "    .dataframe tbody tr th:only-of-type {\n",
       "        vertical-align: middle;\n",
       "    }\n",
       "\n",
       "    .dataframe tbody tr th {\n",
       "        vertical-align: top;\n",
       "    }\n",
       "\n",
       "    .dataframe thead th {\n",
       "        text-align: right;\n",
       "    }\n",
       "</style>\n",
       "<table border=\"1\" class=\"dataframe\">\n",
       "  <thead>\n",
       "    <tr style=\"text-align: right;\">\n",
       "      <th></th>\n",
       "      <th>instance_id</th>\n",
       "      <th>track_name</th>\n",
       "      <th>acousticness</th>\n",
       "      <th>danceability</th>\n",
       "      <th>duration_ms</th>\n",
       "      <th>energy</th>\n",
       "      <th>instrumentalness</th>\n",
       "      <th>key</th>\n",
       "      <th>liveness</th>\n",
       "      <th>loudness</th>\n",
       "      <th>mode</th>\n",
       "      <th>speechiness</th>\n",
       "      <th>tempo</th>\n",
       "      <th>obtained_date</th>\n",
       "      <th>valence</th>\n",
       "      <th>music_genre</th>\n",
       "    </tr>\n",
       "  </thead>\n",
       "  <tbody>\n",
       "    <tr>\n",
       "      <th>96</th>\n",
       "      <td>63867.0</td>\n",
       "      <td>Clarinet Concerto No. 1 in F Minor, Op. 73, J....</td>\n",
       "      <td>0.973000</td>\n",
       "      <td>0.416</td>\n",
       "      <td>401000.0</td>\n",
       "      <td>0.0735</td>\n",
       "      <td>0.710000</td>\n",
       "      <td>F</td>\n",
       "      <td>0.0781</td>\n",
       "      <td>-20.723</td>\n",
       "      <td>NaN</td>\n",
       "      <td>0.0411</td>\n",
       "      <td>112.006</td>\n",
       "      <td>4-Apr</td>\n",
       "      <td>0.222</td>\n",
       "      <td>Classical</td>\n",
       "    </tr>\n",
       "    <tr>\n",
       "      <th>129</th>\n",
       "      <td>75913.0</td>\n",
       "      <td>Concerto for Viola d'amore, Lute, Strings and ...</td>\n",
       "      <td>0.926000</td>\n",
       "      <td>0.495</td>\n",
       "      <td>-1.0</td>\n",
       "      <td>0.1110</td>\n",
       "      <td>0.120000</td>\n",
       "      <td>C#</td>\n",
       "      <td>0.0772</td>\n",
       "      <td>-18.591</td>\n",
       "      <td>NaN</td>\n",
       "      <td>0.0506</td>\n",
       "      <td>78.772</td>\n",
       "      <td>4-Apr</td>\n",
       "      <td>0.436</td>\n",
       "      <td>Classical</td>\n",
       "    </tr>\n",
       "    <tr>\n",
       "      <th>131</th>\n",
       "      <td>64391.0</td>\n",
       "      <td>She Keeps The Home Fires Burning</td>\n",
       "      <td>0.526000</td>\n",
       "      <td>0.731</td>\n",
       "      <td>236173.0</td>\n",
       "      <td>0.6080</td>\n",
       "      <td>0.000000</td>\n",
       "      <td>G</td>\n",
       "      <td>0.1260</td>\n",
       "      <td>-10.690</td>\n",
       "      <td>NaN</td>\n",
       "      <td>0.0267</td>\n",
       "      <td>126.263</td>\n",
       "      <td>4-Apr</td>\n",
       "      <td>0.745</td>\n",
       "      <td>Country</td>\n",
       "    </tr>\n",
       "    <tr>\n",
       "      <th>292</th>\n",
       "      <td>37649.0</td>\n",
       "      <td>Ven - Continuous Mix</td>\n",
       "      <td>0.000216</td>\n",
       "      <td>0.555</td>\n",
       "      <td>50472.0</td>\n",
       "      <td>0.9530</td>\n",
       "      <td>0.059400</td>\n",
       "      <td>E</td>\n",
       "      <td>0.8180</td>\n",
       "      <td>-4.411</td>\n",
       "      <td>NaN</td>\n",
       "      <td>0.1090</td>\n",
       "      <td>114.885</td>\n",
       "      <td>4-Apr</td>\n",
       "      <td>0.303</td>\n",
       "      <td>Electronic</td>\n",
       "    </tr>\n",
       "    <tr>\n",
       "      <th>326</th>\n",
       "      <td>43825.0</td>\n",
       "      <td>Wicked As It Seems</td>\n",
       "      <td>0.287000</td>\n",
       "      <td>0.689</td>\n",
       "      <td>285263.0</td>\n",
       "      <td>0.6200</td>\n",
       "      <td>0.000002</td>\n",
       "      <td>G</td>\n",
       "      <td>0.0368</td>\n",
       "      <td>-10.601</td>\n",
       "      <td>NaN</td>\n",
       "      <td>0.0339</td>\n",
       "      <td>110.860</td>\n",
       "      <td>4-Apr</td>\n",
       "      <td>0.962</td>\n",
       "      <td>Blues</td>\n",
       "    </tr>\n",
       "  </tbody>\n",
       "</table>\n",
       "</div>"
      ],
      "text/plain": [
       "     instance_id                                         track_name  \\\n",
       "96       63867.0  Clarinet Concerto No. 1 in F Minor, Op. 73, J....   \n",
       "129      75913.0  Concerto for Viola d'amore, Lute, Strings and ...   \n",
       "131      64391.0                   She Keeps The Home Fires Burning   \n",
       "292      37649.0                               Ven - Continuous Mix   \n",
       "326      43825.0                                 Wicked As It Seems   \n",
       "\n",
       "     acousticness  danceability  duration_ms  energy  instrumentalness key  \\\n",
       "96       0.973000         0.416     401000.0  0.0735          0.710000   F   \n",
       "129      0.926000         0.495         -1.0  0.1110          0.120000  C#   \n",
       "131      0.526000         0.731     236173.0  0.6080          0.000000   G   \n",
       "292      0.000216         0.555      50472.0  0.9530          0.059400   E   \n",
       "326      0.287000         0.689     285263.0  0.6200          0.000002   G   \n",
       "\n",
       "     liveness  loudness mode  speechiness    tempo obtained_date  valence  \\\n",
       "96     0.0781   -20.723  NaN       0.0411  112.006         4-Apr    0.222   \n",
       "129    0.0772   -18.591  NaN       0.0506   78.772         4-Apr    0.436   \n",
       "131    0.1260   -10.690  NaN       0.0267  126.263         4-Apr    0.745   \n",
       "292    0.8180    -4.411  NaN       0.1090  114.885         4-Apr    0.303   \n",
       "326    0.0368   -10.601  NaN       0.0339  110.860         4-Apr    0.962   \n",
       "\n",
       "    music_genre  \n",
       "96    Classical  \n",
       "129   Classical  \n",
       "131     Country  \n",
       "292  Electronic  \n",
       "326       Blues  "
      ]
     },
     "execution_count": 6,
     "metadata": {},
     "output_type": "execute_result"
    }
   ],
   "source": [
    "data[data['mode'].isna()].head()"
   ]
  },
  {
   "cell_type": "code",
   "execution_count": 7,
   "id": "a4c9ebe8-0624-4fcb-a041-25666ef9c4dd",
   "metadata": {},
   "outputs": [
    {
     "data": {
      "text/html": [
       "<div>\n",
       "<style scoped>\n",
       "    .dataframe tbody tr th:only-of-type {\n",
       "        vertical-align: middle;\n",
       "    }\n",
       "\n",
       "    .dataframe tbody tr th {\n",
       "        vertical-align: top;\n",
       "    }\n",
       "\n",
       "    .dataframe thead th {\n",
       "        text-align: right;\n",
       "    }\n",
       "</style>\n",
       "<table border=\"1\" class=\"dataframe\">\n",
       "  <thead>\n",
       "    <tr style=\"text-align: right;\">\n",
       "      <th></th>\n",
       "      <th>instance_id</th>\n",
       "      <th>track_name</th>\n",
       "      <th>acousticness</th>\n",
       "      <th>danceability</th>\n",
       "      <th>duration_ms</th>\n",
       "      <th>energy</th>\n",
       "      <th>instrumentalness</th>\n",
       "      <th>key</th>\n",
       "      <th>liveness</th>\n",
       "      <th>loudness</th>\n",
       "      <th>mode</th>\n",
       "      <th>speechiness</th>\n",
       "      <th>tempo</th>\n",
       "      <th>obtained_date</th>\n",
       "      <th>valence</th>\n",
       "      <th>music_genre</th>\n",
       "    </tr>\n",
       "  </thead>\n",
       "  <tbody>\n",
       "    <tr>\n",
       "      <th>63</th>\n",
       "      <td>45966.0</td>\n",
       "      <td>Back Door Man</td>\n",
       "      <td>0.287000</td>\n",
       "      <td>0.476</td>\n",
       "      <td>212427.0</td>\n",
       "      <td>0.612</td>\n",
       "      <td>0.000252</td>\n",
       "      <td>A</td>\n",
       "      <td>0.0877</td>\n",
       "      <td>-7.010</td>\n",
       "      <td>Major</td>\n",
       "      <td>0.0335</td>\n",
       "      <td>NaN</td>\n",
       "      <td>4-Apr</td>\n",
       "      <td>0.909</td>\n",
       "      <td>Rock</td>\n",
       "    </tr>\n",
       "    <tr>\n",
       "      <th>85</th>\n",
       "      <td>90217.0</td>\n",
       "      <td>familia</td>\n",
       "      <td>0.000059</td>\n",
       "      <td>0.489</td>\n",
       "      <td>269000.0</td>\n",
       "      <td>0.947</td>\n",
       "      <td>0.000000</td>\n",
       "      <td>C#</td>\n",
       "      <td>0.1130</td>\n",
       "      <td>-3.925</td>\n",
       "      <td>Minor</td>\n",
       "      <td>0.0419</td>\n",
       "      <td>NaN</td>\n",
       "      <td>4-Apr</td>\n",
       "      <td>0.517</td>\n",
       "      <td>Anime</td>\n",
       "    </tr>\n",
       "    <tr>\n",
       "      <th>114</th>\n",
       "      <td>79170.0</td>\n",
       "      <td>Poor Johnny</td>\n",
       "      <td>0.348000</td>\n",
       "      <td>0.698</td>\n",
       "      <td>362267.0</td>\n",
       "      <td>0.800</td>\n",
       "      <td>0.000087</td>\n",
       "      <td>B</td>\n",
       "      <td>0.4430</td>\n",
       "      <td>-3.091</td>\n",
       "      <td>Minor</td>\n",
       "      <td>0.0284</td>\n",
       "      <td>NaN</td>\n",
       "      <td>4-Apr</td>\n",
       "      <td>0.654</td>\n",
       "      <td>Blues</td>\n",
       "    </tr>\n",
       "    <tr>\n",
       "      <th>138</th>\n",
       "      <td>39716.0</td>\n",
       "      <td>Set Free (feat. Yael)</td>\n",
       "      <td>0.008340</td>\n",
       "      <td>0.776</td>\n",
       "      <td>191210.0</td>\n",
       "      <td>0.783</td>\n",
       "      <td>0.044900</td>\n",
       "      <td>C</td>\n",
       "      <td>0.0377</td>\n",
       "      <td>-3.595</td>\n",
       "      <td>Major</td>\n",
       "      <td>0.0374</td>\n",
       "      <td>NaN</td>\n",
       "      <td>4-Apr</td>\n",
       "      <td>0.943</td>\n",
       "      <td>Electronic</td>\n",
       "    </tr>\n",
       "    <tr>\n",
       "      <th>145</th>\n",
       "      <td>48590.0</td>\n",
       "      <td>Running Away</td>\n",
       "      <td>0.001100</td>\n",
       "      <td>0.608</td>\n",
       "      <td>178440.0</td>\n",
       "      <td>0.801</td>\n",
       "      <td>0.000008</td>\n",
       "      <td>A</td>\n",
       "      <td>0.2230</td>\n",
       "      <td>-5.452</td>\n",
       "      <td>Minor</td>\n",
       "      <td>0.0376</td>\n",
       "      <td>NaN</td>\n",
       "      <td>3-Apr</td>\n",
       "      <td>0.544</td>\n",
       "      <td>Alternative</td>\n",
       "    </tr>\n",
       "  </tbody>\n",
       "</table>\n",
       "</div>"
      ],
      "text/plain": [
       "     instance_id             track_name  acousticness  danceability  \\\n",
       "63       45966.0          Back Door Man      0.287000         0.476   \n",
       "85       90217.0                familia      0.000059         0.489   \n",
       "114      79170.0            Poor Johnny      0.348000         0.698   \n",
       "138      39716.0  Set Free (feat. Yael)      0.008340         0.776   \n",
       "145      48590.0           Running Away      0.001100         0.608   \n",
       "\n",
       "     duration_ms  energy  instrumentalness key  liveness  loudness   mode  \\\n",
       "63      212427.0   0.612          0.000252   A    0.0877    -7.010  Major   \n",
       "85      269000.0   0.947          0.000000  C#    0.1130    -3.925  Minor   \n",
       "114     362267.0   0.800          0.000087   B    0.4430    -3.091  Minor   \n",
       "138     191210.0   0.783          0.044900   C    0.0377    -3.595  Major   \n",
       "145     178440.0   0.801          0.000008   A    0.2230    -5.452  Minor   \n",
       "\n",
       "     speechiness  tempo obtained_date  valence  music_genre  \n",
       "63        0.0335    NaN         4-Apr    0.909         Rock  \n",
       "85        0.0419    NaN         4-Apr    0.517        Anime  \n",
       "114       0.0284    NaN         4-Apr    0.654        Blues  \n",
       "138       0.0374    NaN         4-Apr    0.943   Electronic  \n",
       "145       0.0376    NaN         3-Apr    0.544  Alternative  "
      ]
     },
     "execution_count": 7,
     "metadata": {},
     "output_type": "execute_result"
    }
   ],
   "source": [
    "data[data['tempo'].isna()].head()"
   ]
  },
  {
   "cell_type": "markdown",
   "id": "50d39d7d-a4d3-468a-ba99-c208ff5f140f",
   "metadata": {},
   "source": [
    "нет возьможности популнить логично пополнить пропусков так что нужно их удалить."
   ]
  },
  {
   "cell_type": "code",
   "execution_count": 8,
   "id": "2b011f17-ea8d-4003-a01e-cdd4d57dcfd2",
   "metadata": {},
   "outputs": [],
   "source": [
    "data = data.dropna()"
   ]
  },
  {
   "cell_type": "code",
   "execution_count": 9,
   "id": "7c002020-05e8-4d30-ac83-db9a21d9f249",
   "metadata": {},
   "outputs": [],
   "source": [
    "data = data.reset_index(drop=True)"
   ]
  },
  {
   "cell_type": "code",
   "execution_count": 10,
   "id": "73bda730-c8ed-480d-ab32-5b8573dfdf1f",
   "metadata": {},
   "outputs": [
    {
     "data": {
      "text/plain": [
       "instance_id         0\n",
       "track_name          0\n",
       "acousticness        0\n",
       "danceability        0\n",
       "duration_ms         0\n",
       "energy              0\n",
       "instrumentalness    0\n",
       "key                 0\n",
       "liveness            0\n",
       "loudness            0\n",
       "mode                0\n",
       "speechiness         0\n",
       "tempo               0\n",
       "obtained_date       0\n",
       "valence             0\n",
       "music_genre         0\n",
       "dtype: int64"
      ]
     },
     "execution_count": 10,
     "metadata": {},
     "output_type": "execute_result"
    }
   ],
   "source": [
    "data.isna().sum()"
   ]
  },
  {
   "cell_type": "markdown",
   "id": "43a5a3a6-e7c3-4f9d-b228-7c5761ec11c6",
   "metadata": {},
   "source": [
    "## проверить наличия явных и неявных дубликатов"
   ]
  },
  {
   "cell_type": "code",
   "execution_count": 11,
   "id": "03e6b50e-889e-410d-a6ce-c2f77f3a98cc",
   "metadata": {},
   "outputs": [
    {
     "data": {
      "text/plain": [
       "0"
      ]
     },
     "execution_count": 11,
     "metadata": {},
     "output_type": "execute_result"
    }
   ],
   "source": [
    "data.duplicated().sum()"
   ]
  },
  {
   "cell_type": "markdown",
   "id": "fe023f5f-6ab0-4100-a3b9-fad850c95b0a",
   "metadata": {},
   "source": [
    "в данных отсутсвуют явные дубликаты."
   ]
  },
  {
   "cell_type": "code",
   "execution_count": 12,
   "id": "3ec39125-8721-474a-b909-e6c639bbcb19",
   "metadata": {},
   "outputs": [
    {
     "data": {
      "text/plain": [
       "0"
      ]
     },
     "execution_count": 12,
     "metadata": {},
     "output_type": "execute_result"
    }
   ],
   "source": [
    "data['instance_id'].duplicated().sum()"
   ]
  },
  {
   "cell_type": "code",
   "execution_count": 13,
   "id": "6f6c7901-2058-475f-96a5-20918600635e",
   "metadata": {},
   "outputs": [
    {
     "data": {
      "text/plain": [
       "1525"
      ]
     },
     "execution_count": 13,
     "metadata": {},
     "output_type": "execute_result"
    }
   ],
   "source": [
    "data['track_name'].duplicated().sum()"
   ]
  },
  {
   "cell_type": "code",
   "execution_count": 14,
   "id": "17407385-ba16-4c2e-b79b-97fbf15f5f01",
   "metadata": {},
   "outputs": [
    {
     "data": {
      "text/plain": [
       "589"
      ]
     },
     "execution_count": 14,
     "metadata": {},
     "output_type": "execute_result"
    }
   ],
   "source": [
    "data.duplicated(['track_name', 'key', 'mode', 'tempo', 'energy', 'loudness', 'obtained_date']).sum()"
   ]
  },
  {
   "cell_type": "markdown",
   "id": "0ace2ce4-3fff-4237-af25-1a3de3150f6b",
   "metadata": {},
   "source": [
    "замечаем наличия неявных дубликатов, нужно их удалить."
   ]
  },
  {
   "cell_type": "code",
   "execution_count": 15,
   "id": "f689535f-e388-49ff-bac7-79b3d37e18da",
   "metadata": {},
   "outputs": [],
   "source": [
    "data = data.drop_duplicates(['track_name', 'key', 'mode', 'tempo', 'energy', 'loudness', 'obtained_date'])\n",
    "data = data.reset_index(drop=True)"
   ]
  },
  {
   "cell_type": "code",
   "execution_count": 16,
   "id": "dd2780f3-ed85-4dd2-bea4-2d7712a91dc5",
   "metadata": {},
   "outputs": [
    {
     "name": "stdout",
     "output_type": "stream",
     "text": [
      "<class 'pandas.core.frame.DataFrame'>\n",
      "RangeIndex: 18165 entries, 0 to 18164\n",
      "Data columns (total 16 columns):\n",
      " #   Column            Non-Null Count  Dtype  \n",
      "---  ------            --------------  -----  \n",
      " 0   instance_id       18165 non-null  float64\n",
      " 1   track_name        18165 non-null  object \n",
      " 2   acousticness      18165 non-null  float64\n",
      " 3   danceability      18165 non-null  float64\n",
      " 4   duration_ms       18165 non-null  float64\n",
      " 5   energy            18165 non-null  float64\n",
      " 6   instrumentalness  18165 non-null  float64\n",
      " 7   key               18165 non-null  object \n",
      " 8   liveness          18165 non-null  float64\n",
      " 9   loudness          18165 non-null  float64\n",
      " 10  mode              18165 non-null  object \n",
      " 11  speechiness       18165 non-null  float64\n",
      " 12  tempo             18165 non-null  float64\n",
      " 13  obtained_date     18165 non-null  object \n",
      " 14  valence           18165 non-null  float64\n",
      " 15  music_genre       18165 non-null  object \n",
      "dtypes: float64(11), object(5)\n",
      "memory usage: 2.2+ MB\n"
     ]
    }
   ],
   "source": [
    "data.info()"
   ]
  },
  {
   "cell_type": "markdown",
   "id": "b95b327c-0814-4eaa-ab2b-53c186f2d027",
   "metadata": {},
   "source": [
    "## переоброзовать типы данных"
   ]
  },
  {
   "cell_type": "markdown",
   "id": "5260d037-ff0b-4ad1-ab8e-34a43b69099a",
   "metadata": {},
   "source": [
    " instance_id, obtained_date и track_name будут удалены так как они не как не помагают модели, так что не надо переобразовать их типы."
   ]
  },
  {
   "cell_type": "code",
   "execution_count": 17,
   "id": "79d6a1d5-64c7-44d4-8eac-6247e2b14892",
   "metadata": {},
   "outputs": [],
   "source": [
    "data['duration_ms'] = data['duration_ms'].astype('int')"
   ]
  },
  {
   "cell_type": "code",
   "execution_count": 18,
   "id": "3d4e938d-2872-4692-a1ff-c66b5466a42f",
   "metadata": {},
   "outputs": [
    {
     "data": {
      "text/plain": [
       "array(['Country', 'Rock', 'Alternative', 'Hip-Hop', 'Blues', 'Jazz',\n",
       "       'Electronic', 'Anime', 'Rap', 'Classical'], dtype=object)"
      ]
     },
     "execution_count": 18,
     "metadata": {},
     "output_type": "execute_result"
    }
   ],
   "source": [
    "data['music_genre'].unique()"
   ]
  },
  {
   "cell_type": "code",
   "execution_count": 19,
   "id": "f1764e29-8c18-4493-8800-02930d99f7a4",
   "metadata": {},
   "outputs": [
    {
     "data": {
      "text/plain": [
       "array(['D', 'A', 'E', 'G#', 'C', 'D#', 'A#', 'F', 'F#', 'G', 'C#', 'B'],\n",
       "      dtype=object)"
      ]
     },
     "execution_count": 19,
     "metadata": {},
     "output_type": "execute_result"
    }
   ],
   "source": [
    "data['key'].unique()"
   ]
  },
  {
   "cell_type": "code",
   "execution_count": 20,
   "id": "e753cb64-ac6d-4080-b78e-e682266941d9",
   "metadata": {},
   "outputs": [
    {
     "data": {
      "text/plain": [
       "array(['Major', 'Minor'], dtype=object)"
      ]
     },
     "execution_count": 20,
     "metadata": {},
     "output_type": "execute_result"
    }
   ],
   "source": [
    "data['mode'].unique()"
   ]
  },
  {
   "cell_type": "code",
   "execution_count": 21,
   "id": "f73b8108-26d5-41b0-8128-3beb5c95131e",
   "metadata": {},
   "outputs": [
    {
     "data": {
      "text/plain": [
       "array(['4-Apr', '3-Apr', '5-Apr', '1-Apr'], dtype=object)"
      ]
     },
     "execution_count": 21,
     "metadata": {},
     "output_type": "execute_result"
    }
   ],
   "source": [
    "data['obtained_date'].unique()"
   ]
  },
  {
   "cell_type": "code",
   "execution_count": 22,
   "id": "919f0dd4-e86a-458d-9af8-34fda43a601a",
   "metadata": {},
   "outputs": [
    {
     "data": {
      "text/plain": [
       "count    18165.000000\n",
       "mean         0.277775\n",
       "std          0.323681\n",
       "min          0.000000\n",
       "25%          0.015300\n",
       "50%          0.123000\n",
       "75%          0.477000\n",
       "max          0.996000\n",
       "Name: acousticness, dtype: float64"
      ]
     },
     "execution_count": 22,
     "metadata": {},
     "output_type": "execute_result"
    }
   ],
   "source": [
    "data['acousticness'].describe()"
   ]
  },
  {
   "cell_type": "code",
   "execution_count": 23,
   "id": "482346b9-ea67-44ac-8139-09dc5f313bf9",
   "metadata": {},
   "outputs": [
    {
     "data": {
      "text/plain": [
       "count    18165.000000\n",
       "mean         0.560337\n",
       "std          0.172116\n",
       "min          0.060000\n",
       "25%          0.449000\n",
       "50%          0.568000\n",
       "75%          0.681000\n",
       "max          0.978000\n",
       "Name: danceability, dtype: float64"
      ]
     },
     "execution_count": 23,
     "metadata": {},
     "output_type": "execute_result"
    }
   ],
   "source": [
    "data['danceability'].describe()"
   ]
  },
  {
   "cell_type": "code",
   "execution_count": 24,
   "id": "e4f502bb-f56f-42fb-9c14-017e1d30ac2f",
   "metadata": {},
   "outputs": [
    {
     "data": {
      "text/plain": [
       "count    1.816500e+04\n",
       "mean     2.212424e+05\n",
       "std      1.281687e+05\n",
       "min     -1.000000e+00\n",
       "25%      1.774930e+05\n",
       "50%      2.198270e+05\n",
       "75%      2.670190e+05\n",
       "max      4.497994e+06\n",
       "Name: duration_ms, dtype: float64"
      ]
     },
     "execution_count": 24,
     "metadata": {},
     "output_type": "execute_result"
    }
   ],
   "source": [
    "data['duration_ms'].describe()"
   ]
  },
  {
   "cell_type": "markdown",
   "id": "5042bf8a-2043-47c0-a15c-60e402d0d205",
   "metadata": {},
   "source": [
    "замечаем анумалии в duration_ms"
   ]
  },
  {
   "cell_type": "code",
   "execution_count": 25,
   "id": "27985383-2f18-4327-8370-db74ded14252",
   "metadata": {},
   "outputs": [
    {
     "data": {
      "text/html": [
       "<div>\n",
       "<style scoped>\n",
       "    .dataframe tbody tr th:only-of-type {\n",
       "        vertical-align: middle;\n",
       "    }\n",
       "\n",
       "    .dataframe tbody tr th {\n",
       "        vertical-align: top;\n",
       "    }\n",
       "\n",
       "    .dataframe thead th {\n",
       "        text-align: right;\n",
       "    }\n",
       "</style>\n",
       "<table border=\"1\" class=\"dataframe\">\n",
       "  <thead>\n",
       "    <tr style=\"text-align: right;\">\n",
       "      <th></th>\n",
       "      <th>instance_id</th>\n",
       "      <th>track_name</th>\n",
       "      <th>acousticness</th>\n",
       "      <th>danceability</th>\n",
       "      <th>duration_ms</th>\n",
       "      <th>energy</th>\n",
       "      <th>instrumentalness</th>\n",
       "      <th>key</th>\n",
       "      <th>liveness</th>\n",
       "      <th>loudness</th>\n",
       "      <th>mode</th>\n",
       "      <th>speechiness</th>\n",
       "      <th>tempo</th>\n",
       "      <th>obtained_date</th>\n",
       "      <th>valence</th>\n",
       "      <th>music_genre</th>\n",
       "    </tr>\n",
       "  </thead>\n",
       "  <tbody>\n",
       "    <tr>\n",
       "      <th>13</th>\n",
       "      <td>73565.0</td>\n",
       "      <td>Iwanakutemo Tsutawaru Arewa Sukoshi Usoda - Al...</td>\n",
       "      <td>0.11000</td>\n",
       "      <td>0.470</td>\n",
       "      <td>-1</td>\n",
       "      <td>0.6410</td>\n",
       "      <td>0.000000</td>\n",
       "      <td>F#</td>\n",
       "      <td>0.1550</td>\n",
       "      <td>-7.454</td>\n",
       "      <td>Major</td>\n",
       "      <td>0.0658</td>\n",
       "      <td>86.387</td>\n",
       "      <td>4-Apr</td>\n",
       "      <td>0.638</td>\n",
       "      <td>Anime</td>\n",
       "    </tr>\n",
       "    <tr>\n",
       "      <th>34</th>\n",
       "      <td>76827.0</td>\n",
       "      <td>Flodgin</td>\n",
       "      <td>0.08480</td>\n",
       "      <td>0.748</td>\n",
       "      <td>-1</td>\n",
       "      <td>0.7120</td>\n",
       "      <td>0.000000</td>\n",
       "      <td>D</td>\n",
       "      <td>0.1320</td>\n",
       "      <td>-5.651</td>\n",
       "      <td>Major</td>\n",
       "      <td>0.1430</td>\n",
       "      <td>140.055</td>\n",
       "      <td>4-Apr</td>\n",
       "      <td>0.180</td>\n",
       "      <td>Rap</td>\n",
       "    </tr>\n",
       "    <tr>\n",
       "      <th>48</th>\n",
       "      <td>43888.0</td>\n",
       "      <td>Things My Father Said</td>\n",
       "      <td>0.05400</td>\n",
       "      <td>0.482</td>\n",
       "      <td>-1</td>\n",
       "      <td>0.6270</td>\n",
       "      <td>0.000003</td>\n",
       "      <td>D</td>\n",
       "      <td>0.1110</td>\n",
       "      <td>-5.779</td>\n",
       "      <td>Major</td>\n",
       "      <td>0.0300</td>\n",
       "      <td>95.903</td>\n",
       "      <td>4-Apr</td>\n",
       "      <td>0.170</td>\n",
       "      <td>Alternative</td>\n",
       "    </tr>\n",
       "    <tr>\n",
       "      <th>53</th>\n",
       "      <td>39574.0</td>\n",
       "      <td>Fidelio, Op. 72, Act I: Ha! Welch ein Augenbli...</td>\n",
       "      <td>0.90900</td>\n",
       "      <td>0.374</td>\n",
       "      <td>-1</td>\n",
       "      <td>0.2270</td>\n",
       "      <td>0.000069</td>\n",
       "      <td>A#</td>\n",
       "      <td>0.6860</td>\n",
       "      <td>-18.719</td>\n",
       "      <td>Major</td>\n",
       "      <td>0.0579</td>\n",
       "      <td>78.236</td>\n",
       "      <td>4-Apr</td>\n",
       "      <td>0.264</td>\n",
       "      <td>Classical</td>\n",
       "    </tr>\n",
       "    <tr>\n",
       "      <th>57</th>\n",
       "      <td>42479.0</td>\n",
       "      <td>American Grown</td>\n",
       "      <td>0.04810</td>\n",
       "      <td>0.615</td>\n",
       "      <td>-1</td>\n",
       "      <td>0.7790</td>\n",
       "      <td>0.000000</td>\n",
       "      <td>C</td>\n",
       "      <td>0.2300</td>\n",
       "      <td>-9.577</td>\n",
       "      <td>Major</td>\n",
       "      <td>0.0832</td>\n",
       "      <td>147.987</td>\n",
       "      <td>4-Apr</td>\n",
       "      <td>0.899</td>\n",
       "      <td>Country</td>\n",
       "    </tr>\n",
       "    <tr>\n",
       "      <th>...</th>\n",
       "      <td>...</td>\n",
       "      <td>...</td>\n",
       "      <td>...</td>\n",
       "      <td>...</td>\n",
       "      <td>...</td>\n",
       "      <td>...</td>\n",
       "      <td>...</td>\n",
       "      <td>...</td>\n",
       "      <td>...</td>\n",
       "      <td>...</td>\n",
       "      <td>...</td>\n",
       "      <td>...</td>\n",
       "      <td>...</td>\n",
       "      <td>...</td>\n",
       "      <td>...</td>\n",
       "      <td>...</td>\n",
       "    </tr>\n",
       "    <tr>\n",
       "      <th>18126</th>\n",
       "      <td>51087.0</td>\n",
       "      <td>Bachianas brasileiras No. 7: III. Toccata: Des...</td>\n",
       "      <td>0.90900</td>\n",
       "      <td>0.283</td>\n",
       "      <td>-1</td>\n",
       "      <td>0.1330</td>\n",
       "      <td>0.800000</td>\n",
       "      <td>B</td>\n",
       "      <td>0.0927</td>\n",
       "      <td>-25.586</td>\n",
       "      <td>Minor</td>\n",
       "      <td>0.0412</td>\n",
       "      <td>116.376</td>\n",
       "      <td>4-Apr</td>\n",
       "      <td>0.177</td>\n",
       "      <td>Classical</td>\n",
       "    </tr>\n",
       "    <tr>\n",
       "      <th>18134</th>\n",
       "      <td>48460.0</td>\n",
       "      <td>Airborne - MUST DIE! Remix</td>\n",
       "      <td>0.00298</td>\n",
       "      <td>0.450</td>\n",
       "      <td>-1</td>\n",
       "      <td>0.9150</td>\n",
       "      <td>0.446000</td>\n",
       "      <td>F</td>\n",
       "      <td>0.7710</td>\n",
       "      <td>-1.404</td>\n",
       "      <td>Minor</td>\n",
       "      <td>0.2360</td>\n",
       "      <td>137.948</td>\n",
       "      <td>4-Apr</td>\n",
       "      <td>0.156</td>\n",
       "      <td>Electronic</td>\n",
       "    </tr>\n",
       "    <tr>\n",
       "      <th>18138</th>\n",
       "      <td>23677.0</td>\n",
       "      <td>Idomeneo, TrV 262, Act I (After W.A. Mozart): ...</td>\n",
       "      <td>0.98200</td>\n",
       "      <td>0.372</td>\n",
       "      <td>-1</td>\n",
       "      <td>0.1590</td>\n",
       "      <td>0.000001</td>\n",
       "      <td>G</td>\n",
       "      <td>0.1650</td>\n",
       "      <td>-21.129</td>\n",
       "      <td>Major</td>\n",
       "      <td>0.0364</td>\n",
       "      <td>135.617</td>\n",
       "      <td>3-Apr</td>\n",
       "      <td>0.512</td>\n",
       "      <td>Classical</td>\n",
       "    </tr>\n",
       "    <tr>\n",
       "      <th>18139</th>\n",
       "      <td>89832.0</td>\n",
       "      <td>I Want My Milk (I Want it Now)</td>\n",
       "      <td>0.96600</td>\n",
       "      <td>0.638</td>\n",
       "      <td>-1</td>\n",
       "      <td>0.0689</td>\n",
       "      <td>0.000001</td>\n",
       "      <td>E</td>\n",
       "      <td>0.1020</td>\n",
       "      <td>-16.222</td>\n",
       "      <td>Major</td>\n",
       "      <td>0.0659</td>\n",
       "      <td>120.160</td>\n",
       "      <td>3-Apr</td>\n",
       "      <td>0.695</td>\n",
       "      <td>Blues</td>\n",
       "    </tr>\n",
       "    <tr>\n",
       "      <th>18144</th>\n",
       "      <td>73890.0</td>\n",
       "      <td>理性と力</td>\n",
       "      <td>0.62700</td>\n",
       "      <td>0.461</td>\n",
       "      <td>-1</td>\n",
       "      <td>0.4360</td>\n",
       "      <td>0.892000</td>\n",
       "      <td>G</td>\n",
       "      <td>0.1330</td>\n",
       "      <td>-9.381</td>\n",
       "      <td>Major</td>\n",
       "      <td>0.0301</td>\n",
       "      <td>130.035</td>\n",
       "      <td>4-Apr</td>\n",
       "      <td>0.264</td>\n",
       "      <td>Anime</td>\n",
       "    </tr>\n",
       "  </tbody>\n",
       "</table>\n",
       "<p>1768 rows × 16 columns</p>\n",
       "</div>"
      ],
      "text/plain": [
       "       instance_id                                         track_name  \\\n",
       "13         73565.0  Iwanakutemo Tsutawaru Arewa Sukoshi Usoda - Al...   \n",
       "34         76827.0                                            Flodgin   \n",
       "48         43888.0                              Things My Father Said   \n",
       "53         39574.0  Fidelio, Op. 72, Act I: Ha! Welch ein Augenbli...   \n",
       "57         42479.0                                     American Grown   \n",
       "...            ...                                                ...   \n",
       "18126      51087.0  Bachianas brasileiras No. 7: III. Toccata: Des...   \n",
       "18134      48460.0                         Airborne - MUST DIE! Remix   \n",
       "18138      23677.0  Idomeneo, TrV 262, Act I (After W.A. Mozart): ...   \n",
       "18139      89832.0                     I Want My Milk (I Want it Now)   \n",
       "18144      73890.0                                               理性と力   \n",
       "\n",
       "       acousticness  danceability  duration_ms  energy  instrumentalness key  \\\n",
       "13          0.11000         0.470           -1  0.6410          0.000000  F#   \n",
       "34          0.08480         0.748           -1  0.7120          0.000000   D   \n",
       "48          0.05400         0.482           -1  0.6270          0.000003   D   \n",
       "53          0.90900         0.374           -1  0.2270          0.000069  A#   \n",
       "57          0.04810         0.615           -1  0.7790          0.000000   C   \n",
       "...             ...           ...          ...     ...               ...  ..   \n",
       "18126       0.90900         0.283           -1  0.1330          0.800000   B   \n",
       "18134       0.00298         0.450           -1  0.9150          0.446000   F   \n",
       "18138       0.98200         0.372           -1  0.1590          0.000001   G   \n",
       "18139       0.96600         0.638           -1  0.0689          0.000001   E   \n",
       "18144       0.62700         0.461           -1  0.4360          0.892000   G   \n",
       "\n",
       "       liveness  loudness   mode  speechiness    tempo obtained_date  valence  \\\n",
       "13       0.1550    -7.454  Major       0.0658   86.387         4-Apr    0.638   \n",
       "34       0.1320    -5.651  Major       0.1430  140.055         4-Apr    0.180   \n",
       "48       0.1110    -5.779  Major       0.0300   95.903         4-Apr    0.170   \n",
       "53       0.6860   -18.719  Major       0.0579   78.236         4-Apr    0.264   \n",
       "57       0.2300    -9.577  Major       0.0832  147.987         4-Apr    0.899   \n",
       "...         ...       ...    ...          ...      ...           ...      ...   \n",
       "18126    0.0927   -25.586  Minor       0.0412  116.376         4-Apr    0.177   \n",
       "18134    0.7710    -1.404  Minor       0.2360  137.948         4-Apr    0.156   \n",
       "18138    0.1650   -21.129  Major       0.0364  135.617         3-Apr    0.512   \n",
       "18139    0.1020   -16.222  Major       0.0659  120.160         3-Apr    0.695   \n",
       "18144    0.1330    -9.381  Major       0.0301  130.035         4-Apr    0.264   \n",
       "\n",
       "       music_genre  \n",
       "13           Anime  \n",
       "34             Rap  \n",
       "48     Alternative  \n",
       "53       Classical  \n",
       "57         Country  \n",
       "...            ...  \n",
       "18126    Classical  \n",
       "18134   Electronic  \n",
       "18138    Classical  \n",
       "18139        Blues  \n",
       "18144        Anime  \n",
       "\n",
       "[1768 rows x 16 columns]"
      ]
     },
     "execution_count": 25,
     "metadata": {},
     "output_type": "execute_result"
    }
   ],
   "source": [
    "data[data['duration_ms']==-1]"
   ]
  },
  {
   "cell_type": "markdown",
   "id": "a6bc3ff3-06f3-4f4d-9909-3b5cfcd1b5f9",
   "metadata": {},
   "source": [
    "скорее всего duration_ms = -1 это пропуск, но так как пропусков много то удалят их нельзя. лучше не учитывать данных duration_ms в обучения модели."
   ]
  },
  {
   "cell_type": "code",
   "execution_count": 26,
   "id": "ccb6ac61-c825-4dcd-b323-85a966e3f5f4",
   "metadata": {},
   "outputs": [
    {
     "data": {
      "text/plain": [
       "count    18165.000000\n",
       "mean         0.623729\n",
       "std          0.252876\n",
       "min          0.001010\n",
       "25%          0.466000\n",
       "50%          0.665000\n",
       "75%          0.831000\n",
       "max          0.999000\n",
       "Name: energy, dtype: float64"
      ]
     },
     "execution_count": 26,
     "metadata": {},
     "output_type": "execute_result"
    }
   ],
   "source": [
    "data['energy'].describe()"
   ]
  },
  {
   "cell_type": "code",
   "execution_count": 27,
   "id": "da4c7b4e-8243-4a95-94af-adf50ca63118",
   "metadata": {},
   "outputs": [
    {
     "data": {
      "text/plain": [
       "count    18165.000000\n",
       "mean         0.164010\n",
       "std          0.309756\n",
       "min          0.000000\n",
       "25%          0.000000\n",
       "50%          0.000164\n",
       "75%          0.097000\n",
       "max          0.996000\n",
       "Name: instrumentalness, dtype: float64"
      ]
     },
     "execution_count": 27,
     "metadata": {},
     "output_type": "execute_result"
    }
   ],
   "source": [
    "data['instrumentalness'].describe()"
   ]
  },
  {
   "cell_type": "code",
   "execution_count": 28,
   "id": "8deff0cc-92df-478f-8635-dcfe7c98d52f",
   "metadata": {},
   "outputs": [
    {
     "data": {
      "text/plain": [
       "count    18165.000000\n",
       "mean         0.198934\n",
       "std          0.167335\n",
       "min          0.013600\n",
       "25%          0.097300\n",
       "50%          0.130000\n",
       "75%          0.253000\n",
       "max          1.000000\n",
       "Name: liveness, dtype: float64"
      ]
     },
     "execution_count": 28,
     "metadata": {},
     "output_type": "execute_result"
    }
   ],
   "source": [
    "data['liveness'].describe()"
   ]
  },
  {
   "cell_type": "code",
   "execution_count": 29,
   "id": "40eaad47-a631-4cc2-9f90-c106060fe962",
   "metadata": {},
   "outputs": [
    {
     "data": {
      "text/plain": [
       "count    18165.000000\n",
       "mean        -8.603104\n",
       "std          5.557507\n",
       "min        -44.406000\n",
       "25%        -10.327000\n",
       "50%         -7.070000\n",
       "75%         -5.058000\n",
       "max          3.744000\n",
       "Name: loudness, dtype: float64"
      ]
     },
     "execution_count": 29,
     "metadata": {},
     "output_type": "execute_result"
    }
   ],
   "source": [
    "data['loudness'].describe()"
   ]
  },
  {
   "cell_type": "code",
   "execution_count": 30,
   "id": "23ce526e-7d53-4053-bce5-2d356bb1cf6d",
   "metadata": {},
   "outputs": [
    {
     "data": {
      "text/plain": [
       "count    18165.000000\n",
       "mean         0.090356\n",
       "std          0.096945\n",
       "min          0.022300\n",
       "25%          0.035600\n",
       "50%          0.048700\n",
       "75%          0.093400\n",
       "max          0.932000\n",
       "Name: speechiness, dtype: float64"
      ]
     },
     "execution_count": 30,
     "metadata": {},
     "output_type": "execute_result"
    }
   ],
   "source": [
    "data['speechiness'].describe()"
   ]
  },
  {
   "cell_type": "code",
   "execution_count": 31,
   "id": "1a738ccb-a4e4-4ac7-97c9-0183311f8b77",
   "metadata": {},
   "outputs": [
    {
     "data": {
      "text/plain": [
       "count    18165.000000\n",
       "mean       120.979325\n",
       "std         30.465294\n",
       "min         34.765000\n",
       "25%         95.948000\n",
       "50%        120.013000\n",
       "75%        141.966000\n",
       "max        220.041000\n",
       "Name: tempo, dtype: float64"
      ]
     },
     "execution_count": 31,
     "metadata": {},
     "output_type": "execute_result"
    }
   ],
   "source": [
    "data['tempo'].describe()"
   ]
  },
  {
   "cell_type": "code",
   "execution_count": 32,
   "id": "df0579c3-a39c-4303-9e11-eea705a247ef",
   "metadata": {},
   "outputs": [
    {
     "data": {
      "text/plain": [
       "count    18165.000000\n",
       "mean         0.463970\n",
       "std          0.244193\n",
       "min          0.000000\n",
       "25%          0.270000\n",
       "50%          0.456000\n",
       "75%          0.653000\n",
       "max          0.992000\n",
       "Name: valence, dtype: float64"
      ]
     },
     "execution_count": 32,
     "metadata": {},
     "output_type": "execute_result"
    }
   ],
   "source": [
    "data['valence'].describe()"
   ]
  },
  {
   "cell_type": "markdown",
   "id": "71ff501b-742c-4a1b-b71b-04b5edab5bae",
   "metadata": {},
   "source": [
    "все остальные типы данных соотвествуют."
   ]
  },
  {
   "cell_type": "markdown",
   "id": "5b57557d-f763-408d-bf77-94e441c4542b",
   "metadata": {},
   "source": [
    "# разведочный анализ"
   ]
  },
  {
   "cell_type": "code",
   "execution_count": 33,
   "id": "a297e89d-ac55-4b63-bca1-ebe6407e4c33",
   "metadata": {},
   "outputs": [
    {
     "data": {
      "image/png": "[encoded data removed]",
      "text/plain": [
       "<Figure size 1080x576 with 1 Axes>"
      ]
     },
     "metadata": {
      "needs_background": "light"
     },
     "output_type": "display_data"
    }
   ],
   "source": [
    "data['acousticness'].hist(bins=50, figsize=(15, 8));\n",
    "plt.title('гистограма меры уверенности');"
   ]
  },
  {
   "cell_type": "markdown",
   "id": "f8d0c3e6-0f6c-489e-9e75-f0624804b4ca",
   "metadata": {},
   "source": [
    "замечаем что большенство треков в датасете с нулевой acousticness"
   ]
  },
  {
   "cell_type": "code",
   "execution_count": 34,
   "id": "a3f0fd23-ba93-4698-9dd6-c4959f0e5cbc",
   "metadata": {},
   "outputs": [
    {
     "data": {
      "image/png": "[encoded data removed]",
      "text/plain": [
       "<Figure size 1080x576 with 1 Axes>"
      ]
     },
     "metadata": {
      "needs_background": "light"
     },
     "output_type": "display_data"
    }
   ],
   "source": [
    "data['danceability'].hist(bins=50, figsize=(15, 8));\n",
    "plt.title('гистограма Танцевальности');"
   ]
  },
  {
   "cell_type": "markdown",
   "id": "e801369f-938b-4da1-89a5-ec3217842b92",
   "metadata": {},
   "source": [
    "замечаем что гистограма Танцевальности похоже на нармальное распределение"
   ]
  },
  {
   "cell_type": "code",
   "execution_count": 35,
   "id": "e6c4c4e9-5c0f-44be-85e5-00c6a2caafd9",
   "metadata": {},
   "outputs": [
    {
     "data": {
      "image/png": "[encoded data removed]",
      "text/plain": [
       "<Figure size 1080x576 with 1 Axes>"
      ]
     },
     "metadata": {
      "needs_background": "light"
     },
     "output_type": "display_data"
    }
   ],
   "source": [
    "data['energy'].hist(bins=50, figsize=(15, 8));\n",
    "plt.title('гистограма Энергии');"
   ]
  },
  {
   "cell_type": "code",
   "execution_count": 36,
   "id": "e1d0342d-187f-414a-ad87-ae0f9955f28f",
   "metadata": {},
   "outputs": [
    {
     "data": {
      "image/png": "[encoded data removed]",
      "text/plain": [
       "<Figure size 1080x576 with 1 Axes>"
      ]
     },
     "metadata": {
      "needs_background": "light"
     },
     "output_type": "display_data"
    }
   ],
   "source": [
    "data['instrumentalness'].hist(bins=50, figsize=(15, 8));\n",
    "plt.title('гистограма содержания вокала');"
   ]
  },
  {
   "cell_type": "markdown",
   "id": "08c6afa5-06ce-42f8-b4ce-d63700e83655",
   "metadata": {},
   "source": [
    "замечаем что большенство треков в датасете с нулевым содержанием вокала, на сколько, что можно не включать столбца instrumentalness в обучения модели"
   ]
  },
  {
   "cell_type": "code",
   "execution_count": 37,
   "id": "6fd9324d-abc8-4be4-8fb8-cbc633171688",
   "metadata": {},
   "outputs": [
    {
     "data": {
      "image/png": "[encoded data removed]",
      "text/plain": [
       "<Figure size 432x288 with 1 Axes>"
      ]
     },
     "metadata": {
      "needs_background": "light"
     },
     "output_type": "display_data"
    }
   ],
   "source": [
    "data['key'].value_counts().plot(kind='bar');"
   ]
  },
  {
   "cell_type": "markdown",
   "id": "3eb56160-36ef-4c6b-bcdd-6978df65490b",
   "metadata": {},
   "source": [
    "замечаем что меньшество треков в датасете испольнены в D# ключе"
   ]
  },
  {
   "cell_type": "code",
   "execution_count": 38,
   "id": "a66c9411-7a8c-4520-b393-e60b6e235b0e",
   "metadata": {},
   "outputs": [
    {
     "data": {
      "image/png": "[encoded data removed]",
      "text/plain": [
       "<Figure size 1080x576 with 1 Axes>"
      ]
     },
     "metadata": {
      "needs_background": "light"
     },
     "output_type": "display_data"
    }
   ],
   "source": [
    "data['liveness'].hist(bins=50, figsize=(15, 8));\n",
    "plt.title('гистограма присутствиz аудитории в записи');"
   ]
  },
  {
   "cell_type": "code",
   "execution_count": 39,
   "id": "d40f949f-3d80-412c-ba94-db045fdf9e93",
   "metadata": {},
   "outputs": [
    {
     "data": {
      "image/png": "[encoded data removed]",
      "text/plain": [
       "<Figure size 1080x576 with 1 Axes>"
      ]
     },
     "metadata": {
      "needs_background": "light"
     },
     "output_type": "display_data"
    }
   ],
   "source": [
    "data['loudness'].hist(bins=50, figsize=(15, 8));\n",
    "plt.title('гистограма громкостb');"
   ]
  },
  {
   "cell_type": "code",
   "execution_count": 40,
   "id": "93f50248-4421-4cfa-b94c-76f9063d9b43",
   "metadata": {},
   "outputs": [
    {
     "data": {
      "image/png": "[encoded data removed]",
      "text/plain": [
       "<Figure size 432x288 with 1 Axes>"
      ]
     },
     "metadata": {
      "needs_background": "light"
     },
     "output_type": "display_data"
    }
   ],
   "source": [
    "data['mode'].value_counts().plot(kind='bar');"
   ]
  },
  {
   "cell_type": "markdown",
   "id": "40e08b8f-977b-42a4-a710-83444ccfb8fa",
   "metadata": {},
   "source": [
    "замечаем что большество треков в датасете испольнены миноре"
   ]
  },
  {
   "cell_type": "code",
   "execution_count": 41,
   "id": "7c2dd5a0-e1d7-4341-99d9-7496272bcc34",
   "metadata": {},
   "outputs": [
    {
     "data": {
      "image/png": "[encoded data removed]",
      "text/plain": [
       "<Figure size 1080x576 with 1 Axes>"
      ]
     },
     "metadata": {
      "needs_background": "light"
     },
     "output_type": "display_data"
    }
   ],
   "source": [
    "data['speechiness'].hist(bins=10, figsize=(15, 8));\n",
    "plt.title('гистограма наличия в треке разговорной речи');"
   ]
  },
  {
   "cell_type": "markdown",
   "id": "d837841e-bc46-4732-89b4-c54a5ed7c531",
   "metadata": {},
   "source": [
    "замечаем что большество треков в датасете без наличия в треке разговорной речи"
   ]
  },
  {
   "cell_type": "code",
   "execution_count": 42,
   "id": "fa9ffcb6-db9c-461c-8afa-d895abebd90c",
   "metadata": {},
   "outputs": [
    {
     "data": {
      "image/png": "[encoded data removed]",
      "text/plain": [
       "<Figure size 1080x576 with 1 Axes>"
      ]
     },
     "metadata": {
      "needs_background": "light"
     },
     "output_type": "display_data"
    }
   ],
   "source": [
    "data['tempo'].hist(bins=50, figsize=(15, 8));\n",
    "plt.title('гистограма Темпа ');"
   ]
  },
  {
   "cell_type": "code",
   "execution_count": 43,
   "id": "7eec5776-00f4-4f5e-89eb-64c565013b06",
   "metadata": {},
   "outputs": [
    {
     "data": {
      "image/png": "[encoded data removed]",
      "text/plain": [
       "<Figure size 1080x576 with 1 Axes>"
      ]
     },
     "metadata": {
      "needs_background": "light"
     },
     "output_type": "display_data"
    }
   ],
   "source": [
    "data['valence'].hist(bins=50, figsize=(15, 8));\n",
    "plt.title('гистограма музыкального позитива ');"
   ]
  },
  {
   "cell_type": "code",
   "execution_count": 44,
   "id": "bf601cfb-dee2-4a4b-af32-c171aea3ae5b",
   "metadata": {},
   "outputs": [
    {
     "data": {
      "image/png": "[encoded data removed]",
      "text/plain": [
       "<Figure size 432x288 with 1 Axes>"
      ]
     },
     "metadata": {
      "needs_background": "light"
     },
     "output_type": "display_data"
    }
   ],
   "source": [
    "data['music_genre'].value_counts().plot(kind='bar'); \n",
    "plt.title('гистограма музыкального жанра ');"
   ]
  },
  {
   "cell_type": "code",
   "execution_count": null,
   "id": "4f1ffe36-b7e5-48d8-b0f8-a9e0d1273324",
   "metadata": {},
   "outputs": [],
   "source": []
  },
  {
   "cell_type": "markdown",
   "id": "6bd8553c-d1e6-4942-88af-fbe36424e673",
   "metadata": {},
   "source": [
    "замечаем дисбаланс классов!"
   ]
  },
  {
   "cell_type": "markdown",
   "id": "2bc701ee-868f-465f-8352-f08d04d2ca13",
   "metadata": {},
   "source": [
    "# проверка на мультиколлинеарность"
   ]
  },
  {
   "cell_type": "code",
   "execution_count": 45,
   "id": "b0db6834-73be-445b-a515-a0b674b8eaab",
   "metadata": {},
   "outputs": [
    {
     "data": {
      "text/html": [
       "<div>\n",
       "<style scoped>\n",
       "    .dataframe tbody tr th:only-of-type {\n",
       "        vertical-align: middle;\n",
       "    }\n",
       "\n",
       "    .dataframe tbody tr th {\n",
       "        vertical-align: top;\n",
       "    }\n",
       "\n",
       "    .dataframe thead th {\n",
       "        text-align: right;\n",
       "    }\n",
       "</style>\n",
       "<table border=\"1\" class=\"dataframe\">\n",
       "  <thead>\n",
       "    <tr style=\"text-align: right;\">\n",
       "      <th></th>\n",
       "      <th>instance_id</th>\n",
       "      <th>acousticness</th>\n",
       "      <th>danceability</th>\n",
       "      <th>duration_ms</th>\n",
       "      <th>energy</th>\n",
       "      <th>instrumentalness</th>\n",
       "      <th>liveness</th>\n",
       "      <th>loudness</th>\n",
       "      <th>speechiness</th>\n",
       "      <th>tempo</th>\n",
       "      <th>valence</th>\n",
       "    </tr>\n",
       "  </thead>\n",
       "  <tbody>\n",
       "    <tr>\n",
       "      <th>instance_id</th>\n",
       "      <td>1.000000</td>\n",
       "      <td>0.008015</td>\n",
       "      <td>-0.003751</td>\n",
       "      <td>-0.000690</td>\n",
       "      <td>-0.000023</td>\n",
       "      <td>0.013131</td>\n",
       "      <td>0.002343</td>\n",
       "      <td>-0.004044</td>\n",
       "      <td>-0.011820</td>\n",
       "      <td>-0.013492</td>\n",
       "      <td>-0.001519</td>\n",
       "    </tr>\n",
       "    <tr>\n",
       "      <th>acousticness</th>\n",
       "      <td>0.008015</td>\n",
       "      <td>1.000000</td>\n",
       "      <td>-0.277278</td>\n",
       "      <td>0.046611</td>\n",
       "      <td>-0.768023</td>\n",
       "      <td>0.319953</td>\n",
       "      <td>-0.092132</td>\n",
       "      <td>-0.701738</td>\n",
       "      <td>-0.146232</td>\n",
       "      <td>-0.219139</td>\n",
       "      <td>-0.227751</td>\n",
       "    </tr>\n",
       "    <tr>\n",
       "      <th>danceability</th>\n",
       "      <td>-0.003751</td>\n",
       "      <td>-0.277278</td>\n",
       "      <td>1.000000</td>\n",
       "      <td>-0.147165</td>\n",
       "      <td>0.190018</td>\n",
       "      <td>-0.254750</td>\n",
       "      <td>-0.079602</td>\n",
       "      <td>0.320752</td>\n",
       "      <td>0.256373</td>\n",
       "      <td>-0.056531</td>\n",
       "      <td>0.394929</td>\n",
       "    </tr>\n",
       "    <tr>\n",
       "      <th>duration_ms</th>\n",
       "      <td>-0.000690</td>\n",
       "      <td>0.046611</td>\n",
       "      <td>-0.147165</td>\n",
       "      <td>1.000000</td>\n",
       "      <td>-0.057272</td>\n",
       "      <td>0.140804</td>\n",
       "      <td>0.032868</td>\n",
       "      <td>-0.099986</td>\n",
       "      <td>-0.082079</td>\n",
       "      <td>-0.044273</td>\n",
       "      <td>-0.126941</td>\n",
       "    </tr>\n",
       "    <tr>\n",
       "      <th>energy</th>\n",
       "      <td>-0.000023</td>\n",
       "      <td>-0.768023</td>\n",
       "      <td>0.190018</td>\n",
       "      <td>-0.057272</td>\n",
       "      <td>1.000000</td>\n",
       "      <td>-0.322271</td>\n",
       "      <td>0.178149</td>\n",
       "      <td>0.822903</td>\n",
       "      <td>0.154089</td>\n",
       "      <td>0.252636</td>\n",
       "      <td>0.352416</td>\n",
       "    </tr>\n",
       "    <tr>\n",
       "      <th>instrumentalness</th>\n",
       "      <td>0.013131</td>\n",
       "      <td>0.319953</td>\n",
       "      <td>-0.254750</td>\n",
       "      <td>0.140804</td>\n",
       "      <td>-0.322271</td>\n",
       "      <td>1.000000</td>\n",
       "      <td>-0.065338</td>\n",
       "      <td>-0.483099</td>\n",
       "      <td>-0.174781</td>\n",
       "      <td>-0.098908</td>\n",
       "      <td>-0.261617</td>\n",
       "    </tr>\n",
       "    <tr>\n",
       "      <th>liveness</th>\n",
       "      <td>0.002343</td>\n",
       "      <td>-0.092132</td>\n",
       "      <td>-0.079602</td>\n",
       "      <td>0.032868</td>\n",
       "      <td>0.178149</td>\n",
       "      <td>-0.065338</td>\n",
       "      <td>1.000000</td>\n",
       "      <td>0.110082</td>\n",
       "      <td>0.098825</td>\n",
       "      <td>0.036799</td>\n",
       "      <td>0.036728</td>\n",
       "    </tr>\n",
       "    <tr>\n",
       "      <th>loudness</th>\n",
       "      <td>-0.004044</td>\n",
       "      <td>-0.701738</td>\n",
       "      <td>0.320752</td>\n",
       "      <td>-0.099986</td>\n",
       "      <td>0.822903</td>\n",
       "      <td>-0.483099</td>\n",
       "      <td>0.110082</td>\n",
       "      <td>1.000000</td>\n",
       "      <td>0.153210</td>\n",
       "      <td>0.223523</td>\n",
       "      <td>0.288890</td>\n",
       "    </tr>\n",
       "    <tr>\n",
       "      <th>speechiness</th>\n",
       "      <td>-0.011820</td>\n",
       "      <td>-0.146232</td>\n",
       "      <td>0.256373</td>\n",
       "      <td>-0.082079</td>\n",
       "      <td>0.154089</td>\n",
       "      <td>-0.174781</td>\n",
       "      <td>0.098825</td>\n",
       "      <td>0.153210</td>\n",
       "      <td>1.000000</td>\n",
       "      <td>0.070902</td>\n",
       "      <td>0.030633</td>\n",
       "    </tr>\n",
       "    <tr>\n",
       "      <th>tempo</th>\n",
       "      <td>-0.013492</td>\n",
       "      <td>-0.219139</td>\n",
       "      <td>-0.056531</td>\n",
       "      <td>-0.044273</td>\n",
       "      <td>0.252636</td>\n",
       "      <td>-0.098908</td>\n",
       "      <td>0.036799</td>\n",
       "      <td>0.223523</td>\n",
       "      <td>0.070902</td>\n",
       "      <td>1.000000</td>\n",
       "      <td>0.087825</td>\n",
       "    </tr>\n",
       "    <tr>\n",
       "      <th>valence</th>\n",
       "      <td>-0.001519</td>\n",
       "      <td>-0.227751</td>\n",
       "      <td>0.394929</td>\n",
       "      <td>-0.126941</td>\n",
       "      <td>0.352416</td>\n",
       "      <td>-0.261617</td>\n",
       "      <td>0.036728</td>\n",
       "      <td>0.288890</td>\n",
       "      <td>0.030633</td>\n",
       "      <td>0.087825</td>\n",
       "      <td>1.000000</td>\n",
       "    </tr>\n",
       "  </tbody>\n",
       "</table>\n",
       "</div>"
      ],
      "text/plain": [
       "                  instance_id  acousticness  danceability  duration_ms  \\\n",
       "instance_id          1.000000      0.008015     -0.003751    -0.000690   \n",
       "acousticness         0.008015      1.000000     -0.277278     0.046611   \n",
       "danceability        -0.003751     -0.277278      1.000000    -0.147165   \n",
       "duration_ms         -0.000690      0.046611     -0.147165     1.000000   \n",
       "energy              -0.000023     -0.768023      0.190018    -0.057272   \n",
       "instrumentalness     0.013131      0.319953     -0.254750     0.140804   \n",
       "liveness             0.002343     -0.092132     -0.079602     0.032868   \n",
       "loudness            -0.004044     -0.701738      0.320752    -0.099986   \n",
       "speechiness         -0.011820     -0.146232      0.256373    -0.082079   \n",
       "tempo               -0.013492     -0.219139     -0.056531    -0.044273   \n",
       "valence             -0.001519     -0.227751      0.394929    -0.126941   \n",
       "\n",
       "                    energy  instrumentalness  liveness  loudness  speechiness  \\\n",
       "instance_id      -0.000023          0.013131  0.002343 -0.004044    -0.011820   \n",
       "acousticness     -0.768023          0.319953 -0.092132 -0.701738    -0.146232   \n",
       "danceability      0.190018         -0.254750 -0.079602  0.320752     0.256373   \n",
       "duration_ms      -0.057272          0.140804  0.032868 -0.099986    -0.082079   \n",
       "energy            1.000000         -0.322271  0.178149  0.822903     0.154089   \n",
       "instrumentalness -0.322271          1.000000 -0.065338 -0.483099    -0.174781   \n",
       "liveness          0.178149         -0.065338  1.000000  0.110082     0.098825   \n",
       "loudness          0.822903         -0.483099  0.110082  1.000000     0.153210   \n",
       "speechiness       0.154089         -0.174781  0.098825  0.153210     1.000000   \n",
       "tempo             0.252636         -0.098908  0.036799  0.223523     0.070902   \n",
       "valence           0.352416         -0.261617  0.036728  0.288890     0.030633   \n",
       "\n",
       "                     tempo   valence  \n",
       "instance_id      -0.013492 -0.001519  \n",
       "acousticness     -0.219139 -0.227751  \n",
       "danceability     -0.056531  0.394929  \n",
       "duration_ms      -0.044273 -0.126941  \n",
       "energy            0.252636  0.352416  \n",
       "instrumentalness -0.098908 -0.261617  \n",
       "liveness          0.036799  0.036728  \n",
       "loudness          0.223523  0.288890  \n",
       "speechiness       0.070902  0.030633  \n",
       "tempo             1.000000  0.087825  \n",
       "valence           0.087825  1.000000  "
      ]
     },
     "execution_count": 45,
     "metadata": {},
     "output_type": "execute_result"
    }
   ],
   "source": [
    "data.corr()"
   ]
  },
  {
   "cell_type": "markdown",
   "id": "c80baecc-c3df-42cf-abbd-13ec159c42bb",
   "metadata": {},
   "source": [
    "замечаем что acousticness, energy и loudness сильно сорролирует между собой, поэтому нам следует рассмотреть возможность удаления хотя бы одной из переменных из полученной модели. попробуем удалить energy, потом energy и acousticness."
   ]
  },
  {
   "cell_type": "code",
   "execution_count": null,
   "id": "39302148-3556-4397-a1b7-7e1e4f7362a6",
   "metadata": {},
   "outputs": [],
   "source": []
  },
  {
   "cell_type": "markdown",
   "id": "5caf17da-603a-4c14-a7ed-8eb0a56f2477",
   "metadata": {},
   "source": [
    "# разработка новых синтетических признаков"
   ]
  },
  {
   "cell_type": "markdown",
   "id": "fcf2148c-fa84-4376-b70d-7250dc0c976c",
   "metadata": {},
   "source": [
    "первое дело нужно избавиться от ненужных столбцов."
   ]
  },
  {
   "cell_type": "code",
   "execution_count": 46,
   "id": "0358047e-6d31-4802-b6d2-f41ffbd98ca7",
   "metadata": {},
   "outputs": [],
   "source": [
    "data = data.drop(['instance_id'], axis=1)\n",
    "data = data.drop(['track_name'], axis=1)\n",
    "data = data.drop(['acousticness'], axis=1)\n",
    "data = data.drop(['loudness'], axis=1)"
   ]
  },
  {
   "cell_type": "markdown",
   "id": "bf6b1475-9123-4579-9b05-70977a627f3b",
   "metadata": {},
   "source": [
    "чтобы обучить класификатора нужно избавиться от катикорияльных переменных, а именно:key , mode , music_genre. для этого используем прямоe кодированиe потому-что оно подходить для всех класификаторов."
   ]
  },
  {
   "cell_type": "code",
   "execution_count": 47,
   "id": "abb8e668-cd92-4a69-a757-e624b807d811",
   "metadata": {},
   "outputs": [],
   "source": [
    "target = data['music_genre']\n",
    "features = data.drop('music_genre', axis=1)\n",
    "features_train, features_test, target_train, target_test = train_test_split(features, target, test_size=0.25)"
   ]
  },
  {
   "cell_type": "code",
   "execution_count": 48,
   "id": "dfc57d1b-1cff-45ff-97dd-c32c69debaa2",
   "metadata": {},
   "outputs": [
    {
     "name": "stdout",
     "output_type": "stream",
     "text": [
      "(13623, 11)\n",
      "(13623,)\n",
      "(4542, 11)\n",
      "(4542,)\n"
     ]
    }
   ],
   "source": [
    "print(features_train.shape)\n",
    "print(target_train.shape)\n",
    "print(features_test.shape)\n",
    "print(target_test.shape)"
   ]
  },
  {
   "cell_type": "code",
   "execution_count": 49,
   "id": "e5edcf66-a2f6-4bf5-b541-da8b9e10a477",
   "metadata": {},
   "outputs": [
    {
     "name": "stdout",
     "output_type": "stream",
     "text": [
      "['key', 'mode', 'obtained_date']\n"
     ]
    }
   ],
   "source": [
    "#категориальные признаки для OHE Ridge\n",
    "ohe_features_ridge = features_train.select_dtypes(include='object').columns.to_list()\n",
    "print(ohe_features_ridge)"
   ]
  },
  {
   "cell_type": "code",
   "execution_count": 50,
   "id": "f5bccf9f-9710-4f53-8366-c11832256510",
   "metadata": {},
   "outputs": [
    {
     "data": {
      "text/plain": [
       "['danceability',\n",
       " 'duration_ms',\n",
       " 'energy',\n",
       " 'instrumentalness',\n",
       " 'liveness',\n",
       " 'speechiness',\n",
       " 'tempo',\n",
       " 'valence']"
      ]
     },
     "execution_count": 50,
     "metadata": {},
     "output_type": "execute_result"
    }
   ],
   "source": [
    "#численные признаки\n",
    "num_features = features_train.select_dtypes(exclude='object').columns.to_list()\n",
    "num_features"
   ]
  },
  {
   "cell_type": "code",
   "execution_count": 51,
   "id": "056ad71f-2ca6-4bdb-877f-5d2848acdf71",
   "metadata": {
    "tags": []
   },
   "outputs": [
    {
     "data": {
      "text/html": [
       "<div>\n",
       "<style scoped>\n",
       "    .dataframe tbody tr th:only-of-type {\n",
       "        vertical-align: middle;\n",
       "    }\n",
       "\n",
       "    .dataframe tbody tr th {\n",
       "        vertical-align: top;\n",
       "    }\n",
       "\n",
       "    .dataframe thead th {\n",
       "        text-align: right;\n",
       "    }\n",
       "</style>\n",
       "<table border=\"1\" class=\"dataframe\">\n",
       "  <thead>\n",
       "    <tr style=\"text-align: right;\">\n",
       "      <th></th>\n",
       "      <th>danceability</th>\n",
       "      <th>duration_ms</th>\n",
       "      <th>energy</th>\n",
       "      <th>instrumentalness</th>\n",
       "      <th>liveness</th>\n",
       "      <th>speechiness</th>\n",
       "      <th>tempo</th>\n",
       "      <th>valence</th>\n",
       "      <th>key_A#</th>\n",
       "      <th>key_B</th>\n",
       "      <th>...</th>\n",
       "      <th>key_D#</th>\n",
       "      <th>key_E</th>\n",
       "      <th>key_F</th>\n",
       "      <th>key_F#</th>\n",
       "      <th>key_G</th>\n",
       "      <th>key_G#</th>\n",
       "      <th>mode_Minor</th>\n",
       "      <th>obtained_date_3-Apr</th>\n",
       "      <th>obtained_date_4-Apr</th>\n",
       "      <th>obtained_date_5-Apr</th>\n",
       "    </tr>\n",
       "  </thead>\n",
       "  <tbody>\n",
       "    <tr>\n",
       "      <th>4285</th>\n",
       "      <td>0.813853</td>\n",
       "      <td>-0.875159</td>\n",
       "      <td>-0.236439</td>\n",
       "      <td>-0.001681</td>\n",
       "      <td>-0.162496</td>\n",
       "      <td>0.287425</td>\n",
       "      <td>0.870661</td>\n",
       "      <td>0.217848</td>\n",
       "      <td>0.0</td>\n",
       "      <td>0.0</td>\n",
       "      <td>...</td>\n",
       "      <td>0.0</td>\n",
       "      <td>1.0</td>\n",
       "      <td>0.0</td>\n",
       "      <td>0.0</td>\n",
       "      <td>0.0</td>\n",
       "      <td>0.0</td>\n",
       "      <td>1.0</td>\n",
       "      <td>0.0</td>\n",
       "      <td>1.0</td>\n",
       "      <td>0.0</td>\n",
       "    </tr>\n",
       "    <tr>\n",
       "      <th>9692</th>\n",
       "      <td>-0.095238</td>\n",
       "      <td>-2.463796</td>\n",
       "      <td>0.709318</td>\n",
       "      <td>0.008697</td>\n",
       "      <td>0.441989</td>\n",
       "      <td>0.143713</td>\n",
       "      <td>-0.154767</td>\n",
       "      <td>0.196850</td>\n",
       "      <td>0.0</td>\n",
       "      <td>0.0</td>\n",
       "      <td>...</td>\n",
       "      <td>0.0</td>\n",
       "      <td>1.0</td>\n",
       "      <td>0.0</td>\n",
       "      <td>0.0</td>\n",
       "      <td>0.0</td>\n",
       "      <td>0.0</td>\n",
       "      <td>0.0</td>\n",
       "      <td>0.0</td>\n",
       "      <td>1.0</td>\n",
       "      <td>0.0</td>\n",
       "    </tr>\n",
       "    <tr>\n",
       "      <th>11814</th>\n",
       "      <td>0.398268</td>\n",
       "      <td>-0.260265</td>\n",
       "      <td>-0.759388</td>\n",
       "      <td>-0.001681</td>\n",
       "      <td>-0.090998</td>\n",
       "      <td>-0.424294</td>\n",
       "      <td>-0.450023</td>\n",
       "      <td>0.262467</td>\n",
       "      <td>1.0</td>\n",
       "      <td>0.0</td>\n",
       "      <td>...</td>\n",
       "      <td>0.0</td>\n",
       "      <td>0.0</td>\n",
       "      <td>0.0</td>\n",
       "      <td>0.0</td>\n",
       "      <td>0.0</td>\n",
       "      <td>0.0</td>\n",
       "      <td>0.0</td>\n",
       "      <td>0.0</td>\n",
       "      <td>1.0</td>\n",
       "      <td>0.0</td>\n",
       "    </tr>\n",
       "    <tr>\n",
       "      <th>3836</th>\n",
       "      <td>0.567100</td>\n",
       "      <td>-0.196711</td>\n",
       "      <td>-0.008345</td>\n",
       "      <td>-0.001681</td>\n",
       "      <td>-0.090998</td>\n",
       "      <td>0.485885</td>\n",
       "      <td>-0.106953</td>\n",
       "      <td>0.178478</td>\n",
       "      <td>0.0</td>\n",
       "      <td>1.0</td>\n",
       "      <td>...</td>\n",
       "      <td>0.0</td>\n",
       "      <td>0.0</td>\n",
       "      <td>0.0</td>\n",
       "      <td>0.0</td>\n",
       "      <td>0.0</td>\n",
       "      <td>0.0</td>\n",
       "      <td>1.0</td>\n",
       "      <td>0.0</td>\n",
       "      <td>1.0</td>\n",
       "      <td>0.0</td>\n",
       "    </tr>\n",
       "    <tr>\n",
       "      <th>9105</th>\n",
       "      <td>0.939394</td>\n",
       "      <td>-0.170673</td>\n",
       "      <td>0.239221</td>\n",
       "      <td>-0.001623</td>\n",
       "      <td>-0.273643</td>\n",
       "      <td>0.015398</td>\n",
       "      <td>-0.000935</td>\n",
       "      <td>0.530184</td>\n",
       "      <td>0.0</td>\n",
       "      <td>0.0</td>\n",
       "      <td>...</td>\n",
       "      <td>0.0</td>\n",
       "      <td>0.0</td>\n",
       "      <td>1.0</td>\n",
       "      <td>0.0</td>\n",
       "      <td>0.0</td>\n",
       "      <td>0.0</td>\n",
       "      <td>0.0</td>\n",
       "      <td>0.0</td>\n",
       "      <td>1.0</td>\n",
       "      <td>0.0</td>\n",
       "    </tr>\n",
       "  </tbody>\n",
       "</table>\n",
       "<p>5 rows × 23 columns</p>\n",
       "</div>"
      ],
      "text/plain": [
       "       danceability  duration_ms    energy  instrumentalness  liveness  \\\n",
       "4285       0.813853    -0.875159 -0.236439         -0.001681 -0.162496   \n",
       "9692      -0.095238    -2.463796  0.709318          0.008697  0.441989   \n",
       "11814      0.398268    -0.260265 -0.759388         -0.001681 -0.090998   \n",
       "3836       0.567100    -0.196711 -0.008345         -0.001681 -0.090998   \n",
       "9105       0.939394    -0.170673  0.239221         -0.001623 -0.273643   \n",
       "\n",
       "       speechiness     tempo   valence  key_A#  key_B  ...  key_D#  key_E  \\\n",
       "4285      0.287425  0.870661  0.217848     0.0    0.0  ...     0.0    1.0   \n",
       "9692      0.143713 -0.154767  0.196850     0.0    0.0  ...     0.0    1.0   \n",
       "11814    -0.424294 -0.450023  0.262467     1.0    0.0  ...     0.0    0.0   \n",
       "3836      0.485885 -0.106953  0.178478     0.0    1.0  ...     0.0    0.0   \n",
       "9105      0.015398 -0.000935  0.530184     0.0    0.0  ...     0.0    0.0   \n",
       "\n",
       "       key_F  key_F#  key_G  key_G#  mode_Minor  obtained_date_3-Apr  \\\n",
       "4285     0.0     0.0    0.0     0.0         1.0                  0.0   \n",
       "9692     0.0     0.0    0.0     0.0         0.0                  0.0   \n",
       "11814    0.0     0.0    0.0     0.0         0.0                  0.0   \n",
       "3836     0.0     0.0    0.0     0.0         1.0                  0.0   \n",
       "9105     1.0     0.0    0.0     0.0         0.0                  0.0   \n",
       "\n",
       "       obtained_date_4-Apr  obtained_date_5-Apr  \n",
       "4285                   1.0                  0.0  \n",
       "9692                   1.0                  0.0  \n",
       "11814                  1.0                  0.0  \n",
       "3836                   1.0                  0.0  \n",
       "9105                   1.0                  0.0  \n",
       "\n",
       "[5 rows x 23 columns]"
      ]
     },
     "execution_count": 51,
     "metadata": {},
     "output_type": "execute_result"
    }
   ],
   "source": [
    "# drop='first' удаляет первый признак из закодированных:\n",
    "# таким образом обходим dummy-ловушку\n",
    "# задаём handle_unknown='ignore':\n",
    "# игнорируется ранее невстречающиеся значения признака (при transform)\n",
    "encoder_ohe = OneHotEncoder(drop='first', handle_unknown='ignore', sparse=False)\n",
    "\n",
    "# обучаем энкодер на заданных категориальных признаках тренировочной выборки\n",
    "encoder_ohe.fit(features_train[ohe_features_ridge])\n",
    "\n",
    "# добавляем закодированные признаки в X_train_ohe\n",
    "# encoder_ohe.get_feature_names_out() позволяет получить названия колонок\n",
    "features_train[encoder_ohe.get_feature_names_out()] = encoder_ohe.transform(features_train[ohe_features_ridge])\n",
    "# удаляем незакодированные категориальные признаки (изначальные колонки)\n",
    "features_train = features_train.drop(ohe_features_ridge, axis=1)\n",
    "\n",
    "# создаём скелер\n",
    "# scaler = StandardScaler()\n",
    "scaler = RobustScaler()\n",
    "# # обучаем его на численных признаках тренировочной выборки, трансформируем её же\n",
    "features_train[num_features] = scaler.fit_transform(features_train[num_features])\n",
    "\n",
    "# смотрим на результат\n",
    "features_train.head()"
   ]
  },
  {
   "cell_type": "code",
   "execution_count": 53,
   "id": "5a76cc1b-b98d-4a63-9387-2eec2fef5d4d",
   "metadata": {},
   "outputs": [
    {
     "data": {
      "text/html": [
       "<div>\n",
       "<style scoped>\n",
       "    .dataframe tbody tr th:only-of-type {\n",
       "        vertical-align: middle;\n",
       "    }\n",
       "\n",
       "    .dataframe tbody tr th {\n",
       "        vertical-align: top;\n",
       "    }\n",
       "\n",
       "    .dataframe thead th {\n",
       "        text-align: right;\n",
       "    }\n",
       "</style>\n",
       "<table border=\"1\" class=\"dataframe\">\n",
       "  <thead>\n",
       "    <tr style=\"text-align: right;\">\n",
       "      <th></th>\n",
       "      <th>danceability</th>\n",
       "      <th>duration_ms</th>\n",
       "      <th>energy</th>\n",
       "      <th>instrumentalness</th>\n",
       "      <th>liveness</th>\n",
       "      <th>speechiness</th>\n",
       "      <th>tempo</th>\n",
       "      <th>valence</th>\n",
       "      <th>key_A#</th>\n",
       "      <th>key_B</th>\n",
       "      <th>...</th>\n",
       "      <th>key_D#</th>\n",
       "      <th>key_E</th>\n",
       "      <th>key_F</th>\n",
       "      <th>key_F#</th>\n",
       "      <th>key_G</th>\n",
       "      <th>key_G#</th>\n",
       "      <th>mode_Minor</th>\n",
       "      <th>obtained_date_3-Apr</th>\n",
       "      <th>obtained_date_4-Apr</th>\n",
       "      <th>obtained_date_5-Apr</th>\n",
       "    </tr>\n",
       "  </thead>\n",
       "  <tbody>\n",
       "    <tr>\n",
       "      <th>12483</th>\n",
       "      <td>-1.103896</td>\n",
       "      <td>0.545762</td>\n",
       "      <td>0.823366</td>\n",
       "      <td>-0.000301</td>\n",
       "      <td>1.351966</td>\n",
       "      <td>0.094098</td>\n",
       "      <td>1.320836</td>\n",
       "      <td>0.099738</td>\n",
       "      <td>0.0</td>\n",
       "      <td>0.0</td>\n",
       "      <td>...</td>\n",
       "      <td>0.0</td>\n",
       "      <td>0.0</td>\n",
       "      <td>0.0</td>\n",
       "      <td>0.0</td>\n",
       "      <td>1.0</td>\n",
       "      <td>0.0</td>\n",
       "      <td>0.0</td>\n",
       "      <td>0.0</td>\n",
       "      <td>1.0</td>\n",
       "      <td>0.0</td>\n",
       "    </tr>\n",
       "    <tr>\n",
       "      <th>9267</th>\n",
       "      <td>0.398268</td>\n",
       "      <td>0.274174</td>\n",
       "      <td>-0.433936</td>\n",
       "      <td>-0.001681</td>\n",
       "      <td>0.123497</td>\n",
       "      <td>8.337040</td>\n",
       "      <td>-0.738041</td>\n",
       "      <td>0.769029</td>\n",
       "      <td>0.0</td>\n",
       "      <td>0.0</td>\n",
       "      <td>...</td>\n",
       "      <td>0.0</td>\n",
       "      <td>0.0</td>\n",
       "      <td>0.0</td>\n",
       "      <td>0.0</td>\n",
       "      <td>0.0</td>\n",
       "      <td>0.0</td>\n",
       "      <td>0.0</td>\n",
       "      <td>0.0</td>\n",
       "      <td>1.0</td>\n",
       "      <td>0.0</td>\n",
       "    </tr>\n",
       "    <tr>\n",
       "      <th>17979</th>\n",
       "      <td>-0.181818</td>\n",
       "      <td>-2.463796</td>\n",
       "      <td>-1.549374</td>\n",
       "      <td>9.484567</td>\n",
       "      <td>-0.090998</td>\n",
       "      <td>-0.179641</td>\n",
       "      <td>-0.260220</td>\n",
       "      <td>0.682415</td>\n",
       "      <td>0.0</td>\n",
       "      <td>0.0</td>\n",
       "      <td>...</td>\n",
       "      <td>1.0</td>\n",
       "      <td>0.0</td>\n",
       "      <td>0.0</td>\n",
       "      <td>0.0</td>\n",
       "      <td>0.0</td>\n",
       "      <td>0.0</td>\n",
       "      <td>0.0</td>\n",
       "      <td>0.0</td>\n",
       "      <td>1.0</td>\n",
       "      <td>0.0</td>\n",
       "    </tr>\n",
       "    <tr>\n",
       "      <th>1485</th>\n",
       "      <td>0.229437</td>\n",
       "      <td>-0.313741</td>\n",
       "      <td>-0.336579</td>\n",
       "      <td>-0.001456</td>\n",
       "      <td>0.201495</td>\n",
       "      <td>0.590248</td>\n",
       "      <td>-0.868988</td>\n",
       "      <td>0.217848</td>\n",
       "      <td>0.0</td>\n",
       "      <td>0.0</td>\n",
       "      <td>...</td>\n",
       "      <td>0.0</td>\n",
       "      <td>0.0</td>\n",
       "      <td>0.0</td>\n",
       "      <td>1.0</td>\n",
       "      <td>0.0</td>\n",
       "      <td>0.0</td>\n",
       "      <td>0.0</td>\n",
       "      <td>0.0</td>\n",
       "      <td>1.0</td>\n",
       "      <td>0.0</td>\n",
       "    </tr>\n",
       "    <tr>\n",
       "      <th>6351</th>\n",
       "      <td>0.424242</td>\n",
       "      <td>-0.784077</td>\n",
       "      <td>-0.497914</td>\n",
       "      <td>-0.001657</td>\n",
       "      <td>-0.373091</td>\n",
       "      <td>0.196749</td>\n",
       "      <td>-0.018452</td>\n",
       "      <td>0.824147</td>\n",
       "      <td>0.0</td>\n",
       "      <td>0.0</td>\n",
       "      <td>...</td>\n",
       "      <td>0.0</td>\n",
       "      <td>1.0</td>\n",
       "      <td>0.0</td>\n",
       "      <td>0.0</td>\n",
       "      <td>0.0</td>\n",
       "      <td>0.0</td>\n",
       "      <td>1.0</td>\n",
       "      <td>0.0</td>\n",
       "      <td>1.0</td>\n",
       "      <td>0.0</td>\n",
       "    </tr>\n",
       "  </tbody>\n",
       "</table>\n",
       "<p>5 rows × 23 columns</p>\n",
       "</div>"
      ],
      "text/plain": [
       "       danceability  duration_ms    energy  instrumentalness  liveness  \\\n",
       "12483     -1.103896     0.545762  0.823366         -0.000301  1.351966   \n",
       "9267       0.398268     0.274174 -0.433936         -0.001681  0.123497   \n",
       "17979     -0.181818    -2.463796 -1.549374          9.484567 -0.090998   \n",
       "1485       0.229437    -0.313741 -0.336579         -0.001456  0.201495   \n",
       "6351       0.424242    -0.784077 -0.497914         -0.001657 -0.373091   \n",
       "\n",
       "       speechiness     tempo   valence  key_A#  key_B  ...  key_D#  key_E  \\\n",
       "12483     0.094098  1.320836  0.099738     0.0    0.0  ...     0.0    0.0   \n",
       "9267      8.337040 -0.738041  0.769029     0.0    0.0  ...     0.0    0.0   \n",
       "17979    -0.179641 -0.260220  0.682415     0.0    0.0  ...     1.0    0.0   \n",
       "1485      0.590248 -0.868988  0.217848     0.0    0.0  ...     0.0    0.0   \n",
       "6351      0.196749 -0.018452  0.824147     0.0    0.0  ...     0.0    1.0   \n",
       "\n",
       "       key_F  key_F#  key_G  key_G#  mode_Minor  obtained_date_3-Apr  \\\n",
       "12483    0.0     0.0    1.0     0.0         0.0                  0.0   \n",
       "9267     0.0     0.0    0.0     0.0         0.0                  0.0   \n",
       "17979    0.0     0.0    0.0     0.0         0.0                  0.0   \n",
       "1485     0.0     1.0    0.0     0.0         0.0                  0.0   \n",
       "6351     0.0     0.0    0.0     0.0         1.0                  0.0   \n",
       "\n",
       "       obtained_date_4-Apr  obtained_date_5-Apr  \n",
       "12483                  1.0                  0.0  \n",
       "9267                   1.0                  0.0  \n",
       "17979                  1.0                  0.0  \n",
       "1485                   1.0                  0.0  \n",
       "6351                   1.0                  0.0  \n",
       "\n",
       "[5 rows x 23 columns]"
      ]
     },
     "execution_count": 53,
     "metadata": {},
     "output_type": "execute_result"
    }
   ],
   "source": [
    "# энкодером, который обучен на ТРЕНИРОВОЧНОЙ ВЫБОРКЕ, кодируем тестовую\n",
    "features_test[encoder_ohe.get_feature_names_out()] = encoder_ohe.transform(features_test[ohe_features_ridge])\n",
    "\n",
    "features_test = features_test.drop(ohe_features_ridge, axis=1)\n",
    "\n",
    "# скелером, который обучен на ТРЕНИРОВОЧНОЙ ВЫБОРКЕ, масштабируем тестовую\n",
    "features_test[num_features] = scaler.transform(features_test[num_features])\n",
    "\n",
    "# смотрим на результат\n",
    "features_test.head()"
   ]
  },
  {
   "cell_type": "code",
   "execution_count": 54,
   "id": "085dfa28-9b54-4c88-bb55-c8586312296a",
   "metadata": {},
   "outputs": [],
   "source": [
    "recall_scorer = make_scorer(accuracy_score)"
   ]
  },
  {
   "cell_type": "markdown",
   "id": "ba80af3d-d923-4906-b6d6-5992be3f40f5",
   "metadata": {},
   "source": [
    "### модель дерево решений "
   ]
  },
  {
   "cell_type": "code",
   "execution_count": 55,
   "id": "22e1ed73-efaf-49e3-bf71-bd544ff2d5c1",
   "metadata": {},
   "outputs": [],
   "source": [
    "# for i in range(1, 20):\n",
    "#     model_DTC = DecisionTreeClassifier(max_depth=i, random_state=0, class_weight='balanced')\n",
    "#     scores = cross_val_score(model_DTC, features_train, target_train, cv=20, scoring=recall_scorer) \n",
    "#     final_score = scores.mean()\n",
    "#     print('Средняя оценка качества модели дерево решений при max_depth = ',i , ':', final_score)"
   ]
  },
  {
   "cell_type": "code",
   "execution_count": 56,
   "id": "9c0d5a81-85f1-40fe-8c43-3122d6431bdc",
   "metadata": {},
   "outputs": [],
   "source": [
    "# max_feat = [1, 2, 4, 6, 8, 10, 15, 20, 25, None]\n",
    "# for i in max_feat:\n",
    "#     model_DTC = DecisionTreeClassifier(max_depth=9, max_features=i, random_state=0, class_weight='balanced')\n",
    "#     scores = cross_val_score(model_DTC, features_train, target_train, cv=20, scoring=recall_scorer) \n",
    "#     final_score = scores.mean()\n",
    "#     print('Средняя оценка качества модели дерево решений при max_features = ',i , ':', final_score)"
   ]
  },
  {
   "cell_type": "code",
   "execution_count": 57,
   "id": "ea2307c6-9a60-40a2-83f6-9f58cd64b009",
   "metadata": {},
   "outputs": [],
   "source": [
    "# for i in range(2, 20):\n",
    "#     model_DTC = DecisionTreeClassifier(max_depth=9, max_features=15, max_leaf_nodes=i, random_state=0, class_weight='balanced')\n",
    "#     scores = cross_val_score(model_DTC, features_train, target_train, cv=20, scoring=recall_scorer) \n",
    "#     final_score = scores.mean()\n",
    "#     print('Средняя оценка качества модели дерево решений при max_leaf_nodes = ',i , ':', final_score)"
   ]
  },
  {
   "cell_type": "markdown",
   "id": "dddd96f3-8644-45ed-bd2a-88eb23f4143a",
   "metadata": {},
   "source": [
    "### случайный лес"
   ]
  },
  {
   "cell_type": "code",
   "execution_count": 58,
   "id": "a2323cc0-4ceb-4a60-9b26-0de829cda05c",
   "metadata": {},
   "outputs": [],
   "source": [
    "# for i in range(1, 20):\n",
    "#     model_RFC = RandomForestClassifier(n_estimators=i, random_state=0, class_weight='balanced')\n",
    "#     scores = cross_val_score(model_RFC, features_train, target_train, cv=20, scoring=recall_scorer) \n",
    "#     final_score = scores.mean()\n",
    "#     print('Средняя оценка качества модели случайного леса при n_estimators = ',i , ':', final_score)"
   ]
  },
  {
   "cell_type": "code",
   "execution_count": 59,
   "id": "5f535758-952b-4270-bdd5-b0d6171a355a",
   "metadata": {},
   "outputs": [],
   "source": [
    "# for i in range(1, 20):\n",
    "#     model_RFC = RandomForestClassifier(n_estimators=20, max_depth=i, random_state=0, class_weight='balanced')\n",
    "#     scores = cross_val_score(model_RFC, features_train, target_train, cv=20, scoring=recall_scorer) \n",
    "#     final_score = scores.mean()\n",
    "#     print('Средняя оценка качества модели случайного леса при max_depth = ',i , ':', final_score)"
   ]
  },
  {
   "cell_type": "code",
   "execution_count": 60,
   "id": "5c243465-3226-4240-bfb0-0af5672bbe2b",
   "metadata": {},
   "outputs": [],
   "source": [
    "# for i in range(2, 20):\n",
    "#     model_RFC = RandomForestClassifier(n_estimators=20, max_depth=17, max_leaf_nodes=i, random_state=0, class_weight='balanced')\n",
    "#     scores = cross_val_score(model_RFC, features_train, target_train, cv=20, scoring=recall_scorer) \n",
    "#     final_score = scores.mean()\n",
    "#     print('Средняя оценка качества модели случайного леса при max_leaf_nodes = ',i , ':', final_score)"
   ]
  },
  {
   "cell_type": "markdown",
   "id": "467d6faa-1a75-4a52-b097-a2595bdf8b32",
   "metadata": {},
   "source": [
    "### Логистическая регрессия"
   ]
  },
  {
   "cell_type": "code",
   "execution_count": 61,
   "id": "ca2650fb-89d1-4157-8b79-e76fd2c10ad2",
   "metadata": {},
   "outputs": [],
   "source": [
    "# for i in range(1, 20):\n",
    "#     model_LG = LogisticRegression(random_state=0, solver='liblinear', class_weight='balanced', max_iter=i*100)\n",
    "#     scores = cross_val_score(model_LG, features_train, target_train, cv=20, scoring=recall_scorer)\n",
    "#     final_score = scores.mean()\n",
    "#     print('Средняя оценка качества модели логистической регрессии приmax_iter =', i*100, ':', final_score)"
   ]
  },
  {
   "cell_type": "code",
   "execution_count": null,
   "id": "e37fcac7-944c-4046-9210-8dbe6e5139a3",
   "metadata": {},
   "outputs": [],
   "source": []
  },
  {
   "cell_type": "code",
   "execution_count": 62,
   "id": "835a251e-9d20-41d5-acde-be46bda9e5c7",
   "metadata": {},
   "outputs": [
    {
     "name": "stdout",
     "output_type": "stream",
     "text": [
      "0.45310435931307796\n"
     ]
    }
   ],
   "source": [
    "model = RandomForestClassifier(n_estimators=100, max_depth=17, random_state=0, class_weight='balanced')\n",
    "model.fit(features_train, target_train)\n",
    "predictions = model.predict(features_test) \n",
    "accuracy = accuracy_score(target_test, predictions) \n",
    "print(accuracy)"
   ]
  },
  {
   "cell_type": "code",
   "execution_count": 63,
   "id": "7b7d605c-998a-481f-a804-0ad5c6316a27",
   "metadata": {},
   "outputs": [],
   "source": [
    "target_train = data['music_genre']\n",
    "features_train = data.drop('music_genre', axis=1) "
   ]
  },
  {
   "cell_type": "code",
   "execution_count": 64,
   "id": "75f4988e-b06a-4def-8d06-6607cfb5f70b",
   "metadata": {},
   "outputs": [
    {
     "data": {
      "text/html": [
       "<div>\n",
       "<style scoped>\n",
       "    .dataframe tbody tr th:only-of-type {\n",
       "        vertical-align: middle;\n",
       "    }\n",
       "\n",
       "    .dataframe tbody tr th {\n",
       "        vertical-align: top;\n",
       "    }\n",
       "\n",
       "    .dataframe thead th {\n",
       "        text-align: right;\n",
       "    }\n",
       "</style>\n",
       "<table border=\"1\" class=\"dataframe\">\n",
       "  <thead>\n",
       "    <tr style=\"text-align: right;\">\n",
       "      <th></th>\n",
       "      <th>danceability</th>\n",
       "      <th>duration_ms</th>\n",
       "      <th>energy</th>\n",
       "      <th>instrumentalness</th>\n",
       "      <th>liveness</th>\n",
       "      <th>speechiness</th>\n",
       "      <th>tempo</th>\n",
       "      <th>valence</th>\n",
       "      <th>key_A#</th>\n",
       "      <th>key_B</th>\n",
       "      <th>...</th>\n",
       "      <th>key_D#</th>\n",
       "      <th>key_E</th>\n",
       "      <th>key_F</th>\n",
       "      <th>key_F#</th>\n",
       "      <th>key_G</th>\n",
       "      <th>key_G#</th>\n",
       "      <th>mode_Minor</th>\n",
       "      <th>obtained_date_3-Apr</th>\n",
       "      <th>obtained_date_4-Apr</th>\n",
       "      <th>obtained_date_5-Apr</th>\n",
       "    </tr>\n",
       "  </thead>\n",
       "  <tbody>\n",
       "    <tr>\n",
       "      <th>0</th>\n",
       "      <td>0.439655</td>\n",
       "      <td>-0.415231</td>\n",
       "      <td>-0.860274</td>\n",
       "      <td>0.179753</td>\n",
       "      <td>-0.096339</td>\n",
       "      <td>-0.041522</td>\n",
       "      <td>-0.404820</td>\n",
       "      <td>-0.015666</td>\n",
       "      <td>0.0</td>\n",
       "      <td>0.0</td>\n",
       "      <td>...</td>\n",
       "      <td>0.0</td>\n",
       "      <td>0.0</td>\n",
       "      <td>0.0</td>\n",
       "      <td>0.0</td>\n",
       "      <td>0.0</td>\n",
       "      <td>0.0</td>\n",
       "      <td>0.0</td>\n",
       "      <td>0.0</td>\n",
       "      <td>1.0</td>\n",
       "      <td>0.0</td>\n",
       "    </tr>\n",
       "    <tr>\n",
       "      <th>1</th>\n",
       "      <td>-0.500000</td>\n",
       "      <td>-0.365190</td>\n",
       "      <td>0.013699</td>\n",
       "      <td>-0.001167</td>\n",
       "      <td>-0.141297</td>\n",
       "      <td>-0.233564</td>\n",
       "      <td>-0.150854</td>\n",
       "      <td>0.216710</td>\n",
       "      <td>0.0</td>\n",
       "      <td>0.0</td>\n",
       "      <td>...</td>\n",
       "      <td>0.0</td>\n",
       "      <td>0.0</td>\n",
       "      <td>0.0</td>\n",
       "      <td>0.0</td>\n",
       "      <td>0.0</td>\n",
       "      <td>0.0</td>\n",
       "      <td>1.0</td>\n",
       "      <td>0.0</td>\n",
       "      <td>1.0</td>\n",
       "      <td>0.0</td>\n",
       "    </tr>\n",
       "    <tr>\n",
       "      <th>2</th>\n",
       "      <td>-0.491379</td>\n",
       "      <td>-0.518051</td>\n",
       "      <td>0.380822</td>\n",
       "      <td>-0.001691</td>\n",
       "      <td>0.327553</td>\n",
       "      <td>5.576125</td>\n",
       "      <td>-0.848212</td>\n",
       "      <td>-0.292428</td>\n",
       "      <td>0.0</td>\n",
       "      <td>0.0</td>\n",
       "      <td>...</td>\n",
       "      <td>0.0</td>\n",
       "      <td>1.0</td>\n",
       "      <td>0.0</td>\n",
       "      <td>0.0</td>\n",
       "      <td>0.0</td>\n",
       "      <td>0.0</td>\n",
       "      <td>1.0</td>\n",
       "      <td>0.0</td>\n",
       "      <td>1.0</td>\n",
       "      <td>0.0</td>\n",
       "    </tr>\n",
       "    <tr>\n",
       "      <th>3</th>\n",
       "      <td>1.202586</td>\n",
       "      <td>0.403905</td>\n",
       "      <td>0.569863</td>\n",
       "      <td>-0.001658</td>\n",
       "      <td>1.252408</td>\n",
       "      <td>0.548443</td>\n",
       "      <td>-0.087053</td>\n",
       "      <td>1.331593</td>\n",
       "      <td>0.0</td>\n",
       "      <td>0.0</td>\n",
       "      <td>...</td>\n",
       "      <td>0.0</td>\n",
       "      <td>0.0</td>\n",
       "      <td>0.0</td>\n",
       "      <td>0.0</td>\n",
       "      <td>0.0</td>\n",
       "      <td>1.0</td>\n",
       "      <td>1.0</td>\n",
       "      <td>0.0</td>\n",
       "      <td>1.0</td>\n",
       "      <td>0.0</td>\n",
       "    </tr>\n",
       "    <tr>\n",
       "      <th>4</th>\n",
       "      <td>0.750000</td>\n",
       "      <td>-0.273596</td>\n",
       "      <td>-0.246575</td>\n",
       "      <td>-0.001672</td>\n",
       "      <td>0.295440</td>\n",
       "      <td>0.000000</td>\n",
       "      <td>-0.945695</td>\n",
       "      <td>0.331593</td>\n",
       "      <td>0.0</td>\n",
       "      <td>0.0</td>\n",
       "      <td>...</td>\n",
       "      <td>0.0</td>\n",
       "      <td>0.0</td>\n",
       "      <td>0.0</td>\n",
       "      <td>0.0</td>\n",
       "      <td>0.0</td>\n",
       "      <td>0.0</td>\n",
       "      <td>0.0</td>\n",
       "      <td>0.0</td>\n",
       "      <td>1.0</td>\n",
       "      <td>0.0</td>\n",
       "    </tr>\n",
       "  </tbody>\n",
       "</table>\n",
       "<p>5 rows × 23 columns</p>\n",
       "</div>"
      ],
      "text/plain": [
       "   danceability  duration_ms    energy  instrumentalness  liveness  \\\n",
       "0      0.439655    -0.415231 -0.860274          0.179753 -0.096339   \n",
       "1     -0.500000    -0.365190  0.013699         -0.001167 -0.141297   \n",
       "2     -0.491379    -0.518051  0.380822         -0.001691  0.327553   \n",
       "3      1.202586     0.403905  0.569863         -0.001658  1.252408   \n",
       "4      0.750000    -0.273596 -0.246575         -0.001672  0.295440   \n",
       "\n",
       "   speechiness     tempo   valence  key_A#  key_B  ...  key_D#  key_E  key_F  \\\n",
       "0    -0.041522 -0.404820 -0.015666     0.0    0.0  ...     0.0    0.0    0.0   \n",
       "1    -0.233564 -0.150854  0.216710     0.0    0.0  ...     0.0    0.0    0.0   \n",
       "2     5.576125 -0.848212 -0.292428     0.0    0.0  ...     0.0    1.0    0.0   \n",
       "3     0.548443 -0.087053  1.331593     0.0    0.0  ...     0.0    0.0    0.0   \n",
       "4     0.000000 -0.945695  0.331593     0.0    0.0  ...     0.0    0.0    0.0   \n",
       "\n",
       "   key_F#  key_G  key_G#  mode_Minor  obtained_date_3-Apr  \\\n",
       "0     0.0    0.0     0.0         0.0                  0.0   \n",
       "1     0.0    0.0     0.0         1.0                  0.0   \n",
       "2     0.0    0.0     0.0         1.0                  0.0   \n",
       "3     0.0    0.0     1.0         1.0                  0.0   \n",
       "4     0.0    0.0     0.0         0.0                  0.0   \n",
       "\n",
       "   obtained_date_4-Apr  obtained_date_5-Apr  \n",
       "0                  1.0                  0.0  \n",
       "1                  1.0                  0.0  \n",
       "2                  1.0                  0.0  \n",
       "3                  1.0                  0.0  \n",
       "4                  1.0                  0.0  \n",
       "\n",
       "[5 rows x 23 columns]"
      ]
     },
     "execution_count": 64,
     "metadata": {},
     "output_type": "execute_result"
    }
   ],
   "source": [
    "# drop='first' удаляет первый признак из закодированных:\n",
    "# таким образом обходим dummy-ловушку\n",
    "# задаём handle_unknown='ignore':\n",
    "# игнорируется ранее невстречающиеся значения признака (при transform)\n",
    "encoder_ohe = OneHotEncoder(drop='first', handle_unknown='ignore', sparse=False)\n",
    "\n",
    "# обучаем энкодер на заданных категориальных признаках тренировочной выборки\n",
    "encoder_ohe.fit(features_train[ohe_features_ridge])\n",
    "\n",
    "# добавляем закодированные признаки в X_train_ohe\n",
    "# encoder_ohe.get_feature_names_out() позволяет получить названия колонок\n",
    "features_train[encoder_ohe.get_feature_names_out()] = encoder_ohe.transform(features_train[ohe_features_ridge])\n",
    "\n",
    "# удаляем незакодированные категориальные признаки (изначальные колонки)\n",
    "features_train = features_train.drop(ohe_features_ridge, axis=1)\n",
    "\n",
    "# создаём скелер\n",
    "scaler = RobustScaler()\n",
    "\n",
    "# # обучаем его на численных признаках тренировочной выборки, трансформируем её же\n",
    "features_train[num_features] = scaler.fit_transform(features_train[num_features])\n",
    "\n",
    "# смотрим на результат\n",
    "features_train.head()"
   ]
  },
  {
   "cell_type": "code",
   "execution_count": 65,
   "id": "ad757dd5-a774-4a7f-877f-ae22273e4e7b",
   "metadata": {},
   "outputs": [
    {
     "data": {
      "image/png": "[encoded data removed]",
      "text/plain": [
       "<Figure size 1080x1080 with 25 Axes>"
      ]
     },
     "metadata": {
      "needs_background": "light"
     },
     "output_type": "display_data"
    }
   ],
   "source": [
    "features_train.hist(figsize=(15, 15));"
   ]
  },
  {
   "cell_type": "markdown",
   "id": "6bf933ce-6f44-4130-aede-d9e1a52ef66b",
   "metadata": {},
   "source": [
    "замечаем что лучшая модель является RandomForestClassifier с гиперпараметрами n_estimators=100, max_depth=17, class_weight='balanced' так что исспольуем ее."
   ]
  },
  {
   "cell_type": "code",
   "execution_count": 66,
   "id": "4d72f4d8-e9de-44ef-acb6-f62913dcf762",
   "metadata": {},
   "outputs": [
    {
     "name": "stdout",
     "output_type": "stream",
     "text": [
      "0.9326287978863936\n"
     ]
    }
   ],
   "source": [
    "model = RandomForestClassifier(n_estimators=100, max_depth=17, random_state=0, class_weight='balanced')\n",
    "model.fit(features_train, target_train)\n",
    "predictions = model.predict(features_test) \n",
    "accuracy = accuracy_score(target_test, predictions) \n",
    "print(accuracy)"
   ]
  },
  {
   "cell_type": "code",
   "execution_count": 67,
   "id": "93240665-1869-4969-b8f0-03355ac9ec58",
   "metadata": {},
   "outputs": [],
   "source": [
    "data_test = pd.read_csv('kaggle_music_genre_test.csv')"
   ]
  },
  {
   "cell_type": "code",
   "execution_count": 68,
   "id": "a4d4d911-74cd-4604-b862-dd761fe0a915",
   "metadata": {},
   "outputs": [],
   "source": [
    "data_test = data_test.drop(['instance_id'], axis=1)\n",
    "data_test = data_test.drop(['track_name'], axis=1)\n",
    "data_test = data_test.drop('acousticness', axis=1) \n",
    "data_test = data_test.drop(['loudness'], axis=1)"
   ]
  },
  {
   "cell_type": "code",
   "execution_count": 69,
   "id": "775e5afe-e24c-4750-96d7-eaf618ef81fd",
   "metadata": {},
   "outputs": [],
   "source": [
    "data_test['tempo'] = data_test['tempo'].fillna(data_test['tempo'].median())"
   ]
  },
  {
   "cell_type": "code",
   "execution_count": 70,
   "id": "87ed19b7-c945-45f4-9ce1-7ff4db879863",
   "metadata": {},
   "outputs": [
    {
     "name": "stderr",
     "output_type": "stream",
     "text": [
      "C:\\Users\\firas\\anaconda3\\envs\\reasearch_1\\lib\\site-packages\\sklearn\\preprocessing\\_encoders.py:170: UserWarning: Found unknown categories in columns [0, 1] during transform. These unknown categories will be encoded as all zeros\n",
      "  warnings.warn(\n"
     ]
    },
    {
     "data": {
      "text/html": [
       "<div>\n",
       "<style scoped>\n",
       "    .dataframe tbody tr th:only-of-type {\n",
       "        vertical-align: middle;\n",
       "    }\n",
       "\n",
       "    .dataframe tbody tr th {\n",
       "        vertical-align: top;\n",
       "    }\n",
       "\n",
       "    .dataframe thead th {\n",
       "        text-align: right;\n",
       "    }\n",
       "</style>\n",
       "<table border=\"1\" class=\"dataframe\">\n",
       "  <thead>\n",
       "    <tr style=\"text-align: right;\">\n",
       "      <th></th>\n",
       "      <th>danceability</th>\n",
       "      <th>duration_ms</th>\n",
       "      <th>energy</th>\n",
       "      <th>instrumentalness</th>\n",
       "      <th>liveness</th>\n",
       "      <th>speechiness</th>\n",
       "      <th>tempo</th>\n",
       "      <th>valence</th>\n",
       "      <th>key_A#</th>\n",
       "      <th>key_B</th>\n",
       "      <th>...</th>\n",
       "      <th>key_D#</th>\n",
       "      <th>key_E</th>\n",
       "      <th>key_F</th>\n",
       "      <th>key_F#</th>\n",
       "      <th>key_G</th>\n",
       "      <th>key_G#</th>\n",
       "      <th>mode_Minor</th>\n",
       "      <th>obtained_date_3-Apr</th>\n",
       "      <th>obtained_date_4-Apr</th>\n",
       "      <th>obtained_date_5-Apr</th>\n",
       "    </tr>\n",
       "  </thead>\n",
       "  <tbody>\n",
       "    <tr>\n",
       "      <th>0</th>\n",
       "      <td>0.814655</td>\n",
       "      <td>-0.822264</td>\n",
       "      <td>0.038356</td>\n",
       "      <td>-0.001691</td>\n",
       "      <td>1.111111</td>\n",
       "      <td>5.316609</td>\n",
       "      <td>-0.644357</td>\n",
       "      <td>1.146214</td>\n",
       "      <td>1.0</td>\n",
       "      <td>0.0</td>\n",
       "      <td>...</td>\n",
       "      <td>0.0</td>\n",
       "      <td>0.0</td>\n",
       "      <td>0.0</td>\n",
       "      <td>0.0</td>\n",
       "      <td>0.0</td>\n",
       "      <td>0.0</td>\n",
       "      <td>1.0</td>\n",
       "      <td>0.0</td>\n",
       "      <td>1.0</td>\n",
       "      <td>0.0</td>\n",
       "    </tr>\n",
       "    <tr>\n",
       "      <th>1</th>\n",
       "      <td>-1.344828</td>\n",
       "      <td>0.229352</td>\n",
       "      <td>-0.389041</td>\n",
       "      <td>0.084082</td>\n",
       "      <td>-0.289660</td>\n",
       "      <td>-0.333910</td>\n",
       "      <td>-0.904603</td>\n",
       "      <td>-0.360313</td>\n",
       "      <td>0.0</td>\n",
       "      <td>0.0</td>\n",
       "      <td>...</td>\n",
       "      <td>0.0</td>\n",
       "      <td>0.0</td>\n",
       "      <td>0.0</td>\n",
       "      <td>0.0</td>\n",
       "      <td>0.0</td>\n",
       "      <td>1.0</td>\n",
       "      <td>0.0</td>\n",
       "      <td>0.0</td>\n",
       "      <td>1.0</td>\n",
       "      <td>0.0</td>\n",
       "    </tr>\n",
       "    <tr>\n",
       "      <th>2</th>\n",
       "      <td>0.474138</td>\n",
       "      <td>0.716809</td>\n",
       "      <td>0.287671</td>\n",
       "      <td>-0.001691</td>\n",
       "      <td>-0.134875</td>\n",
       "      <td>2.998270</td>\n",
       "      <td>-0.652201</td>\n",
       "      <td>-0.114883</td>\n",
       "      <td>0.0</td>\n",
       "      <td>0.0</td>\n",
       "      <td>...</td>\n",
       "      <td>0.0</td>\n",
       "      <td>0.0</td>\n",
       "      <td>0.0</td>\n",
       "      <td>0.0</td>\n",
       "      <td>0.0</td>\n",
       "      <td>0.0</td>\n",
       "      <td>1.0</td>\n",
       "      <td>0.0</td>\n",
       "      <td>1.0</td>\n",
       "      <td>0.0</td>\n",
       "    </tr>\n",
       "    <tr>\n",
       "      <th>3</th>\n",
       "      <td>0.103448</td>\n",
       "      <td>-0.474421</td>\n",
       "      <td>0.230137</td>\n",
       "      <td>-0.001691</td>\n",
       "      <td>-0.051381</td>\n",
       "      <td>-0.006920</td>\n",
       "      <td>0.869942</td>\n",
       "      <td>0.412533</td>\n",
       "      <td>0.0</td>\n",
       "      <td>1.0</td>\n",
       "      <td>...</td>\n",
       "      <td>0.0</td>\n",
       "      <td>0.0</td>\n",
       "      <td>0.0</td>\n",
       "      <td>0.0</td>\n",
       "      <td>0.0</td>\n",
       "      <td>0.0</td>\n",
       "      <td>0.0</td>\n",
       "      <td>0.0</td>\n",
       "      <td>1.0</td>\n",
       "      <td>0.0</td>\n",
       "    </tr>\n",
       "    <tr>\n",
       "      <th>4</th>\n",
       "      <td>-0.633621</td>\n",
       "      <td>-2.455465</td>\n",
       "      <td>-0.597260</td>\n",
       "      <td>0.150887</td>\n",
       "      <td>-0.594733</td>\n",
       "      <td>2.652249</td>\n",
       "      <td>-1.003586</td>\n",
       "      <td>-0.874674</td>\n",
       "      <td>0.0</td>\n",
       "      <td>0.0</td>\n",
       "      <td>...</td>\n",
       "      <td>0.0</td>\n",
       "      <td>0.0</td>\n",
       "      <td>0.0</td>\n",
       "      <td>0.0</td>\n",
       "      <td>0.0</td>\n",
       "      <td>0.0</td>\n",
       "      <td>0.0</td>\n",
       "      <td>0.0</td>\n",
       "      <td>1.0</td>\n",
       "      <td>0.0</td>\n",
       "    </tr>\n",
       "  </tbody>\n",
       "</table>\n",
       "<p>5 rows × 23 columns</p>\n",
       "</div>"
      ],
      "text/plain": [
       "   danceability  duration_ms    energy  instrumentalness  liveness  \\\n",
       "0      0.814655    -0.822264  0.038356         -0.001691  1.111111   \n",
       "1     -1.344828     0.229352 -0.389041          0.084082 -0.289660   \n",
       "2      0.474138     0.716809  0.287671         -0.001691 -0.134875   \n",
       "3      0.103448    -0.474421  0.230137         -0.001691 -0.051381   \n",
       "4     -0.633621    -2.455465 -0.597260          0.150887 -0.594733   \n",
       "\n",
       "   speechiness     tempo   valence  key_A#  key_B  ...  key_D#  key_E  key_F  \\\n",
       "0     5.316609 -0.644357  1.146214     1.0    0.0  ...     0.0    0.0    0.0   \n",
       "1    -0.333910 -0.904603 -0.360313     0.0    0.0  ...     0.0    0.0    0.0   \n",
       "2     2.998270 -0.652201 -0.114883     0.0    0.0  ...     0.0    0.0    0.0   \n",
       "3    -0.006920  0.869942  0.412533     0.0    1.0  ...     0.0    0.0    0.0   \n",
       "4     2.652249 -1.003586 -0.874674     0.0    0.0  ...     0.0    0.0    0.0   \n",
       "\n",
       "   key_F#  key_G  key_G#  mode_Minor  obtained_date_3-Apr  \\\n",
       "0     0.0    0.0     0.0         1.0                  0.0   \n",
       "1     0.0    0.0     1.0         0.0                  0.0   \n",
       "2     0.0    0.0     0.0         1.0                  0.0   \n",
       "3     0.0    0.0     0.0         0.0                  0.0   \n",
       "4     0.0    0.0     0.0         0.0                  0.0   \n",
       "\n",
       "   obtained_date_4-Apr  obtained_date_5-Apr  \n",
       "0                  1.0                  0.0  \n",
       "1                  1.0                  0.0  \n",
       "2                  1.0                  0.0  \n",
       "3                  1.0                  0.0  \n",
       "4                  1.0                  0.0  \n",
       "\n",
       "[5 rows x 23 columns]"
      ]
     },
     "execution_count": 70,
     "metadata": {},
     "output_type": "execute_result"
    }
   ],
   "source": [
    "data_test[encoder_ohe.get_feature_names_out()] = encoder_ohe.transform(data_test[ohe_features_ridge])\n",
    "\n",
    "data_test = data_test.drop(ohe_features_ridge, axis=1)\n",
    "\n",
    "# скелером, который обучен на ТРЕНИРОВОЧНОЙ ВЫБОРКЕ, масштабируем тестовую\n",
    "data_test[num_features] = scaler.transform(data_test[num_features])\n",
    "\n",
    "# смотрим на результат\n",
    "data_test.head()"
   ]
  },
  {
   "cell_type": "code",
   "execution_count": 71,
   "id": "406b4017-f1e2-486a-bb28-a572def5d5de",
   "metadata": {},
   "outputs": [],
   "source": [
    "predictions = model.predict(data_test) "
   ]
  },
  {
   "cell_type": "code",
   "execution_count": 72,
   "id": "0ba08410-19fb-450a-be86-97d9b8488bbc",
   "metadata": {},
   "outputs": [],
   "source": [
    "data_test = pd.read_csv('kaggle_music_genre_test.csv')"
   ]
  },
  {
   "cell_type": "code",
   "execution_count": 73,
   "id": "dc748785-15ca-462b-888c-0ba4a5bb295f",
   "metadata": {},
   "outputs": [],
   "source": [
    "data_submit = pd.DataFrame({'instance_id':data_test['instance_id'],\n",
    "                           'music_genre':predictions})"
   ]
  },
  {
   "cell_type": "code",
   "execution_count": 74,
   "id": "94559910-2e1c-4cb5-878e-56a6249275a2",
   "metadata": {},
   "outputs": [],
   "source": [
    "data_submit.to_csv('data_submit.csv', index=False)"
   ]
  },
  {
   "cell_type": "markdown",
   "id": "04d67bc6-0d7b-4acf-9ea7-485ae6336243",
   "metadata": {},
   "source": [
    "# заключение"
   ]
  },
  {
   "cell_type": "markdown",
   "id": "20c0d0cf-13d3-4604-b931-c01f980f8c00",
   "metadata": {},
   "source": [
    "Сервис \"МиФаСоль\" расширяет работу с новыми артистами и музыкантами, в связи с чем возникла задача -- правильно классифицировать новые музыкальные треки, чтобы улучшить работу рекомендательной системы. имеется датасет, в котором собраны некоторые характеристики музыкальных произведений и их жанры. задача -- разработать модель, позволяющую классифицировать музыкальные произведения по жанрам.\n",
    "задача выполнена, разработанная модель RandomForestClassifier с гиперпараметрами n_estimators=100, max_depth=17, class_weight='balanced' выдаля точность 0,46 на обучаюшую выборку\n",
    "\n",
    "шаги выпольнения работы:\n",
    "\n",
    " - [x] загрузка и ознакомление с данными,\n",
    "- [x] предварительная обработка,\n",
    "    - [x] устранения пропусков,\n",
    "    - [x] проверить наличия явных и неявных дубликатов,\n",
    "    - [x] переоброзовать типы данных\n",
    "- [x] полноценный разведочный анализ,\n",
    "- [x] разработка новых синтетических признаков,\n",
    "- [x] проверка на мультиколлинеарность,\n",
    "- [x] отбор финального набора обучающих признаков,\n",
    "- [x] выбор и обучение моделей,\n",
    "- [x] итоговая оценка качества предсказания лучшей модели,"
   ]
  },
  {
   "cell_type": "code",
   "execution_count": null,
   "id": "bbef4b5c-8ec0-4749-8b9c-8a13be064c39",
   "metadata": {},
   "outputs": [],
   "source": []
  }
 ],
 "metadata": {
  "kernelspec": {
   "display_name": "Python 3 (ipykernel)",
   "language": "python",
   "name": "python3"
  },
  "language_info": {
   "codemirror_mode": {
    "name": "ipython",
    "version": 3
   },
   "file_extension": ".py",
   "mimetype": "text/x-python",
   "name": "python",
   "nbconvert_exporter": "python",
   "pygments_lexer": "ipython3",
   "version": "3.9.12"
  },
  "toc-autonumbering": true
 },
 "nbformat": 4,
 "nbformat_minor": 5
}
