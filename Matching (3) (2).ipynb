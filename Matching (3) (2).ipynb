{
 "cells": [
  {
   "cell_type": "code",
   "execution_count": 1,
   "id": "9c692719-2758-4249-beee-cdf366159ba4",
   "metadata": {},
   "outputs": [],
   "source": [
    "import numpy as np\n",
    "import pandas as pd\n",
    "import matplotlib.pyplot as plt\n",
    "from sklearn.datasets import make_classification\n",
    "from sklearn.cluster import KMeans\n",
    "from sklearn.metrics import davies_bouldin_score, silhouette_score\n",
    "from sklearn.neighbors import KNeighborsClassifier\n",
    "from sklearn.metrics import accuracy_score\n",
    "from sklearn.preprocessing import RobustScaler, StandardScaler\n",
    "\n",
    "import faiss"
   ]
  },
  {
   "cell_type": "code",
   "execution_count": 2,
   "id": "f717d4ed-d0ae-4040-b898-c6ad1b57ddd5",
   "metadata": {},
   "outputs": [],
   "source": [
    "data_base = pd.read_csv('base.csv', index_col=0)"
   ]
  },
  {
   "cell_type": "code",
   "execution_count": 3,
   "id": "00c88c86-e2a7-487f-9c60-d7c0e74a86ba",
   "metadata": {},
   "outputs": [],
   "source": [
    "data_train = pd.read_csv('train.csv', index_col=0)"
   ]
  },
  {
   "cell_type": "code",
   "execution_count": 4,
   "id": "5ad3f951-3f63-49df-bd36-a0a7b294a4ec",
   "metadata": {},
   "outputs": [],
   "source": [
    "data_validation = pd.read_csv('validation.csv', index_col=0)"
   ]
  },
  {
   "cell_type": "code",
   "execution_count": 5,
   "id": "67a6ff0e-5430-4223-a235-9c1d3ded5df2",
   "metadata": {},
   "outputs": [],
   "source": [
    "data_validation_answer = pd.read_csv('validation_answer.csv', index_col=0)"
   ]
  },
  {
   "cell_type": "code",
   "execution_count": 24,
   "id": "beabcd6c-5570-454e-ba19-583ce6f9b685",
   "metadata": {
    "collapsed": true,
    "jupyter": {
     "outputs_hidden": true
    },
    "tags": []
   },
   "outputs": [
    {
     "name": "stdout",
     "output_type": "stream",
     "text": [
      "<class 'pandas.core.frame.DataFrame'>\n",
      "Index: 2918139 entries, 0-base to 4744766-base\n",
      "Data columns (total 72 columns):\n",
      " #   Column  Dtype  \n",
      "---  ------  -----  \n",
      " 0   0       float64\n",
      " 1   1       float64\n",
      " 2   2       float64\n",
      " 3   3       float64\n",
      " 4   4       float64\n",
      " 5   5       float64\n",
      " 6   6       float64\n",
      " 7   7       float64\n",
      " 8   8       float64\n",
      " 9   9       float64\n",
      " 10  10      float64\n",
      " 11  11      float64\n",
      " 12  12      float64\n",
      " 13  13      float64\n",
      " 14  14      float64\n",
      " 15  15      float64\n",
      " 16  16      float64\n",
      " 17  17      float64\n",
      " 18  18      float64\n",
      " 19  19      float64\n",
      " 20  20      float64\n",
      " 21  21      float64\n",
      " 22  22      float64\n",
      " 23  23      float64\n",
      " 24  24      float64\n",
      " 25  25      float64\n",
      " 26  26      float64\n",
      " 27  27      float64\n",
      " 28  28      float64\n",
      " 29  29      float64\n",
      " 30  30      float64\n",
      " 31  31      float64\n",
      " 32  32      float64\n",
      " 33  33      float64\n",
      " 34  34      float64\n",
      " 35  35      float64\n",
      " 36  36      float64\n",
      " 37  37      float64\n",
      " 38  38      float64\n",
      " 39  39      float64\n",
      " 40  40      float64\n",
      " 41  41      float64\n",
      " 42  42      float64\n",
      " 43  43      float64\n",
      " 44  44      float64\n",
      " 45  45      float64\n",
      " 46  46      float64\n",
      " 47  47      float64\n",
      " 48  48      float64\n",
      " 49  49      float64\n",
      " 50  50      float64\n",
      " 51  51      float64\n",
      " 52  52      float64\n",
      " 53  53      float64\n",
      " 54  54      float64\n",
      " 55  55      float64\n",
      " 56  56      float64\n",
      " 57  57      float64\n",
      " 58  58      float64\n",
      " 59  59      float64\n",
      " 60  60      float64\n",
      " 61  61      float64\n",
      " 62  62      float64\n",
      " 63  63      float64\n",
      " 64  64      float64\n",
      " 65  65      float64\n",
      " 66  66      float64\n",
      " 67  67      float64\n",
      " 68  68      float64\n",
      " 69  69      float64\n",
      " 70  70      float64\n",
      " 71  71      float64\n",
      "dtypes: float64(72)\n",
      "memory usage: 1.6+ GB\n"
     ]
    }
   ],
   "source": [
    "data_base.info()"
   ]
  },
  {
   "cell_type": "code",
   "execution_count": 25,
   "id": "e9007c31-1eff-4645-b99b-c6b50a177007",
   "metadata": {
    "collapsed": true,
    "jupyter": {
     "outputs_hidden": true
    },
    "tags": []
   },
   "outputs": [
    {
     "name": "stdout",
     "output_type": "stream",
     "text": [
      "<class 'pandas.core.frame.DataFrame'>\n",
      "Index: 100000 entries, 0-query to 99999-query\n",
      "Data columns (total 73 columns):\n",
      " #   Column  Non-Null Count   Dtype  \n",
      "---  ------  --------------   -----  \n",
      " 0   0       100000 non-null  float64\n",
      " 1   1       100000 non-null  float64\n",
      " 2   2       100000 non-null  float64\n",
      " 3   3       100000 non-null  float64\n",
      " 4   4       100000 non-null  float64\n",
      " 5   5       100000 non-null  float64\n",
      " 6   6       100000 non-null  float64\n",
      " 7   7       100000 non-null  float64\n",
      " 8   8       100000 non-null  float64\n",
      " 9   9       100000 non-null  float64\n",
      " 10  10      100000 non-null  float64\n",
      " 11  11      100000 non-null  float64\n",
      " 12  12      100000 non-null  float64\n",
      " 13  13      100000 non-null  float64\n",
      " 14  14      100000 non-null  float64\n",
      " 15  15      100000 non-null  float64\n",
      " 16  16      100000 non-null  float64\n",
      " 17  17      100000 non-null  float64\n",
      " 18  18      100000 non-null  float64\n",
      " 19  19      100000 non-null  float64\n",
      " 20  20      100000 non-null  float64\n",
      " 21  21      100000 non-null  float64\n",
      " 22  22      100000 non-null  float64\n",
      " 23  23      100000 non-null  float64\n",
      " 24  24      100000 non-null  float64\n",
      " 25  25      100000 non-null  float64\n",
      " 26  26      100000 non-null  float64\n",
      " 27  27      100000 non-null  float64\n",
      " 28  28      100000 non-null  float64\n",
      " 29  29      100000 non-null  float64\n",
      " 30  30      100000 non-null  float64\n",
      " 31  31      100000 non-null  float64\n",
      " 32  32      100000 non-null  float64\n",
      " 33  33      100000 non-null  float64\n",
      " 34  34      100000 non-null  float64\n",
      " 35  35      100000 non-null  float64\n",
      " 36  36      100000 non-null  float64\n",
      " 37  37      100000 non-null  float64\n",
      " 38  38      100000 non-null  float64\n",
      " 39  39      100000 non-null  float64\n",
      " 40  40      100000 non-null  float64\n",
      " 41  41      100000 non-null  float64\n",
      " 42  42      100000 non-null  float64\n",
      " 43  43      100000 non-null  float64\n",
      " 44  44      100000 non-null  float64\n",
      " 45  45      100000 non-null  float64\n",
      " 46  46      100000 non-null  float64\n",
      " 47  47      100000 non-null  float64\n",
      " 48  48      100000 non-null  float64\n",
      " 49  49      100000 non-null  float64\n",
      " 50  50      100000 non-null  float64\n",
      " 51  51      100000 non-null  float64\n",
      " 52  52      100000 non-null  float64\n",
      " 53  53      100000 non-null  float64\n",
      " 54  54      100000 non-null  float64\n",
      " 55  55      100000 non-null  float64\n",
      " 56  56      100000 non-null  float64\n",
      " 57  57      100000 non-null  float64\n",
      " 58  58      100000 non-null  float64\n",
      " 59  59      100000 non-null  float64\n",
      " 60  60      100000 non-null  float64\n",
      " 61  61      100000 non-null  float64\n",
      " 62  62      100000 non-null  float64\n",
      " 63  63      100000 non-null  float64\n",
      " 64  64      100000 non-null  float64\n",
      " 65  65      100000 non-null  float64\n",
      " 66  66      100000 non-null  float64\n",
      " 67  67      100000 non-null  float64\n",
      " 68  68      100000 non-null  float64\n",
      " 69  69      100000 non-null  float64\n",
      " 70  70      100000 non-null  float64\n",
      " 71  71      100000 non-null  float64\n",
      " 72  Target  100000 non-null  object \n",
      "dtypes: float64(72), object(1)\n",
      "memory usage: 58.5+ MB\n"
     ]
    }
   ],
   "source": [
    "data_train.info()"
   ]
  },
  {
   "cell_type": "code",
   "execution_count": 26,
   "id": "98aa03f3-4028-4216-ab88-d4011d2d6ff5",
   "metadata": {
    "collapsed": true,
    "jupyter": {
     "outputs_hidden": true
    },
    "tags": []
   },
   "outputs": [
    {
     "name": "stdout",
     "output_type": "stream",
     "text": [
      "<class 'pandas.core.frame.DataFrame'>\n",
      "Index: 100000 entries, 100000-query to 199999-query\n",
      "Data columns (total 72 columns):\n",
      " #   Column  Non-Null Count   Dtype  \n",
      "---  ------  --------------   -----  \n",
      " 0   0       100000 non-null  float64\n",
      " 1   1       100000 non-null  float64\n",
      " 2   2       100000 non-null  float64\n",
      " 3   3       100000 non-null  float64\n",
      " 4   4       100000 non-null  float64\n",
      " 5   5       100000 non-null  float64\n",
      " 6   6       100000 non-null  float64\n",
      " 7   7       100000 non-null  float64\n",
      " 8   8       100000 non-null  float64\n",
      " 9   9       100000 non-null  float64\n",
      " 10  10      100000 non-null  float64\n",
      " 11  11      100000 non-null  float64\n",
      " 12  12      100000 non-null  float64\n",
      " 13  13      100000 non-null  float64\n",
      " 14  14      100000 non-null  float64\n",
      " 15  15      100000 non-null  float64\n",
      " 16  16      100000 non-null  float64\n",
      " 17  17      100000 non-null  float64\n",
      " 18  18      100000 non-null  float64\n",
      " 19  19      100000 non-null  float64\n",
      " 20  20      100000 non-null  float64\n",
      " 21  21      100000 non-null  float64\n",
      " 22  22      100000 non-null  float64\n",
      " 23  23      100000 non-null  float64\n",
      " 24  24      100000 non-null  float64\n",
      " 25  25      100000 non-null  float64\n",
      " 26  26      100000 non-null  float64\n",
      " 27  27      100000 non-null  float64\n",
      " 28  28      100000 non-null  float64\n",
      " 29  29      100000 non-null  float64\n",
      " 30  30      100000 non-null  float64\n",
      " 31  31      100000 non-null  float64\n",
      " 32  32      100000 non-null  float64\n",
      " 33  33      100000 non-null  float64\n",
      " 34  34      100000 non-null  float64\n",
      " 35  35      100000 non-null  float64\n",
      " 36  36      100000 non-null  float64\n",
      " 37  37      100000 non-null  float64\n",
      " 38  38      100000 non-null  float64\n",
      " 39  39      100000 non-null  float64\n",
      " 40  40      100000 non-null  float64\n",
      " 41  41      100000 non-null  float64\n",
      " 42  42      100000 non-null  float64\n",
      " 43  43      100000 non-null  float64\n",
      " 44  44      100000 non-null  float64\n",
      " 45  45      100000 non-null  float64\n",
      " 46  46      100000 non-null  float64\n",
      " 47  47      100000 non-null  float64\n",
      " 48  48      100000 non-null  float64\n",
      " 49  49      100000 non-null  float64\n",
      " 50  50      100000 non-null  float64\n",
      " 51  51      100000 non-null  float64\n",
      " 52  52      100000 non-null  float64\n",
      " 53  53      100000 non-null  float64\n",
      " 54  54      100000 non-null  float64\n",
      " 55  55      100000 non-null  float64\n",
      " 56  56      100000 non-null  float64\n",
      " 57  57      100000 non-null  float64\n",
      " 58  58      100000 non-null  float64\n",
      " 59  59      100000 non-null  float64\n",
      " 60  60      100000 non-null  float64\n",
      " 61  61      100000 non-null  float64\n",
      " 62  62      100000 non-null  float64\n",
      " 63  63      100000 non-null  float64\n",
      " 64  64      100000 non-null  float64\n",
      " 65  65      100000 non-null  float64\n",
      " 66  66      100000 non-null  float64\n",
      " 67  67      100000 non-null  float64\n",
      " 68  68      100000 non-null  float64\n",
      " 69  69      100000 non-null  float64\n",
      " 70  70      100000 non-null  float64\n",
      " 71  71      100000 non-null  float64\n",
      "dtypes: float64(72)\n",
      "memory usage: 55.7+ MB\n"
     ]
    }
   ],
   "source": [
    "data_validation.info()"
   ]
  },
  {
   "cell_type": "code",
   "execution_count": 27,
   "id": "7f1ad9f3-dbb1-481d-ba97-3e2355cb19e5",
   "metadata": {},
   "outputs": [
    {
     "name": "stdout",
     "output_type": "stream",
     "text": [
      "<class 'pandas.core.frame.DataFrame'>\n",
      "Index: 100000 entries, 100000-query to 199999-query\n",
      "Data columns (total 1 columns):\n",
      " #   Column    Non-Null Count   Dtype \n",
      "---  ------    --------------   ----- \n",
      " 0   Expected  100000 non-null  object\n",
      "dtypes: object(1)\n",
      "memory usage: 1.5+ MB\n"
     ]
    }
   ],
   "source": [
    "data_validation_answer.info()"
   ]
  },
  {
   "cell_type": "code",
   "execution_count": null,
   "id": "f9c23381-ed8e-4504-8a6d-172acbd164bb",
   "metadata": {
    "tags": []
   },
   "outputs": [],
   "source": [
    "data_base.head()"
   ]
  },
  {
   "cell_type": "code",
   "execution_count": null,
   "id": "cdebaaf1-fab4-49d6-950a-792a798884ab",
   "metadata": {
    "tags": []
   },
   "outputs": [],
   "source": [
    "data_train.head()"
   ]
  },
  {
   "cell_type": "code",
   "execution_count": null,
   "id": "2c71662a-b73a-4545-bc3f-eda2b13e8da6",
   "metadata": {
    "tags": []
   },
   "outputs": [],
   "source": [
    "data_validation.head()"
   ]
  },
  {
   "cell_type": "code",
   "execution_count": null,
   "id": "e5209d48-c73c-418a-a21d-e5a20d5f1ef5",
   "metadata": {
    "tags": []
   },
   "outputs": [],
   "source": [
    "data_validation_answer.head()"
   ]
  },
  {
   "cell_type": "code",
   "execution_count": null,
   "id": "fe34e5a4-fc66-4b9c-bdfb-13d58085064d",
   "metadata": {
    "tags": []
   },
   "outputs": [],
   "source": [
    "data_train.corr()"
   ]
  },
  {
   "cell_type": "markdown",
   "id": "8a5a5e02-9a24-49e3-b29e-b49fb3bd8b0a",
   "metadata": {},
   "source": [
    "Данные не имеют некого понятного смысла, попробуем изучить представления данных."
   ]
  },
  {
   "cell_type": "code",
   "execution_count": null,
   "id": "dbf1e081-487f-4938-84e8-8c6f980700d5",
   "metadata": {
    "tags": []
   },
   "outputs": [],
   "source": [
    "data_train.columns"
   ]
  },
  {
   "cell_type": "code",
   "execution_count": null,
   "id": "bc482841-edb5-4650-81a5-f8a92079e18a",
   "metadata": {},
   "outputs": [],
   "source": [
    "def data_information(column):\n",
    "    print(data_train[column].describe())\n",
    "    \n",
    "    plt.figure(figsize=(8, 5))\n",
    "    data_train[column].hist(bins=10);\n",
    "    plt.title('гистограмма признака {}'.format(column))\n",
    "    \n",
    "    plt.figure(figsize=(10, 7))\n",
    "    data_train.boxplot(column);\n",
    "    plt.title('диаграмма размаха признака {}'.format(column))\n",
    "    \n",
    "    Q1 = data_train[column].quantile(0.25)\n",
    "    Q3 = data_train[column].quantile(0.75)\n",
    "    IQR = Q3 - Q1\n",
    "    print('аномальные заначения признака {}: > {}, < {}'.format(column, Q3 + 1.5 * IQR, Q1 - 1.5 * IQR))"
   ]
  },
  {
   "cell_type": "code",
   "execution_count": null,
   "id": "fb7a9339-8807-4469-ac15-4a549f4b4fb7",
   "metadata": {
    "tags": []
   },
   "outputs": [],
   "source": [
    "for i in range(72):\n",
    "    data_information(data_train.columns[i+1])"
   ]
  },
  {
   "cell_type": "markdown",
   "id": "51639cb0-1417-481c-94a5-3ceb0ced125d",
   "metadata": {},
   "source": [
    "**выводы**\n",
    "после первоначального изучения данных мы пришли к тому, что:\n",
    "+ данные не коррелируют между собой.\n",
    "+ все признаки имеют нормальное распределения кроме признаков 6, 21, 25, 33, 44, 59, 65, 70.\n",
    "+ данные имеют аномальные значения, но пока удалять их не будем.\n",
    "+ признаки 59, 65 имеют почти равномерное распределение, так что можем в дальнейшем от них избавится."
   ]
  },
  {
   "cell_type": "markdown",
   "id": "0bcc4e6b-f017-4afb-9703-fe43fcd2c145",
   "metadata": {},
   "source": [
    "## K-Means"
   ]
  },
  {
   "cell_type": "code",
   "execution_count": null,
   "id": "2a29529c-e2e8-4aa5-87b4-acc38d87be78",
   "metadata": {},
   "outputs": [],
   "source": [
    "target_train = data_train['Target']\n",
    "features_train = data_train.drop(['Id', 'Target'], axis=1)"
   ]
  },
  {
   "cell_type": "code",
   "execution_count": null,
   "id": "c51c7dfc-921e-4cc7-9fb9-0129ce164a04",
   "metadata": {},
   "outputs": [],
   "source": [
    "# define the model\n",
    "kmeans_model = KMeans(n_clusters=2)\n",
    "\n",
    "# assign each data point to a cluster\n",
    "kmeans_model = kmeans_model.fit(features_train)\n",
    "kmeans_result = kmeans_model.predict(features_train)\n",
    "# get all of the unique clusters\n",
    "kmeans_clusters = np.unique(kmeans_result)\n",
    "# plot the DBSCAN clusters\n",
    "for kmeans_cluster in kmeans_clusters:\n",
    "    # get data points that fall in this cluster\n",
    "    index = np.where(kmeans_result == kmeans_cluster)\n",
    "    # make the plot\n",
    "    plt.scatter(features_train.loc[index, '0'], features_train.loc[index, '1'])\n",
    "\n",
    "# show the DBSCAN plot\n",
    "plt.show()"
   ]
  },
  {
   "cell_type": "markdown",
   "id": "ea25ee9f-8f45-4a1b-aa7a-16a56358d29c",
   "metadata": {},
   "source": [
    "**метрики оценки**\n",
    "\n",
    "*Коэффициент силуэта* - этот показатель измеряет, насколько хорошо каждая точка данных вписывается в назначенный ей кластер, и находится в диапазоне от -1 до 1. Высокий коэффициент силуэта указывает на то, что точки данных хорошо кластеризованы, а низкий коэффициент указывает на то, что точки данных могут быть назначены. в неправильный кластер.\n",
    "*Индекс Дэвиса-Булдина* - этот показатель измеряет среднее сходство между каждым кластером и его наиболее похожим кластером с учетом размера кластеров. Низкий индекс Дэвиса-Булдина указывает на то, что кластеры хорошо разделены и различимы."
   ]
  },
  {
   "cell_type": "code",
   "execution_count": null,
   "id": "cfdb9ce6-2085-4325-80da-854bc818fbd8",
   "metadata": {},
   "outputs": [],
   "source": [
    "labels = kmeans_model.labels_\n",
    "# assign each data point to a cluster\n",
    "silhouette_score_0 = silhouette_score(features_train, labels)"
   ]
  },
  {
   "cell_type": "code",
   "execution_count": null,
   "id": "167ebe39-6db8-44f7-bb79-0d273d516ee4",
   "metadata": {},
   "outputs": [],
   "source": [
    "print(silhouette_score_0)"
   ]
  },
  {
   "cell_type": "code",
   "execution_count": null,
   "id": "54443306-dece-4298-a169-c5b3725f7d9d",
   "metadata": {},
   "outputs": [],
   "source": [
    "davies_bouldin_score_0 = davies_bouldin_score(features_train, labels)\n",
    "print(davies_bouldin_score_0)"
   ]
  },
  {
   "cell_type": "markdown",
   "id": "992f0af3-1395-432c-b95a-7726449cd988",
   "metadata": {},
   "source": [
    "подбераем лучшее количество кластеров на основе этих двух показателей."
   ]
  },
  {
   "cell_type": "code",
   "execution_count": null,
   "id": "d1da7cf0-3250-45d4-af85-12bdc6b4c33b",
   "metadata": {},
   "outputs": [],
   "source": [
    "best_silhouette_score = 1000\n",
    "best_davies_bouldin_score = 1000\n",
    "itr_silhouette = 1000\n",
    "itr_davies_bouldin = 1000\n",
    "for i in range(2, 100):\n",
    "    kmeans_model = KMeans(n_clusters=i).fit(features_train)\n",
    "    labels = kmeans_model.labels_\n",
    "    silhouette_score_0 = silhouette_score(features_train, labels)\n",
    "    davies_bouldin_score_0 = davies_bouldin_score(features_train, labels)\n",
    "    if silhouette_score_0 > best_silhouette_score:\n",
    "        best_silhouette_score = silhouette_score_0\n",
    "        itr_silhouette = i\n",
    "    if davies_bouldin_score_0 < best_davies_bouldin_score:\n",
    "        best_davies_bouldin_score = davies_bouldin_score_0\n",
    "        itr_davies_bouldin = i\n",
    "    print('количество кластеров = {}, silhouette_score = {}, davies_bouldin_score = {}'.format(i, silhouette_score_0, davies_bouldin_score_0))\n",
    "    "
   ]
  },
  {
   "cell_type": "markdown",
   "id": "640b45ae-a107-40f4-9dfe-f5c2746c7004",
   "metadata": {},
   "source": [
    "замечаем что лучший результат по метрикам качества получаем при количество кластеров = 3"
   ]
  },
  {
   "cell_type": "markdown",
   "id": "8ec6efb8-dafd-45d6-8bf8-e7b66b43d987",
   "metadata": {},
   "source": [
    "подбераем лучшее количество итерации на основе этих двух показателей."
   ]
  },
  {
   "cell_type": "code",
   "execution_count": null,
   "id": "61fc0a1a-81b1-4a5a-bf7f-69b3f386c729",
   "metadata": {},
   "outputs": [],
   "source": [
    "best_silhouette_score = 1000\n",
    "best_davies_bouldin_score = 1000\n",
    "itr_silhouette = 1000\n",
    "itr_davies_bouldin = 1000\n",
    "for i in range(100, 1501, 100):\n",
    "    kmeans_model = KMeans(n_clusters=3, max_iter=i).fit(features_train)\n",
    "    labels = kmeans_model.labels_\n",
    "    silhouette_score_0 = silhouette_score(features_train, labels)\n",
    "    davies_bouldin_score_0 = davies_bouldin_score(features_train, labels)\n",
    "    if silhouette_score_0 > best_silhouette_score:\n",
    "        best_silhouette_score = silhouette_score_0\n",
    "        itr_silhouette = i\n",
    "    if davies_bouldin_score_0 < best_davies_bouldin_score:\n",
    "        best_davies_bouldin_score = davies_bouldin_score_0\n",
    "        itr_davies_bouldin = i\n",
    "    print('количество итерации = {}, silhouette_score = {}, davies_bouldin_score = {}'.format(i, silhouette_score_0, davies_bouldin_score_0))"
   ]
  },
  {
   "cell_type": "markdown",
   "id": "c20bfa2c-18e5-42a8-8d72-4f80a21c6077",
   "metadata": {},
   "source": [
    "замечаем что лучший результат по метрикам качества получаем при количество итирации = 200"
   ]
  },
  {
   "cell_type": "code",
   "execution_count": null,
   "id": "95317b86-3bc0-4dda-9426-2205a8391f3b",
   "metadata": {},
   "outputs": [],
   "source": [
    "knn_model = KNeighborsClassifier(n_neighbors=5)"
   ]
  },
  {
   "cell_type": "code",
   "execution_count": null,
   "id": "daaa0d8f-22b7-45b4-a4b0-9bd53b2b4396",
   "metadata": {},
   "outputs": [],
   "source": [
    "knn_model.fit(features_train, target_train)"
   ]
  },
  {
   "cell_type": "code",
   "execution_count": null,
   "id": "1a69f9a4-c501-48ac-8773-f1af6d2be902",
   "metadata": {},
   "outputs": [],
   "source": [
    "result = knn_model.predict([features_train.loc[0]])"
   ]
  },
  {
   "cell_type": "code",
   "execution_count": null,
   "id": "7f55f547-c117-4a2a-8e1a-d0bcd9d5546c",
   "metadata": {},
   "outputs": [],
   "source": [
    "print(result)"
   ]
  },
  {
   "cell_type": "code",
   "execution_count": null,
   "id": "9fceaf89-22c8-4316-aa60-2202332be2e5",
   "metadata": {},
   "outputs": [],
   "source": [
    "result = knn_model.kneighbors([features_train.loc[0]])"
   ]
  },
  {
   "cell_type": "code",
   "execution_count": null,
   "id": "a58719cc-2744-4646-b114-75d042a5693a",
   "metadata": {},
   "outputs": [],
   "source": [
    "print(target_train[result[1][0]])"
   ]
  },
  {
   "cell_type": "code",
   "execution_count": null,
   "id": "00bb6c40-7028-405f-9a5c-bb854d0489ff",
   "metadata": {},
   "outputs": [],
   "source": [
    "target_train[0]"
   ]
  },
  {
   "cell_type": "code",
   "execution_count": null,
   "id": "cb80dbd0-70f0-491c-bf4b-309909fbe807",
   "metadata": {},
   "outputs": [],
   "source": [
    "result = knn_model.kneighbors(features_train)"
   ]
  },
  {
   "cell_type": "code",
   "execution_count": null,
   "id": "bb7f81c0-863a-4e3d-8245-fe37396af535",
   "metadata": {},
   "outputs": [],
   "source": [
    "%%time\n",
    "result = knn_model.predict(features_train)"
   ]
  },
  {
   "cell_type": "code",
   "execution_count": null,
   "id": "f5ed3533-d012-42ef-a1b9-40e384e098e0",
   "metadata": {},
   "outputs": [],
   "source": [
    "result"
   ]
  },
  {
   "cell_type": "code",
   "execution_count": null,
   "id": "8d8a5ef2-b5b4-4e70-979d-e79618573330",
   "metadata": {},
   "outputs": [],
   "source": [
    "accuracy_score(result,target_train)"
   ]
  },
  {
   "cell_type": "code",
   "execution_count": null,
   "id": "b3bba0aa-c731-43a3-a597-ca30706e0e3b",
   "metadata": {},
   "outputs": [],
   "source": [
    "for i in range(1, 21):\n",
    "    knn_model = KNeighborsClassifier(n_neighbors=i)\n",
    "    knn_model.fit(features_train, target_train)\n",
    "    result = knn_model.predict(features_train)\n",
    "    print(i, '  ', accuracy_score(result,target_train))"
   ]
  },
  {
   "cell_type": "markdown",
   "id": "d8a5fb8a-76d2-4dcb-b27f-02d69657f69d",
   "metadata": {},
   "source": [
    "## FAISS"
   ]
  },
  {
   "cell_type": "code",
   "execution_count": 6,
   "id": "c1ea91b8-39ee-42b8-94fd-8e8862e934c6",
   "metadata": {},
   "outputs": [],
   "source": [
    "K_NEIGHBORS = 5"
   ]
  },
  {
   "cell_type": "code",
   "execution_count": 7,
   "id": "54eb97d3-c5ea-43e2-8b59-8470d9214b28",
   "metadata": {},
   "outputs": [],
   "source": [
    "NUM_SAMPLES = 50000"
   ]
  },
  {
   "cell_type": "code",
   "execution_count": 8,
   "id": "53625194-a840-4467-b4e2-6ca9ae1a022f",
   "metadata": {},
   "outputs": [],
   "source": [
    "def acc_5(targets, indices, base_indices):\n",
    "    \"\"\" Функция для расчета значения метрики accuracy\n",
    "        входные параметры функции:\n",
    "        targets - вектор целевого признака\n",
    "        indices - матрица индексов найденных ближайших соседей\n",
    "        base_index - словарь базовых индексов \"\"\"\n",
    "    \n",
    "    acc = 0 # начальное значение метрики\n",
    "    for target, el in zip(targets.values.tolist(), indices.tolist()):\n",
    "        acc += int(target in [base_indices[r] for r in el])\n",
    "\n",
    "    return 100 * acc / len(indices)"
   ]
  },
  {
   "cell_type": "code",
   "execution_count": 9,
   "id": "911b8248-0e37-4961-984d-6846e254485f",
   "metadata": {},
   "outputs": [],
   "source": [
    "def faiss_model(data_base, data_train, num_samples=None):\n",
    "    dims = data_base.shape[1] # размерность вектора признаков для каждого объекта\n",
    "    n_cells = 50 # количество кластеров (ячейки Воронова?)\n",
    "    quantizer = faiss.IndexFlatL2(dims) # квантователь \n",
    "    idx_l2 = faiss.IndexIVFFlat(quantizer, dims, n_cells) # создание индекса с кластеризацией\n",
    "    idx_l2.train(np.ascontiguousarray(data_base.values[:num_samples, :]).astype('float32'))\n",
    "    idx_l2.add(np.ascontiguousarray(data_base.values).astype('float32'))\n",
    "    base_index = {k: v for k, v in enumerate(data_base.index.to_list())}\n",
    "    y_train = data_train['Target'] # целевой признак обучающей выборки\n",
    "    X_train = data_train.drop('Target', axis=1) # обучающая выборка\n",
    "    r, idx = idx_l2.search(np.ascontiguousarray(X_train.values).astype('float32'), K_NEIGHBORS)\n",
    "    accuracy = acc_5(y_train, idx, base_index)\n",
    "    print(accuracy, '%')"
   ]
  },
  {
   "cell_type": "code",
   "execution_count": null,
   "id": "33fa2175-5967-433a-a16d-a8a0e4ab2579",
   "metadata": {},
   "outputs": [],
   "source": []
  },
  {
   "cell_type": "code",
   "execution_count": null,
   "id": "fd9fa10b-01d8-4f9e-b704-964c5b25a343",
   "metadata": {},
   "outputs": [],
   "source": [
    "faiss_model(data_base, data_train, NUM_SAMPLES)"
   ]
  },
  {
   "cell_type": "markdown",
   "id": "69999f91-dd0d-49d0-8aaf-af9726b116c4",
   "metadata": {},
   "source": [
    "## EDA"
   ]
  },
  {
   "cell_type": "code",
   "execution_count": null,
   "id": "d5af4f2f-24bc-4a36-b3ad-e8429c188385",
   "metadata": {},
   "outputs": [],
   "source": [
    "df_samples = data_train[:NUM_SAMPLES]"
   ]
  },
  {
   "cell_type": "code",
   "execution_count": null,
   "id": "574d15a5-7c1b-48f3-b10b-dc885df3b5b2",
   "metadata": {},
   "outputs": [],
   "source": [
    "df_samples.hist(figsize=[20, 20], bins=50);"
   ]
  },
  {
   "cell_type": "code",
   "execution_count": null,
   "id": "7e47d17a-d78f-4cc2-ad88-560a0b4a93ab",
   "metadata": {},
   "outputs": [],
   "source": [
    "data_to_drop = ['6', '21', '25', '33', '44', '59', '65', '70']\n",
    "for i in data_to_drop:\n",
    "    data_base_new = data_base.drop(i, axis=1)\n",
    "    X_train_new = data_train.drop(i, axis=1) # обучающая выборка\n",
    "    print('при улаления столбца {} точность будет'.format(i))\n",
    "    faiss_model(data_base_new, X_train_new, NUM_SAMPLES)"
   ]
  },
  {
   "cell_type": "markdown",
   "id": "92b79b4d-cc04-42de-8d22-f118c1aedec3",
   "metadata": {},
   "source": [
    "замечаем что при удаления столбцов 33, 44 и 59 повышается точность."
   ]
  },
  {
   "cell_type": "code",
   "execution_count": 10,
   "id": "f9040978-a60a-4f8b-b262-ce7ce0007228",
   "metadata": {},
   "outputs": [
    {
     "name": "stdout",
     "output_type": "stream",
     "text": [
      "32.108 %\n"
     ]
    }
   ],
   "source": [
    "col_to_delet = ['33', '44', '59']\n",
    "data_base_new = data_base.drop(col_to_delet, axis=1)\n",
    "X_train_new = data_train.drop(col_to_delet, axis=1)\n",
    "X_validation_new = data_validation.drop(col_to_delet, axis=1).reset_index()\n",
    "faiss_model(data_base_new, X_train_new, NUM_SAMPLES)"
   ]
  },
  {
   "cell_type": "markdown",
   "id": "5d132c50-fa64-4424-bc36-d143607a8d47",
   "metadata": {},
   "source": [
    "### Нормализация (масштабирование) численных признаков"
   ]
  },
  {
   "cell_type": "code",
   "execution_count": 11,
   "id": "48324b48-69b5-4330-81b5-1be518cd51da",
   "metadata": {},
   "outputs": [],
   "source": [
    "scaler = StandardScaler()\n",
    "num_cols = X_train_new.select_dtypes(include='number').columns # численные признаки\n",
    "# обучим базовую выборку с отмасштабированными численными признаками\n"
   ]
  },
  {
   "cell_type": "code",
   "execution_count": 12,
   "id": "e8a482a5-fb91-49bc-8873-3dd23337ba48",
   "metadata": {},
   "outputs": [],
   "source": [
    "X_base_normal_SS = pd.DataFrame(scaler.fit_transform(data_base_new[num_cols]), index=data_base_new.index, columns=num_cols)\n",
    "X_train_normal_SS = pd.DataFrame(scaler.transform(X_train_new[num_cols]), index=X_train_new.index, columns=num_cols)\n",
    "X_train_normal_SS['Target'] = data_train['Target']\n",
    "X_validation_normal_SS = pd.DataFrame(scaler.transform(X_validation_new[num_cols]), index=X_validation_new.index, columns=num_cols)"
   ]
  },
  {
   "cell_type": "code",
   "execution_count": null,
   "id": "58b4fd0a-6da3-4c35-b5a7-740b0a542465",
   "metadata": {},
   "outputs": [],
   "source": [
    "faiss_model(X_base_normal_SS, X_train_normal_SS, NUM_SAMPLES)"
   ]
  },
  {
   "cell_type": "markdown",
   "id": "366eeb5a-127f-4507-bd6c-277f43440a72",
   "metadata": {},
   "source": [
    "замечаем что точность модели повышается поле нормализации данных с используванием стандартного нормализатора."
   ]
  },
  {
   "cell_type": "code",
   "execution_count": null,
   "id": "ab7a9922-285e-414b-8e6e-1c41af8fdb44",
   "metadata": {},
   "outputs": [],
   "source": [
    "scaler = RobustScaler()"
   ]
  },
  {
   "cell_type": "code",
   "execution_count": null,
   "id": "716d2802-1f69-4804-83b1-85a0e222aab1",
   "metadata": {},
   "outputs": [],
   "source": [
    "X_base_normal_RS = pd.DataFrame(scaler.fit_transform(data_base_new[num_cols]), index=data_base_new.index, columns=num_cols)\n",
    "X_train_normal_RS = pd.DataFrame(scaler.transform(X_train_new[num_cols]), index=X_train_new.index, columns=num_cols)\n",
    "X_train_normal_RS['Target'] = data_train['Target']\n",
    "X_validation_normal_RS = pd.DataFrame(scaler.transform(X_validation_new[num_cols]), index=X_validation_new.index, columns=num_cols)"
   ]
  },
  {
   "cell_type": "code",
   "execution_count": null,
   "id": "e8e2bd2e-db5a-4786-9ff6-a506f0293be2",
   "metadata": {},
   "outputs": [],
   "source": [
    "faiss_model(X_base_normal_RS, X_train_normal_RS, NUM_SAMPLES)"
   ]
  },
  {
   "cell_type": "markdown",
   "id": "2ae25199-fc5a-484c-9821-21288e88ab31",
   "metadata": {},
   "source": [
    "стандартная нормализация лучше робостной."
   ]
  },
  {
   "cell_type": "markdown",
   "id": "07910aca-7618-40f9-b12a-17b307962ba7",
   "metadata": {},
   "source": [
    "### удаление выбросов"
   ]
  },
  {
   "cell_type": "code",
   "execution_count": 13,
   "id": "85647c48-7f61-471a-9bc2-f313f0596ed4",
   "metadata": {
    "tags": []
   },
   "outputs": [
    {
     "name": "stderr",
     "output_type": "stream",
     "text": [
      "<ipython-input-13-f3564622d06b>:13: UserWarning: Boolean Series key will be reindexed to match DataFrame index.\n",
      "  X_train_normal_SS_all = X_train_normal_SS_all[~((X_train_normal_SS[column] > (Q3 + 1.5 * IQR)) |\n",
      "<ipython-input-13-f3564622d06b>:13: UserWarning: Boolean Series key will be reindexed to match DataFrame index.\n",
      "  X_train_normal_SS_all = X_train_normal_SS_all[~((X_train_normal_SS[column] > (Q3 + 1.5 * IQR)) |\n",
      "<ipython-input-13-f3564622d06b>:13: UserWarning: Boolean Series key will be reindexed to match DataFrame index.\n",
      "  X_train_normal_SS_all = X_train_normal_SS_all[~((X_train_normal_SS[column] > (Q3 + 1.5 * IQR)) |\n",
      "<ipython-input-13-f3564622d06b>:13: UserWarning: Boolean Series key will be reindexed to match DataFrame index.\n",
      "  X_train_normal_SS_all = X_train_normal_SS_all[~((X_train_normal_SS[column] > (Q3 + 1.5 * IQR)) |\n",
      "<ipython-input-13-f3564622d06b>:13: UserWarning: Boolean Series key will be reindexed to match DataFrame index.\n",
      "  X_train_normal_SS_all = X_train_normal_SS_all[~((X_train_normal_SS[column] > (Q3 + 1.5 * IQR)) |\n",
      "<ipython-input-13-f3564622d06b>:13: UserWarning: Boolean Series key will be reindexed to match DataFrame index.\n",
      "  X_train_normal_SS_all = X_train_normal_SS_all[~((X_train_normal_SS[column] > (Q3 + 1.5 * IQR)) |\n",
      "<ipython-input-13-f3564622d06b>:13: UserWarning: Boolean Series key will be reindexed to match DataFrame index.\n",
      "  X_train_normal_SS_all = X_train_normal_SS_all[~((X_train_normal_SS[column] > (Q3 + 1.5 * IQR)) |\n",
      "<ipython-input-13-f3564622d06b>:13: UserWarning: Boolean Series key will be reindexed to match DataFrame index.\n",
      "  X_train_normal_SS_all = X_train_normal_SS_all[~((X_train_normal_SS[column] > (Q3 + 1.5 * IQR)) |\n",
      "<ipython-input-13-f3564622d06b>:13: UserWarning: Boolean Series key will be reindexed to match DataFrame index.\n",
      "  X_train_normal_SS_all = X_train_normal_SS_all[~((X_train_normal_SS[column] > (Q3 + 1.5 * IQR)) |\n",
      "<ipython-input-13-f3564622d06b>:13: UserWarning: Boolean Series key will be reindexed to match DataFrame index.\n",
      "  X_train_normal_SS_all = X_train_normal_SS_all[~((X_train_normal_SS[column] > (Q3 + 1.5 * IQR)) |\n",
      "<ipython-input-13-f3564622d06b>:13: UserWarning: Boolean Series key will be reindexed to match DataFrame index.\n",
      "  X_train_normal_SS_all = X_train_normal_SS_all[~((X_train_normal_SS[column] > (Q3 + 1.5 * IQR)) |\n",
      "<ipython-input-13-f3564622d06b>:13: UserWarning: Boolean Series key will be reindexed to match DataFrame index.\n",
      "  X_train_normal_SS_all = X_train_normal_SS_all[~((X_train_normal_SS[column] > (Q3 + 1.5 * IQR)) |\n",
      "<ipython-input-13-f3564622d06b>:13: UserWarning: Boolean Series key will be reindexed to match DataFrame index.\n",
      "  X_train_normal_SS_all = X_train_normal_SS_all[~((X_train_normal_SS[column] > (Q3 + 1.5 * IQR)) |\n",
      "<ipython-input-13-f3564622d06b>:13: UserWarning: Boolean Series key will be reindexed to match DataFrame index.\n",
      "  X_train_normal_SS_all = X_train_normal_SS_all[~((X_train_normal_SS[column] > (Q3 + 1.5 * IQR)) |\n",
      "<ipython-input-13-f3564622d06b>:13: UserWarning: Boolean Series key will be reindexed to match DataFrame index.\n",
      "  X_train_normal_SS_all = X_train_normal_SS_all[~((X_train_normal_SS[column] > (Q3 + 1.5 * IQR)) |\n",
      "<ipython-input-13-f3564622d06b>:13: UserWarning: Boolean Series key will be reindexed to match DataFrame index.\n",
      "  X_train_normal_SS_all = X_train_normal_SS_all[~((X_train_normal_SS[column] > (Q3 + 1.5 * IQR)) |\n",
      "<ipython-input-13-f3564622d06b>:13: UserWarning: Boolean Series key will be reindexed to match DataFrame index.\n",
      "  X_train_normal_SS_all = X_train_normal_SS_all[~((X_train_normal_SS[column] > (Q3 + 1.5 * IQR)) |\n",
      "<ipython-input-13-f3564622d06b>:13: UserWarning: Boolean Series key will be reindexed to match DataFrame index.\n",
      "  X_train_normal_SS_all = X_train_normal_SS_all[~((X_train_normal_SS[column] > (Q3 + 1.5 * IQR)) |\n",
      "<ipython-input-13-f3564622d06b>:13: UserWarning: Boolean Series key will be reindexed to match DataFrame index.\n",
      "  X_train_normal_SS_all = X_train_normal_SS_all[~((X_train_normal_SS[column] > (Q3 + 1.5 * IQR)) |\n",
      "<ipython-input-13-f3564622d06b>:13: UserWarning: Boolean Series key will be reindexed to match DataFrame index.\n",
      "  X_train_normal_SS_all = X_train_normal_SS_all[~((X_train_normal_SS[column] > (Q3 + 1.5 * IQR)) |\n",
      "<ipython-input-13-f3564622d06b>:13: UserWarning: Boolean Series key will be reindexed to match DataFrame index.\n",
      "  X_train_normal_SS_all = X_train_normal_SS_all[~((X_train_normal_SS[column] > (Q3 + 1.5 * IQR)) |\n",
      "<ipython-input-13-f3564622d06b>:13: UserWarning: Boolean Series key will be reindexed to match DataFrame index.\n",
      "  X_train_normal_SS_all = X_train_normal_SS_all[~((X_train_normal_SS[column] > (Q3 + 1.5 * IQR)) |\n",
      "<ipython-input-13-f3564622d06b>:13: UserWarning: Boolean Series key will be reindexed to match DataFrame index.\n",
      "  X_train_normal_SS_all = X_train_normal_SS_all[~((X_train_normal_SS[column] > (Q3 + 1.5 * IQR)) |\n",
      "<ipython-input-13-f3564622d06b>:13: UserWarning: Boolean Series key will be reindexed to match DataFrame index.\n",
      "  X_train_normal_SS_all = X_train_normal_SS_all[~((X_train_normal_SS[column] > (Q3 + 1.5 * IQR)) |\n",
      "<ipython-input-13-f3564622d06b>:13: UserWarning: Boolean Series key will be reindexed to match DataFrame index.\n",
      "  X_train_normal_SS_all = X_train_normal_SS_all[~((X_train_normal_SS[column] > (Q3 + 1.5 * IQR)) |\n",
      "<ipython-input-13-f3564622d06b>:13: UserWarning: Boolean Series key will be reindexed to match DataFrame index.\n",
      "  X_train_normal_SS_all = X_train_normal_SS_all[~((X_train_normal_SS[column] > (Q3 + 1.5 * IQR)) |\n",
      "<ipython-input-13-f3564622d06b>:13: UserWarning: Boolean Series key will be reindexed to match DataFrame index.\n",
      "  X_train_normal_SS_all = X_train_normal_SS_all[~((X_train_normal_SS[column] > (Q3 + 1.5 * IQR)) |\n",
      "<ipython-input-13-f3564622d06b>:13: UserWarning: Boolean Series key will be reindexed to match DataFrame index.\n",
      "  X_train_normal_SS_all = X_train_normal_SS_all[~((X_train_normal_SS[column] > (Q3 + 1.5 * IQR)) |\n",
      "<ipython-input-13-f3564622d06b>:13: UserWarning: Boolean Series key will be reindexed to match DataFrame index.\n",
      "  X_train_normal_SS_all = X_train_normal_SS_all[~((X_train_normal_SS[column] > (Q3 + 1.5 * IQR)) |\n",
      "<ipython-input-13-f3564622d06b>:13: UserWarning: Boolean Series key will be reindexed to match DataFrame index.\n",
      "  X_train_normal_SS_all = X_train_normal_SS_all[~((X_train_normal_SS[column] > (Q3 + 1.5 * IQR)) |\n",
      "<ipython-input-13-f3564622d06b>:13: UserWarning: Boolean Series key will be reindexed to match DataFrame index.\n",
      "  X_train_normal_SS_all = X_train_normal_SS_all[~((X_train_normal_SS[column] > (Q3 + 1.5 * IQR)) |\n",
      "<ipython-input-13-f3564622d06b>:13: UserWarning: Boolean Series key will be reindexed to match DataFrame index.\n",
      "  X_train_normal_SS_all = X_train_normal_SS_all[~((X_train_normal_SS[column] > (Q3 + 1.5 * IQR)) |\n",
      "<ipython-input-13-f3564622d06b>:13: UserWarning: Boolean Series key will be reindexed to match DataFrame index.\n",
      "  X_train_normal_SS_all = X_train_normal_SS_all[~((X_train_normal_SS[column] > (Q3 + 1.5 * IQR)) |\n",
      "<ipython-input-13-f3564622d06b>:13: UserWarning: Boolean Series key will be reindexed to match DataFrame index.\n",
      "  X_train_normal_SS_all = X_train_normal_SS_all[~((X_train_normal_SS[column] > (Q3 + 1.5 * IQR)) |\n",
      "<ipython-input-13-f3564622d06b>:13: UserWarning: Boolean Series key will be reindexed to match DataFrame index.\n",
      "  X_train_normal_SS_all = X_train_normal_SS_all[~((X_train_normal_SS[column] > (Q3 + 1.5 * IQR)) |\n",
      "<ipython-input-13-f3564622d06b>:13: UserWarning: Boolean Series key will be reindexed to match DataFrame index.\n",
      "  X_train_normal_SS_all = X_train_normal_SS_all[~((X_train_normal_SS[column] > (Q3 + 1.5 * IQR)) |\n",
      "<ipython-input-13-f3564622d06b>:13: UserWarning: Boolean Series key will be reindexed to match DataFrame index.\n",
      "  X_train_normal_SS_all = X_train_normal_SS_all[~((X_train_normal_SS[column] > (Q3 + 1.5 * IQR)) |\n",
      "<ipython-input-13-f3564622d06b>:13: UserWarning: Boolean Series key will be reindexed to match DataFrame index.\n",
      "  X_train_normal_SS_all = X_train_normal_SS_all[~((X_train_normal_SS[column] > (Q3 + 1.5 * IQR)) |\n",
      "<ipython-input-13-f3564622d06b>:13: UserWarning: Boolean Series key will be reindexed to match DataFrame index.\n",
      "  X_train_normal_SS_all = X_train_normal_SS_all[~((X_train_normal_SS[column] > (Q3 + 1.5 * IQR)) |\n",
      "<ipython-input-13-f3564622d06b>:13: UserWarning: Boolean Series key will be reindexed to match DataFrame index.\n",
      "  X_train_normal_SS_all = X_train_normal_SS_all[~((X_train_normal_SS[column] > (Q3 + 1.5 * IQR)) |\n",
      "<ipython-input-13-f3564622d06b>:13: UserWarning: Boolean Series key will be reindexed to match DataFrame index.\n",
      "  X_train_normal_SS_all = X_train_normal_SS_all[~((X_train_normal_SS[column] > (Q3 + 1.5 * IQR)) |\n",
      "<ipython-input-13-f3564622d06b>:13: UserWarning: Boolean Series key will be reindexed to match DataFrame index.\n",
      "  X_train_normal_SS_all = X_train_normal_SS_all[~((X_train_normal_SS[column] > (Q3 + 1.5 * IQR)) |\n",
      "<ipython-input-13-f3564622d06b>:13: UserWarning: Boolean Series key will be reindexed to match DataFrame index.\n",
      "  X_train_normal_SS_all = X_train_normal_SS_all[~((X_train_normal_SS[column] > (Q3 + 1.5 * IQR)) |\n",
      "<ipython-input-13-f3564622d06b>:13: UserWarning: Boolean Series key will be reindexed to match DataFrame index.\n",
      "  X_train_normal_SS_all = X_train_normal_SS_all[~((X_train_normal_SS[column] > (Q3 + 1.5 * IQR)) |\n",
      "<ipython-input-13-f3564622d06b>:13: UserWarning: Boolean Series key will be reindexed to match DataFrame index.\n",
      "  X_train_normal_SS_all = X_train_normal_SS_all[~((X_train_normal_SS[column] > (Q3 + 1.5 * IQR)) |\n",
      "<ipython-input-13-f3564622d06b>:13: UserWarning: Boolean Series key will be reindexed to match DataFrame index.\n",
      "  X_train_normal_SS_all = X_train_normal_SS_all[~((X_train_normal_SS[column] > (Q3 + 1.5 * IQR)) |\n",
      "<ipython-input-13-f3564622d06b>:13: UserWarning: Boolean Series key will be reindexed to match DataFrame index.\n",
      "  X_train_normal_SS_all = X_train_normal_SS_all[~((X_train_normal_SS[column] > (Q3 + 1.5 * IQR)) |\n",
      "<ipython-input-13-f3564622d06b>:13: UserWarning: Boolean Series key will be reindexed to match DataFrame index.\n",
      "  X_train_normal_SS_all = X_train_normal_SS_all[~((X_train_normal_SS[column] > (Q3 + 1.5 * IQR)) |\n",
      "<ipython-input-13-f3564622d06b>:13: UserWarning: Boolean Series key will be reindexed to match DataFrame index.\n",
      "  X_train_normal_SS_all = X_train_normal_SS_all[~((X_train_normal_SS[column] > (Q3 + 1.5 * IQR)) |\n",
      "<ipython-input-13-f3564622d06b>:13: UserWarning: Boolean Series key will be reindexed to match DataFrame index.\n",
      "  X_train_normal_SS_all = X_train_normal_SS_all[~((X_train_normal_SS[column] > (Q3 + 1.5 * IQR)) |\n",
      "<ipython-input-13-f3564622d06b>:13: UserWarning: Boolean Series key will be reindexed to match DataFrame index.\n",
      "  X_train_normal_SS_all = X_train_normal_SS_all[~((X_train_normal_SS[column] > (Q3 + 1.5 * IQR)) |\n",
      "<ipython-input-13-f3564622d06b>:13: UserWarning: Boolean Series key will be reindexed to match DataFrame index.\n",
      "  X_train_normal_SS_all = X_train_normal_SS_all[~((X_train_normal_SS[column] > (Q3 + 1.5 * IQR)) |\n",
      "<ipython-input-13-f3564622d06b>:13: UserWarning: Boolean Series key will be reindexed to match DataFrame index.\n",
      "  X_train_normal_SS_all = X_train_normal_SS_all[~((X_train_normal_SS[column] > (Q3 + 1.5 * IQR)) |\n",
      "<ipython-input-13-f3564622d06b>:13: UserWarning: Boolean Series key will be reindexed to match DataFrame index.\n",
      "  X_train_normal_SS_all = X_train_normal_SS_all[~((X_train_normal_SS[column] > (Q3 + 1.5 * IQR)) |\n",
      "<ipython-input-13-f3564622d06b>:13: UserWarning: Boolean Series key will be reindexed to match DataFrame index.\n",
      "  X_train_normal_SS_all = X_train_normal_SS_all[~((X_train_normal_SS[column] > (Q3 + 1.5 * IQR)) |\n",
      "<ipython-input-13-f3564622d06b>:13: UserWarning: Boolean Series key will be reindexed to match DataFrame index.\n",
      "  X_train_normal_SS_all = X_train_normal_SS_all[~((X_train_normal_SS[column] > (Q3 + 1.5 * IQR)) |\n",
      "<ipython-input-13-f3564622d06b>:13: UserWarning: Boolean Series key will be reindexed to match DataFrame index.\n",
      "  X_train_normal_SS_all = X_train_normal_SS_all[~((X_train_normal_SS[column] > (Q3 + 1.5 * IQR)) |\n",
      "<ipython-input-13-f3564622d06b>:13: UserWarning: Boolean Series key will be reindexed to match DataFrame index.\n",
      "  X_train_normal_SS_all = X_train_normal_SS_all[~((X_train_normal_SS[column] > (Q3 + 1.5 * IQR)) |\n",
      "<ipython-input-13-f3564622d06b>:13: UserWarning: Boolean Series key will be reindexed to match DataFrame index.\n",
      "  X_train_normal_SS_all = X_train_normal_SS_all[~((X_train_normal_SS[column] > (Q3 + 1.5 * IQR)) |\n",
      "<ipython-input-13-f3564622d06b>:13: UserWarning: Boolean Series key will be reindexed to match DataFrame index.\n",
      "  X_train_normal_SS_all = X_train_normal_SS_all[~((X_train_normal_SS[column] > (Q3 + 1.5 * IQR)) |\n",
      "<ipython-input-13-f3564622d06b>:13: UserWarning: Boolean Series key will be reindexed to match DataFrame index.\n",
      "  X_train_normal_SS_all = X_train_normal_SS_all[~((X_train_normal_SS[column] > (Q3 + 1.5 * IQR)) |\n",
      "<ipython-input-13-f3564622d06b>:13: UserWarning: Boolean Series key will be reindexed to match DataFrame index.\n",
      "  X_train_normal_SS_all = X_train_normal_SS_all[~((X_train_normal_SS[column] > (Q3 + 1.5 * IQR)) |\n",
      "<ipython-input-13-f3564622d06b>:13: UserWarning: Boolean Series key will be reindexed to match DataFrame index.\n",
      "  X_train_normal_SS_all = X_train_normal_SS_all[~((X_train_normal_SS[column] > (Q3 + 1.5 * IQR)) |\n",
      "<ipython-input-13-f3564622d06b>:13: UserWarning: Boolean Series key will be reindexed to match DataFrame index.\n",
      "  X_train_normal_SS_all = X_train_normal_SS_all[~((X_train_normal_SS[column] > (Q3 + 1.5 * IQR)) |\n"
     ]
    }
   ],
   "source": [
    "X_train_normal_SS_all = X_train_normal_SS.copy()\n",
    "for column in X_train_normal_SS.columns:\n",
    "    if column in ['6', '21', '25', '33', '44', '59', '70', 'Target']:\n",
    "        continue\n",
    "    Q1 = X_train_normal_SS[column].quantile(0.25)\n",
    "    Q3 = X_train_normal_SS[column].quantile(0.75)\n",
    "    IQR = Q3 - Q1\n",
    "    \n",
    "    # data frame with deleted unwanted values from only one column\n",
    "    X_train_normal_SS_column = X_train_normal_SS[~((X_train_normal_SS[column] > (Q3 + 1.5 * IQR)) | \n",
    "                                          (X_train_normal_SS[column] < (Q1 - 1.5 * IQR)))]\n",
    "    # data frame with deleting all the unwanted values\n",
    "    X_train_normal_SS_all = X_train_normal_SS_all[~((X_train_normal_SS[column] > (Q3 + 1.5 * IQR)) | \n",
    "                                          (X_train_normal_SS[column] < (Q1 - 1.5 * IQR)))]\n",
    "    \n",
    "    # calculate the accuracy of data frame with deleted unwanted values from only one column \n",
    "    print('при улаления выбросов столбца {} точность будет'.format(column))\n",
    "    faiss_model(X_base_normal_SS, X_train_normal_SS_column, 10000)"
   ]
  },
  {
   "cell_type": "markdown",
   "id": "3c02e71e-f26a-4c46-a17b-b3488f098c93",
   "metadata": {},
   "source": [
    "замечаем что пре удаления выбросов из одного признака точность моделе может повысется на 0,5%"
   ]
  },
  {
   "cell_type": "code",
   "execution_count": 14,
   "id": "57f3ff09-a370-4d74-8826-18ed053d13e7",
   "metadata": {
    "tags": []
   },
   "outputs": [
    {
     "name": "stdout",
     "output_type": "stream",
     "text": [
      "<class 'pandas.core.frame.DataFrame'>\n",
      "Index: 63981 entries, 0-query to 99996-query\n",
      "Data columns (total 70 columns):\n",
      " #   Column  Non-Null Count  Dtype  \n",
      "---  ------  --------------  -----  \n",
      " 0   0       63981 non-null  float64\n",
      " 1   1       63981 non-null  float64\n",
      " 2   2       63981 non-null  float64\n",
      " 3   3       63981 non-null  float64\n",
      " 4   4       63981 non-null  float64\n",
      " 5   5       63981 non-null  float64\n",
      " 6   6       63981 non-null  float64\n",
      " 7   7       63981 non-null  float64\n",
      " 8   8       63981 non-null  float64\n",
      " 9   9       63981 non-null  float64\n",
      " 10  10      63981 non-null  float64\n",
      " 11  11      63981 non-null  float64\n",
      " 12  12      63981 non-null  float64\n",
      " 13  13      63981 non-null  float64\n",
      " 14  14      63981 non-null  float64\n",
      " 15  15      63981 non-null  float64\n",
      " 16  16      63981 non-null  float64\n",
      " 17  17      63981 non-null  float64\n",
      " 18  18      63981 non-null  float64\n",
      " 19  19      63981 non-null  float64\n",
      " 20  20      63981 non-null  float64\n",
      " 21  21      63981 non-null  float64\n",
      " 22  22      63981 non-null  float64\n",
      " 23  23      63981 non-null  float64\n",
      " 24  24      63981 non-null  float64\n",
      " 25  25      63981 non-null  float64\n",
      " 26  26      63981 non-null  float64\n",
      " 27  27      63981 non-null  float64\n",
      " 28  28      63981 non-null  float64\n",
      " 29  29      63981 non-null  float64\n",
      " 30  30      63981 non-null  float64\n",
      " 31  31      63981 non-null  float64\n",
      " 32  32      63981 non-null  float64\n",
      " 33  34      63981 non-null  float64\n",
      " 34  35      63981 non-null  float64\n",
      " 35  36      63981 non-null  float64\n",
      " 36  37      63981 non-null  float64\n",
      " 37  38      63981 non-null  float64\n",
      " 38  39      63981 non-null  float64\n",
      " 39  40      63981 non-null  float64\n",
      " 40  41      63981 non-null  float64\n",
      " 41  42      63981 non-null  float64\n",
      " 42  43      63981 non-null  float64\n",
      " 43  45      63981 non-null  float64\n",
      " 44  46      63981 non-null  float64\n",
      " 45  47      63981 non-null  float64\n",
      " 46  48      63981 non-null  float64\n",
      " 47  49      63981 non-null  float64\n",
      " 48  50      63981 non-null  float64\n",
      " 49  51      63981 non-null  float64\n",
      " 50  52      63981 non-null  float64\n",
      " 51  53      63981 non-null  float64\n",
      " 52  54      63981 non-null  float64\n",
      " 53  55      63981 non-null  float64\n",
      " 54  56      63981 non-null  float64\n",
      " 55  57      63981 non-null  float64\n",
      " 56  58      63981 non-null  float64\n",
      " 57  60      63981 non-null  float64\n",
      " 58  61      63981 non-null  float64\n",
      " 59  62      63981 non-null  float64\n",
      " 60  63      63981 non-null  float64\n",
      " 61  64      63981 non-null  float64\n",
      " 62  65      63981 non-null  float64\n",
      " 63  66      63981 non-null  float64\n",
      " 64  67      63981 non-null  float64\n",
      " 65  68      63981 non-null  float64\n",
      " 66  69      63981 non-null  float64\n",
      " 67  70      63981 non-null  float64\n",
      " 68  71      63981 non-null  float64\n",
      " 69  Target  63981 non-null  object \n",
      "dtypes: float64(69), object(1)\n",
      "memory usage: 34.7+ MB\n"
     ]
    }
   ],
   "source": [
    "X_train_normal_SS_all.info()"
   ]
  },
  {
   "cell_type": "code",
   "execution_count": 15,
   "id": "5cd2cd4e-a79f-48a6-ae19-c75925f2fe89",
   "metadata": {},
   "outputs": [
    {
     "name": "stdout",
     "output_type": "stream",
     "text": [
      "58.387646332504964 %\n"
     ]
    }
   ],
   "source": [
    "faiss_model(X_base_normal_SS, X_train_normal_SS_all, NUM_SAMPLES)"
   ]
  },
  {
   "cell_type": "markdown",
   "id": "7885432d-1ff0-4314-8b07-e8562af911c6",
   "metadata": {},
   "source": [
    "замечаем что точность повышается на 0,3% при удалении все данные с выбросами."
   ]
  },
  {
   "cell_type": "markdown",
   "id": "71ccd143-1df8-4217-b998-aba422f21727",
   "metadata": {},
   "source": [
    "### исследование гиперпараметров FAISS"
   ]
  },
  {
   "cell_type": "code",
   "execution_count": 22,
   "id": "12ca234e-03d9-4b75-ab0b-926132492d39",
   "metadata": {},
   "outputs": [],
   "source": [
    "# диапазоны значений параметров алгоритма\n",
    "n_cells_array = range(50, 201, 50)\n",
    "nprobe_array = range(1, 20, 4)\n",
    "best_n_cells = 1\n",
    "best_nprobe = 1\n",
    "best_acc_5 = 0\n",
    "best_distx = []\n",
    "best_idx = []"
   ]
  },
  {
   "cell_type": "code",
   "execution_count": 16,
   "id": "181da74c-9e4f-47ea-9efd-0d87402e1a27",
   "metadata": {},
   "outputs": [],
   "source": [
    "def faiss_model_hyper(data_base, data_train, num_samples=None, n_cells=None, nprobe=None):\n",
    "    dims = data_base.shape[1] # размерность вектора признаков для каждого объекта\n",
    "    quantizer = faiss.IndexFlatL2(dims) # квантователь \n",
    "    idx_l2 = faiss.IndexIVFFlat(quantizer, dims, n_cells) # создание индекса с кластеризацией\n",
    "    idx_l2.train(np.ascontiguousarray(data_base.values[:num_samples, :]).astype('float32'))\n",
    "    idx_l2.add(np.ascontiguousarray(data_base.values).astype('float32'))\n",
    "    idx_l2.nprobe = nprobe \n",
    "    base_index = {k: v for k, v in enumerate(data_base.index.to_list())}\n",
    "    y_train = data_train['Target'] # целевой признак обучающей выборки\n",
    "    X_train = data_train.drop('Target', axis=1) # обучающая выборка\n",
    "    r, idx = idx_l2.search(np.ascontiguousarray(X_train.values).astype('float32'), K_NEIGHBORS)\n",
    "    accuracy = acc_5(y_train, idx, base_index)\n",
    "    return idx_l2, accuracy"
   ]
  },
  {
   "cell_type": "code",
   "execution_count": 23,
   "id": "23fbce03-3a76-4878-a1b7-bdddb9903755",
   "metadata": {},
   "outputs": [
    {
     "name": "stdout",
     "output_type": "stream",
     "text": [
      "iteration... 1 n_cells... 50 nprobe... 1 acc@5... 58.387646332504964\n",
      "iteration... 2 n_cells... 50 nprobe... 5 acc@5... 67.08866694800018\n",
      "iteration... 3 n_cells... 50 nprobe... 9 acc@5... 68.03894906300307\n",
      "iteration... 4 n_cells... 50 nprobe... 13 acc@5... 68.49377158844032\n",
      "iteration... 5 n_cells... 50 nprobe... 17 acc@5... 68.98141635798127\n",
      "iteration... 6 n_cells... 100 nprobe... 1 acc@5... 58.387646332504964\n",
      "iteration... 7 n_cells... 100 nprobe... 5 acc@5... 67.08866694800018\n",
      "iteration... 8 n_cells... 100 nprobe... 9 acc@5... 68.03894906300307\n",
      "iteration... 9 n_cells... 100 nprobe... 13 acc@5... 68.49377158844032\n",
      "iteration... 10 n_cells... 100 nprobe... 17 acc@5... 68.98141635798127\n",
      "iteration... 11 n_cells... 150 nprobe... 1 acc@5... 58.387646332504964\n",
      "iteration... 12 n_cells... 150 nprobe... 5 acc@5... 67.08866694800018\n"
     ]
    },
    {
     "ename": "KeyboardInterrupt",
     "evalue": "",
     "output_type": "error",
     "traceback": [
      "\u001b[1;31m---------------------------------------------------------------------------\u001b[0m",
      "\u001b[1;31mKeyboardInterrupt\u001b[0m                         Traceback (most recent call last)",
      "    \u001b[1;31m[... skipping hidden 1 frame]\u001b[0m\n",
      "\u001b[1;32m<ipython-input-23-9abe890132a0>\u001b[0m in \u001b[0;36m<module>\u001b[1;34m\u001b[0m\n\u001b[0;32m      3\u001b[0m     \u001b[1;32mfor\u001b[0m \u001b[0mnprobe\u001b[0m \u001b[1;32min\u001b[0m \u001b[0mnprobe_array\u001b[0m\u001b[1;33m:\u001b[0m\u001b[1;33m\u001b[0m\u001b[1;33m\u001b[0m\u001b[0m\n\u001b[1;32m----> 4\u001b[1;33m         \u001b[0macc\u001b[0m \u001b[1;33m=\u001b[0m \u001b[0mfaiss_model_hyper\u001b[0m\u001b[1;33m(\u001b[0m\u001b[0mX_base_normal_SS\u001b[0m\u001b[1;33m,\u001b[0m \u001b[0mX_train_normal_SS_all\u001b[0m\u001b[1;33m,\u001b[0m \u001b[0mNUM_SAMPLES\u001b[0m\u001b[1;33m,\u001b[0m \u001b[0mn_cells\u001b[0m\u001b[1;33m,\u001b[0m \u001b[0mnprobe\u001b[0m\u001b[1;33m)\u001b[0m\u001b[1;33m\u001b[0m\u001b[1;33m\u001b[0m\u001b[0m\n\u001b[0m\u001b[0;32m      5\u001b[0m         print('iteration...', n_iter, 'n_cells...', n_cells, 'nprobe...', nprobe,\n",
      "\u001b[1;32m<ipython-input-19-b977cab450ba>\u001b[0m in \u001b[0;36mfaiss_model_hyper\u001b[1;34m(data_base, data_train, num_samples, n_cells, nprobe)\u001b[0m\n\u001b[0;32m     11\u001b[0m     \u001b[0mX_train\u001b[0m \u001b[1;33m=\u001b[0m \u001b[0mdata_train\u001b[0m\u001b[1;33m.\u001b[0m\u001b[0mdrop\u001b[0m\u001b[1;33m(\u001b[0m\u001b[1;34m'Target'\u001b[0m\u001b[1;33m,\u001b[0m \u001b[0maxis\u001b[0m\u001b[1;33m=\u001b[0m\u001b[1;36m1\u001b[0m\u001b[1;33m)\u001b[0m \u001b[1;31m# обучающая выборка\u001b[0m\u001b[1;33m\u001b[0m\u001b[1;33m\u001b[0m\u001b[0m\n\u001b[1;32m---> 12\u001b[1;33m     \u001b[0mr\u001b[0m\u001b[1;33m,\u001b[0m \u001b[0midx\u001b[0m \u001b[1;33m=\u001b[0m \u001b[0midx_l2\u001b[0m\u001b[1;33m.\u001b[0m\u001b[0msearch\u001b[0m\u001b[1;33m(\u001b[0m\u001b[0mnp\u001b[0m\u001b[1;33m.\u001b[0m\u001b[0mascontiguousarray\u001b[0m\u001b[1;33m(\u001b[0m\u001b[0mX_train\u001b[0m\u001b[1;33m.\u001b[0m\u001b[0mvalues\u001b[0m\u001b[1;33m)\u001b[0m\u001b[1;33m.\u001b[0m\u001b[0mastype\u001b[0m\u001b[1;33m(\u001b[0m\u001b[1;34m'float32'\u001b[0m\u001b[1;33m)\u001b[0m\u001b[1;33m,\u001b[0m \u001b[0mK_NEIGHBORS\u001b[0m\u001b[1;33m)\u001b[0m\u001b[1;33m\u001b[0m\u001b[1;33m\u001b[0m\u001b[0m\n\u001b[0m\u001b[0;32m     13\u001b[0m     \u001b[0maccuracy\u001b[0m \u001b[1;33m=\u001b[0m \u001b[0macc_5\u001b[0m\u001b[1;33m(\u001b[0m\u001b[0my_train\u001b[0m\u001b[1;33m,\u001b[0m \u001b[0midx\u001b[0m\u001b[1;33m,\u001b[0m \u001b[0mbase_index\u001b[0m\u001b[1;33m)\u001b[0m\u001b[1;33m\u001b[0m\u001b[1;33m\u001b[0m\u001b[0m\n",
      "\u001b[1;32m~\\anaconda3\\lib\\site-packages\\faiss\\class_wrappers.py\u001b[0m in \u001b[0;36mreplacement_search\u001b[1;34m(self, x, k, params, D, I)\u001b[0m\n\u001b[0;32m    342\u001b[0m \u001b[1;33m\u001b[0m\u001b[0m\n\u001b[1;32m--> 343\u001b[1;33m         \u001b[0mself\u001b[0m\u001b[1;33m.\u001b[0m\u001b[0msearch_c\u001b[0m\u001b[1;33m(\u001b[0m\u001b[0mn\u001b[0m\u001b[1;33m,\u001b[0m \u001b[0mswig_ptr\u001b[0m\u001b[1;33m(\u001b[0m\u001b[0mx\u001b[0m\u001b[1;33m)\u001b[0m\u001b[1;33m,\u001b[0m \u001b[0mk\u001b[0m\u001b[1;33m,\u001b[0m \u001b[0mswig_ptr\u001b[0m\u001b[1;33m(\u001b[0m\u001b[0mD\u001b[0m\u001b[1;33m)\u001b[0m\u001b[1;33m,\u001b[0m \u001b[0mswig_ptr\u001b[0m\u001b[1;33m(\u001b[0m\u001b[0mI\u001b[0m\u001b[1;33m)\u001b[0m\u001b[1;33m,\u001b[0m \u001b[0mparams\u001b[0m\u001b[1;33m)\u001b[0m\u001b[1;33m\u001b[0m\u001b[1;33m\u001b[0m\u001b[0m\n\u001b[0m\u001b[0;32m    344\u001b[0m         \u001b[1;32mreturn\u001b[0m \u001b[0mD\u001b[0m\u001b[1;33m,\u001b[0m \u001b[0mI\u001b[0m\u001b[1;33m\u001b[0m\u001b[1;33m\u001b[0m\u001b[0m\n",
      "\u001b[1;32m~\\anaconda3\\lib\\site-packages\\faiss\\swigfaiss.py\u001b[0m in \u001b[0;36msearch\u001b[1;34m(self, n, x, k, distances, labels, params)\u001b[0m\n\u001b[0;32m   5406\u001b[0m         \u001b[1;34mr\"\"\" assign the vectors, then call search_preassign\"\"\"\u001b[0m\u001b[1;33m\u001b[0m\u001b[1;33m\u001b[0m\u001b[0m\n\u001b[1;32m-> 5407\u001b[1;33m         \u001b[1;32mreturn\u001b[0m \u001b[0m_swigfaiss\u001b[0m\u001b[1;33m.\u001b[0m\u001b[0mIndexIVF_search\u001b[0m\u001b[1;33m(\u001b[0m\u001b[0mself\u001b[0m\u001b[1;33m,\u001b[0m \u001b[0mn\u001b[0m\u001b[1;33m,\u001b[0m \u001b[0mx\u001b[0m\u001b[1;33m,\u001b[0m \u001b[0mk\u001b[0m\u001b[1;33m,\u001b[0m \u001b[0mdistances\u001b[0m\u001b[1;33m,\u001b[0m \u001b[0mlabels\u001b[0m\u001b[1;33m,\u001b[0m \u001b[0mparams\u001b[0m\u001b[1;33m)\u001b[0m\u001b[1;33m\u001b[0m\u001b[1;33m\u001b[0m\u001b[0m\n\u001b[0m\u001b[0;32m   5408\u001b[0m \u001b[1;33m\u001b[0m\u001b[0m\n",
      "\u001b[1;31mKeyboardInterrupt\u001b[0m: ",
      "\nDuring handling of the above exception, another exception occurred:\n",
      "\u001b[1;31mKeyboardInterrupt\u001b[0m                         Traceback (most recent call last)",
      "\u001b[1;31mKeyboardInterrupt\u001b[0m: "
     ]
    }
   ],
   "source": [
    "n_iter = 1\n",
    "for n_cells in n_cells_array:\n",
    "    for nprobe in nprobe_array:\n",
    "        idx_l2, acc = faiss_model_hyper(X_base_normal_SS, X_train_normal_SS_all, NUM_SAMPLES, n_cells, nprobe)\n",
    "        print('iteration...', n_iter, 'n_cells...', n_cells, 'nprobe...', nprobe,\n",
    "              'acc@5...', acc)\n",
    "        n_iter += 1\n",
    "        if acc > best_acc_5:\n",
    "            best_acc_5 = acc\n",
    "            best_n_cells = n_cells\n",
    "            best_nprobe = nprobe\n",
    "\n",
    "print('best acc@5:', best_acc_5, '%')\n",
    "print('best_n_cells:', best_n_cells)\n",
    "print('best_nprobe:', best_nprobe)"
   ]
  },
  {
   "cell_type": "markdown",
   "id": "adeb6ed6-c3e9-445a-984e-fbbe08f99d6f",
   "metadata": {},
   "source": [
    "замечаем что самый лучший результат является 68.98% при n_cells = 50 и nprobe = 17."
   ]
  },
  {
   "cell_type": "markdown",
   "id": "2e5c5f3e-1dd9-447f-b070-c0cb58d7972c",
   "metadata": {},
   "source": [
    "### вывод \n",
    "По результатам проведенных исследований можно сделать следующие предварительные выводы:\n",
    "\n",
    "- замечаем что точность повышается на 0,3% при удалении все данные с выбросами.\n",
    "- точность модели повышается после нормализации данных с используванием стандартного нормализатора.\n",
    "- удаления столбцов 33, 44 и 59 повышается точность.\n",
    "- согласно проведенным исследованиям, наилучшие результаты дают значения n_cells = 50 nprobe = 17 (68.98%), "
   ]
  },
  {
   "cell_type": "markdown",
   "id": "c22bae1c-21d5-4409-9bb0-488b0936a1f6",
   "metadata": {},
   "source": [
    "### тестирования лучшей модели на валидационной выброке"
   ]
  },
  {
   "cell_type": "code",
   "execution_count": 17,
   "id": "65896bd4-cc6b-46d8-a433-a47b6b4c429b",
   "metadata": {},
   "outputs": [
    {
     "name": "stdout",
     "output_type": "stream",
     "text": [
      "Wall time: 20min 1s\n"
     ]
    }
   ],
   "source": [
    "%%time\n",
    "idx_l2, acc = faiss_model_hyper(X_base_normal_SS, X_train_normal_SS_all, num_samples=None, n_cells=50, nprobe=17)"
   ]
  },
  {
   "cell_type": "code",
   "execution_count": 20,
   "id": "43dfd953-398f-4a81-b384-c0c48413138e",
   "metadata": {},
   "outputs": [
    {
     "data": {
      "text/plain": [
       "69.27837951891968"
      ]
     },
     "execution_count": 20,
     "metadata": {},
     "output_type": "execute_result"
    }
   ],
   "source": [
    "acc"
   ]
  },
  {
   "cell_type": "code",
   "execution_count": null,
   "id": "0fdbcba0-9d19-427b-8da9-acddffdbc59e",
   "metadata": {},
   "outputs": [],
   "source": [
    "def acc_5(targets, indices, base_indices):\n",
    "    \"\"\" Функция для расчета значения метрики accuracy\n",
    "        входные параметры функции:\n",
    "        targets - вектор целевого признака\n",
    "        indices - матрица индексов найденных ближайших соседей\n",
    "        base_index - словарь базовых индексов \"\"\"\n",
    "    \n",
    "    acc = 0 # начальное значение метрики\n",
    "    for target, el in zip(targets.values.tolist(), indices.tolist()):\n",
    "        acc += int(target in [base_indices[r] for r in el])\n",
    "\n",
    "    return 100 * acc / len(indices)"
   ]
  },
  {
   "cell_type": "code",
   "execution_count": null,
   "id": "232d1f9a-459c-4ea3-93b1-f12485650e37",
   "metadata": {},
   "outputs": [],
   "source": [
    "def faiss_model_hyper(data_base, data_train, num_samples=None, n_cells=None, nprobe=None):\n",
    "    dims = data_base.shape[1] # размерность вектора признаков для каждого объекта\n",
    "    quantizer = faiss.IndexFlatL2(dims) # квантователь \n",
    "    idx_l2 = faiss.IndexIVFFlat(quantizer, dims, n_cells) # создание индекса с кластеризацией\n",
    "    idx_l2.train(np.ascontiguousarray(data_base.values[:num_samples, :]).astype('float32'))\n",
    "    idx_l2.add(np.ascontiguousarray(data_base.values).astype('float32'))\n",
    "    idx_l2.nprobe = nprobe \n",
    "    base_index = {k: v for k, v in enumerate(data_base.index.to_list())}\n",
    "    y_train = data_train['Target'] # целевой признак обучающей выборки\n",
    "    X_train = data_train.drop('Target', axis=1) # обучающая выборка\n",
    "    r, idx = idx_l2.search(np.ascontiguousarray(X_train.values).astype('float32'), K_NEIGHBORS)\n",
    "    accuracy = acc_5(y_train, idx, base_index)\n",
    "    return idx_l2, accuracy"
   ]
  },
  {
   "cell_type": "code",
   "execution_count": 19,
   "id": "b05b985b-161f-4c4c-955a-e1275c3abcc0",
   "metadata": {},
   "outputs": [
    {
     "name": "stdout",
     "output_type": "stream",
     "text": [
      "0.0 %\n"
     ]
    }
   ],
   "source": [
    "r, idx = idx_l2.search(np.ascontiguousarray(X_validation_normal_SS.values).astype('float32'), K_NEIGHBORS)\n",
    "base_index = {k: v for k, v in enumerate(X_base_normal_SS.index.to_list())}\n",
    "accuracy = acc_5(data_validation_answer, idx, base_index)\n",
    "print(accuracy, '%')"
   ]
  },
  {
   "cell_type": "markdown",
   "id": "e2b62027-d9fd-4682-895d-83eab75996b9",
   "metadata": {},
   "source": [
    "**Я здесь не понял в чём проблема!!!**"
   ]
  },
  {
   "cell_type": "markdown",
   "id": "f3bb4fa9-b0e7-44ff-a113-80bb25c2ae70",
   "metadata": {},
   "source": [
    "## Общий вывод"
   ]
  },
  {
   "cell_type": "markdown",
   "id": "7e47b030-e347-4428-822d-bf1f131b19cf",
   "metadata": {},
   "source": [
    "По результатам проведенной работы с помощью библиотеки FAISS был разработан и протестирован алгоритм мэтчинга товаров, позволяющий каждому товару из валидационной выборки выборки сопоставить наиболее близкие товары из базовой выборки (по заданной метрике качества - acc@5).<br>\n",
    "При решении данной задачи были выполнены следующие работы:\n",
    "- проведен первичиный исследовательский анализ и предобработка данных исходных датасетов;\n",
    "- найдены признаки, имеющие отличное от нормального распределения (под номерами 6, 21, 25, 33, 44, 59, 65 и 70), которые, скорее всего, являются препятствием для успешного обучения индекса FAISS (и последующего поиска похожих товаров) и возможных применяемых моделей;\n",
    "- из этих признаков удалено  33, 44, 59 потому что они имели вредное влияние на обучения модели,\n",
    "- повторено базовое решение (бейзлайн) задачи мэтчинга, давшее ок. 8.6 % качество;\n",
    "- проведена нормализация (масштабирование/стандартизация) признаков с помощью базового инструмента StandardScaler;\n",
    "- проведена проверка данных на коллинеарность, получено макс. значение коэффициента фи-корреляции $\\phi_K$, равное 0.4276 - такая слабая линейная зависимость признаков не позволила нам сделать математический вывод о возможности удаления каких-либо признаков из выборок;\n",
    "- проверено качество решения задачи поиска похожих товаров для отмасштабированных (скэйлированых) данных, которая показала, что только лишь одна нормализация позволила повысить качество решения задачи мэтчинга с 8.693 %  до 58.981 % - более, чем в 6 раз, что уже является неплохим результатом (при прочих равных условиях);\n",
    "- проведено исследование гиперпараметров алгоритма (функций библиотеки FAISS), таких как, количество кластеров, на которые разбивается выборка (n_cells) и количество соседних кластеров, в которых осуществляется поиск после разбиения на n_cells кластеров и нахождения центроидов данных кластеров (nprobe). \n",
    "- в неких небольших диапазонах изменения указанных параметров, наилучшие результаты дают значения n_cells = 50, nprobe = 17 (65.9 %), \n",
    "- обучения на всех экземпляров с оптимально модели дала точность = 69.27% на обучающую выборку, однак на валидационную выборку дала 0% (не нашел в чем проблема)"
   ]
  },
  {
   "cell_type": "code",
   "execution_count": null,
   "id": "072ab92d-3643-4808-9de5-e58106f18773",
   "metadata": {},
   "outputs": [],
   "source": []
  }
 ],
 "metadata": {
  "kernelspec": {
   "display_name": "Python 3",
   "language": "python",
   "name": "python3"
  },
  "language_info": {
   "codemirror_mode": {
    "name": "ipython",
    "version": 3
   },
   "file_extension": ".py",
   "mimetype": "text/x-python",
   "name": "python",
   "nbconvert_exporter": "python",
   "pygments_lexer": "ipython3",
   "version": "3.8.8"
  }
 },
 "nbformat": 4,
 "nbformat_minor": 5
}
