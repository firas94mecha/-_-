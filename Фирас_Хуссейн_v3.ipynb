{
 "cells": [
  {
   "cell_type": "markdown",
   "id": "4c49952e",
   "metadata": {},
   "source": [
    "<img src=\"http://s3.amazonaws.com/pix.iemoji.com/images/emoji/apple/ios-12/256/waving-hand.png\" align=left width=44, heigth=44>\n",
    "<div class=\"alert alert-info\">\n",
    "<b> Комментарий ревьюера</b>\n",
    "\n",
    "\n",
    "Привет, Фирас! Давай знакомиться! Меня зовут Дмитрий Махортов, и я буду проверять твой проект. Сразу предлагаю общение на «ты» 🙂, но если тебе это не комфортно, то дай знать, и мы перейдем на «вы». \n",
    "\n",
    "\n",
    "Моя основная цель — не указать на совершенные тобою ошибки, а поделиться своим опытом и помочь тебе погрузиться в увлекательный мир работы с данными и вырасти в крепкого профи. Это отдаленная цель. А ближайшая - сделать твою работу еще лучше )).\n",
    "   \n",
    "    \n",
    "Все ключевые этапы в работе выполнены, и я вижу что с проектом ты справшяешься. Есть моменты, которые нужно доработать, но я уверен, у тебя все получится.\n",
    "        \n",
    "Расскажу как обычно проходит проверка:    \n",
    "Бывают моменты, которые требуют пристального внимания. Комментарии по ним выделены <span style='background-color:#F7B3A4'> красным цветом </span> и обозначены значком 🛑. После их доработки проект будет принят.  🙂\n",
    " \n",
    "<span style='background-color:#B7EBA7'> Зеленым цветом </span> и значком ✅ отмечены удачные и элегантные решения, на которые можно опираться в будущих проектах. Или советы «со звездочкой», которые помогут тебе в будущем.\n",
    "\n",
    "<span style='background-color:#F9EDA6'>Жёлтым цветом </span> и значком ⚠️ выделено то, что в следующий раз можно сделать по-другому. Ты можешь учесть эти комментарии при выполнении будущих заданий или доработать проект сейчас (однако это не обязательно).\n",
    "\n",
    "Давай работать над проектом в диалоге: **если ты что-то меняешь в проекте по моим рекомендациям — пиши об этом**. Выбери для своих комментариев какой-то заметный цвет, так мне будет легче отследить изменения. Пожалуйста, **не перемещай, не изменяй и не удаляй мои комментарии**. Всё это поможет выполнить повторную проверку твоего проекта оперативнее. \n",
    "</div>"
   ]
  },
  {
   "cell_type": "markdown",
   "id": "85b39caa",
   "metadata": {},
   "source": [
    "<div class=\"alert\" style=\"background-color:#ead7f7;color:#8737bf\">\n",
    "    <font size=\"3\"><b>образец комментария студента</b></font>\n",
    "   \n",
    "Можешь использовать этот комментарий. Просто удали этот текст и вместо него напиши свой 🙂\n",
    "\n",
    "</div>"
   ]
  },
  {
   "cell_type": "markdown",
   "id": "15d596c5",
   "metadata": {},
   "source": [
    "<img src=\"http://s3.amazonaws.com/pix.iemoji.com/images/emoji/apple/ios-12/256/waving-hand.png\" align=left width=44, heigth=44>\n",
    "<div class=\"alert alert-info\">\n",
    "<b> Комментарий ревьюера v2</b>\n",
    "\n",
    "Привет! 🤝\n",
    "\n",
    "Работать над проектом, особенно таким большим и сложным без обратной связи что сделано а что нет крайне сложно. 🙂\n",
    "\n",
    "    \n",
    "К сожалению не нашел в проекте вообще ни одного твоего комментария, поэтому о внесенных изменениях приходится только догадыаться.\n",
    "    \n",
    "Поэтому ограничусь комментариями только там, где вижу исправление красных комментариев.\n",
    "    \n",
    "    \n",
    "\n",
    "</div>"
   ]
  },
  {
   "cell_type": "markdown",
   "id": "1ff1020a",
   "metadata": {
    "cellId": "pbwq209p45adtxfy5ofecd",
    "deletable": false,
    "editable": false,
    "execution_id": "7cb94123-6481-41de-973a-91abe63db303",
    "id": "1ff1020a",
    "tags": [
     "270beaa0-19d4-4537-bff1-11e2aaed886c"
    ]
   },
   "source": [
    "# Прекод\n",
    "\n",
    "# Сборный проект-4\n",
    "\n",
    "Вам поручено разработать демонстрационную версию поиска изображений по запросу.\n",
    "\n",
    "Для демонстрационной версии нужно обучить модель, которая получит векторное представление изображения, векторное представление текста, а на выходе выдаст число от 0 до 1 — покажет, насколько текст и картинка подходят друг другу.\n",
    "\n",
    "### Описание данных\n",
    "\n",
    "Данные лежат в папке `/datasets/image_search/` или доступны по [ссылке](https://code.s3.yandex.net/datasets/dsplus_integrated_project_4.zip).\n",
    "\n",
    "В файле `train_dataset.csv` находится информация, необходимая для обучения: имя файла изображения, идентификатор описания и текст описания. Для одной картинки может быть доступно до 5 описаний. Идентификатор описания имеет формат `<имя файла изображения>#<порядковый номер описания>`.\n",
    "\n",
    "В папке `train_images` содержатся изображения для тренировки модели.\n",
    "\n",
    "В файле `CrowdAnnotations.tsv` — данные по соответствию изображения и описания, полученные с помощью краудсорсинга. Номера колонок и соответствующий тип данных:\n",
    "\n",
    "1. Имя файла изображения.\n",
    "2. Идентификатор описания.\n",
    "3. Доля людей, подтвердивших, что описание соответствует изображению.\n",
    "4. Количество человек, подтвердивших, что описание соответствует изображению.\n",
    "5. Количество человек, подтвердивших, что описание не соответствует изображению.\n",
    "\n",
    "В файле `ExpertAnnotations.tsv` содержатся данные по соответствию изображения и описания, полученные в результате опроса экспертов. Номера колонок и соответствующий тип данных:\n",
    "\n",
    "1. Имя файла изображения.\n",
    "2. Идентификатор описания.\n",
    "\n",
    "3, 4, 5 — оценки трёх экспертов.\n",
    "\n",
    "Эксперты ставят оценки по шкале от 1 до 4, где 1 — изображение и запрос совершенно не соответствуют друг другу, 2 — запрос содержит элементы описания изображения, но в целом запрос тексту не соответствует, 3 — запрос и текст соответствуют с точностью до некоторых деталей, 4 — запрос и текст соответствуют полностью.\n",
    "\n",
    "В файле `test_queries.csv` находится информация, необходимая для тестирования: идентификатор запроса, текст запроса и релевантное изображение. Для одной картинки может быть доступно до 5 описаний. Идентификатор описания имеет формат `<имя файла изображения>#<порядковый номер описания>`.\n",
    "\n",
    "В папке `test_images` содержатся изображения для тестирования модели."
   ]
  },
  {
   "cell_type": "markdown",
   "id": "99489b26",
   "metadata": {
    "cellId": "n6vkjcacwu39w29bfocxt",
    "execution_id": "1b731a18-3394-4b62-b3f7-018692c2d6de",
    "id": "99489b26"
   },
   "source": [
    "## 1. Исследовательский анализ данных\n",
    "\n",
    "Наш датасет содержит экспертные и краудсорсинговые оценки соответствия текста и изображения.\n",
    "\n",
    "В файле с экспертными мнениями для каждой пары изображение-текст имеются оценки от трёх специалистов. Для решения задачи вы должны эти оценки агрегировать — превратить в одну. Существует несколько способов агрегации оценок, самый простой — голосование большинства: за какую оценку проголосовала большая часть экспертов (в нашем случае 2 или 3), та оценка и ставится как итоговая. Поскольку число экспертов меньше числа классов, может случиться, что каждый эксперт поставит разные оценки, например: 1, 4, 2. В таком случае данную пару изображение-текст можно исключить из датасета.\n",
    "\n",
    "Вы можете воспользоваться другим методом агрегации оценок или придумать свой.\n",
    "\n",
    "В файле с краудсорсинговыми оценками информация расположена в таком порядке:\n",
    "\n",
    "1. Доля исполнителей, подтвердивших, что текст **соответствует** картинке.\n",
    "2. Количество исполнителей, подтвердивших, что текст **соответствует** картинке.\n",
    "3. Количество исполнителей, подтвердивших, что текст **не соответствует** картинке.\n",
    "\n",
    "После анализа экспертных и краудсорсинговых оценок выберите либо одну из них, либо объедините их в одну по какому-то критерию: например, оценка эксперта принимается с коэффициентом 0.6, а крауда — с коэффициентом 0.4.\n",
    "\n",
    "Ваша модель должна возвращать на выходе вероятность соответствия изображения тексту, поэтому целевая переменная должна иметь значения от 0 до 1.\n"
   ]
  },
  {
   "cell_type": "markdown",
   "id": "2bdfdcbc",
   "metadata": {},
   "source": [
    "<img src=\"https://emojigraph.org/media/apple/check-mark-button_2705.png\" align=left width=33, heigth=33>\n",
    "<div class=\"alert alert-success\">\n",
    " 👍 Да, это хорошая практика - дать описание контекста и проблемы, которую мы решаем. </div>"
   ]
  },
  {
   "cell_type": "code",
   "execution_count": 1,
   "id": "a4a25ab8",
   "metadata": {
    "tags": []
   },
   "outputs": [],
   "source": [
    "import urllib.request\n",
    "import zipfile\n",
    "import os.path\n",
    "import nltk\n",
    "import numpy as np\n",
    "import pandas as pd\n",
    "import os\n",
    "import torch\n",
    "import torch.nn as nn\n",
    "import pickle\n",
    "import urllib.request\n",
    "import matplotlib.pyplot as plt\n",
    "from nltk.tokenize import word_tokenize\n",
    "from nltk.stem import WordNetLemmatizer\n",
    "from torch.utils.data import Dataset\n",
    "from torch.utils.data import DataLoader\n",
    "from torchvision.io import read_image\n",
    "from torchvision.models import resnet18, ResNet18_Weights\n",
    "from torchvision.models.feature_extraction import create_feature_extractor\n",
    "from PIL import Image\n",
    "from pathlib import Path\n",
    "from tqdm import tqdm\n",
    "from transformers import AutoTokenizer, AutoModel\n",
    "from sklearn.model_selection import GroupShuffleSplit\n",
    "from sklearn.linear_model import LinearRegression\n",
    "from sklearn.metrics import mean_squared_error\n",
    "from sklearn.preprocessing import StandardScaler"
   ]
  },
  {
   "cell_type": "markdown",
   "id": "736b6deb",
   "metadata": {},
   "source": [
    "<img src=\"https://emojigraph.org/media/apple/check-mark-button_2705.png\" align=left width=33, heigth=33>\n",
    "<div class=\"alert alert-success\">\n",
    "Отлично, все нужные библиотеки импортированы в начале ноутбука.Это хорошая практика.</div>"
   ]
  },
  {
   "cell_type": "code",
   "execution_count": 2,
   "id": "19ef7e87",
   "metadata": {},
   "outputs": [
    {
     "name": "stderr",
     "output_type": "stream",
     "text": [
      "[nltk_data] Downloading package wordnet to\n",
      "[nltk_data]     C:\\Users\\Firas\\AppData\\Roaming\\nltk_data...\n",
      "[nltk_data]   Package wordnet is already up-to-date!\n",
      "[nltk_data] Downloading package omw-1.4 to\n",
      "[nltk_data]     C:\\Users\\Firas\\AppData\\Roaming\\nltk_data...\n",
      "[nltk_data]   Package omw-1.4 is already up-to-date!\n",
      "[nltk_data] Downloading package punkt to\n",
      "[nltk_data]     C:\\Users\\Firas\\AppData\\Roaming\\nltk_data...\n",
      "[nltk_data]   Package punkt is already up-to-date!\n"
     ]
    },
    {
     "data": {
      "text/plain": [
       "True"
      ]
     },
     "execution_count": 2,
     "metadata": {},
     "output_type": "execute_result"
    }
   ],
   "source": [
    "nltk.download('wordnet')\n",
    "nltk.download('omw-1.4')\n",
    "nltk.download('punkt')"
   ]
  },
  {
   "cell_type": "code",
   "execution_count": 3,
   "id": "6e96514e",
   "metadata": {},
   "outputs": [],
   "source": [
    "DATA_URL='https://code.s3.yandex.net/datasets/dsplus_integrated_project_4.zip'\n",
    "ROOT_FOLDER='./dsplus_integrated_project_4'\n",
    "# исключаем повторную загрузку, если файл уже был ранее загружен\n",
    "OUT_FILE=os.path.exists(ROOT_FOLDER + '.zip')\n",
    "TRAIN_IMAGE_FOLDER=ROOT_FOLDER + '/to_upload/train_images'\n",
    "TEST_IMAGE_FOLDER=ROOT_FOLDER + '/to_upload/test_images'\n",
    "RANDOM_STATE=12345\n",
    "# максимальное количество примеров\n",
    "MAX_SAMPLE = 10\n",
    "# папка для хранения временных данных\n",
    "TMP='./cache'"
   ]
  },
  {
   "cell_type": "markdown",
   "id": "6c2919d6",
   "metadata": {},
   "source": [
    "<img src=\"https://emojigraph.org/media/apple/check-mark-button_2705.png\" align=left width=33, heigth=33>\n",
    "<div class=\"alert alert-success\">\n",
    "Большое тебе человеческое спасибо за вынос пути к данным в отдельную константу. Это сэкономило мне немало времени при проверке.\n",
    "\n",
    "Очень круто и то, что ты позаботился даже о скачивании архива из бакета Яндекс Практикума и его распаковке ))\n",
    "</div>"
   ]
  },
  {
   "cell_type": "code",
   "execution_count": 4,
   "id": "07f13f9c",
   "metadata": {},
   "outputs": [],
   "source": [
    "Path(TMP).mkdir(parents=True, exist_ok=True)"
   ]
  },
  {
   "cell_type": "code",
   "execution_count": 5,
   "id": "9c104649",
   "metadata": {},
   "outputs": [],
   "source": [
    "if OUT_FILE == False:\n",
    "    # скачиваем архив\n",
    "    urllib.request.urlretrieve(DATA_URL, 'dsplus_integrated_project_4.zip')\n",
    "    # распаковываем\n",
    "    with zipfile.ZipFile('./dsplus_integrated_project_4.zip', 'r') as zip_ref:\n",
    "        zip_ref.extractall(ROOT_FOLDER)"
   ]
  },
  {
   "cell_type": "code",
   "execution_count": 6,
   "id": "7b5dfd21",
   "metadata": {},
   "outputs": [
    {
     "name": "stdout",
     "output_type": "stream",
     "text": [
      "<class 'pandas.core.frame.DataFrame'>\n",
      "RangeIndex: 5822 entries, 0 to 5821\n",
      "Data columns (total 3 columns):\n",
      " #   Column      Non-Null Count  Dtype \n",
      "---  ------      --------------  ----- \n",
      " 0   image       5822 non-null   object\n",
      " 1   query_id    5822 non-null   object\n",
      " 2   query_text  5822 non-null   object\n",
      "dtypes: object(3)\n",
      "memory usage: 136.6+ KB\n"
     ]
    },
    {
     "data": {
      "text/html": [
       "<div>\n",
       "<style scoped>\n",
       "    .dataframe tbody tr th:only-of-type {\n",
       "        vertical-align: middle;\n",
       "    }\n",
       "\n",
       "    .dataframe tbody tr th {\n",
       "        vertical-align: top;\n",
       "    }\n",
       "\n",
       "    .dataframe thead th {\n",
       "        text-align: right;\n",
       "    }\n",
       "</style>\n",
       "<table border=\"1\" class=\"dataframe\">\n",
       "  <thead>\n",
       "    <tr style=\"text-align: right;\">\n",
       "      <th></th>\n",
       "      <th>image</th>\n",
       "      <th>query_id</th>\n",
       "      <th>query_text</th>\n",
       "    </tr>\n",
       "  </thead>\n",
       "  <tbody>\n",
       "    <tr>\n",
       "      <th>0</th>\n",
       "      <td>1056338697_4f7d7ce270.jpg</td>\n",
       "      <td>2549968784_39bfbe44f9.jpg#2</td>\n",
       "      <td>A young child is wearing blue goggles and sitt...</td>\n",
       "    </tr>\n",
       "    <tr>\n",
       "      <th>1</th>\n",
       "      <td>1262583859_653f1469a9.jpg</td>\n",
       "      <td>2549968784_39bfbe44f9.jpg#2</td>\n",
       "      <td>A young child is wearing blue goggles and sitt...</td>\n",
       "    </tr>\n",
       "    <tr>\n",
       "      <th>2</th>\n",
       "      <td>2447284966_d6bbdb4b6e.jpg</td>\n",
       "      <td>2549968784_39bfbe44f9.jpg#2</td>\n",
       "      <td>A young child is wearing blue goggles and sitt...</td>\n",
       "    </tr>\n",
       "    <tr>\n",
       "      <th>3</th>\n",
       "      <td>2549968784_39bfbe44f9.jpg</td>\n",
       "      <td>2549968784_39bfbe44f9.jpg#2</td>\n",
       "      <td>A young child is wearing blue goggles and sitt...</td>\n",
       "    </tr>\n",
       "    <tr>\n",
       "      <th>4</th>\n",
       "      <td>2621415349_ef1a7e73be.jpg</td>\n",
       "      <td>2549968784_39bfbe44f9.jpg#2</td>\n",
       "      <td>A young child is wearing blue goggles and sitt...</td>\n",
       "    </tr>\n",
       "  </tbody>\n",
       "</table>\n",
       "</div>"
      ],
      "text/plain": [
       "                       image                     query_id  \\\n",
       "0  1056338697_4f7d7ce270.jpg  2549968784_39bfbe44f9.jpg#2   \n",
       "1  1262583859_653f1469a9.jpg  2549968784_39bfbe44f9.jpg#2   \n",
       "2  2447284966_d6bbdb4b6e.jpg  2549968784_39bfbe44f9.jpg#2   \n",
       "3  2549968784_39bfbe44f9.jpg  2549968784_39bfbe44f9.jpg#2   \n",
       "4  2621415349_ef1a7e73be.jpg  2549968784_39bfbe44f9.jpg#2   \n",
       "\n",
       "                                          query_text  \n",
       "0  A young child is wearing blue goggles and sitt...  \n",
       "1  A young child is wearing blue goggles and sitt...  \n",
       "2  A young child is wearing blue goggles and sitt...  \n",
       "3  A young child is wearing blue goggles and sitt...  \n",
       "4  A young child is wearing blue goggles and sitt...  "
      ]
     },
     "execution_count": 6,
     "metadata": {},
     "output_type": "execute_result"
    }
   ],
   "source": [
    "train_dataset_csv = pd.read_csv(ROOT_FOLDER + '/to_upload/train_dataset.csv')\n",
    "\n",
    "train_dataset_csv.info()\n",
    "\n",
    "train_dataset_csv.head()"
   ]
  },
  {
   "cell_type": "markdown",
   "id": "ba5c5cbf",
   "metadata": {},
   "source": [
    "<img src=\"https://emojigraph.org/media/apple/check-mark-button_2705.png\" align=left width=33, heigth=33>\n",
    "<div class=\"alert alert-success\">\n",
    " 👍 </div>"
   ]
  },
  {
   "cell_type": "code",
   "execution_count": 7,
   "id": "3aca2b05",
   "metadata": {},
   "outputs": [
    {
     "name": "stdout",
     "output_type": "stream",
     "text": [
      "<class 'pandas.core.frame.DataFrame'>\n",
      "RangeIndex: 47830 entries, 0 to 47829\n",
      "Data columns (total 5 columns):\n",
      " #   Column    Non-Null Count  Dtype  \n",
      "---  ------    --------------  -----  \n",
      " 0   image     47830 non-null  object \n",
      " 1   query_id  47830 non-null  object \n",
      " 2   positive  47830 non-null  float64\n",
      " 3   n1        47830 non-null  int64  \n",
      " 4   n2        47830 non-null  int64  \n",
      "dtypes: float64(1), int64(2), object(2)\n",
      "memory usage: 1.8+ MB\n"
     ]
    },
    {
     "data": {
      "text/html": [
       "<div>\n",
       "<style scoped>\n",
       "    .dataframe tbody tr th:only-of-type {\n",
       "        vertical-align: middle;\n",
       "    }\n",
       "\n",
       "    .dataframe tbody tr th {\n",
       "        vertical-align: top;\n",
       "    }\n",
       "\n",
       "    .dataframe thead th {\n",
       "        text-align: right;\n",
       "    }\n",
       "</style>\n",
       "<table border=\"1\" class=\"dataframe\">\n",
       "  <thead>\n",
       "    <tr style=\"text-align: right;\">\n",
       "      <th></th>\n",
       "      <th>image</th>\n",
       "      <th>query_id</th>\n",
       "      <th>positive</th>\n",
       "      <th>n1</th>\n",
       "      <th>n2</th>\n",
       "    </tr>\n",
       "  </thead>\n",
       "  <tbody>\n",
       "    <tr>\n",
       "      <th>0</th>\n",
       "      <td>1056338697_4f7d7ce270.jpg</td>\n",
       "      <td>1056338697_4f7d7ce270.jpg#2</td>\n",
       "      <td>1.0</td>\n",
       "      <td>3</td>\n",
       "      <td>0</td>\n",
       "    </tr>\n",
       "    <tr>\n",
       "      <th>1</th>\n",
       "      <td>1056338697_4f7d7ce270.jpg</td>\n",
       "      <td>114051287_dd85625a04.jpg#2</td>\n",
       "      <td>0.0</td>\n",
       "      <td>0</td>\n",
       "      <td>3</td>\n",
       "    </tr>\n",
       "    <tr>\n",
       "      <th>2</th>\n",
       "      <td>1056338697_4f7d7ce270.jpg</td>\n",
       "      <td>1427391496_ea512cbe7f.jpg#2</td>\n",
       "      <td>0.0</td>\n",
       "      <td>0</td>\n",
       "      <td>3</td>\n",
       "    </tr>\n",
       "    <tr>\n",
       "      <th>3</th>\n",
       "      <td>1056338697_4f7d7ce270.jpg</td>\n",
       "      <td>2073964624_52da3a0fc4.jpg#2</td>\n",
       "      <td>0.0</td>\n",
       "      <td>0</td>\n",
       "      <td>3</td>\n",
       "    </tr>\n",
       "    <tr>\n",
       "      <th>4</th>\n",
       "      <td>1056338697_4f7d7ce270.jpg</td>\n",
       "      <td>2083434441_a93bc6306b.jpg#2</td>\n",
       "      <td>0.0</td>\n",
       "      <td>0</td>\n",
       "      <td>3</td>\n",
       "    </tr>\n",
       "  </tbody>\n",
       "</table>\n",
       "</div>"
      ],
      "text/plain": [
       "                       image                     query_id  positive  n1  n2\n",
       "0  1056338697_4f7d7ce270.jpg  1056338697_4f7d7ce270.jpg#2       1.0   3   0\n",
       "1  1056338697_4f7d7ce270.jpg   114051287_dd85625a04.jpg#2       0.0   0   3\n",
       "2  1056338697_4f7d7ce270.jpg  1427391496_ea512cbe7f.jpg#2       0.0   0   3\n",
       "3  1056338697_4f7d7ce270.jpg  2073964624_52da3a0fc4.jpg#2       0.0   0   3\n",
       "4  1056338697_4f7d7ce270.jpg  2083434441_a93bc6306b.jpg#2       0.0   0   3"
      ]
     },
     "execution_count": 7,
     "metadata": {},
     "output_type": "execute_result"
    }
   ],
   "source": [
    "crowd_annotations_tsv = pd.read_csv(ROOT_FOLDER + '/to_upload/CrowdAnnotations.tsv',\n",
    "                                    sep='\\t',\n",
    "                                    header=None,\n",
    "                                    names=['image', 'query_id', 'positive', 'n1', 'n2'])\n",
    "\n",
    "crowd_annotations_tsv.info()\n",
    "\n",
    "crowd_annotations_tsv.head()"
   ]
  },
  {
   "cell_type": "markdown",
   "id": "775d4503",
   "metadata": {},
   "source": [
    "Описание колонок:\n",
    "\n",
    "image - Имя файла изображения;\n",
    "query_id - Идентификатор описания;\n",
    "positive - Доля людей, подтвердивших, что описание соответствует изображению;\n",
    "n1 - Количество человек, подтвердивших, что описание соответствует изображению;\n",
    "n2 - Количество человек, подтвердивших, что описание не соответствует изображению."
   ]
  },
  {
   "cell_type": "markdown",
   "id": "31a67299",
   "metadata": {},
   "source": [
    "<img src=\"https://emojigraph.org/media/apple/check-mark-button_2705.png\" align=left width=33, heigth=33>\n",
    "<div class=\"alert alert-success\">\n",
    " 👍 </div>"
   ]
  },
  {
   "cell_type": "code",
   "execution_count": 8,
   "id": "362e5e79",
   "metadata": {},
   "outputs": [
    {
     "name": "stdout",
     "output_type": "stream",
     "text": [
      "<class 'pandas.core.frame.DataFrame'>\n",
      "RangeIndex: 5822 entries, 0 to 5821\n",
      "Data columns (total 5 columns):\n",
      " #   Column    Non-Null Count  Dtype \n",
      "---  ------    --------------  ----- \n",
      " 0   image     5822 non-null   object\n",
      " 1   query_id  5822 non-null   object\n",
      " 2   n1        5822 non-null   int64 \n",
      " 3   n2        5822 non-null   int64 \n",
      " 4   n3        5822 non-null   int64 \n",
      "dtypes: int64(3), object(2)\n",
      "memory usage: 227.5+ KB\n"
     ]
    },
    {
     "data": {
      "text/html": [
       "<div>\n",
       "<style scoped>\n",
       "    .dataframe tbody tr th:only-of-type {\n",
       "        vertical-align: middle;\n",
       "    }\n",
       "\n",
       "    .dataframe tbody tr th {\n",
       "        vertical-align: top;\n",
       "    }\n",
       "\n",
       "    .dataframe thead th {\n",
       "        text-align: right;\n",
       "    }\n",
       "</style>\n",
       "<table border=\"1\" class=\"dataframe\">\n",
       "  <thead>\n",
       "    <tr style=\"text-align: right;\">\n",
       "      <th></th>\n",
       "      <th>image</th>\n",
       "      <th>query_id</th>\n",
       "      <th>n1</th>\n",
       "      <th>n2</th>\n",
       "      <th>n3</th>\n",
       "    </tr>\n",
       "  </thead>\n",
       "  <tbody>\n",
       "    <tr>\n",
       "      <th>0</th>\n",
       "      <td>1056338697_4f7d7ce270.jpg</td>\n",
       "      <td>2549968784_39bfbe44f9.jpg#2</td>\n",
       "      <td>1</td>\n",
       "      <td>1</td>\n",
       "      <td>1</td>\n",
       "    </tr>\n",
       "    <tr>\n",
       "      <th>1</th>\n",
       "      <td>1056338697_4f7d7ce270.jpg</td>\n",
       "      <td>2718495608_d8533e3ac5.jpg#2</td>\n",
       "      <td>1</td>\n",
       "      <td>1</td>\n",
       "      <td>2</td>\n",
       "    </tr>\n",
       "    <tr>\n",
       "      <th>2</th>\n",
       "      <td>1056338697_4f7d7ce270.jpg</td>\n",
       "      <td>3181701312_70a379ab6e.jpg#2</td>\n",
       "      <td>1</td>\n",
       "      <td>1</td>\n",
       "      <td>2</td>\n",
       "    </tr>\n",
       "    <tr>\n",
       "      <th>3</th>\n",
       "      <td>1056338697_4f7d7ce270.jpg</td>\n",
       "      <td>3207358897_bfa61fa3c6.jpg#2</td>\n",
       "      <td>1</td>\n",
       "      <td>2</td>\n",
       "      <td>2</td>\n",
       "    </tr>\n",
       "    <tr>\n",
       "      <th>4</th>\n",
       "      <td>1056338697_4f7d7ce270.jpg</td>\n",
       "      <td>3286822339_5535af6b93.jpg#2</td>\n",
       "      <td>1</td>\n",
       "      <td>1</td>\n",
       "      <td>2</td>\n",
       "    </tr>\n",
       "  </tbody>\n",
       "</table>\n",
       "</div>"
      ],
      "text/plain": [
       "                       image                     query_id  n1  n2  n3\n",
       "0  1056338697_4f7d7ce270.jpg  2549968784_39bfbe44f9.jpg#2   1   1   1\n",
       "1  1056338697_4f7d7ce270.jpg  2718495608_d8533e3ac5.jpg#2   1   1   2\n",
       "2  1056338697_4f7d7ce270.jpg  3181701312_70a379ab6e.jpg#2   1   1   2\n",
       "3  1056338697_4f7d7ce270.jpg  3207358897_bfa61fa3c6.jpg#2   1   2   2\n",
       "4  1056338697_4f7d7ce270.jpg  3286822339_5535af6b93.jpg#2   1   1   2"
      ]
     },
     "execution_count": 8,
     "metadata": {},
     "output_type": "execute_result"
    }
   ],
   "source": [
    "expert_annotations_tsv = pd.read_csv(ROOT_FOLDER + '/to_upload/ExpertAnnotations.tsv',\n",
    "                                     sep='\\t',\n",
    "                                     header=None,\n",
    "                                     names=['image', 'query_id', 'n1', 'n2', 'n3'])\n",
    "\n",
    "expert_annotations_tsv.reset_index(inplace=True, drop=True)\n",
    "\n",
    "expert_annotations_tsv.info()\n",
    "\n",
    "expert_annotations_tsv.head()"
   ]
  },
  {
   "cell_type": "markdown",
   "id": "03d30eea",
   "metadata": {},
   "source": [
    "<img src=\"https://emojigraph.org/media/apple/check-mark-button_2705.png\" align=left width=33, heigth=33>\n",
    "<div class=\"alert alert-success\">\n",
    " 👍 \n",
    "\n",
    "Важно обратить внимание, что в датафреймах expert_annotations_tsv и train_dataset_csv содержатся одинаковые пары (изображение + описание), просто чуть разная информация,\n",
    "</div>"
   ]
  },
  {
   "cell_type": "markdown",
   "id": "ca32fccd",
   "metadata": {},
   "source": [
    "Описание колонок:\n",
    "\n",
    "image - Имя файла изображения;\n",
    "query_id - Идентификатор описания;\n",
    "n1 — оценка 1 эксперта;\n",
    "n2 — оценка 2 эксперта;\n",
    "n3 — оценка 3 эксперта.\n",
    "Выполним обработку данных краудсорсинга:\n",
    "\n",
    "добавим колонку n0 с агрегированной оценкой;\n",
    "добавим колонку positive с долей, подтвердивших, что описание соотвествует изображению.\n",
    "Эксперты ставят оценки по шкале от 1 до 4, где\n",
    "\n",
    "1 — изображение и запрос совершенно не соответствуют друг другу;\n",
    "2 — запрос содержит элементы описания изображения, но в целом запрос тексту не соответствует;\n",
    "3 — запрос и текст соответствуют с точностью до некоторых деталей;\n",
    "4 — запрос и текст соответствуют полностью.\n",
    "Примечание: \"положительными\" будем считать оценки 3 и 4"
   ]
  },
  {
   "cell_type": "code",
   "execution_count": 9,
   "id": "16047602",
   "metadata": {},
   "outputs": [],
   "source": [
    "# выполним обработку данных краудсорсинга\n",
    "def calc_avg(row):\n",
    "    \"\"\"\n",
    "    Вычисление результата \"голосования\" способом большинства\n",
    "\n",
    "    Параметры:\n",
    "    ----------\n",
    "    row: Series\n",
    "\n",
    "    Результат:\n",
    "    ----------\n",
    "    int - число\n",
    "    \"\"\"\n",
    "    array = [row['n1'], row['n2'], row['n3']]\n",
    "    u, c = np.unique(array, return_counts=True)\n",
    "\n",
    "    # находим самую частую оценку\n",
    "    y = u[c == c.max()]\n",
    "    # вычисляем долю найденных оценок\n",
    "    percentages = dict(zip(u, c / len(array)))\n",
    "\n",
    "    # \"позитивными\" будем считать, тех у кого оценка 3 или 4\n",
    "    row['n0'] = y[0] if len(y) == 1 else 0\n",
    "    row['positive'] = percentages[y[0]] if len(y) == 1 and y[0] in [3, 4] else 0\n",
    "\n",
    "    return row"
   ]
  },
  {
   "cell_type": "markdown",
   "id": "13dbdd78",
   "metadata": {},
   "source": [
    "<img src=\"https://upload.wikimedia.org/wikipedia/commons/b/ba/Warning_sign_4.0.png\" align=left width=44, heigth=33>\n",
    "<div class=\"alert alert-warning\">\n",
    "Мне кажется ты совершенно зря приводишь экспертны еценки к дискретному виду (0-1). Сила экспертных оценок в \"непрерывной\" шкале, т.е. они отражают степень соответствия изображения описанию.\n",
    "    \n",
    "И если изображение частично соответствует описанию, модель может это учесть (но не получит эту информацию из бинарных данных).\n",
    "    \n",
    "На мой взгляд лучше просто привести данные из одного масштаба в другой, но с сохранением промежуточных значений.    \n",
    "\n",
    "</div>"
   ]
  },
  {
   "cell_type": "code",
   "execution_count": 10,
   "id": "a7039a20",
   "metadata": {},
   "outputs": [],
   "source": [
    "expert_annotations_tsv = expert_annotations_tsv.apply(calc_avg, axis=1)"
   ]
  },
  {
   "cell_type": "code",
   "execution_count": 11,
   "id": "94909d15",
   "metadata": {},
   "outputs": [
    {
     "data": {
      "text/html": [
       "<div>\n",
       "<style scoped>\n",
       "    .dataframe tbody tr th:only-of-type {\n",
       "        vertical-align: middle;\n",
       "    }\n",
       "\n",
       "    .dataframe tbody tr th {\n",
       "        vertical-align: top;\n",
       "    }\n",
       "\n",
       "    .dataframe thead th {\n",
       "        text-align: right;\n",
       "    }\n",
       "</style>\n",
       "<table border=\"1\" class=\"dataframe\">\n",
       "  <thead>\n",
       "    <tr style=\"text-align: right;\">\n",
       "      <th></th>\n",
       "      <th>image</th>\n",
       "      <th>query_id</th>\n",
       "      <th>n1</th>\n",
       "      <th>n2</th>\n",
       "      <th>n3</th>\n",
       "      <th>n0</th>\n",
       "      <th>positive</th>\n",
       "    </tr>\n",
       "  </thead>\n",
       "  <tbody>\n",
       "    <tr>\n",
       "      <th>17</th>\n",
       "      <td>1082379191_ec1e53f996.jpg</td>\n",
       "      <td>1536774449_e16b1b6382.jpg#2</td>\n",
       "      <td>1</td>\n",
       "      <td>2</td>\n",
       "      <td>3</td>\n",
       "      <td>0</td>\n",
       "      <td>0.0</td>\n",
       "    </tr>\n",
       "    <tr>\n",
       "      <th>40</th>\n",
       "      <td>1119015538_e8e796281e.jpg</td>\n",
       "      <td>2534502836_7a75305655.jpg#2</td>\n",
       "      <td>2</td>\n",
       "      <td>3</td>\n",
       "      <td>4</td>\n",
       "      <td>0</td>\n",
       "      <td>0.0</td>\n",
       "    </tr>\n",
       "    <tr>\n",
       "      <th>47</th>\n",
       "      <td>1122944218_8eb3607403.jpg</td>\n",
       "      <td>3325497914_f9014d615b.jpg#2</td>\n",
       "      <td>2</td>\n",
       "      <td>3</td>\n",
       "      <td>4</td>\n",
       "      <td>0</td>\n",
       "      <td>0.0</td>\n",
       "    </tr>\n",
       "    <tr>\n",
       "      <th>168</th>\n",
       "      <td>1287475186_2dee85f1a5.jpg</td>\n",
       "      <td>2918769188_565dd48060.jpg#2</td>\n",
       "      <td>1</td>\n",
       "      <td>2</td>\n",
       "      <td>3</td>\n",
       "      <td>0</td>\n",
       "      <td>0.0</td>\n",
       "    </tr>\n",
       "    <tr>\n",
       "      <th>199</th>\n",
       "      <td>1329832826_432538d331.jpg</td>\n",
       "      <td>1536774449_e16b1b6382.jpg#2</td>\n",
       "      <td>1</td>\n",
       "      <td>2</td>\n",
       "      <td>3</td>\n",
       "      <td>0</td>\n",
       "      <td>0.0</td>\n",
       "    </tr>\n",
       "  </tbody>\n",
       "</table>\n",
       "</div>"
      ],
      "text/plain": [
       "                         image                     query_id  n1  n2  n3  n0  \\\n",
       "17   1082379191_ec1e53f996.jpg  1536774449_e16b1b6382.jpg#2   1   2   3   0   \n",
       "40   1119015538_e8e796281e.jpg  2534502836_7a75305655.jpg#2   2   3   4   0   \n",
       "47   1122944218_8eb3607403.jpg  3325497914_f9014d615b.jpg#2   2   3   4   0   \n",
       "168  1287475186_2dee85f1a5.jpg  2918769188_565dd48060.jpg#2   1   2   3   0   \n",
       "199  1329832826_432538d331.jpg  1536774449_e16b1b6382.jpg#2   1   2   3   0   \n",
       "\n",
       "     positive  \n",
       "17        0.0  \n",
       "40        0.0  \n",
       "47        0.0  \n",
       "168       0.0  \n",
       "199       0.0  "
      ]
     },
     "metadata": {},
     "output_type": "display_data"
    }
   ],
   "source": [
    "# удалим те мнения экспертов, где они полностью разошлись\n",
    "expert_annotations_n0 = expert_annotations_tsv[expert_annotations_tsv['n0'] == 0]\n",
    "\n",
    "display(expert_annotations_n0.head())\n",
    "\n",
    "expert_annotations_tsv.drop(expert_annotations_n0.index, inplace=True)"
   ]
  },
  {
   "cell_type": "code",
   "execution_count": 12,
   "id": "941981f8",
   "metadata": {},
   "outputs": [
    {
     "name": "stdout",
     "output_type": "stream",
     "text": [
      "<class 'pandas.core.frame.DataFrame'>\n",
      "Int64Index: 5696 entries, 0 to 5821\n",
      "Data columns (total 7 columns):\n",
      " #   Column    Non-Null Count  Dtype  \n",
      "---  ------    --------------  -----  \n",
      " 0   image     5696 non-null   object \n",
      " 1   query_id  5696 non-null   object \n",
      " 2   n1        5696 non-null   int64  \n",
      " 3   n2        5696 non-null   int64  \n",
      " 4   n3        5696 non-null   int64  \n",
      " 5   n0        5696 non-null   int64  \n",
      " 6   positive  5696 non-null   float64\n",
      "dtypes: float64(1), int64(4), object(2)\n",
      "memory usage: 356.0+ KB\n"
     ]
    }
   ],
   "source": [
    "expert_annotations_tsv.info()"
   ]
  },
  {
   "cell_type": "code",
   "execution_count": 13,
   "id": "be7f7973",
   "metadata": {},
   "outputs": [],
   "source": [
    "# для удобства установим индексы\n",
    "crowd_annotations_tsv.set_index(['image', 'query_id'], inplace=True)\n",
    "expert_annotations_tsv.set_index(['image', 'query_id'], inplace=True)"
   ]
  },
  {
   "cell_type": "code",
   "execution_count": 14,
   "id": "a99e0c15",
   "metadata": {},
   "outputs": [],
   "source": [
    "annotations = crowd_annotations_tsv[['positive']].merge(\n",
    "    expert_annotations_tsv[['positive']],\n",
    "    how='outer', # используем это объединение, так как нужно соеденить все данные независимо от ключа\n",
    "    left_index=True,\n",
    "    right_index=True,\n",
    "    suffixes=('_crowd', '_expert')\n",
    ")"
   ]
  },
  {
   "cell_type": "code",
   "execution_count": 15,
   "id": "c1e59db1-3914-42cb-820e-8a72b275d910",
   "metadata": {},
   "outputs": [
    {
     "data": {
      "text/html": [
       "<div>\n",
       "<style scoped>\n",
       "    .dataframe tbody tr th:only-of-type {\n",
       "        vertical-align: middle;\n",
       "    }\n",
       "\n",
       "    .dataframe tbody tr th {\n",
       "        vertical-align: top;\n",
       "    }\n",
       "\n",
       "    .dataframe thead th {\n",
       "        text-align: right;\n",
       "    }\n",
       "</style>\n",
       "<table border=\"1\" class=\"dataframe\">\n",
       "  <thead>\n",
       "    <tr style=\"text-align: right;\">\n",
       "      <th></th>\n",
       "      <th></th>\n",
       "      <th>positive_crowd</th>\n",
       "      <th>positive_expert</th>\n",
       "    </tr>\n",
       "    <tr>\n",
       "      <th>image</th>\n",
       "      <th>query_id</th>\n",
       "      <th></th>\n",
       "      <th></th>\n",
       "    </tr>\n",
       "  </thead>\n",
       "  <tbody>\n",
       "    <tr>\n",
       "      <th rowspan=\"5\" valign=\"top\">1056338697_4f7d7ce270.jpg</th>\n",
       "      <th>1056338697_4f7d7ce270.jpg#2</th>\n",
       "      <td>1.0</td>\n",
       "      <td>NaN</td>\n",
       "    </tr>\n",
       "    <tr>\n",
       "      <th>114051287_dd85625a04.jpg#2</th>\n",
       "      <td>0.0</td>\n",
       "      <td>NaN</td>\n",
       "    </tr>\n",
       "    <tr>\n",
       "      <th>1427391496_ea512cbe7f.jpg#2</th>\n",
       "      <td>0.0</td>\n",
       "      <td>NaN</td>\n",
       "    </tr>\n",
       "    <tr>\n",
       "      <th>2073964624_52da3a0fc4.jpg#2</th>\n",
       "      <td>0.0</td>\n",
       "      <td>NaN</td>\n",
       "    </tr>\n",
       "    <tr>\n",
       "      <th>2083434441_a93bc6306b.jpg#2</th>\n",
       "      <td>0.0</td>\n",
       "      <td>NaN</td>\n",
       "    </tr>\n",
       "  </tbody>\n",
       "</table>\n",
       "</div>"
      ],
      "text/plain": [
       "                                                       positive_crowd  \\\n",
       "image                     query_id                                      \n",
       "1056338697_4f7d7ce270.jpg 1056338697_4f7d7ce270.jpg#2             1.0   \n",
       "                          114051287_dd85625a04.jpg#2              0.0   \n",
       "                          1427391496_ea512cbe7f.jpg#2             0.0   \n",
       "                          2073964624_52da3a0fc4.jpg#2             0.0   \n",
       "                          2083434441_a93bc6306b.jpg#2             0.0   \n",
       "\n",
       "                                                       positive_expert  \n",
       "image                     query_id                                      \n",
       "1056338697_4f7d7ce270.jpg 1056338697_4f7d7ce270.jpg#2              NaN  \n",
       "                          114051287_dd85625a04.jpg#2               NaN  \n",
       "                          1427391496_ea512cbe7f.jpg#2              NaN  \n",
       "                          2073964624_52da3a0fc4.jpg#2              NaN  \n",
       "                          2083434441_a93bc6306b.jpg#2              NaN  "
      ]
     },
     "metadata": {},
     "output_type": "display_data"
    }
   ],
   "source": [
    "display(annotations.head())"
   ]
  },
  {
   "cell_type": "markdown",
   "id": "30777649",
   "metadata": {},
   "source": [
    "<img src=\"https://upload.wikimedia.org/wikipedia/commons/b/ba/Warning_sign_4.0.png\" align=left width=44, heigth=33>\n",
    "<div class=\"alert alert-warning\">\n",
    "Пожалуйста не забывай показывать, что же получилось после такого сложного преобразования. Важно показать как несколько строк, так и общую информацию о датафрейме (через info).\n",
    "    \n",
    "На выпускном проекте это может быть красный комментарий.    \n",
    "\n",
    "</div>"
   ]
  },
  {
   "cell_type": "markdown",
   "id": "8b1297a3",
   "metadata": {},
   "source": [
    "<img src=\"https://emojigraph.org/media/apple/check-mark-button_2705.png\" align=left width=33, heigth=33>\n",
    "<div class=\"alert alert-success\">\n",
    "\n",
    "По объединению экспертных и крауд оценок все ОК, но подсвечу возможные альтернативы\n",
    "    \n",
    "--------------    \n",
    "    \n",
    "    \n",
    "В этом проекте есть несколько возможных стратегий работы с обучающими и краудсорс оценками,  вот эти стратегии с плюсами и минусами:\n",
    "   \n",
    "\n",
    "   - использовать соединение через outer, в этом случае, при корректной обработке пропусков мы можем получить более 50К размеченых пар. К плюсам данного подхода можно отнести большое количество данных. Минус - в основном это будут данные, размеченные краудсорсерами, а там качество раметки ниже.\n",
    "   - использовать только экспертные оценки. плюс - высокое качество данных (разметка имеет шкалу). Минус - данных меньше.  Поясню по поводу качества разметки на примере: если на изображении одна собака, а в описании \"две собаки бегут по берегу\", то эксперты поставять соответствие 0,6-0,7 (переводя в шкалу 0-1), а краудсорсеры поставят 0.  Но на экспертных оценках модель хотя-бы научится находить собак, а на краудсор оценках ничему не начится.\n",
    "\n",
    "   - использование соединения через left.  Данный подход очевидно проигрывает второму варианту: данных столько же, нужно дополнительно возиться с объединением, но качество разметки снижается.. Но это соответсвует предложениям авторов проекта, поэтому такой подход имеет право на жизнь\n",
    "\n",
    "   - объединение через inner. Тут все плохо - и данных ОЧЕНЬ мало (в два раза меньше, чем использовать только экспертные оценки) и качество у них \"подпорчено\". И навыков по обработке пропусков не получаем.....\n",
    "--------------------\n",
    "    \n",
    "Скажу честно - мой фаворит это использование только экспертных оценок (и конечно же без потери информации засчет попытки сделать бинарный ответ).    \n",
    "\n",
    "</div>"
   ]
  },
  {
   "cell_type": "code",
   "execution_count": 16,
   "id": "1adcfb7a",
   "metadata": {},
   "outputs": [],
   "source": [
    "def join_positive_expert_priority(row):\n",
    "    \"\"\"\n",
    "    Объединение оценок с приоритетом для экспертов\n",
    "\n",
    "    Параметры:\n",
    "    ----------\n",
    "    row: Series\n",
    "\n",
    "    Результат:\n",
    "    ----------\n",
    "    int - число\n",
    "    \"\"\"\n",
    "    crowd = row['positive_crowd']\n",
    "    expert = row['positive_expert']\n",
    "\n",
    "    if expert >= 0:\n",
    "        # важны только экспертные мнения\n",
    "        return expert\n",
    "\n",
    "    # если эксперты не давали оценку, а результат есть на кроудсорсинге\n",
    "    if crowd >= 0 and expert != expert:\n",
    "        return crowd\n",
    "\n",
    "    return 0"
   ]
  },
  {
   "cell_type": "code",
   "execution_count": 17,
   "id": "4512a014",
   "metadata": {},
   "outputs": [],
   "source": [
    "annotations['positive'] = annotations.apply(join_positive_expert_priority, axis=1)"
   ]
  },
  {
   "cell_type": "code",
   "execution_count": 18,
   "id": "e010300f",
   "metadata": {},
   "outputs": [
    {
     "name": "stdout",
     "output_type": "stream",
     "text": [
      "<class 'pandas.core.frame.DataFrame'>\n",
      "MultiIndex: 51268 entries, ('1056338697_4f7d7ce270.jpg', '1056338697_4f7d7ce270.jpg#2') to ('997722733_0cb5439472.jpg', '997722733_0cb5439472.jpg#2')\n",
      "Data columns (total 3 columns):\n",
      " #   Column           Non-Null Count  Dtype  \n",
      "---  ------           --------------  -----  \n",
      " 0   positive_crowd   47830 non-null  float64\n",
      " 1   positive_expert  5696 non-null   float64\n",
      " 2   positive         51268 non-null  float64\n",
      "dtypes: float64(3)\n",
      "memory usage: 1.4+ MB\n"
     ]
    }
   ],
   "source": [
    "annotations.info()"
   ]
  },
  {
   "cell_type": "code",
   "execution_count": 19,
   "id": "d79f6e8f",
   "metadata": {},
   "outputs": [],
   "source": [
    "train_dataset_csv.set_index(['image', 'query_id'], inplace=True)"
   ]
  },
  {
   "cell_type": "code",
   "execution_count": 20,
   "id": "b1d3d99d",
   "metadata": {},
   "outputs": [],
   "source": [
    "train_dataset = train_dataset_csv.merge(annotations, how='left', left_index=True, right_index=True)"
   ]
  },
  {
   "cell_type": "code",
   "execution_count": 21,
   "id": "0acebeeb",
   "metadata": {},
   "outputs": [
    {
     "data": {
      "text/plain": [
       "0.000000    4942\n",
       "1.000000     463\n",
       "0.666667     342\n",
       "0.333333      14\n",
       "0.666667       5\n",
       "0.250000       1\n",
       "Name: positive, dtype: int64"
      ]
     },
     "execution_count": 21,
     "metadata": {},
     "output_type": "execute_result"
    }
   ],
   "source": [
    "# проверяем наличие данных и оценок по ним\n",
    "train_dataset['positive'].value_counts()"
   ]
  },
  {
   "cell_type": "code",
   "execution_count": 22,
   "id": "fc7f255b",
   "metadata": {
    "scrolled": true
   },
   "outputs": [
    {
     "name": "stdout",
     "output_type": "stream",
     "text": [
      "<class 'pandas.core.frame.DataFrame'>\n",
      "MultiIndex: 5822 entries, ('1056338697_4f7d7ce270.jpg', '2549968784_39bfbe44f9.jpg#2') to ('968081289_cdba83ce2e.jpg', '2292406847_f366350600.jpg#2')\n",
      "Data columns (total 4 columns):\n",
      " #   Column           Non-Null Count  Dtype  \n",
      "---  ------           --------------  -----  \n",
      " 0   query_text       5822 non-null   object \n",
      " 1   positive_crowd   2329 non-null   float64\n",
      " 2   positive_expert  5696 non-null   float64\n",
      " 3   positive         5767 non-null   float64\n",
      "dtypes: float64(3), object(1)\n",
      "memory usage: 413.9+ KB\n"
     ]
    }
   ],
   "source": [
    "train_dataset.info()"
   ]
  },
  {
   "cell_type": "markdown",
   "id": "4f79b7d0",
   "metadata": {},
   "source": [
    "<img src=\"https://upload.wikimedia.org/wikipedia/commons/b/ba/Warning_sign_4.0.png\" align=left width=44, heigth=33>\n",
    "<div class=\"alert alert-warning\">\n",
    "Обычно я рекомендую вначале внимательно познакомиться с данными, \"сродниться\" с ними и только потом начинать жонглировать табличками, объединяя и трансформируя их.\n",
    "    \n",
    "Смотри, что у нас произошло. Ты соединил экспертные оценки с крауд через внешнее соединение, у тебя получилось 50К пар, ты мучался с их агрегацией.. Но по итогу всё пересек с датафреймом train_dataset (а в нем изначально те же пары, что в в экспертных оценках)... И мы вернулись с того, с чего начали - к экспертным оценкам.\n",
    "    \n",
    "Учитывая технологию, которую ты выбрал (приоритет экспертным оценкам), крауд оценки вообще никак не повлияли на итоговую оценку и код с их агрегацией можно смело убрать.    \n",
    "    \n",
    "    \n",
    "    \n",
    "</div>"
   ]
  },
  {
   "cell_type": "markdown",
   "id": "fd077db0",
   "metadata": {},
   "source": [
    "**Визуальный просмотр данных**\n",
    "Проверим несколько случайных изображений для определения корректности \"сопаставленных\" изображение-описание"
   ]
  },
  {
   "cell_type": "code",
   "execution_count": 23,
   "id": "e3c4ebee",
   "metadata": {},
   "outputs": [],
   "source": [
    "# создадим специальную функцию, которая пригодится потом\n",
    "\n",
    "def image_show(images, titles=None, nums=None):\n",
    "    \"\"\"\n",
    "    Функция для просмотра изображения\n",
    "\n",
    "    Параметры:\n",
    "    ----------\n",
    "    images: string[] - массив путей к изображениям\n",
    "    titles: string[] - заголовоки\n",
    "    nums: float[] - числовые показатели\n",
    "    \"\"\"\n",
    "    fig = plt.figure(figsize=(10, len(images) * 3))\n",
    "\n",
    "    for i in range(len(images)):\n",
    "        fig.add_subplot(len(images), 1, i + 1)\n",
    "        img = Image.open(images[i])\n",
    "        if titles != None:\n",
    "            if nums != None:\n",
    "                if nums[i] == None:\n",
    "                    plt.title(f'\\n{titles[i]}', fontsize = 10)\n",
    "                else:\n",
    "                    plt.title(f'\\n{str(nums[i])}\\n{titles[i]}', fontsize = 10)\n",
    "            else:\n",
    "                plt.title(f'\\n{titles[i]}', fontsize = 10)\n",
    "        plt.axis('off')\n",
    "        plt.imshow(img)\n",
    "\n",
    "    plt.show()"
   ]
  },
  {
   "cell_type": "code",
   "execution_count": 24,
   "id": "0d184cbe",
   "metadata": {},
   "outputs": [
    {
     "data": {
      "image/png": "[encoded data removed]",
      "text/plain": [
       "<Figure size 720x2160 with 10 Axes>"
      ]
     },
     "metadata": {
      "needs_background": "light"
     },
     "output_type": "display_data"
    }
   ],
   "source": [
    "visual_dataset = train_dataset[train_dataset['positive'] > 0.5].sample(MAX_SAMPLE).copy()\n",
    "visual_dataset.reset_index(inplace=True)\n",
    "\n",
    "images = []\n",
    "labels = []\n",
    "\n",
    "for i in range(visual_dataset.shape[0]):\n",
    "    images.append(f'{TRAIN_IMAGE_FOLDER}/{visual_dataset.iloc[i][\"image\"]}')\n",
    "    labels.append(visual_dataset.iloc[i]['query_text'])\n",
    "\n",
    "image_show(images, labels)"
   ]
  },
  {
   "cell_type": "markdown",
   "id": "6ba2617e",
   "metadata": {
    "id": "1dc36083"
   },
   "source": [
    "<img src=\"https://upload.wikimedia.org/wikipedia/commons/thumb/8/81/Stop_sign.png/240px-Stop_sign.png\" align=left width=35, heigth=35>\n",
    "<div class=\"alert alert-danger\">\n",
    "А как же выводы?\n",
    "    \n",
    "В этом разделе ты решал две задачи:\n",
    "    \n",
    "1. Проведение разведочного анализа (глубокое знакомство с данными)\n",
    "2. Трансформация данных и получение таблички (признаки/таргет). \n",
    "    \n",
    "Поэтому в выводах прошу тебя осветить оба аспекта: \n",
    "  \n",
    " - рассказать что же важного мы узнали о нашем наборе данных\n",
    " - рассказать о проведенной предобработке и показать датафрейм, который мы получили как результат наших усилий\n",
    "    \n",
    "</div>"
   ]
  },
  {
   "cell_type": "markdown",
   "id": "58d1304c",
   "metadata": {},
   "source": [
    "<img src=\"https://emojigraph.org/media/apple/check-mark-button_2705.png\" align=left width=33, heigth=33>\n",
    "<div class=\"alert alert-success\">\n",
    "    <b>v2</b> исправлено 👍 </div>"
   ]
  },
  {
   "cell_type": "markdown",
   "id": "edf277e6-fa76-46b7-9181-d00ee172f786",
   "metadata": {},
   "source": [
    "## выводы\n",
    "в этом разделе мы ознакомились с данными с которыми мы имеем дело, файл CrowdAnnotations.tsv содержит данные по соответствию изображения и описания, полученные с помощью краудсорсинга\n",
    "Описание колонок:\n",
    "\n",
    "image - Имя файла изображения; query_id - Идентификатор описания; positive - Доля людей, подтвердивших, что описание соответствует изображению; n1 - Количество человек, подтвердивших, что описание соответствует изображению; n2 - Количество человек, подтвердивших, что описание не соответствует изображению.\n",
    "\n",
    "файл ExpertAnnotations.tsv содержит данные по соответствию изображения и описания, полученные в результате опроса экспертов\n",
    "Описание колонок:\n",
    "\n",
    "image - Имя файла изображения; query_id - Идентификатор описания; n1 — оценка 1 эксперта; n2 — оценка 2 эксперта; n3 — оценка 3 эксперта. \n",
    "\n",
    "выполнил обработку данных краудсорсинга:\n",
    "\n",
    "добавил колонку n0 с агрегированной оценкой; добавил колонку positive с долей, подтвердивших, что описание соотвествует изображению. Эксперты ставят оценки по шкале от 1 до 4, где\n",
    "\n",
    "1 — изображение и запрос совершенно не соответствуют друг другу; 2 — запрос содержит элементы описания изображения, но в целом запрос тексту не соответствует; 3 — запрос и текст соответствуют с точностью до некоторых деталей; 4 — запрос и текст соответствуют полностью. Примечание: \"положительными\" будем считать оценки 3 и 4"
   ]
  },
  {
   "cell_type": "markdown",
   "id": "7cbaa861",
   "metadata": {
    "cellId": "9h91oxwx86d7i8rqt5miv4",
    "execution_id": "4401a0e8-fd2b-479b-9e84-6ffafbcead47",
    "id": "7cbaa861"
   },
   "source": [
    "## 2. Проверка данных\n",
    "\n",
    "В некоторых странах, где работает ваша компания, действуют ограничения по обработке изображений: поисковым сервисам и сервисам, предоставляющим возможность поиска, запрещено без разрешения родителей или законных представителей предоставлять любую информацию, в том числе, но не исключительно тексты, изображения, видео и аудио, содержащие описание, изображение или запись голоса детей. Ребёнком считается любой человек, не достигший 16 лет.\n",
    "\n",
    "В вашем сервисе строго следуют законам стран, в которых работают. Поэтому при попытке посмотреть изображения, запрещённые законодательством, вместо картинок показывается дисклеймер:\n",
    "\n",
    "> This image is unavailable in your country in compliance with local laws\n",
    ">\n",
    "\n",
    "Однако у вас в PoC нет возможности воспользоваться данным функционалом. Поэтому все изображения, которые нарушают данный закон, нужно удалить из обучающей выборки."
   ]
  },
  {
   "cell_type": "code",
   "execution_count": 25,
   "id": "2b675ad4",
   "metadata": {},
   "outputs": [],
   "source": [
    "# стоп-слова выбирались при помощи просмотра изображений и нахождения из описаний\n",
    "stop_words = [\n",
    "    'baby',\n",
    "    'child',\n",
    "    'kid',\n",
    "    'boy',\n",
    "    'girl',\n",
    "    'girls',\n",
    "    'boys',\n",
    "    'kids',\n",
    "    'children',\n",
    "    'babies'\n",
    "]"
   ]
  },
  {
   "cell_type": "code",
   "execution_count": 26,
   "id": "3ad101b5",
   "metadata": {},
   "outputs": [],
   "source": [
    "def ban(txt):\n",
    "    \"\"\"\n",
    "    Определение наличие стоп-слов\n",
    "\n",
    "    Параметры:\n",
    "    ----------\n",
    "    txt: string - текст для анализа\n",
    "\n",
    "    Результат:\n",
    "    ----------\n",
    "    boolean - результат обработки\n",
    "    \"\"\"\n",
    "    txt = txt.lower()\n",
    "    lemmatizer = WordNetLemmatizer()\n",
    "    word_tokens = word_tokenize(txt)\n",
    "    lemmatized_output = ' '.join([lemmatizer.lemmatize(w) for w in word_tokens])\n",
    "\n",
    "    for word in stop_words:\n",
    "        word_len = len(word.split())\n",
    "\n",
    "        if word_len > 1:\n",
    "            if word in txt:\n",
    "                return True\n",
    "        elif word_len == 1:\n",
    "            if word in txt.split():\n",
    "                return True\n",
    "\n",
    "    return False"
   ]
  },
  {
   "cell_type": "markdown",
   "id": "155a9e0c",
   "metadata": {
    "id": "d54341bb"
   },
   "source": [
    "<img src=\"https://emojigraph.org/media/apple/check-mark-button_2705.png\" align=left width=33, heigth=33>\n",
    "<div class=\"alert alert-success\">\n",
    "Идея с лемматизацией хороша. Но она очень \"дорогая\" - хорошая лемматизация занимает время. Кроме того ведь её нужно написать, проверить на ошибки, возможно \"утащить в прод\"..\n",
    "    \n",
    "А между тем лемматизация  нужна нам в двух случаях:  \n",
    "\n",
    " - При чистке датасета от детских изображений. \n",
    " - При векторизации.\n",
    "    \n",
    "При поиске детских изображений я  считаю возможным упростить себе жизнь - взять возможные словоформы \"запрещенных\" слов. Как правиль их всего две - единственное и множественное число. \n",
    "    \n",
    "А для вкторизациии делать лемматизацию в нашем случае не нужно. Модель BERT обучалась на обычных, сырых,не лемматизированных текстах.    \n",
    "\n",
    "    \n",
    "</div>"
   ]
  },
  {
   "cell_type": "markdown",
   "id": "c358b929",
   "metadata": {
    "id": "1dc36083"
   },
   "source": [
    "<img src=\"https://upload.wikimedia.org/wikipedia/commons/thumb/8/81/Stop_sign.png/240px-Stop_sign.png\" align=left width=35, heigth=35>\n",
    "<div class=\"alert alert-danger\">\n",
    "При тестировании твоего кода натолкнулся на странную ошибку - она \"банит\" фразу 'A girl playing at a park .', но отказывается банить 'Two girls on a jungle gym .'\n",
    "    \n",
    "Попробуй сам найти ошибку, она очень \"глупая\", но поискать будет полезно.    \n",
    "    \n",
    "</div>"
   ]
  },
  {
   "cell_type": "markdown",
   "id": "d414b234",
   "metadata": {},
   "source": [
    "<img src=\"https://upload.wikimedia.org/wikipedia/commons/b/ba/Warning_sign_4.0.png\" align=left width=44, heigth=33>\n",
    "<div class=\"alert alert-warning\">\n",
    "<b>v2</b>  \n",
    "\n",
    "    \n",
    "Ты пошел по простому пути - просто добавил слово girls в список запрещенных слов. Но раз ты пошел по этому пути, то стоило отключить лемматизацию, зачем она?\n",
    "    \n",
    "А ошибка, которую я предлагал тебе найти заключается в следующем: ты делал корректную лемматизацию и результат сохранял в переменную lemmatized_output, но поиск запрещенных слов продолжаешь делать по нелемматизированной фразе, которая содержится в переменной txt.   \n",
    "    \n",
    "</div>"
   ]
  },
  {
   "cell_type": "code",
   "execution_count": 27,
   "id": "a742a544",
   "metadata": {},
   "outputs": [
    {
     "name": "stdout",
     "output_type": "stream",
     "text": [
      "<class 'pandas.core.frame.DataFrame'>\n",
      "MultiIndex: 1533 entries, ('1056338697_4f7d7ce270.jpg', '2549968784_39bfbe44f9.jpg#2') to ('757046028_ff5999f91b.jpg', '2061144717_5b3a1864f0.jpg#2')\n",
      "Data columns (total 5 columns):\n",
      " #   Column           Non-Null Count  Dtype  \n",
      "---  ------           --------------  -----  \n",
      " 0   query_text       1533 non-null   object \n",
      " 1   positive_crowd   530 non-null    float64\n",
      " 2   positive_expert  1498 non-null   float64\n",
      " 3   positive         1515 non-null   float64\n",
      " 4   ban              1533 non-null   bool   \n",
      "dtypes: bool(1), float64(3), object(1)\n",
      "memory usage: 135.5+ KB\n"
     ]
    }
   ],
   "source": [
    "train_dataset['ban'] = train_dataset['query_text'].apply(ban)\n",
    "\n",
    "train_dataset[train_dataset['ban'] == True].info()"
   ]
  },
  {
   "cell_type": "code",
   "execution_count": 28,
   "id": "5e83d4cf",
   "metadata": {},
   "outputs": [
    {
     "name": "stdout",
     "output_type": "stream",
     "text": [
      "Будет удалено 1533 записей\n"
     ]
    }
   ],
   "source": [
    "print(f'Будет удалено {len(train_dataset[train_dataset.ban == True])} записей')\n",
    "train_dataset.drop(train_dataset[train_dataset.ban == True].index, inplace=True)\n",
    "train_dataset.drop(columns=['ban'], inplace=True)"
   ]
  },
  {
   "cell_type": "markdown",
   "id": "f8d67d20",
   "metadata": {},
   "source": [
    "<img src=\"https://upload.wikimedia.org/wikipedia/commons/b/ba/Warning_sign_4.0.png\" align=left width=44, heigth=33>\n",
    "<div class=\"alert alert-warning\">\n",
    "    \n",
    "Ты удалил комментарии, в которых были запрещенные слова. Но наша задача убрать изображения, содержащие детей. Есть два способа сделать это:\n",
    "    \n",
    " - Определить список плохих изображений, как изображения удовлетворяющие условиям:\n",
    "    - Комментарий содержит плохие слова\n",
    "    - <b>Оценка соответствия комментария и изображения выше порога.</b>\n",
    " - Удалить из нашего датасета все пары \"изображение/описание\" с плохими изображениями.\n",
    "    \n",
    " \n",
    "И второй, очень красивый способ. Он основан на том, что `query_id` содержит в с себе имя изображения, для которого он был написан (такая пасхалочка от авторов датасета).\n",
    "    \n",
    " - Определить список плохих комментариев\n",
    " - У `query_id`  плохих комментариев отрезать два последних символа и получим список плохих изображений.\n",
    "    \n",
    "    \n",
    "    \n",
    "    \n",
    "    \n",
    "</div>"
   ]
  },
  {
   "cell_type": "markdown",
   "id": "1d4ef807",
   "metadata": {
    "cellId": "ggxcvhmhcm9rshysbjoo4n",
    "execution_id": "d7935f99-48c0-42b8-a227-dd2b2d9b70fc",
    "id": "1d4ef807"
   },
   "source": [
    "# 3. Векторизация изображений\n",
    "\n",
    "Перейдём к векторизации изображений.\n",
    "\n",
    "Самый примитивный способ — прочесть изображение и превратить полученную матрицу в вектор. Такой способ нам не подходит: длина векторов может быть сильно разной, так как размеры изображений разные. Поэтому стоит обратиться к свёрточным сетям: они позволяют \"выделить\" главные компоненты изображений. Как это сделать? Нужно выбрать какую-либо архитектуру, например ResNet-18, посмотреть на слои и исключить полносвязные слои, которые отвечают за конечное предсказание. При этом можно загрузить модель данной архитектуры, предварительно натренированную на датасете ImageNet."
   ]
  },
  {
   "cell_type": "code",
   "execution_count": 29,
   "id": "0167b804",
   "metadata": {
    "cellId": "4wiflhqkew9mq1gq5927e",
    "id": "0167b804"
   },
   "outputs": [],
   "source": [
    "device = torch.device(\"cuda\" if torch.cuda.is_available() else \"cpu\")"
   ]
  },
  {
   "cell_type": "code",
   "execution_count": 30,
   "id": "29cc53a5",
   "metadata": {},
   "outputs": [],
   "source": [
    "# Step 1: Initialize the model with the best available weights\n",
    "weights = ResNet18_Weights.DEFAULT\n",
    "model = resnet18(weights=weights)\n",
    "model.to(device)\n",
    "model.eval()\n",
    "\n",
    "# Step 2: Initialize the inference transforms\n",
    "preprocess = weights.transforms(antialias=True)\n",
    "\n",
    "# Step 3: Create the feature extractor with the required nodes\n",
    "return_nodes = {'flatten': 'flatten'}\n",
    "feature_extractor = create_feature_extractor(model, return_nodes=return_nodes)"
   ]
  },
  {
   "cell_type": "code",
   "execution_count": 31,
   "id": "58958d97",
   "metadata": {},
   "outputs": [],
   "source": [
    "def get_image_vector(image_path):\n",
    "    \"\"\"\n",
    "    Получение вектора изображения\n",
    "\n",
    "    Параметры:\n",
    "    ----------\n",
    "    image_path: string - путь к изображению\n",
    "\n",
    "    Результат:\n",
    "    ----------\n",
    "    torch.Tensor\n",
    "    \"\"\"\n",
    "\n",
    "    # Step 4: Load the image(s) and apply inference preprocessing transforms\n",
    "    image = read_image(image_path).unsqueeze(0)\n",
    "    model_input = preprocess(image).to(device)\n",
    "\n",
    "    with torch.no_grad():\n",
    "        # Step 5: Extract the features\n",
    "        features = feature_extractor(model_input)\n",
    "        flatten_fts = features[\"flatten\"].squeeze()\n",
    "\n",
    "        # тут специально переводим на CPU\n",
    "        return flatten_fts.to('cpu').detach().numpy()"
   ]
  },
  {
   "cell_type": "code",
   "execution_count": 32,
   "id": "2ad945da",
   "metadata": {},
   "outputs": [
    {
     "data": {
      "text/plain": [
       "(512,)"
      ]
     },
     "execution_count": 32,
     "metadata": {},
     "output_type": "execute_result"
    }
   ],
   "source": [
    "# выберим одно изображение для проверки\n",
    "get_image_vector(TRAIN_IMAGE_FOLDER + '/53043785_c468d6f931.jpg').shape"
   ]
  },
  {
   "cell_type": "code",
   "execution_count": 33,
   "id": "54a1f5a3",
   "metadata": {},
   "outputs": [],
   "source": [
    "# словарь для хранения результата обработки\n",
    "image_vectors = {}"
   ]
  },
  {
   "cell_type": "code",
   "execution_count": 34,
   "id": "0c250d37",
   "metadata": {},
   "outputs": [],
   "source": [
    "def images2vector(folder):\n",
    "    count = 0\n",
    "\n",
    "    for p in Path(folder).glob('*.jpg'):\n",
    "        count+=1\n",
    "\n",
    "    with tqdm(total=count) as pbar:\n",
    "        for p in Path(folder).glob('*.jpg'):\n",
    "            image_vectors[p.name] = get_image_vector(folder + f'/{p.name}')\n",
    "\n",
    "            pbar.update(1)"
   ]
  },
  {
   "cell_type": "code",
   "execution_count": 35,
   "id": "f802dde0",
   "metadata": {},
   "outputs": [],
   "source": [
    "# используем кэш\n",
    "if os.path.exists(TMP + '/image_vectors.pickle'):\n",
    "    image_vectors = pickle.load(open(TMP + '/image_vectors.pickle', 'rb'))\n",
    "else:\n",
    "    images2vector(TRAIN_IMAGE_FOLDER)\n",
    "    pickle.dump(image_vectors, file = open(TMP + '/image_vectors.pickle', 'wb'))"
   ]
  },
  {
   "cell_type": "code",
   "execution_count": 36,
   "id": "6e0baa62",
   "metadata": {},
   "outputs": [
    {
     "data": {
      "text/plain": [
       "(512,)"
      ]
     },
     "execution_count": 36,
     "metadata": {},
     "output_type": "execute_result"
    }
   ],
   "source": [
    "# проверим сформированный объект\n",
    "img1 = list(image_vectors.keys())[0]\n",
    "image_vectors[img1].shape"
   ]
  },
  {
   "cell_type": "code",
   "execution_count": 37,
   "id": "ed54d199",
   "metadata": {},
   "outputs": [
    {
     "name": "stdout",
     "output_type": "stream",
     "text": [
      "Векторизация изображения на заранее обученной модели resnet18 позволило сделать вектор длинной 512\n",
      "Уменьшение вектора позволит сэкономить ресурсы и вычислительное время при обучении.\n"
     ]
    }
   ],
   "source": [
    "print(f'''Векторизация изображения на заранее обученной модели resnet18 позволило сделать вектор длинной {image_vectors[img1].shape[0]}\n",
    "Уменьшение вектора позволит сэкономить ресурсы и вычислительное время при обучении.''')"
   ]
  },
  {
   "cell_type": "markdown",
   "id": "c2fae314",
   "metadata": {},
   "source": [
    "<img src=\"https://emojigraph.org/media/apple/check-mark-button_2705.png\" align=left width=33, heigth=33>\n",
    "<div class=\"alert alert-success\">\n",
    "Здесь все ОК, векторизация изображений произведена верно \n",
    "\n",
    "\n",
    "Если не секрет, почему ты решил отказаться от кода, который был предложен в прекоде к проекту и использьвал другой подход к векторизации?\n",
    "</div>"
   ]
  },
  {
   "cell_type": "code",
   "execution_count": null,
   "id": "62b62752",
   "metadata": {},
   "outputs": [],
   "source": []
  },
  {
   "cell_type": "markdown",
   "id": "aea53bf6",
   "metadata": {
    "cellId": "z8evfugfch8wpstvnxv0t",
    "execution_id": "028ade1d-49fe-4110-8b13-3c1aecdaa142",
    "id": "aea53bf6"
   },
   "source": [
    "## 4. Векторизация текстов\n",
    "\n",
    "Следующий этап — векторизация текстов. Вы можете поэкспериментировать с несколькими способами векторизации текстов:\n",
    "\n",
    "- tf-idf\n",
    "- word2vec\n",
    "- \\*трансформеры (например Bert)\n",
    "\n",
    "\\* — если вы изучали трансформеры в спринте Машинное обучение для текстов.\n"
   ]
  },
  {
   "cell_type": "code",
   "execution_count": 38,
   "id": "cd7584bd",
   "metadata": {
    "cellId": "5f0eae9yldcozrwh01qp0c",
    "id": "cd7584bd"
   },
   "outputs": [
    {
     "data": {
      "text/plain": [
       "DistilBertModel(\n",
       "  (embeddings): Embeddings(\n",
       "    (word_embeddings): Embedding(30522, 768, padding_idx=0)\n",
       "    (position_embeddings): Embedding(512, 768)\n",
       "    (LayerNorm): LayerNorm((768,), eps=1e-12, elementwise_affine=True)\n",
       "    (dropout): Dropout(p=0.1, inplace=False)\n",
       "  )\n",
       "  (transformer): Transformer(\n",
       "    (layer): ModuleList(\n",
       "      (0-5): 6 x TransformerBlock(\n",
       "        (attention): MultiHeadSelfAttention(\n",
       "          (dropout): Dropout(p=0.1, inplace=False)\n",
       "          (q_lin): Linear(in_features=768, out_features=768, bias=True)\n",
       "          (k_lin): Linear(in_features=768, out_features=768, bias=True)\n",
       "          (v_lin): Linear(in_features=768, out_features=768, bias=True)\n",
       "          (out_lin): Linear(in_features=768, out_features=768, bias=True)\n",
       "        )\n",
       "        (sa_layer_norm): LayerNorm((768,), eps=1e-12, elementwise_affine=True)\n",
       "        (ffn): FFN(\n",
       "          (dropout): Dropout(p=0.1, inplace=False)\n",
       "          (lin1): Linear(in_features=768, out_features=3072, bias=True)\n",
       "          (lin2): Linear(in_features=3072, out_features=768, bias=True)\n",
       "          (activation): GELUActivation()\n",
       "        )\n",
       "        (output_layer_norm): LayerNorm((768,), eps=1e-12, elementwise_affine=True)\n",
       "      )\n",
       "    )\n",
       "  )\n",
       ")"
      ]
     },
     "execution_count": 38,
     "metadata": {},
     "output_type": "execute_result"
    }
   ],
   "source": [
    "# обучать будем на специальной модели\n",
    "tokenizer = AutoTokenizer.from_pretrained('distilbert-base-uncased')\n",
    "model = AutoModel.from_pretrained('distilbert-base-uncased')\n",
    "\n",
    "model.to(device)"
   ]
  },
  {
   "cell_type": "code",
   "execution_count": 39,
   "id": "b75147ba",
   "metadata": {},
   "outputs": [],
   "source": [
    "#Mean Pooling - Take attention mask into account for correct averaging\n",
    "def mean_pooling(model_output, attention_mask):\n",
    "    token_embeddings = model_output[0] #First element of model_output contains all token embeddings\n",
    "    input_mask_expanded = attention_mask.unsqueeze(-1).expand(token_embeddings.size()).float()\n",
    "    sum_embeddings = torch.sum(token_embeddings * input_mask_expanded, 1)\n",
    "    sum_mask = torch.clamp(input_mask_expanded.sum(1), min=1e-9)\n",
    "    return sum_embeddings / sum_mask"
   ]
  },
  {
   "cell_type": "markdown",
   "id": "b7e8d9d6",
   "metadata": {},
   "source": [
    "<img src=\"https://emojigraph.org/media/apple/check-mark-button_2705.png\" align=left width=33, heigth=33>\n",
    "<div class=\"alert alert-success\">\n",
    "В спринте по текстам мы изучали немного другой подход: снимали эмбеддинг с нулевого токена (CLS).\n",
    "\n",
    "Однако вижу что ты решил \"пойти своим путем\" - взять среднее по всем токенам.\n",
    "    \n",
    "Если не секрет, почему выбрана именно эта стратегия?    \n",
    "</div>"
   ]
  },
  {
   "cell_type": "code",
   "execution_count": 40,
   "id": "ba4e0775",
   "metadata": {},
   "outputs": [],
   "source": [
    "def text2vector(sentences):\n",
    "    #Tokenize sentences\n",
    "    encoded_input = tokenizer(sentences, padding=True, truncation=True, max_length=128, return_tensors='pt').to(device)\n",
    "\n",
    "    #Compute token embeddings\n",
    "    with torch.no_grad():\n",
    "        model_output = model(**encoded_input)\n",
    "\n",
    "    #Perform pooling. In this case, mean pooling\n",
    "    sentence_embeddings = mean_pooling(model_output, encoded_input['attention_mask'])\n",
    "\n",
    "    pbar.update(1)\n",
    "    ar = sentence_embeddings[0].to('cpu').detach().numpy()\n",
    "    return ar"
   ]
  },
  {
   "cell_type": "code",
   "execution_count": 41,
   "id": "9b6a455a",
   "metadata": {},
   "outputs": [],
   "source": [
    "# используем кэш\n",
    "if os.path.exists(TMP + '/train_dataset.pickle'):\n",
    "    train_dataset = pickle.load(open(TMP + '/train_dataset.pickle', 'rb'))\n",
    "else:\n",
    "    with tqdm(total=train_dataset.shape[0]) as pbar:\n",
    "        train_dataset['text2vec'] = train_dataset['query_text'].apply(lambda x: text2vector(x))\n",
    "\n",
    "    pickle.dump(train_dataset, file = open(TMP + '/train_dataset.pickle', 'wb'))"
   ]
  },
  {
   "cell_type": "code",
   "execution_count": 42,
   "id": "8de5faa7",
   "metadata": {},
   "outputs": [
    {
     "data": {
      "text/html": [
       "<div>\n",
       "<style scoped>\n",
       "    .dataframe tbody tr th:only-of-type {\n",
       "        vertical-align: middle;\n",
       "    }\n",
       "\n",
       "    .dataframe tbody tr th {\n",
       "        vertical-align: top;\n",
       "    }\n",
       "\n",
       "    .dataframe thead th {\n",
       "        text-align: right;\n",
       "    }\n",
       "</style>\n",
       "<table border=\"1\" class=\"dataframe\">\n",
       "  <thead>\n",
       "    <tr style=\"text-align: right;\">\n",
       "      <th></th>\n",
       "      <th></th>\n",
       "      <th>query_text</th>\n",
       "      <th>positive_crowd</th>\n",
       "      <th>positive_expert</th>\n",
       "      <th>positive</th>\n",
       "      <th>text2vec</th>\n",
       "    </tr>\n",
       "    <tr>\n",
       "      <th>image</th>\n",
       "      <th>query_id</th>\n",
       "      <th></th>\n",
       "      <th></th>\n",
       "      <th></th>\n",
       "      <th></th>\n",
       "      <th></th>\n",
       "    </tr>\n",
       "  </thead>\n",
       "  <tbody>\n",
       "    <tr>\n",
       "      <th>1056338697_4f7d7ce270.jpg</th>\n",
       "      <th>3181701312_70a379ab6e.jpg#2</th>\n",
       "      <td>A man sleeps under a blanket on a city street .</td>\n",
       "      <td>NaN</td>\n",
       "      <td>0.0</td>\n",
       "      <td>0.0</td>\n",
       "      <td>[0.1515374, -0.0973731, -0.015055675, -0.02455...</td>\n",
       "    </tr>\n",
       "    <tr>\n",
       "      <th>3187395715_f2940c2b72.jpg</th>\n",
       "      <th>3181701312_70a379ab6e.jpg#2</th>\n",
       "      <td>A man sleeps under a blanket on a city street .</td>\n",
       "      <td>NaN</td>\n",
       "      <td>0.0</td>\n",
       "      <td>0.0</td>\n",
       "      <td>[0.1515374, -0.0973731, -0.015055675, -0.02455...</td>\n",
       "    </tr>\n",
       "    <tr>\n",
       "      <th>463978865_c87c6ca84c.jpg</th>\n",
       "      <th>3181701312_70a379ab6e.jpg#2</th>\n",
       "      <td>A man sleeps under a blanket on a city street .</td>\n",
       "      <td>0.0</td>\n",
       "      <td>0.0</td>\n",
       "      <td>0.0</td>\n",
       "      <td>[0.1515374, -0.0973731, -0.015055675, -0.02455...</td>\n",
       "    </tr>\n",
       "    <tr>\n",
       "      <th>488590040_35a3e96c89.jpg</th>\n",
       "      <th>3181701312_70a379ab6e.jpg#2</th>\n",
       "      <td>A man sleeps under a blanket on a city street .</td>\n",
       "      <td>NaN</td>\n",
       "      <td>0.0</td>\n",
       "      <td>0.0</td>\n",
       "      <td>[0.1515374, -0.0973731, -0.015055675, -0.02455...</td>\n",
       "    </tr>\n",
       "    <tr>\n",
       "      <th>534875358_6ea30d3091.jpg</th>\n",
       "      <th>3181701312_70a379ab6e.jpg#2</th>\n",
       "      <td>A man sleeps under a blanket on a city street .</td>\n",
       "      <td>NaN</td>\n",
       "      <td>0.0</td>\n",
       "      <td>0.0</td>\n",
       "      <td>[0.1515374, -0.0973731, -0.015055675, -0.02455...</td>\n",
       "    </tr>\n",
       "  </tbody>\n",
       "</table>\n",
       "</div>"
      ],
      "text/plain": [
       "                                                                                            query_text  \\\n",
       "image                     query_id                                                                       \n",
       "1056338697_4f7d7ce270.jpg 3181701312_70a379ab6e.jpg#2  A man sleeps under a blanket on a city street .   \n",
       "3187395715_f2940c2b72.jpg 3181701312_70a379ab6e.jpg#2  A man sleeps under a blanket on a city street .   \n",
       "463978865_c87c6ca84c.jpg  3181701312_70a379ab6e.jpg#2  A man sleeps under a blanket on a city street .   \n",
       "488590040_35a3e96c89.jpg  3181701312_70a379ab6e.jpg#2  A man sleeps under a blanket on a city street .   \n",
       "534875358_6ea30d3091.jpg  3181701312_70a379ab6e.jpg#2  A man sleeps under a blanket on a city street .   \n",
       "\n",
       "                                                       positive_crowd  \\\n",
       "image                     query_id                                      \n",
       "1056338697_4f7d7ce270.jpg 3181701312_70a379ab6e.jpg#2             NaN   \n",
       "3187395715_f2940c2b72.jpg 3181701312_70a379ab6e.jpg#2             NaN   \n",
       "463978865_c87c6ca84c.jpg  3181701312_70a379ab6e.jpg#2             0.0   \n",
       "488590040_35a3e96c89.jpg  3181701312_70a379ab6e.jpg#2             NaN   \n",
       "534875358_6ea30d3091.jpg  3181701312_70a379ab6e.jpg#2             NaN   \n",
       "\n",
       "                                                       positive_expert  \\\n",
       "image                     query_id                                       \n",
       "1056338697_4f7d7ce270.jpg 3181701312_70a379ab6e.jpg#2              0.0   \n",
       "3187395715_f2940c2b72.jpg 3181701312_70a379ab6e.jpg#2              0.0   \n",
       "463978865_c87c6ca84c.jpg  3181701312_70a379ab6e.jpg#2              0.0   \n",
       "488590040_35a3e96c89.jpg  3181701312_70a379ab6e.jpg#2              0.0   \n",
       "534875358_6ea30d3091.jpg  3181701312_70a379ab6e.jpg#2              0.0   \n",
       "\n",
       "                                                       positive  \\\n",
       "image                     query_id                                \n",
       "1056338697_4f7d7ce270.jpg 3181701312_70a379ab6e.jpg#2       0.0   \n",
       "3187395715_f2940c2b72.jpg 3181701312_70a379ab6e.jpg#2       0.0   \n",
       "463978865_c87c6ca84c.jpg  3181701312_70a379ab6e.jpg#2       0.0   \n",
       "488590040_35a3e96c89.jpg  3181701312_70a379ab6e.jpg#2       0.0   \n",
       "534875358_6ea30d3091.jpg  3181701312_70a379ab6e.jpg#2       0.0   \n",
       "\n",
       "                                                                                                text2vec  \n",
       "image                     query_id                                                                        \n",
       "1056338697_4f7d7ce270.jpg 3181701312_70a379ab6e.jpg#2  [0.1515374, -0.0973731, -0.015055675, -0.02455...  \n",
       "3187395715_f2940c2b72.jpg 3181701312_70a379ab6e.jpg#2  [0.1515374, -0.0973731, -0.015055675, -0.02455...  \n",
       "463978865_c87c6ca84c.jpg  3181701312_70a379ab6e.jpg#2  [0.1515374, -0.0973731, -0.015055675, -0.02455...  \n",
       "488590040_35a3e96c89.jpg  3181701312_70a379ab6e.jpg#2  [0.1515374, -0.0973731, -0.015055675, -0.02455...  \n",
       "534875358_6ea30d3091.jpg  3181701312_70a379ab6e.jpg#2  [0.1515374, -0.0973731, -0.015055675, -0.02455...  "
      ]
     },
     "execution_count": 42,
     "metadata": {},
     "output_type": "execute_result"
    }
   ],
   "source": [
    "train_dataset.head()"
   ]
  },
  {
   "cell_type": "code",
   "execution_count": 43,
   "id": "eabd2486",
   "metadata": {},
   "outputs": [
    {
     "name": "stdout",
     "output_type": "stream",
     "text": [
      "После векторизации текста был создан Tensor размером (768,)\n"
     ]
    }
   ],
   "source": [
    "print(f'После векторизации текста был создан Tensor размером {train_dataset.iloc[0][\"text2vec\"].shape}')"
   ]
  },
  {
   "cell_type": "markdown",
   "id": "5fd765da",
   "metadata": {},
   "source": [
    "<img src=\"https://emojigraph.org/media/apple/check-mark-button_2705.png\" align=left width=33, heigth=33>\n",
    "<div class=\"alert alert-success\">\n",
    "Отлично,полученные векторные представления для текстов описаний с помощью BERT </div>"
   ]
  },
  {
   "cell_type": "code",
   "execution_count": null,
   "id": "c451019e",
   "metadata": {},
   "outputs": [],
   "source": []
  },
  {
   "cell_type": "markdown",
   "id": "760c0ccd",
   "metadata": {
    "cellId": "yci1zcmnsacl720fr75sb",
    "execution_id": "5ecfa9d5-3913-4fb3-a33e-99bab3798577",
    "id": "760c0ccd"
   },
   "source": [
    "## 5. Объединение векторов\n",
    "\n",
    "Подготовьте данные для обучения: объедините векторы изображений и векторы текстов с целевой переменной."
   ]
  },
  {
   "cell_type": "code",
   "execution_count": 44,
   "id": "b747671f",
   "metadata": {
    "cellId": "n64cmotqegij9arvbc7sxf",
    "id": "b747671f"
   },
   "outputs": [],
   "source": [
    "train_dataset.reset_index(inplace=True)"
   ]
  },
  {
   "cell_type": "code",
   "execution_count": 45,
   "id": "622d329d",
   "metadata": {},
   "outputs": [],
   "source": [
    "def image2vector(row):\n",
    "    \"\"\"\n",
    "    По имени изображения достаём его вектор, который был создан выше\n",
    "\n",
    "    Параметры:\n",
    "    ----------\n",
    "    row: Serias\n",
    "\n",
    "    Результат:\n",
    "    ----------\n",
    "    numpy.ndarray\n",
    "    \"\"\"\n",
    "    img = row['image']\n",
    "    return image_vectors[img]"
   ]
  },
  {
   "cell_type": "code",
   "execution_count": 46,
   "id": "9895f534",
   "metadata": {},
   "outputs": [],
   "source": [
    "train_dataset['image2vec'] = train_dataset.apply(image2vector, axis=1)"
   ]
  },
  {
   "cell_type": "code",
   "execution_count": 47,
   "id": "5c5e9c7a",
   "metadata": {},
   "outputs": [],
   "source": [
    "def join_vectors(row):\n",
    "    \"\"\"\n",
    "    Объединяем два вектора, текст и изображение\n",
    "\n",
    "    Параметры:\n",
    "    ----------\n",
    "    row: Serias\n",
    "\n",
    "    Результаты:\n",
    "    numpy.ndarray - объдинённый вектор\n",
    "    \"\"\"\n",
    "    return np.concatenate((row['text2vec'], row['image2vec']))"
   ]
  },
  {
   "cell_type": "code",
   "execution_count": 48,
   "id": "7dd2342a",
   "metadata": {},
   "outputs": [],
   "source": [
    "train_dataset['vec'] = train_dataset.apply(join_vectors, axis=1)"
   ]
  },
  {
   "cell_type": "code",
   "execution_count": 49,
   "id": "aa350f5a",
   "metadata": {},
   "outputs": [],
   "source": [
    "df = train_dataset.copy()"
   ]
  },
  {
   "cell_type": "code",
   "execution_count": 50,
   "id": "d96a7c8d",
   "metadata": {},
   "outputs": [
    {
     "data": {
      "text/html": [
       "<div>\n",
       "<style scoped>\n",
       "    .dataframe tbody tr th:only-of-type {\n",
       "        vertical-align: middle;\n",
       "    }\n",
       "\n",
       "    .dataframe tbody tr th {\n",
       "        vertical-align: top;\n",
       "    }\n",
       "\n",
       "    .dataframe thead th {\n",
       "        text-align: right;\n",
       "    }\n",
       "</style>\n",
       "<table border=\"1\" class=\"dataframe\">\n",
       "  <thead>\n",
       "    <tr style=\"text-align: right;\">\n",
       "      <th></th>\n",
       "      <th>image</th>\n",
       "      <th>query_id</th>\n",
       "      <th>query_text</th>\n",
       "      <th>positive_crowd</th>\n",
       "      <th>positive_expert</th>\n",
       "      <th>positive</th>\n",
       "      <th>text2vec</th>\n",
       "      <th>image2vec</th>\n",
       "      <th>vec</th>\n",
       "    </tr>\n",
       "  </thead>\n",
       "  <tbody>\n",
       "    <tr>\n",
       "      <th>0</th>\n",
       "      <td>1056338697_4f7d7ce270.jpg</td>\n",
       "      <td>3181701312_70a379ab6e.jpg#2</td>\n",
       "      <td>A man sleeps under a blanket on a city street .</td>\n",
       "      <td>NaN</td>\n",
       "      <td>0.0</td>\n",
       "      <td>0.0</td>\n",
       "      <td>[0.1515374, -0.0973731, -0.015055675, -0.02455...</td>\n",
       "      <td>[0.6645436, 3.0099623, 2.894568, 0.9445691, 0....</td>\n",
       "      <td>[0.1515374, -0.0973731, -0.015055675, -0.02455...</td>\n",
       "    </tr>\n",
       "    <tr>\n",
       "      <th>1</th>\n",
       "      <td>3187395715_f2940c2b72.jpg</td>\n",
       "      <td>3181701312_70a379ab6e.jpg#2</td>\n",
       "      <td>A man sleeps under a blanket on a city street .</td>\n",
       "      <td>NaN</td>\n",
       "      <td>0.0</td>\n",
       "      <td>0.0</td>\n",
       "      <td>[0.1515374, -0.0973731, -0.015055675, -0.02455...</td>\n",
       "      <td>[0.27318442, 2.4646223, 1.6143514, 1.242461, 1...</td>\n",
       "      <td>[0.1515374, -0.0973731, -0.015055675, -0.02455...</td>\n",
       "    </tr>\n",
       "    <tr>\n",
       "      <th>2</th>\n",
       "      <td>463978865_c87c6ca84c.jpg</td>\n",
       "      <td>3181701312_70a379ab6e.jpg#2</td>\n",
       "      <td>A man sleeps under a blanket on a city street .</td>\n",
       "      <td>0.0</td>\n",
       "      <td>0.0</td>\n",
       "      <td>0.0</td>\n",
       "      <td>[0.1515374, -0.0973731, -0.015055675, -0.02455...</td>\n",
       "      <td>[0.9738347, 3.8057518, 1.2916154, 0.8006932, 0...</td>\n",
       "      <td>[0.1515374, -0.0973731, -0.015055675, -0.02455...</td>\n",
       "    </tr>\n",
       "    <tr>\n",
       "      <th>3</th>\n",
       "      <td>488590040_35a3e96c89.jpg</td>\n",
       "      <td>3181701312_70a379ab6e.jpg#2</td>\n",
       "      <td>A man sleeps under a blanket on a city street .</td>\n",
       "      <td>NaN</td>\n",
       "      <td>0.0</td>\n",
       "      <td>0.0</td>\n",
       "      <td>[0.1515374, -0.0973731, -0.015055675, -0.02455...</td>\n",
       "      <td>[1.5541993, 1.0708152, 0.17263107, 0.2889722, ...</td>\n",
       "      <td>[0.1515374, -0.0973731, -0.015055675, -0.02455...</td>\n",
       "    </tr>\n",
       "    <tr>\n",
       "      <th>4</th>\n",
       "      <td>534875358_6ea30d3091.jpg</td>\n",
       "      <td>3181701312_70a379ab6e.jpg#2</td>\n",
       "      <td>A man sleeps under a blanket on a city street .</td>\n",
       "      <td>NaN</td>\n",
       "      <td>0.0</td>\n",
       "      <td>0.0</td>\n",
       "      <td>[0.1515374, -0.0973731, -0.015055675, -0.02455...</td>\n",
       "      <td>[0.33821768, 3.8320777, 1.1654173, 0.51477635,...</td>\n",
       "      <td>[0.1515374, -0.0973731, -0.015055675, -0.02455...</td>\n",
       "    </tr>\n",
       "  </tbody>\n",
       "</table>\n",
       "</div>"
      ],
      "text/plain": [
       "                       image                     query_id  \\\n",
       "0  1056338697_4f7d7ce270.jpg  3181701312_70a379ab6e.jpg#2   \n",
       "1  3187395715_f2940c2b72.jpg  3181701312_70a379ab6e.jpg#2   \n",
       "2   463978865_c87c6ca84c.jpg  3181701312_70a379ab6e.jpg#2   \n",
       "3   488590040_35a3e96c89.jpg  3181701312_70a379ab6e.jpg#2   \n",
       "4   534875358_6ea30d3091.jpg  3181701312_70a379ab6e.jpg#2   \n",
       "\n",
       "                                        query_text  positive_crowd  \\\n",
       "0  A man sleeps under a blanket on a city street .             NaN   \n",
       "1  A man sleeps under a blanket on a city street .             NaN   \n",
       "2  A man sleeps under a blanket on a city street .             0.0   \n",
       "3  A man sleeps under a blanket on a city street .             NaN   \n",
       "4  A man sleeps under a blanket on a city street .             NaN   \n",
       "\n",
       "   positive_expert  positive  \\\n",
       "0              0.0       0.0   \n",
       "1              0.0       0.0   \n",
       "2              0.0       0.0   \n",
       "3              0.0       0.0   \n",
       "4              0.0       0.0   \n",
       "\n",
       "                                            text2vec  \\\n",
       "0  [0.1515374, -0.0973731, -0.015055675, -0.02455...   \n",
       "1  [0.1515374, -0.0973731, -0.015055675, -0.02455...   \n",
       "2  [0.1515374, -0.0973731, -0.015055675, -0.02455...   \n",
       "3  [0.1515374, -0.0973731, -0.015055675, -0.02455...   \n",
       "4  [0.1515374, -0.0973731, -0.015055675, -0.02455...   \n",
       "\n",
       "                                           image2vec  \\\n",
       "0  [0.6645436, 3.0099623, 2.894568, 0.9445691, 0....   \n",
       "1  [0.27318442, 2.4646223, 1.6143514, 1.242461, 1...   \n",
       "2  [0.9738347, 3.8057518, 1.2916154, 0.8006932, 0...   \n",
       "3  [1.5541993, 1.0708152, 0.17263107, 0.2889722, ...   \n",
       "4  [0.33821768, 3.8320777, 1.1654173, 0.51477635,...   \n",
       "\n",
       "                                                 vec  \n",
       "0  [0.1515374, -0.0973731, -0.015055675, -0.02455...  \n",
       "1  [0.1515374, -0.0973731, -0.015055675, -0.02455...  \n",
       "2  [0.1515374, -0.0973731, -0.015055675, -0.02455...  \n",
       "3  [0.1515374, -0.0973731, -0.015055675, -0.02455...  \n",
       "4  [0.1515374, -0.0973731, -0.015055675, -0.02455...  "
      ]
     },
     "execution_count": 50,
     "metadata": {},
     "output_type": "execute_result"
    }
   ],
   "source": [
    "df.head()"
   ]
  },
  {
   "cell_type": "code",
   "execution_count": 51,
   "id": "650912ae",
   "metadata": {},
   "outputs": [
    {
     "name": "stdout",
     "output_type": "stream",
     "text": [
      "Длина итогового вектора равна 768 + 512 = 1280\n"
     ]
    }
   ],
   "source": [
    "print(f'Длина итогового вектора равна {df.iloc[0][\"text2vec\"].shape[0]} + {df.iloc[0][\"image2vec\"].shape[0]} = {len(df.iloc[0][\"vec\"])}')"
   ]
  },
  {
   "cell_type": "code",
   "execution_count": 52,
   "id": "b784fa12",
   "metadata": {},
   "outputs": [],
   "source": [
    "# удаляем те записи, у которых нет оценки (это раннее удалённые записи у экспертов, которые разошлись в оценке)\n",
    "df.drop(df[df['positive'].isna()].index, inplace=True)\n",
    "df = df.reset_index(drop=True)"
   ]
  },
  {
   "cell_type": "code",
   "execution_count": 53,
   "id": "e640a518",
   "metadata": {},
   "outputs": [
    {
     "name": "stdout",
     "output_type": "stream",
     "text": [
      "Вывод: после объединения двух векторов мы получаем третьи вектор длиной 1280, который содержит конкатинированные признаки для дальнейшего обучения.\n"
     ]
    }
   ],
   "source": [
    "print(f'Вывод: после объединения двух векторов мы получаем третьи вектор длиной {len(df.iloc[0][\"vec\"])}, который содержит конкатинированные признаки для дальнейшего обучения.')"
   ]
  },
  {
   "cell_type": "markdown",
   "id": "f50624ad",
   "metadata": {},
   "source": [
    "<img src=\"https://emojigraph.org/media/apple/check-mark-button_2705.png\" align=left width=33, heigth=33>\n",
    "<div class=\"alert alert-success\">\n",
    " Вектора, полученные из текста и изображения объеденены👍 </div>"
   ]
  },
  {
   "cell_type": "code",
   "execution_count": null,
   "id": "3ee17f85",
   "metadata": {},
   "outputs": [],
   "source": []
  },
  {
   "cell_type": "markdown",
   "id": "60bc5668",
   "metadata": {
    "cellId": "97c9jj3s2zjj62vznivsk",
    "execution_id": "1a2d7233-0c79-479a-be63-5787145e3b48",
    "id": "60bc5668"
   },
   "source": [
    "## 6. Обучение модели предсказания соответствия\n",
    "\n",
    "Для обучения разделите датасет на тренировочную и тестовую выборки. Простое случайное разбиение не подходит: нужно исключить попадание изображения и в обучающую, и в тестовую выборки.\n",
    "Для того чтобы учесть изображения при разбиении, можно воспользоваться классом [GroupShuffleSplit](https://scikit-learn.org/stable/modules/generated/sklearn.model_selection.GroupShuffleSplit.html) из библиотеки sklearn.model_selection.\n",
    "\n",
    "Код ниже разбивает датасет на тренировочную и тестовую выборки в пропорции 7:3 так, что строки с одинаковым значением 'group_column' будут содержаться либо в тестовом, либо в тренировочном датасете.\n",
    "\n",
    "```\n",
    "from sklearn.model_selection import GroupShuffleSplit\n",
    "gss = GroupShuffleSplit(n_splits=1, train_size=.7, random_state=42)\n",
    "train_indices, test_indices = next(gss.split(X=df.drop(columns=['target']), y=df['target'], groups=df['group_column']))\n",
    "train_df, test_df = df.loc[train_indices], df.loc[test_indices]\n",
    "\n",
    "```\n",
    "\n",
    "Какую модель использовать — выберите самостоятельно. Также вам предстоит выбрать метрику качества либо реализовать свою."
   ]
  },
  {
   "cell_type": "code",
   "execution_count": 54,
   "id": "a723a8ad",
   "metadata": {
    "cellId": "v1ntb27jt4z9fazi1y8me",
    "id": "a723a8ad"
   },
   "outputs": [],
   "source": [
    "gss = GroupShuffleSplit(n_splits=1, train_size=.7, random_state=RANDOM_STATE)\n",
    "train_indices, test_indices = next(gss.split(X=df.drop(columns=['positive']), y=df['positive'], groups=df['image']))\n",
    "train_df, test_df = df.loc[train_indices], df.loc[test_indices]"
   ]
  },
  {
   "cell_type": "markdown",
   "id": "42bca96a",
   "metadata": {},
   "source": [
    "<img src=\"https://emojigraph.org/media/apple/check-mark-button_2705.png\" align=left width=33, heigth=33>\n",
    "<div class=\"alert alert-success\">\n",
    "Отлично, благодаря использованию GroupShuffleSplit ты исключаешь попадание одного изображения в обучающий и валидационный наборы.</div>"
   ]
  },
  {
   "cell_type": "markdown",
   "id": "52e5fc56",
   "metadata": {
    "id": "diQyugE-EoPS"
   },
   "source": [
    "<img src=\"https://upload.wikimedia.org/wikipedia/commons/b/ba/Warning_sign_4.0.png\" align=left width=44, heigth=33>\n",
    "<div class=\"alert alert-warning\">\n",
    "Только давай разберемся с выборками. Финальное тестирование (визуальное) мы делаем на отложенной выборке. Поэтому выборка,которую ты сейчас отделил играет роль валидационной. Есть смысл в её названии использовать слово valid а не test</div>"
   ]
  },
  {
   "cell_type": "code",
   "execution_count": 55,
   "id": "de20e48a",
   "metadata": {},
   "outputs": [
    {
     "name": "stderr",
     "output_type": "stream",
     "text": [
      "<ipython-input-55-74d94a739f06>:1: UserWarning: Creating a tensor from a list of numpy.ndarrays is extremely slow. Please consider converting the list to a single numpy.ndarray with numpy.array() before converting to a tensor. (Triggered internally at C:\\actions-runner\\_work\\pytorch\\pytorch\\builder\\windows\\pytorch\\torch\\csrc\\utils\\tensor_new.cpp:277.)\n",
      "  features_train = torch.FloatTensor(list(train_df.loc[:, 'vec'].values))\n"
     ]
    }
   ],
   "source": [
    "features_train = torch.FloatTensor(list(train_df.loc[:, 'vec'].values))\n",
    "features_test = torch.FloatTensor(list(test_df.loc[:, 'vec'].values))"
   ]
  },
  {
   "cell_type": "code",
   "execution_count": 56,
   "id": "7b1904d0",
   "metadata": {},
   "outputs": [],
   "source": [
    "target_train = torch.FloatTensor(train_df['positive'].values).reshape(-1, 1)\n",
    "target_test = torch.FloatTensor(test_df['positive'].values).reshape(-1, 1)"
   ]
  },
  {
   "cell_type": "code",
   "execution_count": 57,
   "id": "7fe130b1",
   "metadata": {},
   "outputs": [
    {
     "data": {
      "image/png": "[encoded data removed]",
      "text/plain": [
       "<Figure size 432x288 with 1 Axes>"
      ]
     },
     "metadata": {
      "needs_background": "light"
     },
     "output_type": "display_data"
    }
   ],
   "source": [
    "plt.hist(df.iloc[0]['text2vec'], bins=100)\n",
    "\n",
    "plt.title('Распределение чисел в текстовом векторе')\n",
    "plt.show()"
   ]
  },
  {
   "cell_type": "code",
   "execution_count": 58,
   "id": "f55f4160",
   "metadata": {},
   "outputs": [
    {
     "data": {
      "image/png": "[encoded data removed]",
      "text/plain": [
       "<Figure size 432x288 with 1 Axes>"
      ]
     },
     "metadata": {
      "needs_background": "light"
     },
     "output_type": "display_data"
    }
   ],
   "source": [
    "plt.hist(df.iloc[0]['image2vec'], bins=100)\n",
    "\n",
    "plt.title('Распределение чисел в векторе изображений')\n",
    "plt.show()"
   ]
  },
  {
   "cell_type": "markdown",
   "id": "09912201",
   "metadata": {},
   "source": [
    "<img src=\"https://emojigraph.org/media/apple/check-mark-button_2705.png\" align=left width=33, heigth=33>\n",
    "<div class=\"alert alert-success\">\n",
    " 👍 </div>"
   ]
  },
  {
   "cell_type": "markdown",
   "id": "278d7332",
   "metadata": {},
   "source": [
    "Вывод: так как, текст и изображения распределены по разному, сделаем ниже преобразование - масштабирование"
   ]
  },
  {
   "cell_type": "code",
   "execution_count": 59,
   "id": "d5bbfeb4",
   "metadata": {},
   "outputs": [],
   "source": [
    "class TorchStandardScaler:\n",
    "    \"\"\"\n",
    "    Специальный класс для масштабирования Tensor\n",
    "    \"\"\"\n",
    "    def fit(self, x):\n",
    "        self.mean = x.mean(0, keepdim=True)\n",
    "        self.std = x.std(0, unbiased=False, keepdim=True)\n",
    "    def transform(self, x):\n",
    "        x -= self.mean\n",
    "        x /= (self.std + 1e-7)\n",
    "        return x"
   ]
  },
  {
   "cell_type": "markdown",
   "id": "c32b2866",
   "metadata": {},
   "source": [
    "<img src=\"https://emojigraph.org/media/apple/check-mark-button_2705.png\" align=left width=33, heigth=33>\n",
    "<div class=\"alert alert-success\">\n",
    "Можно и так. Но я бы не стал изобретать велосипед. Можно вначале стандартизовать наши данные используя скаллер из sklean, а уже затем перевести признаки в тензоры. </div>"
   ]
  },
  {
   "cell_type": "code",
   "execution_count": 60,
   "id": "020b2651",
   "metadata": {},
   "outputs": [],
   "source": [
    "# процесс масштабирования\n",
    "scaler = TorchStandardScaler()\n",
    "scaler.fit(features_train)\n",
    "features_train = scaler.transform(features_train)\n",
    "features_test = scaler.transform(features_test)"
   ]
  },
  {
   "cell_type": "markdown",
   "id": "b60f8eb0",
   "metadata": {},
   "source": [
    "### LinearRegression"
   ]
  },
  {
   "cell_type": "markdown",
   "id": "78033570",
   "metadata": {},
   "source": [
    "<img src=\"https://upload.wikimedia.org/wikipedia/commons/b/ba/Warning_sign_4.0.png\" align=left width=44, heigth=33>\n",
    "<div class=\"alert alert-warning\">\n",
    "Мы решаем новую задачу и не знаем, наксколько хороши наши метрики и наши модели. Поэтому советую начать с бейзлайна - константной модели (можешь взять простой DummyRegressor).</div>"
   ]
  },
  {
   "cell_type": "markdown",
   "id": "2ad9680e",
   "metadata": {},
   "source": [
    "Обучим модель LinearRegression на созданных данных. Для проверки качества модели, здесь и ниже, буду использовать метрику RMSE."
   ]
  },
  {
   "cell_type": "code",
   "execution_count": 61,
   "id": "f633a79e",
   "metadata": {},
   "outputs": [
    {
     "data": {
      "text/html": [
       "<style>#sk-container-id-1 {color: black;background-color: white;}#sk-container-id-1 pre{padding: 0;}#sk-container-id-1 div.sk-toggleable {background-color: white;}#sk-container-id-1 label.sk-toggleable__label {cursor: pointer;display: block;width: 100%;margin-bottom: 0;padding: 0.3em;box-sizing: border-box;text-align: center;}#sk-container-id-1 label.sk-toggleable__label-arrow:before {content: \"▸\";float: left;margin-right: 0.25em;color: #696969;}#sk-container-id-1 label.sk-toggleable__label-arrow:hover:before {color: black;}#sk-container-id-1 div.sk-estimator:hover label.sk-toggleable__label-arrow:before {color: black;}#sk-container-id-1 div.sk-toggleable__content {max-height: 0;max-width: 0;overflow: hidden;text-align: left;background-color: #f0f8ff;}#sk-container-id-1 div.sk-toggleable__content pre {margin: 0.2em;color: black;border-radius: 0.25em;background-color: #f0f8ff;}#sk-container-id-1 input.sk-toggleable__control:checked~div.sk-toggleable__content {max-height: 200px;max-width: 100%;overflow: auto;}#sk-container-id-1 input.sk-toggleable__control:checked~label.sk-toggleable__label-arrow:before {content: \"▾\";}#sk-container-id-1 div.sk-estimator input.sk-toggleable__control:checked~label.sk-toggleable__label {background-color: #d4ebff;}#sk-container-id-1 div.sk-label input.sk-toggleable__control:checked~label.sk-toggleable__label {background-color: #d4ebff;}#sk-container-id-1 input.sk-hidden--visually {border: 0;clip: rect(1px 1px 1px 1px);clip: rect(1px, 1px, 1px, 1px);height: 1px;margin: -1px;overflow: hidden;padding: 0;position: absolute;width: 1px;}#sk-container-id-1 div.sk-estimator {font-family: monospace;background-color: #f0f8ff;border: 1px dotted black;border-radius: 0.25em;box-sizing: border-box;margin-bottom: 0.5em;}#sk-container-id-1 div.sk-estimator:hover {background-color: #d4ebff;}#sk-container-id-1 div.sk-parallel-item::after {content: \"\";width: 100%;border-bottom: 1px solid gray;flex-grow: 1;}#sk-container-id-1 div.sk-label:hover label.sk-toggleable__label {background-color: #d4ebff;}#sk-container-id-1 div.sk-serial::before {content: \"\";position: absolute;border-left: 1px solid gray;box-sizing: border-box;top: 0;bottom: 0;left: 50%;z-index: 0;}#sk-container-id-1 div.sk-serial {display: flex;flex-direction: column;align-items: center;background-color: white;padding-right: 0.2em;padding-left: 0.2em;position: relative;}#sk-container-id-1 div.sk-item {position: relative;z-index: 1;}#sk-container-id-1 div.sk-parallel {display: flex;align-items: stretch;justify-content: center;background-color: white;position: relative;}#sk-container-id-1 div.sk-item::before, #sk-container-id-1 div.sk-parallel-item::before {content: \"\";position: absolute;border-left: 1px solid gray;box-sizing: border-box;top: 0;bottom: 0;left: 50%;z-index: -1;}#sk-container-id-1 div.sk-parallel-item {display: flex;flex-direction: column;z-index: 1;position: relative;background-color: white;}#sk-container-id-1 div.sk-parallel-item:first-child::after {align-self: flex-end;width: 50%;}#sk-container-id-1 div.sk-parallel-item:last-child::after {align-self: flex-start;width: 50%;}#sk-container-id-1 div.sk-parallel-item:only-child::after {width: 0;}#sk-container-id-1 div.sk-dashed-wrapped {border: 1px dashed gray;margin: 0 0.4em 0.5em 0.4em;box-sizing: border-box;padding-bottom: 0.4em;background-color: white;}#sk-container-id-1 div.sk-label label {font-family: monospace;font-weight: bold;display: inline-block;line-height: 1.2em;}#sk-container-id-1 div.sk-label-container {text-align: center;}#sk-container-id-1 div.sk-container {/* jupyter's `normalize.less` sets `[hidden] { display: none; }` but bootstrap.min.css set `[hidden] { display: none !important; }` so we also need the `!important` here to be able to override the default hidden behavior on the sphinx rendered scikit-learn.org. See: https://github.com/scikit-learn/scikit-learn/issues/21755 */display: inline-block !important;position: relative;}#sk-container-id-1 div.sk-text-repr-fallback {display: none;}</style><div id=\"sk-container-id-1\" class=\"sk-top-container\"><div class=\"sk-text-repr-fallback\"><pre>LinearRegression()</pre><b>In a Jupyter environment, please rerun this cell to show the HTML representation or trust the notebook. <br />On GitHub, the HTML representation is unable to render, please try loading this page with nbviewer.org.</b></div><div class=\"sk-container\" hidden><div class=\"sk-item\"><div class=\"sk-estimator sk-toggleable\"><input class=\"sk-toggleable__control sk-hidden--visually\" id=\"sk-estimator-id-1\" type=\"checkbox\" checked><label for=\"sk-estimator-id-1\" class=\"sk-toggleable__label sk-toggleable__label-arrow\">LinearRegression</label><div class=\"sk-toggleable__content\"><pre>LinearRegression()</pre></div></div></div></div></div>"
      ],
      "text/plain": [
       "LinearRegression()"
      ]
     },
     "execution_count": 61,
     "metadata": {},
     "output_type": "execute_result"
    }
   ],
   "source": [
    "model_lr = LinearRegression()\n",
    "model_lr.fit(features_train, target_train)"
   ]
  },
  {
   "cell_type": "code",
   "execution_count": 62,
   "id": "3b336e4b",
   "metadata": {},
   "outputs": [
    {
     "name": "stdout",
     "output_type": "stream",
     "text": [
      "RMSE для LinearRegression равно 0.508\n"
     ]
    }
   ],
   "source": [
    "pred = model_lr.predict(features_test)\n",
    "rmse_lr = mean_squared_error(target_test, pred) ** 0.5\n",
    "\n",
    "print(f'RMSE для LinearRegression равно', round(rmse_lr, 3))"
   ]
  },
  {
   "cell_type": "markdown",
   "id": "22b5320a",
   "metadata": {},
   "source": [
    "<img src=\"https://upload.wikimedia.org/wikipedia/commons/b/ba/Warning_sign_4.0.png\" align=left width=44, heigth=33>\n",
    "<div class=\"alert alert-warning\">\n",
    "Как ты думаешь, почему мы получили такую метрику? Какой сигнал нам это посылает?\n",
    "\n",
    "</div>"
   ]
  },
  {
   "cell_type": "markdown",
   "id": "c8ffe79f",
   "metadata": {},
   "source": [
    "### Полносвязанная нейронная сеть"
   ]
  },
  {
   "cell_type": "markdown",
   "id": "1f48e457",
   "metadata": {},
   "source": [
    "Далее проверим метрику качества на следуюшей модели"
   ]
  },
  {
   "cell_type": "code",
   "execution_count": 63,
   "id": "502e541e",
   "metadata": {},
   "outputs": [],
   "source": [
    "# создание датасета\n",
    "class CustomDataset(Dataset):\n",
    "    def __init__(self, features, target):\n",
    "        self.features = features\n",
    "        self.target = target\n",
    "\n",
    "    def __len__(self):\n",
    "        return len(self.features)\n",
    "\n",
    "    def __getitem__(self, idx):\n",
    "        return self.features[idx], self.target[idx]"
   ]
  },
  {
   "cell_type": "code",
   "execution_count": 64,
   "id": "971737a4-d8a3-4d97-a31c-510585ab5805",
   "metadata": {},
   "outputs": [],
   "source": [
    "batch_size = 150"
   ]
  },
  {
   "cell_type": "code",
   "execution_count": 65,
   "id": "deb800de",
   "metadata": {},
   "outputs": [],
   "source": [
    "# создадим DataLoader\n",
    "train_dataset = CustomDataset(features_train, target_train)\n",
    "train_dataloader = DataLoader(train_dataset, batch_size=batch_size, shuffle=True)\n",
    "\n",
    "test_dataset = CustomDataset(features_test, target_test)\n",
    "test_dataloader = DataLoader(test_dataset, batch_size=batch_size, shuffle=True)"
   ]
  },
  {
   "cell_type": "markdown",
   "id": "885972db",
   "metadata": {
    "id": "diQyugE-EoPS"
   },
   "source": [
    "<img src=\"https://upload.wikimedia.org/wikipedia/commons/b/ba/Warning_sign_4.0.png\" align=left width=44, heigth=33>\n",
    "<div class=\"alert alert-warning\">\n",
    "По моим наблюдениям чем больше размер батча, тем равномернее обучается модель (меньше стохастики). Советую взять батч максимально большим, помещающимся в модель. Насколько я знаю вся обучающая выборка может быть пропущена через небольшую модель.</div>"
   ]
  },
  {
   "cell_type": "code",
   "execution_count": 66,
   "id": "aa00333e",
   "metadata": {},
   "outputs": [
    {
     "name": "stdout",
     "output_type": "stream",
     "text": [
      "Feature batch shape: torch.Size([150, 1280])\n",
      "Labels batch shape: torch.Size([150, 1])\n"
     ]
    }
   ],
   "source": [
    "# проверим работу\n",
    "train_features, train_labels = next(iter(train_dataloader))\n",
    "\n",
    "print(f\"Feature batch shape: {train_features.size()}\")\n",
    "print(f\"Labels batch shape: {train_labels.size()}\")"
   ]
  },
  {
   "cell_type": "code",
   "execution_count": 67,
   "id": "5421beb9",
   "metadata": {},
   "outputs": [],
   "source": [
    "class Net(nn.Module):\n",
    "    def __init__(self):\n",
    "        super(Net, self).__init__()\n",
    "        self.fc1 = nn.Linear(1280, 4096)\n",
    "        self.fc3 = nn.Linear(4096, 2048)\n",
    "        self.fc4 = nn.Linear(2048, 512)\n",
    "        self.fc5 = nn.Linear(512, 64)\n",
    "        self.fc6 = nn.Linear(64, 1)\n",
    "\n",
    "        self.dp = nn.Dropout(p=0.5)\n",
    "        self.relu = nn.LeakyReLU()\n",
    "\n",
    "    def forward(self, x):\n",
    "        x = self.fc1(x)\n",
    "        x = self.relu(x)\n",
    "        #x = self.dp(x)\n",
    "\n",
    "        x = self.fc3(x)\n",
    "        x = self.relu(x)\n",
    "        #x = self.dp(x)\n",
    "\n",
    "        x = self.fc4(x)\n",
    "        x = self.relu(x)\n",
    "        #x = self.dp(x)\n",
    "\n",
    "        x = self.fc5(x)\n",
    "        x = self.relu(x)\n",
    "        #x = self.dp(x)\n",
    "\n",
    "        x = self.fc6(x)\n",
    "\n",
    "        return x"
   ]
  },
  {
   "cell_type": "markdown",
   "id": "1a007406",
   "metadata": {},
   "source": [
    "<img src=\"https://upload.wikimedia.org/wikipedia/commons/b/ba/Warning_sign_4.0.png\" align=left width=44, heigth=33>\n",
    "<div class=\"alert alert-warning\">\n",
    " <b>v2</b>  \n",
    "Используя очень сложную архитектуру без регуляризации - это прямая догога к переобучению модели. Настоятельно советую использовать Dropout \n",
    "</div>"
   ]
  },
  {
   "cell_type": "markdown",
   "id": "79d78391",
   "metadata": {
    "id": "diQyugE-EoPS"
   },
   "source": [
    "<img src=\"https://upload.wikimedia.org/wikipedia/commons/b/ba/Warning_sign_4.0.png\" align=left width=44, heigth=33>\n",
    "<div class=\"alert alert-warning\">\n",
    "Позволь немного поругаться )))\n",
    "\n",
    "1. Между слоями self.fc1(x) и self.fc2(x) отсутствует нелинейность. А это значит, что эти слои могут быть сокращены до одного слоя размером 1280х4096 (просто по правилу умножения матриц).\n",
    "    \n",
    "А теперь давай посмотрим на размеры матриц и соответствующие затраты памяти.\n",
    "    \n",
    "Первая матрица - 13 миллионов обучаемых параметров\n",
    "Вторая матрица - почти 42 миллиона обучаемых параметров\n",
    "    \n",
    "    Итого - 55 миллионов, что почти в два раза больше, чем у модели Resnet50 (25,6 миллионов) и приближается к модели DistillyBert (66 миллионов параметров).\n",
    "    \n",
    "Основной урок: не используем гигантские матрицы (особенно если данных мало) ни в коем случае не забываем добавить нелинейность, иначе большая и крутая  нейронка по \"умственным спообностям\" превращается в <s>тыкву </s>  линейную регрессию.  Только учится гораздо медленне. \n",
    "\n",
    "</div>"
   ]
  },
  {
   "cell_type": "markdown",
   "id": "abe7fa95",
   "metadata": {
    "id": "diQyugE-EoPS"
   },
   "source": [
    "<img src=\"https://upload.wikimedia.org/wikipedia/commons/b/ba/Warning_sign_4.0.png\" align=left width=44, heigth=33>\n",
    "<div class=\"alert alert-warning\">\n",
    "И еще немного анализа твоей модели\n",
    "\n",
    " - отсутствие регуляризации (дропаута) может привести к адскому переобучению (учитывая количество данных и сложность модели)\n",
    " - Пересложненность архитектуры - слишком много нейронов (параметров) в каждом слое. Попробуй выбрать что-нибудь из диапазона   1024-512-256-128-64-1  и  1024-256-32-1.\n",
    " - Отсутствие методов нормализации (например, Batch Normalization) может привести к медленному обучению и ухудшению производительности модели. Добавление нормализации после каждого слоя может помочь стабилизировать и ускорить обучение.\n",
    " - Обычно использование настолько \"крутого\" дропаута резко затрудняет обучение модели. Но в этом проекте 0,5 это нормально\n",
    "   \n",
    "    \n",
    "\n",
    "\n",
    "</div>"
   ]
  },
  {
   "cell_type": "markdown",
   "id": "8334d5d5",
   "metadata": {
    "id": "3nd6gGrvzp1l"
   },
   "source": [
    "<img src=\"https://upload.wikimedia.org/wikipedia/commons/b/ba/Warning_sign_4.0.png\" align=left width=44, heigth=33>\n",
    "<div class=\"alert alert-warning\">\n",
    "    \n",
    "    \n",
    "10 эпох это слишком мало. Возмжожно ты по привычке  воспринимаешь \"количество эпох\" как гиперпараметр \"спущеный с верху\". Т.е. устанавливаем параметры сети, запускаем обучение и смотрим на результат.\n",
    "    \n",
    "Но в случае с нейронками логика ипользования немного отличается от того, к чему мы привыкли в классических моделях. Здесь лучше работать по другой логике:\n",
    "    \n",
    " - оределилили архитектуру, создали модель\n",
    " - начинаем её учить. и учим пока метрика на валидационной выборке улучшается.  Наблюдая в динамике метрики на обучающей и валидационной выборках.\n",
    " - если вдруг метрика на обучающей выборке перестала снижаться, можно попробовать уменьшить шаг обучения (например в 10 раз) и продолжить обучение модели.\n",
    "    \n",
    "В любом случае полезно обучать модель пока метрика на валидации улучшается. Наша цель - оптимальное состояние модели, при котором модель хорошо находит законмоерности в данных, но еще не переобучилась.\n",
    "        \n",
    "После того, как закончили обучение смотрим на логи, анализируем, чего модели не хватило, меняем архитектуру и запускаем обучение по новой.    \n",
    "    \n",
    "\n",
    "    \n",
    "\n",
    "    \n",
    "</div>"
   ]
  },
  {
   "cell_type": "markdown",
   "id": "df2767a3",
   "metadata": {},
   "source": [
    "<img src=\"https://emojigraph.org/media/apple/check-mark-button_2705.png\" align=left width=33, heigth=33>\n",
    "<div class=\"alert alert-success\">\n",
    "\n",
    "\n",
    "Для осознанной настройки нейронки важно понимать, как менять её архитектуру (усложнять и уменьшать регуляризацию? уменьшать шаг обучения? усиливать регуляризацию?). Для того чтобы принять эти  решения мало видеть только конечную цифру, важно понимать, чего модели не хватает чтобы метрика стала лучше.\n",
    "    \n",
    "    \n",
    "Вот типичные  проблемы, которые можно выявить  анализируя графики и пути их решения:\n",
    "\n",
    "<b>Недообучение (Underfitting)</b>\n",
    "  Признаки: Высокие значения потерь и низкая точность как на обучающей, так и на валидационной выборке. Графики потерь не снижаются (или снижаются  недостаточно).\n",
    "  \n",
    "  Решения:\n",
    "    \n",
    " - Увеличение сложности модели (добавление слоев, увеличение числа нейронов).\n",
    " - Использование более сложных моделей, таких как более глубокие нейронные сети.\n",
    " - Увеличение количества эпох обучения.\n",
    "\n",
    "<b>Переобучение (Overfitting)</b>\n",
    "  Признаки: Значительное снижение потерь и увеличение точности на обучающей выборке, но высокие потери и низкая точность на валидационной выборке. Графики начинают расходиться после некоторого количества эпох.\n",
    "    \n",
    " Решения:\n",
    "  - Регуляризация (L1, L2 регуляризация).\n",
    "  - Dropout (добавление Dropout слоев).\n",
    "  - Уменьшение сложности модели (уменьшение числа слоев или нейронов).\n",
    "  - Использование аугментации данных для увеличения разнообразия данных.\n",
    "  - Раннее завершение обучения (Early Stopping) на основе валидационной ошибки.\n",
    "\n",
    "<b>Плохой выбор гиперпараметров</b>\n",
    " Признаки: Нестабильные графики потерь и точности (большие колебания).\n",
    " \n",
    " Решения:\n",
    "  - Настройка скорости обучения (learning rate).\n",
    "  - Оптимизация размера батча (batch size).\n",
    "  - Попробовать другие оптимизаторы (например, Adam, SGD с различными параметрами).    \n",
    "\n",
    "</div>"
   ]
  },
  {
   "cell_type": "code",
   "execution_count": 82,
   "id": "7835d3b4",
   "metadata": {},
   "outputs": [],
   "source": [
    "models = Net()\n",
    "models.to(device)\n",
    "\n",
    "criterion = torch.nn.MSELoss()\n",
    "optimizer = torch.optim.Adam(models.parameters(), lr=5e-6)\n",
    "\n",
    "epochs = 300\n",
    "min_valid_loss = np.inf"
   ]
  },
  {
   "cell_type": "markdown",
   "id": "e831c48a",
   "metadata": {},
   "source": [
    "Запустим обучение. Промежуточный результат будем сохранять есть метрика качества на последней эпохе лучше предыдущей."
   ]
  },
  {
   "cell_type": "code",
   "execution_count": 83,
   "id": "c7bcbf14",
   "metadata": {
    "collapsed": true,
    "jupyter": {
     "outputs_hidden": true
    },
    "tags": []
   },
   "outputs": [
    {
     "name": "stdout",
     "output_type": "stream",
     "text": [
      "Epoch 1 \t\t Training Loss: 0.01325005970217965 \t\t Validation Loss: 0.01847359538078308\n",
      "Validation Loss Decreased(inf--->0.184736) \t Saving The Model\n",
      "Epoch 2 \t\t Training Loss: 0.013928090984171087 \t\t Validation Loss: 0.024962806701660158\n",
      "Epoch 3 \t\t Training Loss: 0.012139060280539772 \t\t Validation Loss: 0.03737415075302124\n",
      "Epoch 4 \t\t Training Loss: 0.012491172010248358 \t\t Validation Loss: 0.032867857813835145\n",
      "Epoch 5 \t\t Training Loss: 0.012761109254576943 \t\t Validation Loss: 0.030080705881118774\n",
      "Epoch 6 \t\t Training Loss: 0.013368545608087019 \t\t Validation Loss: 0.019071564078330994\n",
      "Epoch 7 \t\t Training Loss: 0.013969192450696772 \t\t Validation Loss: 0.013082708418369293\n",
      "Validation Loss Decreased(0.184736--->0.130827) \t Saving The Model\n",
      "Epoch 8 \t\t Training Loss: 0.010462044992230156 \t\t Validation Loss: 0.036545634269714355\n",
      "Epoch 9 \t\t Training Loss: 0.011107628318396482 \t\t Validation Loss: 0.013305209577083588\n",
      "Epoch 10 \t\t Training Loss: 0.008871446278962221 \t\t Validation Loss: 0.018092115223407746\n",
      "Epoch 11 \t\t Training Loss: 0.013173527338288048 \t\t Validation Loss: 0.02199487090110779\n",
      "Epoch 12 \t\t Training Loss: 0.010272200134667482 \t\t Validation Loss: 0.03860620856285095\n",
      "Epoch 13 \t\t Training Loss: 0.012317134575410322 \t\t Validation Loss: 0.024665190279483794\n",
      "Epoch 14 \t\t Training Loss: 0.011928100477565418 \t\t Validation Loss: 0.023162205517292023\n",
      "Epoch 15 \t\t Training Loss: 0.006784596226432107 \t\t Validation Loss: 0.0314024567604065\n",
      "Epoch 16 \t\t Training Loss: 0.011404141783714294 \t\t Validation Loss: 0.0165756955742836\n",
      "Epoch 17 \t\t Training Loss: 0.010154739699580452 \t\t Validation Loss: 0.022509600222110748\n",
      "Epoch 18 \t\t Training Loss: 0.0092348036440936 \t\t Validation Loss: 0.01705533266067505\n",
      "Epoch 19 \t\t Training Loss: 0.00654447078704834 \t\t Validation Loss: 0.028953421115875243\n",
      "Epoch 20 \t\t Training Loss: 0.00819844888015227 \t\t Validation Loss: 0.026624193787574767\n",
      "Epoch 21 \t\t Training Loss: 0.007503252815116535 \t\t Validation Loss: 0.025691142678260802\n",
      "Epoch 22 \t\t Training Loss: 0.009046725928783417 \t\t Validation Loss: 0.013123945891857147\n",
      "Epoch 23 \t\t Training Loss: 0.008286288516087965 \t\t Validation Loss: 0.011356670409440994\n",
      "Validation Loss Decreased(0.130827--->0.113567) \t Saving The Model\n",
      "Epoch 24 \t\t Training Loss: 0.006896636025472121 \t\t Validation Loss: 0.029922488331794738\n",
      "Epoch 25 \t\t Training Loss: 0.00777976011688059 \t\t Validation Loss: 0.032212761044502256\n",
      "Epoch 26 \t\t Training Loss: 0.00674668631770394 \t\t Validation Loss: 0.03146555125713348\n",
      "Epoch 27 \t\t Training Loss: 0.0043044672770933675 \t\t Validation Loss: 0.016607722640037535\n",
      "Epoch 28 \t\t Training Loss: 0.005280918018384414 \t\t Validation Loss: 0.02654270827770233\n",
      "Epoch 29 \t\t Training Loss: 0.005083207718350671 \t\t Validation Loss: 0.026046448945999147\n",
      "Epoch 30 \t\t Training Loss: 0.005189017816023393 \t\t Validation Loss: 0.027607688307762147\n",
      "Epoch 31 \t\t Training Loss: 0.002895771102471785 \t\t Validation Loss: 0.012655133008956909\n",
      "Epoch 32 \t\t Training Loss: 0.0033361085436560893 \t\t Validation Loss: 0.02900411784648895\n",
      "Epoch 33 \t\t Training Loss: 0.004338723692027005 \t\t Validation Loss: 0.03453902006149292\n",
      "Epoch 34 \t\t Training Loss: 0.0029625388031656093 \t\t Validation Loss: 0.024357745051383974\n",
      "Epoch 35 \t\t Training Loss: 0.00250236029652032 \t\t Validation Loss: 0.02999677062034607\n",
      "Epoch 36 \t\t Training Loss: 0.0024878135458989577 \t\t Validation Loss: 0.027676311135292054\n",
      "Epoch 37 \t\t Training Loss: 0.0023125769062475724 \t\t Validation Loss: 0.022822858393192293\n",
      "Epoch 38 \t\t Training Loss: 0.0018250937150283294 \t\t Validation Loss: 0.03125469982624054\n",
      "Epoch 39 \t\t Training Loss: 0.0017005750401453538 \t\t Validation Loss: 0.02490445077419281\n",
      "Epoch 40 \t\t Training Loss: 0.0015391709113662894 \t\t Validation Loss: 0.028435277938842773\n",
      "Epoch 41 \t\t Training Loss: 0.001438333737579259 \t\t Validation Loss: 0.01863424777984619\n",
      "Epoch 42 \t\t Training Loss: 0.001594900915568525 \t\t Validation Loss: 0.02815697491168976\n",
      "Epoch 43 \t\t Training Loss: 0.0009080038659951904 \t\t Validation Loss: 0.015856437385082245\n",
      "Epoch 44 \t\t Training Loss: 0.0006065394475378773 \t\t Validation Loss: 0.03193686008453369\n",
      "Epoch 45 \t\t Training Loss: 0.0007441194558685476 \t\t Validation Loss: 0.026465392112731932\n",
      "Epoch 46 \t\t Training Loss: 0.0007503904740918766 \t\t Validation Loss: 0.015839168429374696\n",
      "Epoch 47 \t\t Training Loss: 0.0007815308530222286 \t\t Validation Loss: 0.0278728187084198\n",
      "Epoch 48 \t\t Training Loss: 0.0005799834616482258 \t\t Validation Loss: 0.042230930924415586\n",
      "Epoch 49 \t\t Training Loss: 0.0005088093351911415 \t\t Validation Loss: 0.02130669206380844\n",
      "Epoch 50 \t\t Training Loss: 0.0005517929623072797 \t\t Validation Loss: 0.02638258635997772\n",
      "Epoch 51 \t\t Training Loss: 0.0005775125781920823 \t\t Validation Loss: 0.04275699555873871\n",
      "Epoch 52 \t\t Training Loss: 0.0005495596507733518 \t\t Validation Loss: 0.028826674818992613\n",
      "Epoch 53 \t\t Training Loss: 0.0004918296313421292 \t\t Validation Loss: 0.04024139940738678\n",
      "Epoch 54 \t\t Training Loss: 0.0003603795035318895 \t\t Validation Loss: 0.023832015693187714\n",
      "Epoch 55 \t\t Training Loss: 0.0005806220102716576 \t\t Validation Loss: 0.013511756062507629\n",
      "Epoch 56 \t\t Training Loss: 0.0005085923370312561 \t\t Validation Loss: 0.044132769107818604\n",
      "Epoch 57 \t\t Training Loss: 0.00047767081890593875 \t\t Validation Loss: 0.04305849373340607\n",
      "Epoch 58 \t\t Training Loss: 0.0004726017994636839 \t\t Validation Loss: 0.029673191905021667\n",
      "Epoch 59 \t\t Training Loss: 0.000356686089865186 \t\t Validation Loss: 0.024082718789577483\n",
      "Epoch 60 \t\t Training Loss: 0.00037147925997322255 \t\t Validation Loss: 0.01848047971725464\n",
      "Epoch 61 \t\t Training Loss: 0.0004287227903577414 \t\t Validation Loss: 0.0368665874004364\n",
      "Epoch 62 \t\t Training Loss: 0.00043325409801168877 \t\t Validation Loss: 0.037853744626045224\n",
      "Epoch 63 \t\t Training Loss: 0.00035089034248482096 \t\t Validation Loss: 0.02033681720495224\n",
      "Epoch 64 \t\t Training Loss: 0.0003959424370391802 \t\t Validation Loss: 0.015479440987110137\n",
      "Epoch 65 \t\t Training Loss: 0.0002737446603449908 \t\t Validation Loss: 0.017057497799396516\n",
      "Epoch 66 \t\t Training Loss: 0.0003923720002851703 \t\t Validation Loss: 0.03331935703754425\n",
      "Epoch 67 \t\t Training Loss: 0.00040801123461940074 \t\t Validation Loss: 0.012736003100872039\n",
      "Epoch 68 \t\t Training Loss: 0.00029470534487204117 \t\t Validation Loss: 0.03297214210033417\n",
      "Epoch 69 \t\t Training Loss: 0.00042309311472556806 \t\t Validation Loss: 0.028888556361198425\n",
      "Epoch 70 \t\t Training Loss: 0.00034949111498214984 \t\t Validation Loss: 0.019726525247097015\n",
      "Epoch 71 \t\t Training Loss: 0.00032089102420617235 \t\t Validation Loss: 0.022732676565647127\n",
      "Epoch 72 \t\t Training Loss: 0.0004513243805955757 \t\t Validation Loss: 0.029823505878448488\n",
      "Epoch 73 \t\t Training Loss: 0.0004533311267468062 \t\t Validation Loss: 0.023753395676612853\n",
      "Epoch 74 \t\t Training Loss: 0.00040169085629961705 \t\t Validation Loss: 0.02968222200870514\n",
      "Epoch 75 \t\t Training Loss: 0.00045434851199388504 \t\t Validation Loss: 0.034167391061782834\n",
      "Epoch 76 \t\t Training Loss: 0.0003940259868448431 \t\t Validation Loss: 0.03598603904247284\n",
      "Epoch 77 \t\t Training Loss: 0.00037439781325784594 \t\t Validation Loss: 0.031540599465370175\n",
      "Epoch 78 \t\t Training Loss: 0.0003904914060099558 \t\t Validation Loss: 0.0319800078868866\n",
      "Epoch 79 \t\t Training Loss: 0.00033819451081481844 \t\t Validation Loss: 0.03366135060787201\n",
      "Epoch 80 \t\t Training Loss: 0.00032266460105099463 \t\t Validation Loss: 0.01868327856063843\n",
      "Epoch 81 \t\t Training Loss: 0.0004883768798952752 \t\t Validation Loss: 0.022122895717620848\n",
      "Epoch 82 \t\t Training Loss: 0.0004163389940830794 \t\t Validation Loss: 0.020650333166122435\n",
      "Epoch 83 \t\t Training Loss: 0.0003437625921585343 \t\t Validation Loss: 0.017321984469890594\n",
      "Epoch 84 \t\t Training Loss: 0.00035973570563576436 \t\t Validation Loss: 0.03189235031604767\n",
      "Epoch 85 \t\t Training Loss: 0.0004906417717310516 \t\t Validation Loss: 0.028643909096717834\n",
      "Epoch 86 \t\t Training Loss: 0.0004068740474229509 \t\t Validation Loss: 0.014085587859153748\n",
      "Epoch 87 \t\t Training Loss: 0.00029024769636717707 \t\t Validation Loss: 0.03550404012203216\n",
      "Epoch 88 \t\t Training Loss: 0.0003247492608021606 \t\t Validation Loss: 0.03171258270740509\n",
      "Epoch 89 \t\t Training Loss: 0.0002600635105574673 \t\t Validation Loss: 0.01465207189321518\n",
      "Epoch 90 \t\t Training Loss: 0.0003069539512084289 \t\t Validation Loss: 0.02752528190612793\n",
      "Epoch 91 \t\t Training Loss: 0.00026631899262693793 \t\t Validation Loss: 0.018939690291881563\n",
      "Epoch 92 \t\t Training Loss: 0.0003443273969671943 \t\t Validation Loss: 0.03431786000728607\n",
      "Epoch 93 \t\t Training Loss: 0.0003271137194877321 \t\t Validation Loss: 0.041602641344070435\n",
      "Epoch 94 \t\t Training Loss: 0.00037139421328902245 \t\t Validation Loss: 0.03827972710132599\n",
      "Epoch 95 \t\t Training Loss: 0.0002959742295471105 \t\t Validation Loss: 0.017301571369171143\n",
      "Epoch 96 \t\t Training Loss: 0.00032634643668478185 \t\t Validation Loss: 0.024364572763442994\n",
      "Epoch 97 \t\t Training Loss: 0.0003523223144425587 \t\t Validation Loss: 0.016102643311023714\n",
      "Epoch 98 \t\t Training Loss: 0.0003991937688128515 \t\t Validation Loss: 0.04002623856067657\n",
      "Epoch 99 \t\t Training Loss: 0.0003252969631417231 \t\t Validation Loss: 0.028038612008094786\n",
      "Epoch 100 \t\t Training Loss: 0.0003914162939922376 \t\t Validation Loss: 0.017271798849105836\n",
      "Epoch 101 \t\t Training Loss: 0.00030175353061746466 \t\t Validation Loss: 0.03544261753559112\n",
      "Epoch 102 \t\t Training Loss: 0.0003163290675729513 \t\t Validation Loss: 0.02427392154932022\n",
      "Epoch 103 \t\t Training Loss: 0.00027239699424667793 \t\t Validation Loss: 0.027661430835723876\n",
      "Epoch 104 \t\t Training Loss: 0.00037926477803425354 \t\t Validation Loss: 0.024011151492595674\n",
      "Epoch 105 \t\t Training Loss: 0.0004249969073994593 \t\t Validation Loss: 0.016204947233200075\n",
      "Epoch 106 \t\t Training Loss: 0.0002970452293414961 \t\t Validation Loss: 0.03117356598377228\n",
      "Epoch 107 \t\t Training Loss: 0.0003225671085105701 \t\t Validation Loss: 0.029105210304260255\n",
      "Epoch 108 \t\t Training Loss: 0.00025963101705366915 \t\t Validation Loss: 0.021384699642658232\n",
      "Epoch 109 \t\t Training Loss: 0.0003854731436480175 \t\t Validation Loss: 0.0294209748506546\n",
      "Epoch 110 \t\t Training Loss: 0.00036835018545389175 \t\t Validation Loss: 0.022574719786643983\n",
      "Epoch 111 \t\t Training Loss: 0.0002845697401260788 \t\t Validation Loss: 0.011651089042425155\n",
      "Epoch 112 \t\t Training Loss: 0.00028643608939918607 \t\t Validation Loss: 0.02551129162311554\n",
      "Epoch 113 \t\t Training Loss: 0.0003085327546366236 \t\t Validation Loss: 0.017208626866340636\n",
      "Epoch 114 \t\t Training Loss: 0.0002407276029275222 \t\t Validation Loss: 0.025598084926605223\n",
      "Epoch 115 \t\t Training Loss: 0.00033348824151537633 \t\t Validation Loss: 0.023695726692676545\n",
      "Epoch 116 \t\t Training Loss: 0.00031278665516186845 \t\t Validation Loss: 0.03412910103797913\n",
      "Epoch 117 \t\t Training Loss: 0.0002679252489046617 \t\t Validation Loss: 0.021635431051254272\n",
      "Epoch 118 \t\t Training Loss: 0.0002865421543405815 \t\t Validation Loss: 0.021855610609054565\n",
      "Epoch 119 \t\t Training Loss: 0.00029703549278730696 \t\t Validation Loss: 0.015547828376293182\n",
      "Epoch 120 \t\t Training Loss: 0.00029458960687572306 \t\t Validation Loss: 0.027868524193763733\n",
      "Epoch 121 \t\t Training Loss: 0.00032457978126000273 \t\t Validation Loss: 0.034435582160949704\n",
      "Epoch 122 \t\t Training Loss: 0.00023657309992069548 \t\t Validation Loss: 0.030499887466430665\n",
      "Epoch 123 \t\t Training Loss: 0.00027904301797124475 \t\t Validation Loss: 0.027192774415016174\n",
      "Epoch 124 \t\t Training Loss: 0.0003141101492060856 \t\t Validation Loss: 0.028802964091300964\n",
      "Epoch 125 \t\t Training Loss: 0.00031465059146285057 \t\t Validation Loss: 0.034217655658721924\n",
      "Epoch 126 \t\t Training Loss: 0.00034349293194033885 \t\t Validation Loss: 0.030590158700942994\n",
      "Epoch 127 \t\t Training Loss: 0.0004193098707632585 \t\t Validation Loss: 0.029381844401359557\n",
      "Epoch 128 \t\t Training Loss: 0.0003102874510328878 \t\t Validation Loss: 0.03598757386207581\n",
      "Epoch 129 \t\t Training Loss: 0.0003813484006307342 \t\t Validation Loss: 0.008133662492036819\n",
      "Validation Loss Decreased(0.113567--->0.081337) \t Saving The Model\n",
      "Epoch 130 \t\t Training Loss: 0.000233112114735625 \t\t Validation Loss: 0.030384615063667297\n",
      "Epoch 131 \t\t Training Loss: 0.00036844602701338857 \t\t Validation Loss: 0.033979210257530215\n",
      "Epoch 132 \t\t Training Loss: 0.0003385340202261101 \t\t Validation Loss: 0.030438300967216492\n",
      "Epoch 133 \t\t Training Loss: 0.0003081611145965078 \t\t Validation Loss: 0.01351487785577774\n",
      "Epoch 134 \t\t Training Loss: 0.0002738003915345127 \t\t Validation Loss: 0.022644124925136566\n",
      "Epoch 135 \t\t Training Loss: 0.00031691927208819175 \t\t Validation Loss: 0.01220737248659134\n",
      "Epoch 136 \t\t Training Loss: 0.00032692855562676084 \t\t Validation Loss: 0.013886764645576477\n",
      "Epoch 137 \t\t Training Loss: 0.0004589795558290048 \t\t Validation Loss: 0.01314394623041153\n",
      "Epoch 138 \t\t Training Loss: 0.00029470517554066396 \t\t Validation Loss: 0.02510133385658264\n",
      "Epoch 139 \t\t Training Loss: 0.0003274630924517458 \t\t Validation Loss: 0.02826530337333679\n",
      "Epoch 140 \t\t Training Loss: 0.00034927094185894185 \t\t Validation Loss: 0.009634795784950256\n",
      "Epoch 141 \t\t Training Loss: 0.00025638256391341037 \t\t Validation Loss: 0.034817558526992795\n",
      "Epoch 142 \t\t Training Loss: 0.00029221841726790774 \t\t Validation Loss: 0.015783661603927614\n",
      "Epoch 143 \t\t Training Loss: 0.0002665407108989629 \t\t Validation Loss: 0.039828890562057497\n",
      "Epoch 144 \t\t Training Loss: 0.0003850695423104546 \t\t Validation Loss: 0.021722760796546937\n",
      "Epoch 145 \t\t Training Loss: 0.00034609585153785616 \t\t Validation Loss: 0.017397525906562804\n",
      "Epoch 146 \t\t Training Loss: 0.0002546946264126084 \t\t Validation Loss: 0.018486715853214264\n",
      "Epoch 147 \t\t Training Loss: 0.00035669709640470416 \t\t Validation Loss: 0.00960145965218544\n",
      "Epoch 148 \t\t Training Loss: 0.00031287261200222105 \t\t Validation Loss: 0.01590448319911957\n",
      "Epoch 149 \t\t Training Loss: 0.00021398882381618023 \t\t Validation Loss: 0.025900042057037352\n",
      "Epoch 150 \t\t Training Loss: 0.00023214955052191561 \t\t Validation Loss: 0.03654334545135498\n",
      "Epoch 151 \t\t Training Loss: 0.00020155367780138147 \t\t Validation Loss: 0.021585090458393096\n",
      "Epoch 152 \t\t Training Loss: 0.00031653220172632825 \t\t Validation Loss: 0.02308391034603119\n",
      "Epoch 153 \t\t Training Loss: 0.00025263718668032777 \t\t Validation Loss: 0.02432086765766144\n",
      "Epoch 154 \t\t Training Loss: 0.00023736787790601903 \t\t Validation Loss: 0.036136510968208316\n",
      "Epoch 155 \t\t Training Loss: 0.0002676217859102921 \t\t Validation Loss: 0.016936029493808746\n",
      "Epoch 156 \t\t Training Loss: 0.00047209050337022 \t\t Validation Loss: 0.033317151665687564\n",
      "Epoch 157 \t\t Training Loss: 0.00022449805824594065 \t\t Validation Loss: 0.031586289405822754\n",
      "Epoch 158 \t\t Training Loss: 0.00033808141862126916 \t\t Validation Loss: 0.031938007473945616\n",
      "Epoch 159 \t\t Training Loss: 0.00039747911928729576 \t\t Validation Loss: 0.021835927665233613\n",
      "Epoch 160 \t\t Training Loss: 0.0002824249677360058 \t\t Validation Loss: 0.0302160382270813\n",
      "Epoch 161 \t\t Training Loss: 0.00029488360847939145 \t\t Validation Loss: 0.020948277413845064\n",
      "Epoch 162 \t\t Training Loss: 0.00033374873667278075 \t\t Validation Loss: 0.014930950105190277\n",
      "Epoch 163 \t\t Training Loss: 0.00025542664595625615 \t\t Validation Loss: 0.031002089381217957\n",
      "Epoch 164 \t\t Training Loss: 0.0002911899196492 \t\t Validation Loss: 0.03977525532245636\n",
      "Epoch 165 \t\t Training Loss: 0.00022865230725570157 \t\t Validation Loss: 0.02388239949941635\n",
      "Epoch 166 \t\t Training Loss: 0.0003906570967625488 \t\t Validation Loss: 0.01675289124250412\n",
      "Epoch 167 \t\t Training Loss: 0.00026494861495765775 \t\t Validation Loss: 0.03833796381950379\n",
      "Epoch 168 \t\t Training Loss: 0.0002989319830455563 \t\t Validation Loss: 0.029382747411727906\n",
      "Epoch 169 \t\t Training Loss: 0.0003948582505637949 \t\t Validation Loss: 0.0272786945104599\n",
      "Epoch 170 \t\t Training Loss: 0.00042411287061192775 \t\t Validation Loss: 0.028524944186210634\n",
      "Epoch 171 \t\t Training Loss: 0.00031851765445687556 \t\t Validation Loss: 0.023535126447677614\n",
      "Epoch 172 \t\t Training Loss: 0.0004620786163617264 \t\t Validation Loss: 0.04178649187088013\n",
      "Epoch 173 \t\t Training Loss: 0.00033857804638418287 \t\t Validation Loss: 0.020815826952457428\n",
      "Epoch 174 \t\t Training Loss: 0.00027274226092479444 \t\t Validation Loss: 0.018275606632232665\n",
      "Epoch 175 \t\t Training Loss: 0.00024165784601460803 \t\t Validation Loss: 0.04979656636714935\n",
      "Epoch 176 \t\t Training Loss: 0.0003233731470324776 \t\t Validation Loss: 0.01290125995874405\n",
      "Epoch 177 \t\t Training Loss: 0.00029690491712906146 \t\t Validation Loss: 0.03893761038780212\n",
      "Epoch 178 \t\t Training Loss: 0.00036934462629935956 \t\t Validation Loss: 0.012216991186141968\n",
      "Epoch 179 \t\t Training Loss: 0.0004388227720152248 \t\t Validation Loss: 0.019290150701999666\n",
      "Epoch 180 \t\t Training Loss: 0.0002794576893475923 \t\t Validation Loss: 0.021526598930358888\n",
      "Epoch 181 \t\t Training Loss: 0.00025553459470922297 \t\t Validation Loss: 0.04312509298324585\n",
      "Epoch 182 \t\t Training Loss: 0.0002277241808108308 \t\t Validation Loss: 0.01542230397462845\n",
      "Epoch 183 \t\t Training Loss: 0.0002896235832436518 \t\t Validation Loss: 0.03776610791683197\n",
      "Epoch 184 \t\t Training Loss: 0.0003280503336678852 \t\t Validation Loss: 0.03329795002937317\n",
      "Epoch 185 \t\t Training Loss: 0.0003730884583836252 \t\t Validation Loss: 0.024067136645317077\n",
      "Epoch 186 \t\t Training Loss: 0.00025017460046166724 \t\t Validation Loss: 0.025367927551269532\n",
      "Epoch 187 \t\t Training Loss: 0.0003154750447720289 \t\t Validation Loss: 0.02741955816745758\n",
      "Epoch 188 \t\t Training Loss: 0.000261352587999268 \t\t Validation Loss: 0.022486044466495513\n",
      "Epoch 189 \t\t Training Loss: 0.0003156751732934605 \t\t Validation Loss: 0.02969566285610199\n",
      "Epoch 190 \t\t Training Loss: 0.0002656593622470444 \t\t Validation Loss: 0.03152124881744385\n",
      "Epoch 191 \t\t Training Loss: 0.0002351688136431304 \t\t Validation Loss: 0.03109654486179352\n",
      "Epoch 192 \t\t Training Loss: 0.00028851071626625276 \t\t Validation Loss: 0.02847052216529846\n",
      "Epoch 193 \t\t Training Loss: 0.00028333599171177906 \t\t Validation Loss: 0.024253129959106445\n",
      "Epoch 194 \t\t Training Loss: 0.00029284930364652115 \t\t Validation Loss: 0.02137753665447235\n",
      "Epoch 195 \t\t Training Loss: 0.0002980501475659284 \t\t Validation Loss: 0.017443017661571504\n",
      "Epoch 196 \t\t Training Loss: 0.00031673645770007914 \t\t Validation Loss: 0.025082165002822877\n",
      "Epoch 197 \t\t Training Loss: 0.00039492026818069547 \t\t Validation Loss: 0.0072366282343864444\n",
      "Validation Loss Decreased(0.081337--->0.072366) \t Saving The Model\n",
      "Epoch 198 \t\t Training Loss: 0.00021162819625301793 \t\t Validation Loss: 0.03183344900608063\n",
      "Epoch 199 \t\t Training Loss: 0.0003678240728649226 \t\t Validation Loss: 0.01968366503715515\n",
      "Epoch 200 \t\t Training Loss: 0.0003874870440499349 \t\t Validation Loss: 0.041793429851531984\n",
      "Epoch 201 \t\t Training Loss: 0.0002679567022079771 \t\t Validation Loss: 0.04627567827701569\n",
      "Epoch 202 \t\t Training Loss: 0.00029182933609594 \t\t Validation Loss: 0.0206232875585556\n",
      "Epoch 203 \t\t Training Loss: 0.000242133815349503 \t\t Validation Loss: 0.0314661830663681\n",
      "Epoch 204 \t\t Training Loss: 0.0002714838536286896 \t\t Validation Loss: 0.028874146938323974\n",
      "Epoch 205 \t\t Training Loss: 0.00025779476643285966 \t\t Validation Loss: 0.015252035856246949\n",
      "Epoch 206 \t\t Training Loss: 0.0002276939974928444 \t\t Validation Loss: 0.024478796124458312\n",
      "Epoch 207 \t\t Training Loss: 0.00032868327318944716 \t\t Validation Loss: 0.018028655648231508\n",
      "Epoch 208 \t\t Training Loss: 0.0005572599104859612 \t\t Validation Loss: 0.04127027988433838\n",
      "Epoch 209 \t\t Training Loss: 0.0003055311231450601 \t\t Validation Loss: 0.022572734951972963\n",
      "Epoch 210 \t\t Training Loss: 0.00030365876260806215 \t\t Validation Loss: 0.03639271557331085\n",
      "Epoch 211 \t\t Training Loss: 0.00036573422734032977 \t\t Validation Loss: 0.031698957085609436\n",
      "Epoch 212 \t\t Training Loss: 0.0002784089142964645 \t\t Validation Loss: 0.01817028969526291\n",
      "Epoch 213 \t\t Training Loss: 0.0003098361829126423 \t\t Validation Loss: 0.03431323766708374\n",
      "Epoch 214 \t\t Training Loss: 0.00036310506137934596 \t\t Validation Loss: 0.0345346987247467\n",
      "Epoch 215 \t\t Training Loss: 0.000276003350419077 \t\t Validation Loss: 0.023213951289653777\n",
      "Epoch 216 \t\t Training Loss: 0.00028887556188485837 \t\t Validation Loss: 0.021623052656650543\n",
      "Epoch 217 \t\t Training Loss: 0.00027090410532599145 \t\t Validation Loss: 0.022061169147491455\n",
      "Epoch 218 \t\t Training Loss: 0.00026875433766029096 \t\t Validation Loss: 0.01589670032262802\n",
      "Epoch 219 \t\t Training Loss: 0.00030173136937347323 \t\t Validation Loss: 0.03396586775779724\n",
      "Epoch 220 \t\t Training Loss: 0.0003188650801100514 \t\t Validation Loss: 0.028778654336929322\n",
      "Epoch 221 \t\t Training Loss: 0.00027017576873979783 \t\t Validation Loss: 0.02262035757303238\n",
      "Epoch 222 \t\t Training Loss: 0.000355474396862767 \t\t Validation Loss: 0.030605214834213256\n",
      "Epoch 223 \t\t Training Loss: 0.00023963590237227353 \t\t Validation Loss: 0.03156900703907013\n",
      "Epoch 224 \t\t Training Loss: 0.0003381804351440885 \t\t Validation Loss: 0.01867908090353012\n",
      "Epoch 225 \t\t Training Loss: 0.000283969481560317 \t\t Validation Loss: 0.013365414738655091\n",
      "Epoch 226 \t\t Training Loss: 0.00029780387624420905 \t\t Validation Loss: 0.0307034432888031\n",
      "Epoch 227 \t\t Training Loss: 0.0002489131663671949 \t\t Validation Loss: 0.012296866625547409\n",
      "Epoch 228 \t\t Training Loss: 0.0004491005092859268 \t\t Validation Loss: 0.03652807772159576\n",
      "Epoch 229 \t\t Training Loss: 0.00027598201466554946 \t\t Validation Loss: 0.03284914493560791\n",
      "Epoch 230 \t\t Training Loss: 0.0002883033064956015 \t\t Validation Loss: 0.035387182235717775\n",
      "Epoch 231 \t\t Training Loss: 0.0002717393535104665 \t\t Validation Loss: 0.02664220929145813\n",
      "Epoch 232 \t\t Training Loss: 0.00024443621408532965 \t\t Validation Loss: 0.023494625091552736\n",
      "Epoch 233 \t\t Training Loss: 0.00019975080662830308 \t\t Validation Loss: 0.025760823488235475\n",
      "Epoch 234 \t\t Training Loss: 0.0002117521044882861 \t\t Validation Loss: 0.020661793649196625\n",
      "Epoch 235 \t\t Training Loss: 0.00027530096386643976 \t\t Validation Loss: 0.017655465006828307\n",
      "Epoch 236 \t\t Training Loss: 0.0003443360963666981 \t\t Validation Loss: 0.03709728121757507\n",
      "Epoch 237 \t\t Training Loss: 0.00028267642483115196 \t\t Validation Loss: 0.01954103708267212\n",
      "Epoch 238 \t\t Training Loss: 0.0002966823522001505 \t\t Validation Loss: 0.029868698120117186\n",
      "Epoch 239 \t\t Training Loss: 0.00021804200316017324 \t\t Validation Loss: 0.02404520511627197\n",
      "Epoch 240 \t\t Training Loss: 0.0002764202654361725 \t\t Validation Loss: 0.01234448328614235\n",
      "Epoch 241 \t\t Training Loss: 0.00022576992738653314 \t\t Validation Loss: 0.02483042925596237\n",
      "Epoch 242 \t\t Training Loss: 0.0003619058142331514 \t\t Validation Loss: 0.030509373545646666\n",
      "Epoch 243 \t\t Training Loss: 0.0003199986266818914 \t\t Validation Loss: 0.02567327916622162\n",
      "Epoch 244 \t\t Training Loss: 0.00024774835698983884 \t\t Validation Loss: 0.017015650868415833\n",
      "Epoch 245 \t\t Training Loss: 0.0002388390712440014 \t\t Validation Loss: 0.03309508562088013\n",
      "Epoch 246 \t\t Training Loss: 0.0003429744392633438 \t\t Validation Loss: 0.01764221042394638\n",
      "Epoch 247 \t\t Training Loss: 0.00029436867176131767 \t\t Validation Loss: 0.020206619799137116\n",
      "Epoch 248 \t\t Training Loss: 0.0002808915027840571 \t\t Validation Loss: 0.02372550070285797\n",
      "Epoch 249 \t\t Training Loss: 0.00029645593498240817 \t\t Validation Loss: 0.026567330956459044\n",
      "Epoch 250 \t\t Training Loss: 0.00029754160310734403 \t\t Validation Loss: 0.033648592233657834\n",
      "Epoch 251 \t\t Training Loss: 0.00045108359137719327 \t\t Validation Loss: 0.020411193370819092\n",
      "Epoch 252 \t\t Training Loss: 0.00030261648564853453 \t\t Validation Loss: 0.026725006103515626\n",
      "Epoch 253 \t\t Training Loss: 0.0002796879800205881 \t\t Validation Loss: 0.01691078841686249\n",
      "Epoch 254 \t\t Training Loss: 0.0004154847172850912 \t\t Validation Loss: 0.008315416425466538\n",
      "Epoch 255 \t\t Training Loss: 0.0003440098794685169 \t\t Validation Loss: 0.02594398260116577\n",
      "Epoch 256 \t\t Training Loss: 0.00030940313908186823 \t\t Validation Loss: 0.029635459184646606\n",
      "Epoch 257 \t\t Training Loss: 0.00020335074937479064 \t\t Validation Loss: 0.032156601548194885\n",
      "Epoch 258 \t\t Training Loss: 0.00029870903712104666 \t\t Validation Loss: 0.03522480726242065\n",
      "Epoch 259 \t\t Training Loss: 0.00027364856478842824 \t\t Validation Loss: 0.03216778934001922\n",
      "Epoch 260 \t\t Training Loss: 0.0002827250229364092 \t\t Validation Loss: 0.034778842329978944\n",
      "Epoch 261 \t\t Training Loss: 0.000260766383937814 \t\t Validation Loss: 0.019539587199687958\n",
      "Epoch 262 \t\t Training Loss: 0.0002566207496618683 \t\t Validation Loss: 0.022939686477184296\n",
      "Epoch 263 \t\t Training Loss: 0.00034972582943737507 \t\t Validation Loss: 0.012178938835859299\n",
      "Epoch 264 \t\t Training Loss: 0.00026208236390216786 \t\t Validation Loss: 0.024181434512138368\n",
      "Epoch 265 \t\t Training Loss: 0.00022286386229097843 \t\t Validation Loss: 0.0352656751871109\n",
      "Epoch 266 \t\t Training Loss: 0.00021304535171525046 \t\t Validation Loss: 0.023295268416404724\n",
      "Epoch 267 \t\t Training Loss: 0.00028987940062176097 \t\t Validation Loss: 0.031775322556495664\n",
      "Epoch 268 \t\t Training Loss: 0.0002619988623667847 \t\t Validation Loss: 0.02206621915102005\n",
      "Epoch 269 \t\t Training Loss: 0.000281994358043779 \t\t Validation Loss: 0.03302899301052094\n",
      "Epoch 270 \t\t Training Loss: 0.00029676350426267493 \t\t Validation Loss: 0.02380606085062027\n",
      "Epoch 271 \t\t Training Loss: 0.00027651310136372393 \t\t Validation Loss: 0.0195852056145668\n",
      "Epoch 272 \t\t Training Loss: 0.00024530672552910716 \t\t Validation Loss: 0.028119564056396484\n",
      "Epoch 273 \t\t Training Loss: 0.00036272482777183706 \t\t Validation Loss: 0.020728543400764465\n",
      "Epoch 274 \t\t Training Loss: 0.000289465512403033 \t\t Validation Loss: 0.019547814130783082\n",
      "Epoch 275 \t\t Training Loss: 0.00042699798094955355 \t\t Validation Loss: 0.024109449982643128\n",
      "Epoch 276 \t\t Training Loss: 0.00038483222438530487 \t\t Validation Loss: 0.02051900774240494\n",
      "Epoch 277 \t\t Training Loss: 0.0003072737758471207 \t\t Validation Loss: 0.03186589181423187\n",
      "Epoch 278 \t\t Training Loss: 0.0003142417831854387 \t\t Validation Loss: 0.03564371466636658\n",
      "Epoch 279 \t\t Training Loss: 0.00026702616279098123 \t\t Validation Loss: 0.021682487428188325\n",
      "Epoch 280 \t\t Training Loss: 0.000343388920141892 \t\t Validation Loss: 0.025057104229927064\n",
      "Epoch 281 \t\t Training Loss: 0.00027526110749353063 \t\t Validation Loss: 0.022539035975933076\n",
      "Epoch 282 \t\t Training Loss: 0.000234949423677542 \t\t Validation Loss: 0.024855253100395203\n",
      "Epoch 283 \t\t Training Loss: 0.00024635084396736187 \t\t Validation Loss: 0.025400370359420776\n",
      "Epoch 284 \t\t Training Loss: 0.00028207855807109314 \t\t Validation Loss: 0.007456988841295242\n",
      "Epoch 285 \t\t Training Loss: 0.00028271289457651704 \t\t Validation Loss: 0.01752774268388748\n",
      "Epoch 286 \t\t Training Loss: 0.00031985556283457714 \t\t Validation Loss: 0.03911204040050507\n",
      "Epoch 287 \t\t Training Loss: 0.0002368814100257375 \t\t Validation Loss: 0.03966552317142487\n",
      "Epoch 288 \t\t Training Loss: 0.0002586440902880647 \t\t Validation Loss: 0.035710886120796204\n",
      "Epoch 289 \t\t Training Loss: 0.00027326225641776216 \t\t Validation Loss: 0.03141959309577942\n",
      "Epoch 290 \t\t Training Loss: 0.0003763750110837546 \t\t Validation Loss: 0.03629032671451569\n",
      "Epoch 291 \t\t Training Loss: 0.0003010481595993042 \t\t Validation Loss: 0.020901224017143248\n",
      "Epoch 292 \t\t Training Loss: 0.00026294140314513987 \t\t Validation Loss: 0.020508435368537904\n",
      "Epoch 293 \t\t Training Loss: 0.00021654494445432317 \t\t Validation Loss: 0.02479226291179657\n",
      "Epoch 294 \t\t Training Loss: 0.00020159721713174474 \t\t Validation Loss: 0.010130790621042251\n",
      "Epoch 295 \t\t Training Loss: 0.0003714201633225788 \t\t Validation Loss: 0.02277611047029495\n",
      "Epoch 296 \t\t Training Loss: 0.0003710414113646204 \t\t Validation Loss: 0.016551721096038818\n",
      "Epoch 297 \t\t Training Loss: 0.00046832080591808665 \t\t Validation Loss: 0.03295277953147888\n",
      "Epoch 298 \t\t Training Loss: 0.00024156122129749167 \t\t Validation Loss: 0.020221872627735137\n",
      "Epoch 299 \t\t Training Loss: 0.00025238160213286227 \t\t Validation Loss: 0.014438508450984955\n",
      "Epoch 300 \t\t Training Loss: 0.00027374307286332953 \t\t Validation Loss: 0.018248291313648225\n",
      "Epoch 301 \t\t Training Loss: 0.0002702872311188416 \t\t Validation Loss: 0.01935335248708725\n",
      "Epoch 302 \t\t Training Loss: 0.0002571597949347713 \t\t Validation Loss: 0.015422271192073822\n",
      "Epoch 303 \t\t Training Loss: 0.00028421784835782916 \t\t Validation Loss: 0.017768095433712005\n",
      "Epoch 304 \t\t Training Loss: 0.00037183015691963107 \t\t Validation Loss: 0.03204087615013122\n",
      "Epoch 305 \t\t Training Loss: 0.00026860602454028344 \t\t Validation Loss: 0.024612346291542055\n",
      "Epoch 306 \t\t Training Loss: 0.0002712068063291636 \t\t Validation Loss: 0.029105564951896666\n",
      "Epoch 307 \t\t Training Loss: 0.0003065714104609056 \t\t Validation Loss: 0.028975114226341248\n",
      "Epoch 308 \t\t Training Loss: 0.0002705856988375837 \t\t Validation Loss: 0.03241402506828308\n",
      "Epoch 309 \t\t Training Loss: 0.00022350768135352567 \t\t Validation Loss: 0.024216675758361818\n",
      "Epoch 310 \t\t Training Loss: 0.00022291133857586166 \t\t Validation Loss: 0.02297890931367874\n",
      "Epoch 311 \t\t Training Loss: 0.00021918687376786363 \t\t Validation Loss: 0.029103985428810118\n",
      "Epoch 312 \t\t Training Loss: 0.0002614918630570173 \t\t Validation Loss: 0.03324252068996429\n"
     ]
    },
    {
     "ename": "KeyboardInterrupt",
     "evalue": "",
     "output_type": "error",
     "traceback": [
      "\u001b[1;31m---------------------------------------------------------------------------\u001b[0m",
      "\u001b[1;31mKeyboardInterrupt\u001b[0m                         Traceback (most recent call last)",
      "\u001b[1;32m<ipython-input-83-2e0c5d41ceab>\u001b[0m in \u001b[0;36m<module>\u001b[1;34m\u001b[0m\n\u001b[0;32m      9\u001b[0m         \u001b[0mloss\u001b[0m \u001b[1;33m=\u001b[0m \u001b[0mtorch\u001b[0m\u001b[1;33m.\u001b[0m\u001b[0msqrt\u001b[0m\u001b[1;33m(\u001b[0m\u001b[0mcriterion\u001b[0m\u001b[1;33m(\u001b[0m\u001b[0mtarget\u001b[0m\u001b[1;33m,\u001b[0m\u001b[0mlabels\u001b[0m\u001b[1;33m)\u001b[0m\u001b[1;33m)\u001b[0m\u001b[1;33m\u001b[0m\u001b[1;33m\u001b[0m\u001b[0m\n\u001b[0;32m     10\u001b[0m         \u001b[0mloss\u001b[0m\u001b[1;33m.\u001b[0m\u001b[0mbackward\u001b[0m\u001b[1;33m(\u001b[0m\u001b[1;33m)\u001b[0m\u001b[1;33m\u001b[0m\u001b[1;33m\u001b[0m\u001b[0m\n\u001b[1;32m---> 11\u001b[1;33m         \u001b[0moptimizer\u001b[0m\u001b[1;33m.\u001b[0m\u001b[0mstep\u001b[0m\u001b[1;33m(\u001b[0m\u001b[1;33m)\u001b[0m\u001b[1;33m\u001b[0m\u001b[1;33m\u001b[0m\u001b[0m\n\u001b[0m\u001b[0;32m     12\u001b[0m         \u001b[0mtrain_loss\u001b[0m \u001b[1;33m=\u001b[0m \u001b[0mloss\u001b[0m\u001b[1;33m.\u001b[0m\u001b[0mitem\u001b[0m\u001b[1;33m(\u001b[0m\u001b[1;33m)\u001b[0m \u001b[1;31m# * data.size(0)\u001b[0m\u001b[1;33m\u001b[0m\u001b[1;33m\u001b[0m\u001b[0m\n\u001b[0;32m     13\u001b[0m \u001b[1;33m\u001b[0m\u001b[0m\n",
      "\u001b[1;32m~\\anaconda3\\lib\\site-packages\\torch\\optim\\optimizer.py\u001b[0m in \u001b[0;36mwrapper\u001b[1;34m(*args, **kwargs)\u001b[0m\n\u001b[0;32m    389\u001b[0m                             )\n\u001b[0;32m    390\u001b[0m \u001b[1;33m\u001b[0m\u001b[0m\n\u001b[1;32m--> 391\u001b[1;33m                 \u001b[0mout\u001b[0m \u001b[1;33m=\u001b[0m \u001b[0mfunc\u001b[0m\u001b[1;33m(\u001b[0m\u001b[1;33m*\u001b[0m\u001b[0margs\u001b[0m\u001b[1;33m,\u001b[0m \u001b[1;33m**\u001b[0m\u001b[0mkwargs\u001b[0m\u001b[1;33m)\u001b[0m\u001b[1;33m\u001b[0m\u001b[1;33m\u001b[0m\u001b[0m\n\u001b[0m\u001b[0;32m    392\u001b[0m                 \u001b[0mself\u001b[0m\u001b[1;33m.\u001b[0m\u001b[0m_optimizer_step_code\u001b[0m\u001b[1;33m(\u001b[0m\u001b[1;33m)\u001b[0m\u001b[1;33m\u001b[0m\u001b[1;33m\u001b[0m\u001b[0m\n\u001b[0;32m    393\u001b[0m \u001b[1;33m\u001b[0m\u001b[0m\n",
      "\u001b[1;32m~\\anaconda3\\lib\\site-packages\\torch\\optim\\optimizer.py\u001b[0m in \u001b[0;36m_use_grad\u001b[1;34m(self, *args, **kwargs)\u001b[0m\n\u001b[0;32m     74\u001b[0m             \u001b[0mtorch\u001b[0m\u001b[1;33m.\u001b[0m\u001b[0mset_grad_enabled\u001b[0m\u001b[1;33m(\u001b[0m\u001b[0mself\u001b[0m\u001b[1;33m.\u001b[0m\u001b[0mdefaults\u001b[0m\u001b[1;33m[\u001b[0m\u001b[1;34m'differentiable'\u001b[0m\u001b[1;33m]\u001b[0m\u001b[1;33m)\u001b[0m\u001b[1;33m\u001b[0m\u001b[1;33m\u001b[0m\u001b[0m\n\u001b[0;32m     75\u001b[0m             \u001b[0mtorch\u001b[0m\u001b[1;33m.\u001b[0m\u001b[0m_dynamo\u001b[0m\u001b[1;33m.\u001b[0m\u001b[0mgraph_break\u001b[0m\u001b[1;33m(\u001b[0m\u001b[1;33m)\u001b[0m\u001b[1;33m\u001b[0m\u001b[1;33m\u001b[0m\u001b[0m\n\u001b[1;32m---> 76\u001b[1;33m             \u001b[0mret\u001b[0m \u001b[1;33m=\u001b[0m \u001b[0mfunc\u001b[0m\u001b[1;33m(\u001b[0m\u001b[0mself\u001b[0m\u001b[1;33m,\u001b[0m \u001b[1;33m*\u001b[0m\u001b[0margs\u001b[0m\u001b[1;33m,\u001b[0m \u001b[1;33m**\u001b[0m\u001b[0mkwargs\u001b[0m\u001b[1;33m)\u001b[0m\u001b[1;33m\u001b[0m\u001b[1;33m\u001b[0m\u001b[0m\n\u001b[0m\u001b[0;32m     77\u001b[0m         \u001b[1;32mfinally\u001b[0m\u001b[1;33m:\u001b[0m\u001b[1;33m\u001b[0m\u001b[1;33m\u001b[0m\u001b[0m\n\u001b[0;32m     78\u001b[0m             \u001b[0mtorch\u001b[0m\u001b[1;33m.\u001b[0m\u001b[0m_dynamo\u001b[0m\u001b[1;33m.\u001b[0m\u001b[0mgraph_break\u001b[0m\u001b[1;33m(\u001b[0m\u001b[1;33m)\u001b[0m\u001b[1;33m\u001b[0m\u001b[1;33m\u001b[0m\u001b[0m\n",
      "\u001b[1;32m~\\anaconda3\\lib\\site-packages\\torch\\optim\\adam.py\u001b[0m in \u001b[0;36mstep\u001b[1;34m(self, closure)\u001b[0m\n\u001b[0;32m    166\u001b[0m                 state_steps)\n\u001b[0;32m    167\u001b[0m \u001b[1;33m\u001b[0m\u001b[0m\n\u001b[1;32m--> 168\u001b[1;33m             adam(\n\u001b[0m\u001b[0;32m    169\u001b[0m                 \u001b[0mparams_with_grad\u001b[0m\u001b[1;33m,\u001b[0m\u001b[1;33m\u001b[0m\u001b[1;33m\u001b[0m\u001b[0m\n\u001b[0;32m    170\u001b[0m                 \u001b[0mgrads\u001b[0m\u001b[1;33m,\u001b[0m\u001b[1;33m\u001b[0m\u001b[1;33m\u001b[0m\u001b[0m\n",
      "\u001b[1;32m~\\anaconda3\\lib\\site-packages\\torch\\optim\\adam.py\u001b[0m in \u001b[0;36madam\u001b[1;34m(params, grads, exp_avgs, exp_avg_sqs, max_exp_avg_sqs, state_steps, foreach, capturable, differentiable, fused, grad_scale, found_inf, has_complex, amsgrad, beta1, beta2, lr, weight_decay, eps, maximize)\u001b[0m\n\u001b[0;32m    316\u001b[0m         \u001b[0mfunc\u001b[0m \u001b[1;33m=\u001b[0m \u001b[0m_single_tensor_adam\u001b[0m\u001b[1;33m\u001b[0m\u001b[1;33m\u001b[0m\u001b[0m\n\u001b[0;32m    317\u001b[0m \u001b[1;33m\u001b[0m\u001b[0m\n\u001b[1;32m--> 318\u001b[1;33m     func(params,\n\u001b[0m\u001b[0;32m    319\u001b[0m          \u001b[0mgrads\u001b[0m\u001b[1;33m,\u001b[0m\u001b[1;33m\u001b[0m\u001b[1;33m\u001b[0m\u001b[0m\n\u001b[0;32m    320\u001b[0m          \u001b[0mexp_avgs\u001b[0m\u001b[1;33m,\u001b[0m\u001b[1;33m\u001b[0m\u001b[1;33m\u001b[0m\u001b[0m\n",
      "\u001b[1;32m~\\anaconda3\\lib\\site-packages\\torch\\optim\\adam.py\u001b[0m in \u001b[0;36m_single_tensor_adam\u001b[1;34m(params, grads, exp_avgs, exp_avg_sqs, max_exp_avg_sqs, state_steps, grad_scale, found_inf, amsgrad, has_complex, beta1, beta2, lr, weight_decay, eps, maximize, capturable, differentiable)\u001b[0m\n\u001b[0;32m    392\u001b[0m         \u001b[1;31m# Decay the first and second moment running average coefficient\u001b[0m\u001b[1;33m\u001b[0m\u001b[1;33m\u001b[0m\u001b[1;33m\u001b[0m\u001b[0m\n\u001b[0;32m    393\u001b[0m         \u001b[0mexp_avg\u001b[0m\u001b[1;33m.\u001b[0m\u001b[0mlerp_\u001b[0m\u001b[1;33m(\u001b[0m\u001b[0mgrad\u001b[0m\u001b[1;33m,\u001b[0m \u001b[1;36m1\u001b[0m \u001b[1;33m-\u001b[0m \u001b[0mbeta1\u001b[0m\u001b[1;33m)\u001b[0m\u001b[1;33m\u001b[0m\u001b[1;33m\u001b[0m\u001b[0m\n\u001b[1;32m--> 394\u001b[1;33m         \u001b[0mexp_avg_sq\u001b[0m\u001b[1;33m.\u001b[0m\u001b[0mmul_\u001b[0m\u001b[1;33m(\u001b[0m\u001b[0mbeta2\u001b[0m\u001b[1;33m)\u001b[0m\u001b[1;33m.\u001b[0m\u001b[0maddcmul_\u001b[0m\u001b[1;33m(\u001b[0m\u001b[0mgrad\u001b[0m\u001b[1;33m,\u001b[0m \u001b[0mgrad\u001b[0m\u001b[1;33m.\u001b[0m\u001b[0mconj\u001b[0m\u001b[1;33m(\u001b[0m\u001b[1;33m)\u001b[0m\u001b[1;33m,\u001b[0m \u001b[0mvalue\u001b[0m\u001b[1;33m=\u001b[0m\u001b[1;36m1\u001b[0m \u001b[1;33m-\u001b[0m \u001b[0mbeta2\u001b[0m\u001b[1;33m)\u001b[0m\u001b[1;33m\u001b[0m\u001b[1;33m\u001b[0m\u001b[0m\n\u001b[0m\u001b[0;32m    395\u001b[0m \u001b[1;33m\u001b[0m\u001b[0m\n\u001b[0;32m    396\u001b[0m         \u001b[1;32mif\u001b[0m \u001b[0mcapturable\u001b[0m \u001b[1;32mor\u001b[0m \u001b[0mdifferentiable\u001b[0m\u001b[1;33m:\u001b[0m\u001b[1;33m\u001b[0m\u001b[1;33m\u001b[0m\u001b[0m\n",
      "\u001b[1;31mKeyboardInterrupt\u001b[0m: "
     ]
    }
   ],
   "source": [
    "for e in range(epochs):\n",
    "    train_loss = 0.0\n",
    "    models.train()     # Optional when not using Model Specific layer\n",
    "    for data, labels in train_dataloader:\n",
    "        data, labels = data.to(device), labels.to(device)\n",
    "\n",
    "        optimizer.zero_grad()\n",
    "        target = models(data)\n",
    "        loss = torch.sqrt(criterion(target,labels))\n",
    "        loss.backward()\n",
    "        optimizer.step()\n",
    "        train_loss = loss.item() \n",
    "\n",
    "    valid_loss = 0.0\n",
    "    models.eval()     # Optional when not using Model Specific layer\n",
    "\n",
    "    for data, labels in test_dataloader:\n",
    "        data, labels = data.to(device), labels.to(device)\n",
    "\n",
    "        target = models(data)\n",
    "        loss = torch.sqrt(criterion(target, labels))\n",
    "        valid_loss = loss.item() \n",
    "\n",
    "    print(f'Epoch {e+1} \\t\\t Training Loss: {train_loss / len(train_dataloader)} \\t\\t Validation Loss: {valid_loss / len(test_dataloader)}')\n",
    "    if min_valid_loss > valid_loss:\n",
    "        print(f'Validation Loss Decreased({min_valid_loss:.6f}--->{valid_loss:.6f}) \\t Saving The Model')\n",
    "        min_valid_loss = valid_loss\n",
    "        # Saving State Dict\n",
    "        torch.save(models.state_dict(), TMP + '/saved_model.pth')"
   ]
  },
  {
   "cell_type": "markdown",
   "id": "fcfccdd7",
   "metadata": {},
   "source": [
    "По итогу, наилучшее качество показала модель на основе полносвязанной нейросети."
   ]
  },
  {
   "cell_type": "markdown",
   "id": "9bcf8b39-3da1-459f-9cb8-c3d0edea4d38",
   "metadata": {},
   "source": [
    "<div class=\"alert\" style=\"background-color:#ead7f7;color:#8737bf\">\n",
    "    <font size=\"3\"><b>образец комментария студента</b></font>\n",
    "   \n",
    "        поменял количество ипох = 300 и размер бача = 150\n",
    "поправил расчет ошибки, лосс =0,01\n",
    "\n",
    "</div>"
   ]
  },
  {
   "cell_type": "markdown",
   "id": "9f90dc68",
   "metadata": {},
   "source": [
    "<img src=\"https://upload.wikimedia.org/wikipedia/commons/thumb/8/81/Stop_sign.png/240px-Stop_sign.png\" align=left width=35, heigth=35>\n",
    "<div class=\"alert alert-danger\">\n",
    "Скажу честно - результат  который ты получил неудовлетворительный ни для одной из моделей (ни для линейной модели ни для нейронной сети).\n",
    "\n",
    "Учитвая что метрика любой константной модели из диапазона 0-1 будет меньше 1, а если использовать среднее, то скорее всего меньше чем 0,3, валидационная метрика 8 это никуда не годится.\n",
    "    \n",
    "Пожалуйста попробуй хотя-бы приблизиться к к разумной метрике (сделать что-то близкое к дамми модели).\n",
    "    \n",
    "    \n",
    "    \n",
    "</div>"
   ]
  },
  {
   "attachments": {
    "image.png": {
     "image/png": "[encoded data removed]"
    }
   },
   "cell_type": "markdown",
   "id": "8a590eda",
   "metadata": {},
   "source": [
    "<img src=\"https://upload.wikimedia.org/wikipedia/commons/thumb/8/81/Stop_sign.png/240px-Stop_sign.png\" align=left width=35, heigth=35>\n",
    "<div class=\"alert alert-danger\">\n",
    "<b>v2</b>    \n",
    "\n",
    "Результат по прежнему проигрывает обычной Dummy модели, просто предсказывающей среднюю оценку по нашему таргету.\n",
    "    \n",
    "    \n",
    "![image.png](attachment:image.png)    \n",
    "    \n",
    "    \n",
    "Возможно твоя функция некорректно расчитывает  лосс, который выводит. Пожалуйста перепроверь или воспользуйся более простым вариантом обучения модели, например из спринта где мы обучали модель на pytorch.\n",
    "    \n",
    "В качестве простого лайфхака могу посоветовать отказаться от даталоадера. Объем обучающей выборке относительно небольшой и возможно \"поместится\" на средней видеокарте вместе с моделью.    \n",
    "</div>"
   ]
  },
  {
   "cell_type": "markdown",
   "id": "c19d8493",
   "metadata": {
    "id": "diQyugE-EoPS"
   },
   "source": [
    "<img src=\"https://upload.wikimedia.org/wikipedia/commons/b/ba/Warning_sign_4.0.png\" align=left width=44, heigth=33>\n",
    "<div class=\"alert alert-warning\">\n",
    "В одном из проектов твоего одногрупника хорошо сработал Catboost. Не буду утверждать что и в твоем случае он хорошо себя поведет, но можешь попробовать.</div>"
   ]
  },
  {
   "cell_type": "markdown",
   "id": "2f870d77",
   "metadata": {
    "cellId": "tbnfwg686jpxjdsw7cqbl",
    "execution_id": "5e14c3be-a481-438e-a979-0f4621acea44",
    "id": "2f870d77"
   },
   "source": [
    "## 7. Тестирование модели\n",
    "\n",
    "Настало время протестировать модель. Для этого получите эмбеддинги для всех тестовых изображений из папки `test_images`, выберите случайные 10 запросов из файла `test_queries.csv` и для каждого запроса выведите наиболее релевантное изображение. Сравните визуально качество поиска."
   ]
  },
  {
   "cell_type": "code",
   "execution_count": 70,
   "id": "801e0c32",
   "metadata": {
    "cellId": "q6sn9kh039f4a6xvu66y7",
    "id": "801e0c32",
    "scrolled": true
   },
   "outputs": [
    {
     "data": {
      "text/plain": [
       "Net(\n",
       "  (fc1): Linear(in_features=1280, out_features=4096, bias=True)\n",
       "  (fc3): Linear(in_features=4096, out_features=2048, bias=True)\n",
       "  (fc4): Linear(in_features=2048, out_features=512, bias=True)\n",
       "  (fc5): Linear(in_features=512, out_features=64, bias=True)\n",
       "  (fc6): Linear(in_features=64, out_features=1, bias=True)\n",
       "  (dp): Dropout(p=0.5, inplace=False)\n",
       "  (relu): LeakyReLU(negative_slope=0.01)\n",
       ")"
      ]
     },
     "execution_count": 70,
     "metadata": {},
     "output_type": "execute_result"
    }
   ],
   "source": [
    "# загрузим модель\n",
    "models = Net()\n",
    "models.to(device)\n",
    "\n",
    "models.load_state_dict(torch.load(TMP + '/saved_model.pth'))\n",
    "models.eval()"
   ]
  },
  {
   "cell_type": "code",
   "execution_count": 71,
   "id": "12fda22e",
   "metadata": {},
   "outputs": [
    {
     "name": "stdout",
     "output_type": "stream",
     "text": [
      "<class 'pandas.core.frame.DataFrame'>\n",
      "RangeIndex: 100 entries, 0 to 99\n",
      "Data columns (total 1 columns):\n",
      " #   Column  Non-Null Count  Dtype \n",
      "---  ------  --------------  ----- \n",
      " 0   image   100 non-null    object\n",
      "dtypes: object(1)\n",
      "memory usage: 928.0+ bytes\n"
     ]
    },
    {
     "data": {
      "text/html": [
       "<div>\n",
       "<style scoped>\n",
       "    .dataframe tbody tr th:only-of-type {\n",
       "        vertical-align: middle;\n",
       "    }\n",
       "\n",
       "    .dataframe tbody tr th {\n",
       "        vertical-align: top;\n",
       "    }\n",
       "\n",
       "    .dataframe thead th {\n",
       "        text-align: right;\n",
       "    }\n",
       "</style>\n",
       "<table border=\"1\" class=\"dataframe\">\n",
       "  <thead>\n",
       "    <tr style=\"text-align: right;\">\n",
       "      <th></th>\n",
       "      <th>image</th>\n",
       "    </tr>\n",
       "  </thead>\n",
       "  <tbody>\n",
       "    <tr>\n",
       "      <th>0</th>\n",
       "      <td>3356748019_2251399314.jpg</td>\n",
       "    </tr>\n",
       "    <tr>\n",
       "      <th>1</th>\n",
       "      <td>2887171449_f54a2b9f39.jpg</td>\n",
       "    </tr>\n",
       "    <tr>\n",
       "      <th>2</th>\n",
       "      <td>3089107423_81a24eaf18.jpg</td>\n",
       "    </tr>\n",
       "    <tr>\n",
       "      <th>3</th>\n",
       "      <td>1429546659_44cb09cbe2.jpg</td>\n",
       "    </tr>\n",
       "    <tr>\n",
       "      <th>4</th>\n",
       "      <td>1177994172_10d143cb8d.jpg</td>\n",
       "    </tr>\n",
       "  </tbody>\n",
       "</table>\n",
       "</div>"
      ],
      "text/plain": [
       "                       image\n",
       "0  3356748019_2251399314.jpg\n",
       "1  2887171449_f54a2b9f39.jpg\n",
       "2  3089107423_81a24eaf18.jpg\n",
       "3  1429546659_44cb09cbe2.jpg\n",
       "4  1177994172_10d143cb8d.jpg"
      ]
     },
     "execution_count": 71,
     "metadata": {},
     "output_type": "execute_result"
    }
   ],
   "source": [
    "test_images_csv = pd.read_csv(ROOT_FOLDER + '/to_upload/test_images.csv')\n",
    "test_images_csv.info()\n",
    "test_images_csv.head()"
   ]
  },
  {
   "cell_type": "code",
   "execution_count": 72,
   "id": "8ba674b1",
   "metadata": {},
   "outputs": [
    {
     "name": "stdout",
     "output_type": "stream",
     "text": [
      "<class 'pandas.core.frame.DataFrame'>\n",
      "Int64Index: 500 entries, 0 to 499\n",
      "Data columns (total 3 columns):\n",
      " #   Column      Non-Null Count  Dtype \n",
      "---  ------      --------------  ----- \n",
      " 0   query_id    500 non-null    object\n",
      " 1   query_text  500 non-null    object\n",
      " 2   image       500 non-null    object\n",
      "dtypes: object(3)\n",
      "memory usage: 15.6+ KB\n"
     ]
    },
    {
     "data": {
      "text/html": [
       "<div>\n",
       "<style scoped>\n",
       "    .dataframe tbody tr th:only-of-type {\n",
       "        vertical-align: middle;\n",
       "    }\n",
       "\n",
       "    .dataframe tbody tr th {\n",
       "        vertical-align: top;\n",
       "    }\n",
       "\n",
       "    .dataframe thead th {\n",
       "        text-align: right;\n",
       "    }\n",
       "</style>\n",
       "<table border=\"1\" class=\"dataframe\">\n",
       "  <thead>\n",
       "    <tr style=\"text-align: right;\">\n",
       "      <th></th>\n",
       "      <th>query_id</th>\n",
       "      <th>query_text</th>\n",
       "      <th>image</th>\n",
       "    </tr>\n",
       "  </thead>\n",
       "  <tbody>\n",
       "    <tr>\n",
       "      <th>100</th>\n",
       "      <td>2428094795_d3a8f46046.jpg#0</td>\n",
       "      <td>A child in a fuzzy blue hat on a tricycle .</td>\n",
       "      <td>2428094795_d3a8f46046.jpg</td>\n",
       "    </tr>\n",
       "    <tr>\n",
       "      <th>424</th>\n",
       "      <td>3730011701_5352e02286.jpg#4</td>\n",
       "      <td>The small baby in a yellow has the lower half ...</td>\n",
       "      <td>3730011701_5352e02286.jpg</td>\n",
       "    </tr>\n",
       "    <tr>\n",
       "      <th>388</th>\n",
       "      <td>3520936130_9e90872560.jpg#3</td>\n",
       "      <td>two people sit on a park bench .</td>\n",
       "      <td>3520936130_9e90872560.jpg</td>\n",
       "    </tr>\n",
       "    <tr>\n",
       "      <th>348</th>\n",
       "      <td>345785626_9fa59f38ce.jpg#3</td>\n",
       "      <td>A young man sits on a cliff , watching the oce...</td>\n",
       "      <td>345785626_9fa59f38ce.jpg</td>\n",
       "    </tr>\n",
       "    <tr>\n",
       "      <th>141</th>\n",
       "      <td>2597308074_acacc12e1b.jpg#1</td>\n",
       "      <td>a boy flings sand at a girl .</td>\n",
       "      <td>2597308074_acacc12e1b.jpg</td>\n",
       "    </tr>\n",
       "  </tbody>\n",
       "</table>\n",
       "</div>"
      ],
      "text/plain": [
       "                        query_id  \\\n",
       "100  2428094795_d3a8f46046.jpg#0   \n",
       "424  3730011701_5352e02286.jpg#4   \n",
       "388  3520936130_9e90872560.jpg#3   \n",
       "348   345785626_9fa59f38ce.jpg#3   \n",
       "141  2597308074_acacc12e1b.jpg#1   \n",
       "\n",
       "                                            query_text  \\\n",
       "100        A child in a fuzzy blue hat on a tricycle .   \n",
       "424  The small baby in a yellow has the lower half ...   \n",
       "388                   two people sit on a park bench .   \n",
       "348  A young man sits on a cliff , watching the oce...   \n",
       "141                      a boy flings sand at a girl .   \n",
       "\n",
       "                         image  \n",
       "100  2428094795_d3a8f46046.jpg  \n",
       "424  3730011701_5352e02286.jpg  \n",
       "388  3520936130_9e90872560.jpg  \n",
       "348   345785626_9fa59f38ce.jpg  \n",
       "141  2597308074_acacc12e1b.jpg  "
      ]
     },
     "execution_count": 72,
     "metadata": {},
     "output_type": "execute_result"
    }
   ],
   "source": [
    "test_queries_csv = pd.read_csv(ROOT_FOLDER + '/to_upload/test_queries.csv', sep='|', index_col=0)\n",
    "test_queries_csv.info()\n",
    "test_queries_csv.sample(5)"
   ]
  },
  {
   "cell_type": "code",
   "execution_count": 73,
   "id": "b23c3ed3",
   "metadata": {},
   "outputs": [
    {
     "name": "stderr",
     "output_type": "stream",
     "text": [
      "100%|██████████| 100/100 [00:03<00:00, 29.31it/s]\n"
     ]
    }
   ],
   "source": [
    "image_vectors = {}\n",
    "\n",
    "# воспользуемся ранее созданным методом\n",
    "images2vector(TEST_IMAGE_FOLDER)"
   ]
  },
  {
   "cell_type": "markdown",
   "id": "4586f5d3",
   "metadata": {},
   "source": [
    "<img src=\"https://emojigraph.org/media/apple/check-mark-button_2705.png\" align=left width=33, heigth=33>\n",
    "<div class=\"alert alert-success\">\n",
    "Да, тестовые изображения нужно векторизовать заранее.</div>"
   ]
  },
  {
   "cell_type": "markdown",
   "id": "0de3b5f5",
   "metadata": {},
   "source": [
    "### Тестирование"
   ]
  },
  {
   "cell_type": "markdown",
   "id": "37462648",
   "metadata": {},
   "source": [
    "Создадим специальную функцию для тестирования модели"
   ]
  },
  {
   "cell_type": "code",
   "execution_count": 74,
   "id": "efc8977f",
   "metadata": {},
   "outputs": [
    {
     "data": {
      "text/plain": [
       "('./cache/No-image-available.jpg', <http.client.HTTPMessage at 0x1eeed7cb340>)"
      ]
     },
     "execution_count": 74,
     "metadata": {},
     "output_type": "execute_result"
    }
   ],
   "source": [
    "# загружаю изображение, которое будет показываться при запрете\n",
    "urllib.request.urlretrieve('https://upload.wikimedia.org/wikipedia/commons/f/f9/No-image-available.jpg', './cache/No-image-available.jpg')"
   ]
  },
  {
   "cell_type": "code",
   "execution_count": 75,
   "id": "82379106",
   "metadata": {},
   "outputs": [],
   "source": [
    "def search(txt):\n",
    "    \"\"\"\n",
    "    Функция для поиска изображений по описанию\n",
    "\n",
    "    Параметры:\n",
    "    ----------\n",
    "    txt: string - описание изображения\n",
    "\n",
    "    Результат:\n",
    "    ----------\n",
    "    string - путь к изображению\n",
    "    string - описание\n",
    "    float - вероятность\n",
    "    \"\"\"\n",
    "    if ban(txt):\n",
    "        # Выводим сообщение связанное с юридическими ограничениями\n",
    "        return './cache/No-image-available.jpg', f'{txt}\\nThis image is unavailable in your country in compliance with local laws', None\n",
    "\n",
    "    vec = text2vector(txt)\n",
    "\n",
    "    # создадим данные для модели\n",
    "    data = []\n",
    "    images = []\n",
    "\n",
    "    for key in image_vectors.keys():\n",
    "        images.append(key)\n",
    "\n",
    "        img = image_vectors[key]\n",
    "        data.append(np.concatenate((vec, img)))\n",
    "\n",
    "    with torch.no_grad():\n",
    "        pred = models(scaler.transform(torch.FloatTensor(data)).to(device)).to('cpu')\n",
    "        # получаем индекс записи, которая больше всего подходит под описание\n",
    "        idx = pred.numpy().argmax(axis=0)[0]\n",
    "\n",
    "    return f'{TEST_IMAGE_FOLDER}/{images[idx]}', txt, pred[idx].numpy()[0]"
   ]
  },
  {
   "cell_type": "markdown",
   "id": "d3561d85",
   "metadata": {
    "id": "dd04d000"
   },
   "source": [
    "<img src=\"https://upload.wikimedia.org/wikipedia/commons/b/ba/Warning_sign_4.0.png\" align=left width=44, heigth=33>\n",
    "<div class=\"alert alert-warning\">\n",
    "Помнишь я предлагал тебе отказаться от лемматизации в пользу расширения словаря? Когда я тестировал код, на фразу со словом 'girl' появился варнинг, а вот фразу с 'girls' твоя функция пропустила...\n",
    "    \n",
    "Насколько я понимаю ты просто забыл про лемматизацию перед проверкой на легальность запроса.    \n",
    "  \n",
    "</div>"
   ]
  },
  {
   "cell_type": "code",
   "execution_count": 76,
   "id": "4d64a721",
   "metadata": {},
   "outputs": [],
   "source": [
    "# получаем 10 случайных примеров из тестового dataset'а\n",
    "queries = list(test_queries_csv.sample(MAX_SAMPLE)['query_text'])"
   ]
  },
  {
   "cell_type": "code",
   "execution_count": 77,
   "id": "e3aed885-ff44-493c-8edc-37593921b2f0",
   "metadata": {},
   "outputs": [
    {
     "data": {
      "text/plain": [
       "['While holding tight to the ball , the man in red socks is getting tackled .',\n",
       " 'A brown dog is grabbing the collar of a black dog .',\n",
       " 'Men in a khaki-colored tent outside in a rundown area .',\n",
       " 'The middle eastern woman wearing the pink headscarf is walking beside a woman in a purple headscarf .',\n",
       " 'Women play lacrosse .',\n",
       " 'An adult male wearing a backpack walks and looks to the left .',\n",
       " 'a biker rides down the street .',\n",
       " 'a baby is holding a controller to a video game above his head .',\n",
       " 'a lone man sitting on a ledge that overlooks the beach',\n",
       " 'Two people are in a tent near a brick wall .']"
      ]
     },
     "execution_count": 77,
     "metadata": {},
     "output_type": "execute_result"
    }
   ],
   "source": [
    "queries"
   ]
  },
  {
   "cell_type": "code",
   "execution_count": 78,
   "id": "ce9c57f9",
   "metadata": {},
   "outputs": [
    {
     "ename": "NameError",
     "evalue": "name 'pbar' is not defined",
     "output_type": "error",
     "traceback": [
      "\u001b[1;31m---------------------------------------------------------------------------\u001b[0m",
      "\u001b[1;31mNameError\u001b[0m                                 Traceback (most recent call last)",
      "\u001b[1;32m<ipython-input-78-387c9bf8b81b>\u001b[0m in \u001b[0;36m<module>\u001b[1;34m\u001b[0m\n\u001b[0;32m      5\u001b[0m \u001b[1;32mfor\u001b[0m \u001b[0mi\u001b[0m \u001b[1;32min\u001b[0m \u001b[0mrange\u001b[0m\u001b[1;33m(\u001b[0m\u001b[0mlen\u001b[0m\u001b[1;33m(\u001b[0m\u001b[0mqueries\u001b[0m\u001b[1;33m)\u001b[0m\u001b[1;33m)\u001b[0m\u001b[1;33m:\u001b[0m\u001b[1;33m\u001b[0m\u001b[1;33m\u001b[0m\u001b[0m\n\u001b[0;32m      6\u001b[0m \u001b[1;33m\u001b[0m\u001b[0m\n\u001b[1;32m----> 7\u001b[1;33m     \u001b[0mimage_path\u001b[0m\u001b[1;33m,\u001b[0m \u001b[0mtitle\u001b[0m\u001b[1;33m,\u001b[0m \u001b[0mscore\u001b[0m \u001b[1;33m=\u001b[0m \u001b[0msearch\u001b[0m\u001b[1;33m(\u001b[0m\u001b[0mqueries\u001b[0m\u001b[1;33m[\u001b[0m\u001b[0mi\u001b[0m\u001b[1;33m]\u001b[0m\u001b[1;33m)\u001b[0m\u001b[1;33m\u001b[0m\u001b[1;33m\u001b[0m\u001b[0m\n\u001b[0m\u001b[0;32m      8\u001b[0m \u001b[1;33m\u001b[0m\u001b[0m\n\u001b[0;32m      9\u001b[0m     \u001b[0mimages\u001b[0m\u001b[1;33m.\u001b[0m\u001b[0mappend\u001b[0m\u001b[1;33m(\u001b[0m\u001b[0mimage_path\u001b[0m\u001b[1;33m)\u001b[0m\u001b[1;33m\u001b[0m\u001b[1;33m\u001b[0m\u001b[0m\n",
      "\u001b[1;32m<ipython-input-75-da903d8e5794>\u001b[0m in \u001b[0;36msearch\u001b[1;34m(txt)\u001b[0m\n\u001b[0;32m     17\u001b[0m         \u001b[1;32mreturn\u001b[0m \u001b[1;34m'./cache/No-image-available.jpg'\u001b[0m\u001b[1;33m,\u001b[0m \u001b[1;34mf'{txt}\\nThis image is unavailable in your country in compliance with local laws'\u001b[0m\u001b[1;33m,\u001b[0m \u001b[1;32mNone\u001b[0m\u001b[1;33m\u001b[0m\u001b[1;33m\u001b[0m\u001b[0m\n\u001b[0;32m     18\u001b[0m \u001b[1;33m\u001b[0m\u001b[0m\n\u001b[1;32m---> 19\u001b[1;33m     \u001b[0mvec\u001b[0m \u001b[1;33m=\u001b[0m \u001b[0mtext2vector\u001b[0m\u001b[1;33m(\u001b[0m\u001b[0mtxt\u001b[0m\u001b[1;33m)\u001b[0m\u001b[1;33m\u001b[0m\u001b[1;33m\u001b[0m\u001b[0m\n\u001b[0m\u001b[0;32m     20\u001b[0m \u001b[1;33m\u001b[0m\u001b[0m\n\u001b[0;32m     21\u001b[0m     \u001b[1;31m# создадим данные для модели\u001b[0m\u001b[1;33m\u001b[0m\u001b[1;33m\u001b[0m\u001b[1;33m\u001b[0m\u001b[0m\n",
      "\u001b[1;32m<ipython-input-40-17140a225c68>\u001b[0m in \u001b[0;36mtext2vector\u001b[1;34m(sentences)\u001b[0m\n\u001b[0;32m     10\u001b[0m     \u001b[0msentence_embeddings\u001b[0m \u001b[1;33m=\u001b[0m \u001b[0mmean_pooling\u001b[0m\u001b[1;33m(\u001b[0m\u001b[0mmodel_output\u001b[0m\u001b[1;33m,\u001b[0m \u001b[0mencoded_input\u001b[0m\u001b[1;33m[\u001b[0m\u001b[1;34m'attention_mask'\u001b[0m\u001b[1;33m]\u001b[0m\u001b[1;33m)\u001b[0m\u001b[1;33m\u001b[0m\u001b[1;33m\u001b[0m\u001b[0m\n\u001b[0;32m     11\u001b[0m \u001b[1;33m\u001b[0m\u001b[0m\n\u001b[1;32m---> 12\u001b[1;33m     \u001b[0mpbar\u001b[0m\u001b[1;33m.\u001b[0m\u001b[0mupdate\u001b[0m\u001b[1;33m(\u001b[0m\u001b[1;36m1\u001b[0m\u001b[1;33m)\u001b[0m\u001b[1;33m\u001b[0m\u001b[1;33m\u001b[0m\u001b[0m\n\u001b[0m\u001b[0;32m     13\u001b[0m     \u001b[0mar\u001b[0m \u001b[1;33m=\u001b[0m \u001b[0msentence_embeddings\u001b[0m\u001b[1;33m[\u001b[0m\u001b[1;36m0\u001b[0m\u001b[1;33m]\u001b[0m\u001b[1;33m.\u001b[0m\u001b[0mto\u001b[0m\u001b[1;33m(\u001b[0m\u001b[1;34m'cpu'\u001b[0m\u001b[1;33m)\u001b[0m\u001b[1;33m.\u001b[0m\u001b[0mdetach\u001b[0m\u001b[1;33m(\u001b[0m\u001b[1;33m)\u001b[0m\u001b[1;33m.\u001b[0m\u001b[0mnumpy\u001b[0m\u001b[1;33m(\u001b[0m\u001b[1;33m)\u001b[0m\u001b[1;33m\u001b[0m\u001b[1;33m\u001b[0m\u001b[0m\n\u001b[0;32m     14\u001b[0m     \u001b[1;32mreturn\u001b[0m \u001b[0mar\u001b[0m\u001b[1;33m\u001b[0m\u001b[1;33m\u001b[0m\u001b[0m\n",
      "\u001b[1;31mNameError\u001b[0m: name 'pbar' is not defined"
     ]
    }
   ],
   "source": [
    "images = []\n",
    "labels = []\n",
    "scores = []\n",
    "\n",
    "for i in range(len(queries)):\n",
    "\n",
    "    image_path, title, score = search(queries[i])\n",
    "\n",
    "    images.append(image_path)\n",
    "    if score == None:\n",
    "        scores.append(None)\n",
    "    else:\n",
    "        scores.append(round(score, 3))\n",
    "    labels.append(title)"
   ]
  },
  {
   "cell_type": "markdown",
   "id": "7549f502-ae7c-4922-845a-e31f6c56e376",
   "metadata": {},
   "source": [
    "<div class=\"alert\" style=\"background-color:#ead7f7;color:#8737bf\">\n",
    "    <font size=\"3\"><b>образец комментария студента</b></font>\n",
    "   \n",
    "        на одном компьютаре работает без этой ошибке на другом с ней!\n",
    "\n",
    "</div>"
   ]
  },
  {
   "cell_type": "markdown",
   "id": "65ad5771",
   "metadata": {},
   "source": [
    "<img src=\"https://upload.wikimedia.org/wikipedia/commons/thumb/8/81/Stop_sign.png/240px-Stop_sign.png\" align=left width=35, heigth=35>\n",
    "<div class=\"alert alert-danger\">\n",
    "<b>v2</b>    \n",
    "Выполнение кода прервалось с ошибкой. Пожалуйста исправь ошибки и возвращайся.\n",
    "    \n",
    "----------------\n",
    "    \n",
    "Вижу ниже просьбу о помощи. Давай попробуем разобраться что же происходит (и заодно читать ошибки).\n",
    "    \n",
    "Возникает при вызове функции search\n",
    "    \n",
    "```\n",
    "----> 7     image_path, title, score = search(queries[i])\n",
    "```\n",
    "    \n",
    "Которая в свою очередь вызывает функцию text2vector \n",
    "    \n",
    "```\n",
    "---> 19     vec = text2vector(txt)    \n",
    "```\n",
    "    \n",
    "В которой есть вот такая строка:\n",
    "    \n",
    "```\n",
    "---> 12     pbar.update(1)\n",
    "```\n",
    "    \n",
    "Именно здесь код и падает. Ты пытаешься обновить объект pbar которого у тебя просто нет.    \n",
    "    \n",
    "</div>"
   ]
  },
  {
   "cell_type": "code",
   "execution_count": 80,
   "id": "70d68342",
   "metadata": {
    "scrolled": true
   },
   "outputs": [
    {
     "data": {
      "text/plain": [
       "<Figure size 720x0 with 0 Axes>"
      ]
     },
     "metadata": {},
     "output_type": "display_data"
    }
   ],
   "source": [
    "image_show(images, labels, scores)"
   ]
  },
  {
   "cell_type": "markdown",
   "id": "4a993300",
   "metadata": {},
   "source": [
    "<img src=\"https://emojigraph.org/media/apple/check-mark-button_2705.png\" align=left width=33, heigth=33>\n",
    "<div class=\"alert alert-success\">\n",
    "Функции написаны и со своей задачей справляются. Принимают на вход текст и находят изображение. Отрабатывают контроль \"запрещенного контента\".\n",
    "\n",
    "Да, ты прав, к сожалению работают они не очень. Причин несколько\n",
    "    \n",
    " - при подготовке признаков допущена ошибка - вектора изображений перепутаны и фактически модель училась на \"мусоре\".\n",
    " - вектора полученные с помощью tf-idf более низкого качества, как правило лучший резульат получается при использовании эмбеддингов, полученных с помощью BERT\n",
    "    \n",
    "----------------\n",
    "    \n",
    "Как правило хороший результат в этом проекте удается достичь при выполнении следующих условий\n",
    "    \n",
    " - использование экспертных оценок   \n",
    " - векторизация изображений через pytorch, как есть в теории к спринту  (но с отрезанием только одного слоя)\n",
    " - эмбеддинги через bert\n",
    " - упорное обучение нейронки (иногда тысячи эпох, в любом случае пока лосс снижается) с тщательным подбором гиперпараметров.   \n",
    "    \n",
    "</div>"
   ]
  },
  {
   "cell_type": "markdown",
   "id": "ad32409c-2162-461b-9d26-ad95a2e56bf9",
   "metadata": {},
   "source": [
    "<img src=\"http://s3.amazonaws.com/pix.iemoji.com/images/emoji/apple/ios-12/256/waving-hand.png\" align=left width=44, heigth=44>\n",
    "<div class=\"alert alert-info\">\n",
    "<b> комментарий</b>\n",
    "\n",
    "исправил что мог, но в конце происходить ошибка и не поиму почиму! видь код работал выше! можишь придложить мне варианты решения пожалуйста.\n",
    "</div>"
   ]
  },
  {
   "cell_type": "code",
   "execution_count": null,
   "id": "2a7f548a",
   "metadata": {},
   "outputs": [],
   "source": []
  },
  {
   "cell_type": "code",
   "execution_count": null,
   "id": "78c45027",
   "metadata": {},
   "outputs": [],
   "source": []
  },
  {
   "cell_type": "markdown",
   "id": "fab1345a",
   "metadata": {
    "cellId": "dnvdkzzxdpet1yc4m64cx",
    "execution_id": "3e367f6a-97e3-4ed7-9b73-39ed363fd2b7",
    "id": "fab1345a"
   },
   "source": [
    "## 8. Выводы\n",
    "\n",
    "- Jupyter Notebook открыт\n",
    "- Весь код выполняется без ошибок\n",
    "- Ячейки с кодом расположены в порядке исполнения\n",
    "- Исследовательский анализ данных выполнен\n",
    "- Проверены экспертные оценки и краудсорсинговые оценки\n",
    "- Из датасета исключены те объекты, которые выходят за рамки юридических ограничений\n",
    "- Изображения векторизованы\n",
    "- Текстовые запросы векторизованы\n",
    "- Данные корректно разбиты на тренировочную и тестовую выборки\n",
    "- Предложена метрика качества работы модели\n",
    "- Предложена модель схожести изображений и текстового запроса\n",
    "- Модель обучена\n",
    "- По итогам обучения модели сделаны выводы\n",
    "- Проведено тестирование работы модели\n",
    "- По итогам тестирования визуально сравнили качество поиска"
   ]
  },
  {
   "cell_type": "markdown",
   "id": "dd558703",
   "metadata": {},
   "source": [
    "Наилучшее качество показывает модель на основе полносвзанной нейронной сети. Для улучшения качества модели возможно потребуется больше количество данных, а для определения \"юридических ограниченний\" одного вхождения стоп-слов недостаточно, наверно лучше сделать для этого отдельную модель.\n",
    "\n",
    "Проект технически возможен, это доказывают поисковые системы. Дополнительно можно воспользоваться нейронными сетями основанными на CLIP от OpenAI, которая была обучена на большем количестве данных."
   ]
  },
  {
   "cell_type": "markdown",
   "id": "24143482",
   "metadata": {},
   "source": [
    "<img src=\"http://s3.amazonaws.com/pix.iemoji.com/images/emoji/apple/ios-12/256/waving-hand.png\" align=left width=44, heigth=44>\n",
    "<div class=\"alert alert-info\">\n",
    "<b> Заключительный комментарий v2</b>\n",
    "\n",
    "Подсветил критичные моменты, которые на мой взгляд неисправлены\n",
    "\n",
    "И очень прошу тебя давать пояснения, что изменено, что нет, где нужна помощь. И делать это заметно (оставил образец комментария).\n",
    "</div>"
   ]
  },
  {
   "cell_type": "markdown",
   "id": "593e16e7",
   "metadata": {
    "id": "98130d7d"
   },
   "source": [
    "<img src=\"http://s3.amazonaws.com/pix.iemoji.com/images/emoji/apple/ios-12/256/waving-hand.png\" align=left width=44, heigth=44>\n",
    "<div class=\"alert alert-info\">\n",
    "<b> Идеи и альтернативные подходы</b>\n",
    "  Если хочешь получить хорошо работающее решение без обучения, то можешь провести эксперимент с нейронной сетью CLIP от OPEN AI (это не обязательно, только если хочешь добиться хороших результатов в этом проекте).\n",
    "\n",
    "  Про эту нейронку много где написано, но можешь посмотреть например вот здесь  https://habr.com/ru/post/539312/.\n",
    "\n",
    "  А для написания  реализации наиболее удобной лично для меня оказалась библиотека sbert. https://www.sbert.net/examples/applications/image-search/README.html  \n",
    "    \n",
    "    \n",
    "<hr>    \n",
    "    \n",
    "Также неплохо работает следующий подход без предобученных моделей (к тому же легко реализуемый).\n",
    "    \n",
    "    \n",
    "Вместо того, чтобы подавать на вход модели изображение + текст и получать меру соответствия, поступаем по другому. \n",
    "    \n",
    "На вход модели подаем вектор описания, а на выходе учимся предсказывать вектор изображения. \n",
    "    \n",
    "По поводу метрик тут ситуация следующая. Точно работает следующий подход\n",
    "    \n",
    "  - берем метрику mse, но тогда нужно чтобы модель её уменьшала. А значит в обучении используем только пары заведомо сответствующие друг другу\n",
    "\n",
    "Можно попробовать использовать косинусное расстояние, она позволяет использовать все данные (если есть соответствие то выдает 1, если нет то 0). \n",
    "    \n",
    "Также можно попробовать усложнить модель, например и изображения и тексты отправлять в пространство размерностью 256 и уже в этом пространстве учиться их \"сближать\".\n",
    "    \n",
    "По поводу методов векторизации: я бы использовать resnet18 для изображений (размерность эмбеддинга избражения 512) и БЕРТ для текстов (768). \n",
    "    \n",
    "   \n",
    "</div>"
   ]
  },
  {
   "cell_type": "markdown",
   "id": "12753168",
   "metadata": {},
   "source": [
    "<img src=\"http://s3.amazonaws.com/pix.iemoji.com/images/emoji/apple/ios-12/256/waving-hand.png\" align=left width=44, heigth=44>\n",
    "<div class=\"alert alert-info\">\n",
    "<b> Заключительный комментарий</b>\n",
    "\n",
    "Подведем итоги. Я вижу, что в целом с проектом ты справляешься.\n",
    "    \n",
    "Проведено исследование и предобработка данных. Выполнена векторизация изображений и текстовых описаний. Обучены модели для предсказания степени соответствия, а также написана функция для инференса и с её помощью проведено тестирование.\n",
    " \n",
    "Пожалуйста разберись с красными комментариями.\n",
    "    \n",
    "Желтые комментарии на твое усмотрение. Но учитывая что наш подход \"не взлетел\" и нужно хоть что-то показать заказчику, попробуй показать возможный инференс с помщью CLIP. С библиотекой sentence-transformers это делается буквально в 10 строк.    \n",
    "Жду твою работу на повторное ревью.\n",
    "</div>"
   ]
  },
  {
   "cell_type": "code",
   "execution_count": null,
   "id": "eaef3a96",
   "metadata": {},
   "outputs": [],
   "source": []
  },
  {
   "cell_type": "code",
   "execution_count": null,
   "id": "c005c93e-a0af-4ba0-a841-b0c8d72902d9",
   "metadata": {},
   "outputs": [],
   "source": []
  },
  {
   "cell_type": "code",
   "execution_count": null,
   "id": "0e55a5e9-c66b-47ce-9bea-a6539e138f55",
   "metadata": {},
   "outputs": [],
   "source": []
  },
  {
   "cell_type": "code",
   "execution_count": null,
   "id": "01279dad-ec10-466c-bcee-b77e7eb909d9",
   "metadata": {},
   "outputs": [],
   "source": []
  },
  {
   "cell_type": "code",
   "execution_count": null,
   "id": "be8e7aa3-5c3b-478d-9cc9-645396ca4816",
   "metadata": {},
   "outputs": [],
   "source": []
  },
  {
   "cell_type": "code",
   "execution_count": null,
   "id": "6fa4e8e9-2914-4822-b013-bab87718fe4c",
   "metadata": {},
   "outputs": [],
   "source": []
  },
  {
   "cell_type": "code",
   "execution_count": null,
   "id": "151895e2-f84c-4442-bdec-5e42c800f74d",
   "metadata": {},
   "outputs": [],
   "source": []
  },
  {
   "cell_type": "code",
   "execution_count": null,
   "id": "948c1fc2-c105-4d6a-b2d8-400a4bf8d286",
   "metadata": {},
   "outputs": [],
   "source": []
  },
  {
   "cell_type": "code",
   "execution_count": null,
   "id": "ac0768fb-6b72-4247-883a-a72106ca51f4",
   "metadata": {},
   "outputs": [],
   "source": []
  },
  {
   "cell_type": "code",
   "execution_count": null,
   "id": "c4507914-0ed3-4a96-9ea5-ac1e068b1e8f",
   "metadata": {},
   "outputs": [],
   "source": []
  },
  {
   "cell_type": "code",
   "execution_count": null,
   "id": "5fe00b4c-ca73-4537-b770-3a13ba8f6e38",
   "metadata": {},
   "outputs": [],
   "source": []
  },
  {
   "cell_type": "code",
   "execution_count": null,
   "id": "d37dc6bc-30a5-4f1a-ad7a-d83a92520c2c",
   "metadata": {},
   "outputs": [],
   "source": []
  },
  {
   "cell_type": "code",
   "execution_count": null,
   "id": "63f3d9c1-f910-45d2-a86d-bf09bd968953",
   "metadata": {},
   "outputs": [],
   "source": []
  },
  {
   "cell_type": "code",
   "execution_count": null,
   "id": "54cc8854-08d8-4574-8886-9be583b59b69",
   "metadata": {},
   "outputs": [],
   "source": []
  },
  {
   "cell_type": "code",
   "execution_count": null,
   "id": "a521aa7d-2c0c-4eca-aa4f-7a2bd2c21e46",
   "metadata": {},
   "outputs": [],
   "source": []
  }
 ],
 "metadata": {
  "ExecuteTimeLog": [
   {
    "duration": 63,
    "start_time": "2024-06-09T15:32:02.205Z"
   },
   {
    "duration": 8361,
    "start_time": "2024-06-09T15:37:42.230Z"
   },
   {
    "duration": 43,
    "start_time": "2024-06-09T15:38:29.490Z"
   },
   {
    "duration": 76,
    "start_time": "2024-06-09T15:43:49.680Z"
   },
   {
    "duration": 56,
    "start_time": "2024-06-09T15:48:52.898Z"
   },
   {
    "duration": 242,
    "start_time": "2024-06-09T15:49:37.825Z"
   },
   {
    "duration": 89,
    "start_time": "2024-06-09T15:50:18.109Z"
   },
   {
    "duration": 4,
    "start_time": "2024-06-09T15:50:45.308Z"
   },
   {
    "duration": 94,
    "start_time": "2024-06-09T15:50:59.947Z"
   },
   {
    "duration": 13,
    "start_time": "2024-06-09T15:51:11.893Z"
   },
   {
    "duration": 4,
    "start_time": "2024-06-09T15:51:18.716Z"
   },
   {
    "duration": 3,
    "start_time": "2024-06-09T15:52:00.571Z"
   },
   {
    "duration": 1343,
    "start_time": "2024-06-09T15:52:13.566Z"
   },
   {
    "duration": 23,
    "start_time": "2024-06-09T15:54:24.553Z"
   },
   {
    "duration": 2,
    "start_time": "2024-06-09T15:55:02.837Z"
   },
   {
    "duration": 1333,
    "start_time": "2024-06-09T15:55:05.083Z"
   },
   {
    "duration": 3,
    "start_time": "2024-06-09T15:56:17.546Z"
   },
   {
    "duration": 4,
    "start_time": "2024-06-09T15:56:21.237Z"
   },
   {
    "duration": 312,
    "start_time": "2024-06-09T15:56:23.362Z"
   },
   {
    "duration": 1338,
    "start_time": "2024-06-09T15:56:33.940Z"
   },
   {
    "duration": 97,
    "start_time": "2024-06-09T15:58:55.598Z"
   },
   {
    "duration": 5,
    "start_time": "2024-06-09T15:59:49.479Z"
   },
   {
    "duration": 1318,
    "start_time": "2024-06-09T15:59:56.153Z"
   },
   {
    "duration": 1540,
    "start_time": "2024-06-09T16:01:17.884Z"
   },
   {
    "duration": 2,
    "start_time": "2024-06-09T16:02:01.454Z"
   },
   {
    "duration": 1488,
    "start_time": "2024-06-09T16:02:02.860Z"
   },
   {
    "duration": 8,
    "start_time": "2024-06-09T16:02:37.276Z"
   },
   {
    "duration": 1299,
    "start_time": "2024-06-09T16:02:42.763Z"
   },
   {
    "duration": 3210,
    "start_time": "2024-06-09T16:10:36.792Z"
   },
   {
    "duration": 1429,
    "start_time": "2024-06-09T16:10:54.394Z"
   },
   {
    "duration": 5280,
    "start_time": "2024-06-09T16:11:17.365Z"
   },
   {
    "duration": 1486,
    "start_time": "2024-06-09T16:11:23.985Z"
   },
   {
    "duration": 46,
    "start_time": "2024-06-09T16:12:19.483Z"
   },
   {
    "duration": 339,
    "start_time": "2024-06-09T16:16:44.620Z"
   },
   {
    "duration": 10,
    "start_time": "2024-06-09T16:16:53.603Z"
   },
   {
    "duration": 10,
    "start_time": "2024-06-09T16:17:02.020Z"
   },
   {
    "duration": 11,
    "start_time": "2024-06-09T16:17:08.913Z"
   },
   {
    "duration": 8,
    "start_time": "2024-06-09T16:17:20.984Z"
   },
   {
    "duration": 4,
    "start_time": "2024-06-09T16:17:32.984Z"
   },
   {
    "duration": 109,
    "start_time": "2024-06-09T16:17:43.533Z"
   },
   {
    "duration": 4,
    "start_time": "2024-06-09T16:22:42.371Z"
   },
   {
    "duration": 4,
    "start_time": "2024-06-09T16:22:49.097Z"
   },
   {
    "duration": 1283,
    "start_time": "2024-06-09T16:22:56.417Z"
   },
   {
    "duration": 2979,
    "start_time": "2024-06-09T16:24:07.999Z"
   },
   {
    "duration": 3,
    "start_time": "2024-06-09T16:24:25.618Z"
   },
   {
    "duration": 1298,
    "start_time": "2024-06-09T16:24:26.175Z"
   },
   {
    "duration": 3901,
    "start_time": "2024-06-09T16:24:55.594Z"
   },
   {
    "duration": 3,
    "start_time": "2024-06-09T16:25:06.056Z"
   },
   {
    "duration": 1307,
    "start_time": "2024-06-09T16:25:06.561Z"
   },
   {
    "duration": 6380,
    "start_time": "2024-06-09T16:27:22.002Z"
   },
   {
    "duration": 42674,
    "start_time": "2024-06-09T16:27:44.725Z"
   },
   {
    "duration": 3,
    "start_time": "2024-06-09T16:29:00.439Z"
   },
   {
    "duration": 1247,
    "start_time": "2024-06-09T16:29:01.197Z"
   },
   {
    "duration": 10605,
    "start_time": "2024-06-09T16:29:54.517Z"
   },
   {
    "duration": 3,
    "start_time": "2024-06-09T16:30:10.373Z"
   },
   {
    "duration": 1385,
    "start_time": "2024-06-09T16:30:10.818Z"
   },
   {
    "duration": 9426,
    "start_time": "2024-06-09T16:31:51.603Z"
   },
   {
    "duration": 1408,
    "start_time": "2024-06-09T16:32:09.748Z"
   },
   {
    "duration": 1352,
    "start_time": "2024-06-09T16:32:25.939Z"
   },
   {
    "duration": 1234,
    "start_time": "2024-06-09T16:34:32.745Z"
   },
   {
    "duration": 8,
    "start_time": "2024-06-09T16:38:37.462Z"
   },
   {
    "duration": 1110,
    "start_time": "2024-06-09T16:38:49.681Z"
   },
   {
    "duration": 35,
    "start_time": "2024-06-09T16:39:10.970Z"
   },
   {
    "duration": 92,
    "start_time": "2024-06-09T16:39:19.356Z"
   },
   {
    "duration": 267809,
    "start_time": "2024-06-09T16:39:26.401Z"
   },
   {
    "duration": 74,
    "start_time": "2024-06-09T16:44:03.212Z"
   },
   {
    "duration": 159,
    "start_time": "2024-06-09T16:44:12.731Z"
   },
   {
    "duration": 73,
    "start_time": "2024-06-09T16:46:27.036Z"
   },
   {
    "duration": 6,
    "start_time": "2024-06-09T16:46:57.010Z"
   },
   {
    "duration": 7760,
    "start_time": "2024-06-09T16:47:05.578Z"
   },
   {
    "duration": 15,
    "start_time": "2024-06-09T16:47:25.693Z"
   },
   {
    "duration": 12,
    "start_time": "2024-06-09T16:47:32.609Z"
   },
   {
    "duration": 19,
    "start_time": "2024-06-09T16:47:43.640Z"
   },
   {
    "duration": 402,
    "start_time": "2024-06-09T16:47:52.960Z"
   },
   {
    "duration": 4,
    "start_time": "2024-06-09T16:48:00.431Z"
   },
   {
    "duration": 471,
    "start_time": "2024-06-09T16:48:09.134Z"
   },
   {
    "duration": 13,
    "start_time": "2024-06-09T16:48:14.542Z"
   },
   {
    "duration": 7,
    "start_time": "2024-06-09T16:48:22.070Z"
   },
   {
    "duration": 15,
    "start_time": "2024-06-09T16:48:28.597Z"
   },
   {
    "duration": 6,
    "start_time": "2024-06-09T16:48:34.482Z"
   },
   {
    "duration": 12,
    "start_time": "2024-06-09T16:48:40.505Z"
   },
   {
    "duration": 5,
    "start_time": "2024-06-09T16:50:16.917Z"
   },
   {
    "duration": 1327,
    "start_time": "2024-06-09T16:50:28.275Z"
   },
   {
    "duration": 3,
    "start_time": "2024-06-09T16:53:21.137Z"
   },
   {
    "duration": 5,
    "start_time": "2024-06-09T16:53:32.856Z"
   },
   {
    "duration": 2337,
    "start_time": "2024-06-09T16:53:39.091Z"
   },
   {
    "duration": 23,
    "start_time": "2024-06-09T16:53:56.679Z"
   },
   {
    "duration": 4,
    "start_time": "2024-06-09T16:54:27.150Z"
   },
   {
    "duration": 1252,
    "start_time": "2024-06-09T16:54:34.479Z"
   },
   {
    "duration": 5,
    "start_time": "2024-06-09T16:54:50.885Z"
   },
   {
    "duration": 977,
    "start_time": "2024-06-09T16:54:56.701Z"
   },
   {
    "duration": 2,
    "start_time": "2024-06-09T16:55:04.956Z"
   },
   {
    "duration": 4,
    "start_time": "2024-06-09T16:55:11.228Z"
   },
   {
    "duration": 164230,
    "start_time": "2024-06-09T16:55:17.652Z"
   },
   {
    "duration": 5,
    "start_time": "2024-06-09T16:58:24.107Z"
   },
   {
    "duration": 4,
    "start_time": "2024-06-09T16:58:33.938Z"
   },
   {
    "duration": 9453,
    "start_time": "2024-06-09T16:58:50.421Z"
   },
   {
    "duration": 4,
    "start_time": "2024-06-09T16:59:09.984Z"
   },
   {
    "duration": 5,
    "start_time": "2024-06-09T16:59:18.644Z"
   },
   {
    "duration": 741765,
    "start_time": "2024-06-09T16:59:25.169Z"
   },
   {
    "duration": 5,
    "start_time": "2024-06-09T17:13:46.417Z"
   },
   {
    "duration": 19,
    "start_time": "2024-06-09T17:14:35.865Z"
   },
   {
    "duration": 5,
    "start_time": "2024-06-09T17:14:36.923Z"
   },
   {
    "duration": 5,
    "start_time": "2024-06-09T17:14:40.399Z"
   },
   {
    "duration": 3,
    "start_time": "2024-06-09T17:14:41.167Z"
   },
   {
    "duration": 37,
    "start_time": "2024-06-09T17:14:41.876Z"
   },
   {
    "duration": 4,
    "start_time": "2024-06-09T17:14:42.358Z"
   },
   {
    "duration": 65,
    "start_time": "2024-06-09T17:14:42.717Z"
   },
   {
    "duration": 3,
    "start_time": "2024-06-09T17:14:43.062Z"
   },
   {
    "duration": 27,
    "start_time": "2024-06-09T17:14:43.375Z"
   },
   {
    "duration": 5,
    "start_time": "2024-06-09T17:14:43.756Z"
   },
   {
    "duration": 7,
    "start_time": "2024-06-09T17:14:44.220Z"
   },
   {
    "duration": 5,
    "start_time": "2024-06-09T17:14:44.527Z"
   },
   {
    "duration": 11,
    "start_time": "2024-06-09T17:14:45.511Z"
   },
   {
    "duration": 820,
    "start_time": "2024-06-09T17:14:45.981Z"
   },
   {
    "duration": 8,
    "start_time": "2024-06-09T17:14:46.803Z"
   },
   {
    "duration": 266,
    "start_time": "2024-06-09T17:14:46.813Z"
   },
   {
    "duration": 248,
    "start_time": "2024-06-09T17:14:48.164Z"
   },
   {
    "duration": 4,
    "start_time": "2024-06-09T17:14:49.222Z"
   },
   {
    "duration": 144,
    "start_time": "2024-06-09T17:14:49.675Z"
   },
   {
    "duration": 16,
    "start_time": "2024-06-09T17:14:56.478Z"
   },
   {
    "duration": 4317,
    "start_time": "2024-06-09T17:15:00.547Z"
   },
   {
    "duration": 101,
    "start_time": "2024-06-09T17:15:04.867Z"
   },
   {
    "duration": 4,
    "start_time": "2024-06-09T17:15:15.436Z"
   },
   {
    "duration": 4,
    "start_time": "2024-06-09T17:15:15.741Z"
   },
   {
    "duration": 8,
    "start_time": "2024-06-09T17:15:16.051Z"
   },
   {
    "duration": 6,
    "start_time": "2024-06-09T17:15:16.370Z"
   },
   {
    "duration": 596,
    "start_time": "2024-06-09T17:15:16.858Z"
   },
   {
    "duration": 1631354,
    "start_time": "2024-06-09T17:15:18.626Z"
   },
   {
    "duration": 107,
    "start_time": "2024-06-09T17:42:29.982Z"
   },
   {
    "duration": 2573,
    "start_time": "2024-06-09T17:42:30.090Z"
   },
   {
    "duration": 90,
    "start_time": "2024-06-09T17:42:38.111Z"
   },
   {
    "duration": 16063,
    "start_time": "2024-06-09T17:42:38.418Z"
   },
   {
    "duration": 428,
    "start_time": "2024-06-09T17:43:27.594Z"
   },
   {
    "duration": 5,
    "start_time": "2024-06-09T17:43:29.243Z"
   },
   {
    "duration": 4,
    "start_time": "2024-06-09T17:43:30.737Z"
   },
   {
    "duration": 4450,
    "start_time": "2024-06-09T17:43:31.111Z"
   },
   {
    "duration": 1197,
    "start_time": "2024-06-09T17:43:35.563Z"
   }
  ],
  "celltoolbar": "Отсутствует",
  "colab": {
   "provenance": []
  },
  "kernelspec": {
   "display_name": "Python 3",
   "language": "python",
   "name": "python3"
  },
  "language_info": {
   "codemirror_mode": {
    "name": "ipython",
    "version": 3
   },
   "file_extension": ".py",
   "mimetype": "text/x-python",
   "name": "python",
   "nbconvert_exporter": "python",
   "pygments_lexer": "ipython3",
   "version": "3.8.8"
  },
  "notebookId": "e47b60f7-b2b4-44ee-beb3-b44a93eaf068",
  "notebookPath": "precode.ipynb",
  "toc": {
   "base_numbering": 1,
   "nav_menu": {},
   "number_sections": true,
   "sideBar": true,
   "skip_h1_title": true,
   "title_cell": "Table of Contents",
   "title_sidebar": "Contents",
   "toc_cell": false,
   "toc_position": {},
   "toc_section_display": true,
   "toc_window_display": false
  },
  "varInspector": {
   "cols": {
    "lenName": 16,
    "lenType": 16,
    "lenVar": 40
   },
   "kernels_config": {
    "python": {
     "delete_cmd_postfix": "",
     "delete_cmd_prefix": "del ",
     "library": "var_list.py",
     "varRefreshCmd": "print(var_dic_list())"
    },
    "r": {
     "delete_cmd_postfix": ") ",
     "delete_cmd_prefix": "rm(",
     "library": "var_list.r",
     "varRefreshCmd": "cat(var_dic_list()) "
    }
   },
   "types_to_exclude": [
    "module",
    "function",
    "builtin_function_or_method",
    "instance",
    "_Feature"
   ],
   "window_display": false
  }
 },
 "nbformat": 4,
 "nbformat_minor": 5
}
